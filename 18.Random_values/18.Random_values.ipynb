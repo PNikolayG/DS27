{
 "cells": [
  {
   "cell_type": "markdown",
   "metadata": {},
   "source": [
    "# Домашнее задание по теме \"Случайные величины. Случайные события\"\n",
    "\n",
    "### Задание 1\n",
    "\n",
    "Смоделировать игру против лотерейного автомата типа \"777\". Игрок платит 1 руб., после чего выпадает случайное целое число, равномерно распределенное от 0 до 999. При некоторых значениях числа игрок получает выигрыш (см. снизу)\n",
    "\n",
    "- 777: 200 руб.\n",
    "- 999: 100 руб.\n",
    "- 555: 50 руб.\n",
    "- 333: 15 руб.\n",
    "- 111: 10 руб.\n",
    "- *77: 5 руб.\n",
    "- **7: 3 руб.\n",
    "- *00: 2 руб.\n",
    "- **0: 1 руб.\n",
    "*– любая цифра\n",
    "\n",
    "### Вопросы\n",
    "- Выгодна ли игра игроку?\n",
    "- Сколько в среднем приобретает или теряет игрок за одну игру?\n",
    "\n",
    "### Дополнительное задание повышенной сложности. \n",
    "Теоретически рассчитать средний выигрыш (проигрыш) и сравнить с результатами моделирования"
   ]
  },
  {
   "cell_type": "code",
   "execution_count": 92,
   "metadata": {},
   "outputs": [],
   "source": [
    "import numpy as np"
   ]
  },
  {
   "cell_type": "markdown",
   "metadata": {},
   "source": [
    "## Моделирование"
   ]
  },
  {
   "cell_type": "code",
   "execution_count": 269,
   "metadata": {},
   "outputs": [
    {
     "name": "stdout",
     "output_type": "stream",
     "text": [
      "Успех с вероятностью  0.204209 После потраченных 1000000 Ваш выигрыш  800781\n"
     ]
    }
   ],
   "source": [
    "np.random.seed(20)\n",
    "\n",
    "wallet = 1000000    # Количество попыток=рублей\n",
    "prize = 0    # Выигрыш\n",
    "successes = 0 # Количество успехов\n",
    "\n",
    "for i in range(wallet):\n",
    "    automat = np.random.randint(0, 1000)\n",
    "    if automat % 10 == 0:\n",
    "        successes += 1\n",
    "        if automat % 100 == 0:\n",
    "            prize += 2\n",
    "        else: \n",
    "            prize += 1     \n",
    "    elif automat % 10 == 7:\n",
    "        successes += 1\n",
    "        if automat % 100 == 77:\n",
    "            if automat == 777:\n",
    "                prize += 100\n",
    "            else:\n",
    "                prize += 5\n",
    "        else: \n",
    "            prize += 3          \n",
    "    elif automat == 111:\n",
    "        successes += 1\n",
    "        prize += 10\n",
    "    elif automat == 333:\n",
    "        successes += 1\n",
    "        prize += 15\n",
    "    elif automat == 555:\n",
    "        successes += 1\n",
    "        prize += 50\n",
    "    elif automat == 999:\n",
    "        successes += 1\n",
    "        prize += 200\n",
    "p_monte_carlo = successes / wallet    # Вероятность из моделирования\n",
    "print('Успех с вероятностью ', p_monte_carlo, f'После потраченных {wallet} Ваш выигрыш ', prize)"
   ]
  },
  {
   "cell_type": "markdown",
   "metadata": {},
   "source": [
    "### Вывод\n",
    "Игра игроку не выгодна он теряет более 20% своих денег"
   ]
  },
  {
   "cell_type": "markdown",
   "metadata": {},
   "source": [
    "## Теоретический расчёт"
   ]
  },
  {
   "cell_type": "code",
   "execution_count": 268,
   "metadata": {},
   "outputs": [
    {
     "name": "stdout",
     "output_type": "stream",
     "text": [
      "Теоретическая вероятность выигрыша:  0.20400000000000001\n"
     ]
    }
   ],
   "source": [
    "# посчитаем вероятности выпадения нужных чисел у нас есть события H1-H9 = выпадет такое-то число\n",
    "\n",
    "p_999 = 1/1000\n",
    "p_555 = 1/1000\n",
    "p_333 = 1/1000\n",
    "p_111 = 1/1000\n",
    "\n",
    "# p_777 = 1/1000\n",
    "# p__77 = 1/100\n",
    "p___7 = 1/10\n",
    "\n",
    "# p__00 = 1/100\n",
    "p___0 = 1/10\n",
    "\n",
    "# формула полной вероятности P(A)=p(A\\H1)P(H1)+...+p(A\\H9)P(H9)\n",
    "p_A = (p_999 + p_555 + p_333 + p_111 + p___7 + p___0 )\n",
    "\n",
    "print('Теоретическая вероятность выигрыша: ', p_A)"
   ]
  }
 ],
 "metadata": {
  "kernelspec": {
   "display_name": "Python 3",
   "language": "python",
   "name": "python3"
  },
  "language_info": {
   "codemirror_mode": {
    "name": "ipython",
    "version": 3
   },
   "file_extension": ".py",
   "mimetype": "text/x-python",
   "name": "python",
   "nbconvert_exporter": "python",
   "pygments_lexer": "ipython3",
   "version": "3.8.8"
  }
 },
 "nbformat": 4,
 "nbformat_minor": 4
}
