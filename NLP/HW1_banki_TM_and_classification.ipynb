{
 "cells": [
  {
   "cell_type": "markdown",
   "metadata": {
    "id": "82FImO-VWYcr"
   },
   "source": [
    "#  Домашнее задание к занятию \"Тематическое моделирование\""
   ]
  },
  {
   "cell_type": "markdown",
   "metadata": {
    "id": "VDIkNn1wWYcz"
   },
   "source": [
    "### Классификация по тональности\n",
    "В этом домашнем задании вам предстоит классифицировать по тональности отзывы на банки с сайта banki.ru.\n",
    "\n",
    "Данные содержат непосредственно тексты отзывов, некоторую дополнительную информацию, а также оценку по шкале от 1 до 5.\n",
    "\n",
    "Тексты хранятся в json-ах в массиве responses.\n",
    "\n",
    "Посмотрим на примере отзыва: возьмите для удобства ноутбук, размещенный в папке репозитория.\n",
    "\n",
    "### Часть 1. Анализ текстов\n",
    "1. Посчитайте количество отзывов в разных городах и на разные банки\n",
    "1. Постройте гистограмы длин слов в символах и в словах\n",
    "1. Найдите 10 самых частых:\n",
    "- слов\n",
    "- слов без стоп-слов\n",
    "- лемм\n",
    "- существительных\n",
    "4. Постройте кривые Ципфа и Хипса\n",
    "5. Ответьте на следующие вопросы:\n",
    "- какое слово встречается чаще, \"сотрудник\" или \"клиент\"?\n",
    "- сколько раз встречается слова \"мошенничество\" и \"доверие\"?\n",
    "6. В поле \"rating_grade\" записана оценка отзыва по шкале от 1 до 5. Используйте меру $tf-idf$, для того, чтобы найти ключевые слова и биграмы для положительных отзывов (с оценкой 5) и отрицательных отзывов (с оценкой 1)\n",
    "\n",
    "### Часть 2. Тематическое моделирование\n",
    "1. Постройте несколько тематических моделей коллекции документов с разным числом тем. Приведите примеры понятных (интерпретируемых) тем.\n",
    "2. Найдите темы, в которых упомянуты конкретные банки (Сбербанк, ВТБ, другой банк). Можете ли вы их прокомментировать / объяснить? Эта часть задания может быть сделана с использованием gensim.\n",
    "\n",
    "### Часть 3. Классификация текстов\n",
    "- Сформулируем для простоты задачу бинарной классификации: будем классифицировать на два класса, то есть, различать резко отрицательные отзывы (с оценкой 1) и положительные отзывы (с оценкой 5).\n",
    "\n",
    "1. Составьте обучающее и тестовое множество: выберите из всего набора данных N1 отзывов с оценкой 1 и N2 отзывов с оценкой 5 (значение N1 и N2 – на ваше усмотрение). Используйте sklearn.model_selection.train_test_split для разделения множества отобранных документов на обучающее и тестовое.\n",
    "1. Используйте любой известный вам алгоритм классификации текстов для решения задачи и получите baseline. Сравните разные варианты векторизации текста: использование только униграм, пар или троек слов или с использованием символьных $n$-грам.\n",
    "1. Сравните, как изменяется качество решения задачи при использовании скрытых тем в качестве признаков:\n",
    "- 1-ый вариант: $tf-idf$ преобразование (sklearn.feature_extraction.text.TfidfTransformer) и сингулярное разложение (оно же – латентый семантический анализ) (sklearn.decomposition.TruncatedSVD),\n",
    "- 2-ой вариант: тематические модели LDA (sklearn.decomposition.LatentDirichletAllocation). Используйте accuracy и F-measure для оценки качества классификации.\n",
    "\n",
    "В ноутбуке, размещенном в папке репозитория. написан примерный Pipeline для классификации текстов.\n",
    "\n",
    "Эта часть задания может быть сделана с использованием sklearn."
   ]
  },
  {
   "cell_type": "markdown",
   "metadata": {
    "id": "d7MH9ZdOWYc1"
   },
   "source": [
    "## Импорт библиотек"
   ]
  },
  {
   "cell_type": "code",
   "execution_count": 1,
   "metadata": {
    "id": "h1dvK7H_qauH"
   },
   "outputs": [],
   "source": [
    "import json\n",
    "\n",
    "import bz2\n",
    "import regex \n",
    "from tqdm import tqdm\n",
    "from scipy import sparse\n",
    "\n",
    "import pprint"
   ]
  },
  {
   "cell_type": "code",
   "execution_count": 2,
   "metadata": {
    "colab": {
     "base_uri": "https://localhost:8080/"
    },
    "id": "_ZsoxOinqauK",
    "outputId": "8e7a10ef-c1b9-4f75-cd49-e71dc4176386"
   },
   "outputs": [
    {
     "name": "stdout",
     "output_type": "stream",
     "text": [
      "Populating the interactive namespace from numpy and matplotlib\n"
     ]
    }
   ],
   "source": [
    "import pandas as pd\n",
    "import numpy as np\n",
    "import nltk\n",
    "import matplotlib.pyplot as plt\n",
    "import seaborn as sns\n",
    "%matplotlib inline\n",
    "%pylab inline"
   ]
  },
  {
   "cell_type": "markdown",
   "metadata": {
    "id": "9MG5v1ttWYc4"
   },
   "source": [
    "## Данные"
   ]
  },
  {
   "cell_type": "code",
   "execution_count": 3,
   "metadata": {
    "colab": {
     "base_uri": "https://localhost:8080/"
    },
    "id": "UNHVsbPnqauL",
    "outputId": "6378daee-f95c-436b-9252-1489bf56ad31",
    "scrolled": true
   },
   "outputs": [
    {
     "name": "stderr",
     "output_type": "stream",
     "text": [
      "201030it [02:26, 1368.77it/s]\n"
     ]
    }
   ],
   "source": [
    "responses = []\n",
    "with bz2.BZ2File('banki_responses.json.bz2', 'r') as thefile:\n",
    "    for row in tqdm(thefile):\n",
    "        resp = json.loads(row)\n",
    "        if not resp['rating_not_checked'] and (len(resp['text'].split()) > 0):\n",
    "            responses.append(resp)"
   ]
  },
  {
   "cell_type": "markdown",
   "metadata": {
    "id": "F0ixYxfSqauM"
   },
   "source": [
    "\n",
    "Посмотрим на пример отзыва:"
   ]
  },
  {
   "cell_type": "code",
   "execution_count": 4,
   "metadata": {
    "colab": {
     "base_uri": "https://localhost:8080/"
    },
    "id": "Dd7m6GpMqauP",
    "outputId": "e0a5a788-39e6-45ab-9814-41f448f159c9",
    "scrolled": true
   },
   "outputs": [
    {
     "data": {
      "text/plain": [
       "{'city': 'г. Саратов',\n",
       " 'rating_not_checked': False,\n",
       " 'title': 'Карта ко вкладу',\n",
       " 'num_comments': 0,\n",
       " 'bank_license': 'лицензия № 880',\n",
       " 'author': 'ronnichka',\n",
       " 'bank_name': 'Югра',\n",
       " 'datetime': '2015-06-03 20:56:57',\n",
       " 'text': 'Здравствуйте! Хотела написать, что мне месяц не выдают карту ко вкладу, ссылаясь на \"нам же их из Самары везут\" (на секундочку 5 часов езды от нашего города). Но! Прочитала, что людям 3,5 месяцев не выдают карту, и поняла, что у меня все хорошо, пока что. И подарок мне дали, и кулер в отделении есть. Так что я, конечно, готова ждать. Правда хотелось бы не очень долго.',\n",
       " 'rating_grade': 3}"
      ]
     },
     "execution_count": 4,
     "metadata": {},
     "output_type": "execute_result"
    }
   ],
   "source": [
    "responses[99]"
   ]
  },
  {
   "cell_type": "markdown",
   "metadata": {
    "id": "IuhUAOUNWYc6"
   },
   "source": [
    "### Решение"
   ]
  },
  {
   "cell_type": "markdown",
   "metadata": {
    "id": "6k6CpmXgWYc7"
   },
   "source": [
    "### Часть 1. Анализ текстов\n",
    "1. Посчитайте количество отзывов в разных городах и на разные банки\n",
    "2. Постройте гистограмы длин слов в символах и в словах\n",
    "3. Найдите 10 самых частых:\n",
    "- слов\n",
    "- слов без стоп-слов\n",
    "- лемм\n",
    "- существительных\n",
    "\n",
    "4. Постройте кривые Ципфа и Хипса\n",
    "5. Ответьте на следующие вопросы:\n",
    "- какое слово встречается чаще, \"сотрудник\" или \"клиент\"?\n",
    "- сколько раз встречается слова \"мошенничество\" и \"доверие\"?\n",
    "\n",
    "6. В поле \"rating_grade\" записана оценка отзыва по шкале от 1 до 5. Используйте меру $tf-idf$, для того, чтобы найти ключевые слова и биграмы для положительных отзывов (с оценкой 5) и отрицательных отзывов (с оценкой 1)\n"
   ]
  },
  {
   "cell_type": "markdown",
   "metadata": {
    "id": "nZeoQeZlWYc7"
   },
   "source": [
    "Поместим данные в датафрейм при помощи pandas, а далее можно уже будет работать с таблицей"
   ]
  },
  {
   "cell_type": "code",
   "execution_count": 5,
   "metadata": {
    "colab": {
     "base_uri": "https://localhost:8080/",
     "height": 710
    },
    "id": "zLfkF-f2WYc7",
    "outputId": "48467fa4-c828-454d-d6c4-b0604876e484"
   },
   "outputs": [
    {
     "data": {
      "text/html": [
       "<div>\n",
       "<style scoped>\n",
       "    .dataframe tbody tr th:only-of-type {\n",
       "        vertical-align: middle;\n",
       "    }\n",
       "\n",
       "    .dataframe tbody tr th {\n",
       "        vertical-align: top;\n",
       "    }\n",
       "\n",
       "    .dataframe thead th {\n",
       "        text-align: right;\n",
       "    }\n",
       "</style>\n",
       "<table border=\"1\" class=\"dataframe\">\n",
       "  <thead>\n",
       "    <tr style=\"text-align: right;\">\n",
       "      <th></th>\n",
       "      <th>city</th>\n",
       "      <th>rating_not_checked</th>\n",
       "      <th>title</th>\n",
       "      <th>num_comments</th>\n",
       "      <th>bank_license</th>\n",
       "      <th>author</th>\n",
       "      <th>bank_name</th>\n",
       "      <th>datetime</th>\n",
       "      <th>text</th>\n",
       "      <th>rating_grade</th>\n",
       "    </tr>\n",
       "  </thead>\n",
       "  <tbody>\n",
       "    <tr>\n",
       "      <th>0</th>\n",
       "      <td>г. Москва</td>\n",
       "      <td>False</td>\n",
       "      <td>Жалоба</td>\n",
       "      <td>0</td>\n",
       "      <td>лицензия № 2562</td>\n",
       "      <td>uhnov1</td>\n",
       "      <td>Бинбанк</td>\n",
       "      <td>2015-06-08 12:50:54</td>\n",
       "      <td>Добрый день! Я не являюсь клиентом банка и пор...</td>\n",
       "      <td>NaN</td>\n",
       "    </tr>\n",
       "    <tr>\n",
       "      <th>1</th>\n",
       "      <td>г. Новосибирск</td>\n",
       "      <td>False</td>\n",
       "      <td>Не могу пользоваться услугой Сбербанк он-лайн</td>\n",
       "      <td>0</td>\n",
       "      <td>лицензия № 1481</td>\n",
       "      <td>Foryou</td>\n",
       "      <td>Сбербанк России</td>\n",
       "      <td>2015-06-08 11:09:57</td>\n",
       "      <td>Доброго дня! Являюсь держателем зарплатной кар...</td>\n",
       "      <td>NaN</td>\n",
       "    </tr>\n",
       "    <tr>\n",
       "      <th>2</th>\n",
       "      <td>г. Москва</td>\n",
       "      <td>False</td>\n",
       "      <td>Двойное списание за один товар.</td>\n",
       "      <td>1</td>\n",
       "      <td>лицензия № 2562</td>\n",
       "      <td>Vladimir84</td>\n",
       "      <td>Бинбанк</td>\n",
       "      <td>2015-06-05 20:14:28</td>\n",
       "      <td>Здравствуйте!  Дублирую свое заявление от 03.0...</td>\n",
       "      <td>NaN</td>\n",
       "    </tr>\n",
       "    <tr>\n",
       "      <th>3</th>\n",
       "      <td>г. Ставрополь</td>\n",
       "      <td>False</td>\n",
       "      <td>Меняют проценты комиссии  не предупредив и не ...</td>\n",
       "      <td>2</td>\n",
       "      <td>лицензия № 1481</td>\n",
       "      <td>643609</td>\n",
       "      <td>Сбербанк России</td>\n",
       "      <td>2015-06-05 13:51:01</td>\n",
       "      <td>Добрый день!! Я открыл расчетный счет в СберБа...</td>\n",
       "      <td>NaN</td>\n",
       "    </tr>\n",
       "    <tr>\n",
       "      <th>4</th>\n",
       "      <td>г. Челябинск</td>\n",
       "      <td>False</td>\n",
       "      <td>Верните денежные средства за страховку</td>\n",
       "      <td>1</td>\n",
       "      <td>лицензия № 2766</td>\n",
       "      <td>anfisa-2003</td>\n",
       "      <td>ОТП Банк</td>\n",
       "      <td>2015-06-05 10:58:12</td>\n",
       "      <td>04.03.2015 г. взяла кредит в вашем банке, заяв...</td>\n",
       "      <td>NaN</td>\n",
       "    </tr>\n",
       "    <tr>\n",
       "      <th>...</th>\n",
       "      <td>...</td>\n",
       "      <td>...</td>\n",
       "      <td>...</td>\n",
       "      <td>...</td>\n",
       "      <td>...</td>\n",
       "      <td>...</td>\n",
       "      <td>...</td>\n",
       "      <td>...</td>\n",
       "      <td>...</td>\n",
       "      <td>...</td>\n",
       "    </tr>\n",
       "    <tr>\n",
       "      <th>153494</th>\n",
       "      <td>None</td>\n",
       "      <td>False</td>\n",
       "      <td>Не все так страшно</td>\n",
       "      <td>0</td>\n",
       "      <td>лицензия № 2557</td>\n",
       "      <td>Вера</td>\n",
       "      <td>Ситибанк</td>\n",
       "      <td>2005-05-18 14:38:00</td>\n",
       "      <td>Слишком большой банк, не всегда учитывает нашу...</td>\n",
       "      <td>5.0</td>\n",
       "    </tr>\n",
       "    <tr>\n",
       "      <th>153495</th>\n",
       "      <td>None</td>\n",
       "      <td>False</td>\n",
       "      <td>А вы договор читали?</td>\n",
       "      <td>0</td>\n",
       "      <td>лицензия № 2557</td>\n",
       "      <td>Kirill</td>\n",
       "      <td>Ситибанк</td>\n",
       "      <td>2005-04-14 15:25:00</td>\n",
       "      <td>Вы сами виноваты в своих проблемах, кроме пред...</td>\n",
       "      <td>3.0</td>\n",
       "    </tr>\n",
       "    <tr>\n",
       "      <th>153496</th>\n",
       "      <td>None</td>\n",
       "      <td>False</td>\n",
       "      <td>Филиал банка \"ОВК\" в г. Иваново</td>\n",
       "      <td>1</td>\n",
       "      <td>лицензия № 2272</td>\n",
       "      <td>AlexU-post</td>\n",
       "      <td>Росбанк</td>\n",
       "      <td>2005-04-08 14:07:00</td>\n",
       "      <td>Уважаемое руководство банка «ОВК»! Я проживаю ...</td>\n",
       "      <td>1.0</td>\n",
       "    </tr>\n",
       "    <tr>\n",
       "      <th>153497</th>\n",
       "      <td>None</td>\n",
       "      <td>False</td>\n",
       "      <td>В Альфа-Банк больше обращаться не буду.</td>\n",
       "      <td>0</td>\n",
       "      <td>лицензия № 1326</td>\n",
       "      <td>Ирина</td>\n",
       "      <td>Альфа-Банк</td>\n",
       "      <td>2005-04-14 15:16:00</td>\n",
       "      <td>Пробовала 10.04.05 оформить товар в кредит в А...</td>\n",
       "      <td>1.0</td>\n",
       "    </tr>\n",
       "    <tr>\n",
       "      <th>153498</th>\n",
       "      <td>None</td>\n",
       "      <td>False</td>\n",
       "      <td>Быстро и удобно</td>\n",
       "      <td>0</td>\n",
       "      <td>лицензия № 1326</td>\n",
       "      <td>Денис</td>\n",
       "      <td>Альфа-Банк</td>\n",
       "      <td>2005-04-13 17:43:00</td>\n",
       "      <td>Если коротко, то мне нравится. Кридит получать...</td>\n",
       "      <td>5.0</td>\n",
       "    </tr>\n",
       "  </tbody>\n",
       "</table>\n",
       "<p>153499 rows × 10 columns</p>\n",
       "</div>"
      ],
      "text/plain": [
       "                  city  rating_not_checked  \\\n",
       "0            г. Москва               False   \n",
       "1       г. Новосибирск               False   \n",
       "2            г. Москва               False   \n",
       "3        г. Ставрополь               False   \n",
       "4         г. Челябинск               False   \n",
       "...                ...                 ...   \n",
       "153494            None               False   \n",
       "153495            None               False   \n",
       "153496            None               False   \n",
       "153497            None               False   \n",
       "153498            None               False   \n",
       "\n",
       "                                                    title  num_comments  \\\n",
       "0                                                  Жалоба             0   \n",
       "1           Не могу пользоваться услугой Сбербанк он-лайн             0   \n",
       "2                         Двойное списание за один товар.             1   \n",
       "3       Меняют проценты комиссии  не предупредив и не ...             2   \n",
       "4                  Верните денежные средства за страховку             1   \n",
       "...                                                   ...           ...   \n",
       "153494                                 Не все так страшно             0   \n",
       "153495                               А вы договор читали?             0   \n",
       "153496                    Филиал банка \"ОВК\" в г. Иваново             1   \n",
       "153497            В Альфа-Банк больше обращаться не буду.             0   \n",
       "153498                                    Быстро и удобно             0   \n",
       "\n",
       "           bank_license       author        bank_name             datetime  \\\n",
       "0       лицензия № 2562       uhnov1          Бинбанк  2015-06-08 12:50:54   \n",
       "1       лицензия № 1481       Foryou  Сбербанк России  2015-06-08 11:09:57   \n",
       "2       лицензия № 2562   Vladimir84          Бинбанк  2015-06-05 20:14:28   \n",
       "3       лицензия № 1481       643609  Сбербанк России  2015-06-05 13:51:01   \n",
       "4       лицензия № 2766  anfisa-2003         ОТП Банк  2015-06-05 10:58:12   \n",
       "...                 ...          ...              ...                  ...   \n",
       "153494  лицензия № 2557         Вера         Ситибанк  2005-05-18 14:38:00   \n",
       "153495  лицензия № 2557       Kirill         Ситибанк  2005-04-14 15:25:00   \n",
       "153496  лицензия № 2272   AlexU-post          Росбанк  2005-04-08 14:07:00   \n",
       "153497  лицензия № 1326        Ирина       Альфа-Банк  2005-04-14 15:16:00   \n",
       "153498  лицензия № 1326        Денис       Альфа-Банк  2005-04-13 17:43:00   \n",
       "\n",
       "                                                     text  rating_grade  \n",
       "0       Добрый день! Я не являюсь клиентом банка и пор...           NaN  \n",
       "1       Доброго дня! Являюсь держателем зарплатной кар...           NaN  \n",
       "2       Здравствуйте!  Дублирую свое заявление от 03.0...           NaN  \n",
       "3       Добрый день!! Я открыл расчетный счет в СберБа...           NaN  \n",
       "4       04.03.2015 г. взяла кредит в вашем банке, заяв...           NaN  \n",
       "...                                                   ...           ...  \n",
       "153494  Слишком большой банк, не всегда учитывает нашу...           5.0  \n",
       "153495  Вы сами виноваты в своих проблемах, кроме пред...           3.0  \n",
       "153496  Уважаемое руководство банка «ОВК»! Я проживаю ...           1.0  \n",
       "153497  Пробовала 10.04.05 оформить товар в кредит в А...           1.0  \n",
       "153498  Если коротко, то мне нравится. Кридит получать...           5.0  \n",
       "\n",
       "[153499 rows x 10 columns]"
      ]
     },
     "execution_count": 5,
     "metadata": {},
     "output_type": "execute_result"
    }
   ],
   "source": [
    "data_responses = pd.DataFrame(responses)\n",
    "data_responses"
   ]
  },
  {
   "cell_type": "code",
   "execution_count": 6,
   "metadata": {
    "colab": {
     "base_uri": "https://localhost:8080/"
    },
    "id": "nMVUAC8CWYc8",
    "outputId": "7537b248-8a43-4307-f6c8-6dc742483c96"
   },
   "outputs": [
    {
     "name": "stdout",
     "output_type": "stream",
     "text": [
      "<class 'pandas.core.frame.DataFrame'>\n",
      "RangeIndex: 153499 entries, 0 to 153498\n",
      "Data columns (total 10 columns):\n",
      " #   Column              Non-Null Count   Dtype  \n",
      "---  ------              --------------   -----  \n",
      " 0   city                138325 non-null  object \n",
      " 1   rating_not_checked  153499 non-null  bool   \n",
      " 2   title               153499 non-null  object \n",
      " 3   num_comments        153499 non-null  int64  \n",
      " 4   bank_license        153498 non-null  object \n",
      " 5   author              153479 non-null  object \n",
      " 6   bank_name           153499 non-null  object \n",
      " 7   datetime            153499 non-null  object \n",
      " 8   text                153499 non-null  object \n",
      " 9   rating_grade        88658 non-null   float64\n",
      "dtypes: bool(1), float64(1), int64(1), object(7)\n",
      "memory usage: 10.7+ MB\n"
     ]
    }
   ],
   "source": [
    "data_responses.info()"
   ]
  },
  {
   "cell_type": "code",
   "execution_count": 7,
   "metadata": {
    "colab": {
     "base_uri": "https://localhost:8080/"
    },
    "id": "VrsbA8opWYc8",
    "outputId": "eef220d9-c9dc-4127-b0ef-d865bf840250"
   },
   "outputs": [
    {
     "data": {
      "text/plain": [
       "city\n",
       "г. Москва                           55354\n",
       "г. Санкт-Петербург                  14342\n",
       "г. Екатеринбург                      2337\n",
       "г. Новосибирск                       2300\n",
       "г. Нижний Новгород                   1976\n",
       "                                    ...  \n",
       "г. Москва, Ногинск (Москва)             1\n",
       "г. Москва, Новосибирск                  1\n",
       "г. Москва, Николоямская ул., 31         1\n",
       "г. Москва, Московская область           1\n",
       "г. … или другой населенный пункт        1\n",
       "Name: text, Length: 5823, dtype: int64"
      ]
     },
     "execution_count": 7,
     "metadata": {},
     "output_type": "execute_result"
    }
   ],
   "source": [
    "quantity_banks = data_responses.groupby(by = 'city').count().sort_values(by='text', ascending=False )['text']\n",
    "quantity_banks"
   ]
  },
  {
   "cell_type": "code",
   "execution_count": 8,
   "metadata": {
    "colab": {
     "base_uri": "https://localhost:8080/"
    },
    "id": "vkeunRtSWYc9",
    "outputId": "196f8961-c0bc-42fe-cd40-f06778d100ad"
   },
   "outputs": [
    {
     "data": {
      "text/plain": [
       "bank_name\n",
       "Сбербанк России           26327\n",
       "Альфа-Банк                10224\n",
       "ВТБ 24                     8185\n",
       "Русский Стандарт           7943\n",
       "Хоум Кредит Банк           7549\n",
       "                          ...  \n",
       "Северный Народный Банк        1\n",
       "Сельмашбанк                   1\n",
       "Сиббизнесбанк                 1\n",
       "Сибконтакт                    1\n",
       "Мигом                         1\n",
       "Name: text, Length: 670, dtype: int64"
      ]
     },
     "execution_count": 8,
     "metadata": {},
     "output_type": "execute_result"
    }
   ],
   "source": [
    "quantity_banks = data_responses.groupby(by = 'bank_name').count().sort_values(by='text', ascending=False )['text']\n",
    "quantity_banks"
   ]
  },
  {
   "cell_type": "markdown",
   "metadata": {
    "id": "vLFvN0KiWYc9"
   },
   "source": [
    "#### 1 Посчитайте количество отзывов в разных городах и на разные банки"
   ]
  },
  {
   "cell_type": "code",
   "execution_count": 9,
   "metadata": {
    "id": "eieVl6vTWYc9"
   },
   "outputs": [],
   "source": [
    "data_responses_2 = data_responses"
   ]
  },
  {
   "cell_type": "code",
   "execution_count": 10,
   "metadata": {
    "colab": {
     "base_uri": "https://localhost:8080/",
     "height": 372
    },
    "id": "XtqRuJg4WYc9",
    "outputId": "174def41-328c-4822-8469-40840d20d2ba"
   },
   "outputs": [
    {
     "data": {
      "text/html": [
       "<div>\n",
       "<style scoped>\n",
       "    .dataframe tbody tr th:only-of-type {\n",
       "        vertical-align: middle;\n",
       "    }\n",
       "\n",
       "    .dataframe tbody tr th {\n",
       "        vertical-align: top;\n",
       "    }\n",
       "\n",
       "    .dataframe thead th {\n",
       "        text-align: right;\n",
       "    }\n",
       "</style>\n",
       "<table border=\"1\" class=\"dataframe\">\n",
       "  <thead>\n",
       "    <tr style=\"text-align: right;\">\n",
       "      <th></th>\n",
       "      <th>city</th>\n",
       "      <th>rating_not_checked</th>\n",
       "      <th>title</th>\n",
       "      <th>num_comments</th>\n",
       "      <th>bank_license</th>\n",
       "      <th>author</th>\n",
       "      <th>bank_name</th>\n",
       "      <th>datetime</th>\n",
       "      <th>text</th>\n",
       "      <th>rating_grade</th>\n",
       "    </tr>\n",
       "  </thead>\n",
       "  <tbody>\n",
       "    <tr>\n",
       "      <th>89526</th>\n",
       "      <td>None</td>\n",
       "      <td>False</td>\n",
       "      <td>Халатность сотрудника, обман потребителя</td>\n",
       "      <td>3</td>\n",
       "      <td>лицензия № 1481</td>\n",
       "      <td>марс13</td>\n",
       "      <td>Сбербанк России</td>\n",
       "      <td>2013-03-06 10:26:00</td>\n",
       "      <td>В январе мной было подано заявление на досрочн...</td>\n",
       "      <td>1.0</td>\n",
       "    </tr>\n",
       "    <tr>\n",
       "      <th>131055</th>\n",
       "      <td>None</td>\n",
       "      <td>False</td>\n",
       "      <td>Любимый мой банк, но в последнее время удивляет</td>\n",
       "      <td>7</td>\n",
       "      <td>лицензия № 3279</td>\n",
       "      <td>Lzt06</td>\n",
       "      <td>Национальный Банк «Траст»</td>\n",
       "      <td>2010-09-13 21:34:00</td>\n",
       "      <td>С удовольствием обслуживаюсь с 2009 г. в НБ \"Т...</td>\n",
       "      <td>3.0</td>\n",
       "    </tr>\n",
       "    <tr>\n",
       "      <th>138284</th>\n",
       "      <td>None</td>\n",
       "      <td>False</td>\n",
       "      <td>Из-за одного некомпетентного сотрудника портит...</td>\n",
       "      <td>5</td>\n",
       "      <td>лицензия № 1460</td>\n",
       "      <td>1й2ц3у4</td>\n",
       "      <td>Восточный Экспресс Банк</td>\n",
       "      <td>2009-07-03 01:06:00</td>\n",
       "      <td>Как один человек может испортить репутацию бан...</td>\n",
       "      <td>NaN</td>\n",
       "    </tr>\n",
       "    <tr>\n",
       "      <th>138285</th>\n",
       "      <td>None</td>\n",
       "      <td>False</td>\n",
       "      <td>Хамство кассира в отделении на Автозаводской</td>\n",
       "      <td>7</td>\n",
       "      <td>лицензия № 2771</td>\n",
       "      <td>sergor</td>\n",
       "      <td>Юниаструм Банк</td>\n",
       "      <td>2009-07-01 18:39:00</td>\n",
       "      <td>Недавно был в отделении на Автозаводской, Моск...</td>\n",
       "      <td>1.0</td>\n",
       "    </tr>\n",
       "    <tr>\n",
       "      <th>138286</th>\n",
       "      <td>None</td>\n",
       "      <td>False</td>\n",
       "      <td>МЕП</td>\n",
       "      <td>61</td>\n",
       "      <td>лицензия № 2557</td>\n",
       "      <td>Квинки</td>\n",
       "      <td>Ситибанк</td>\n",
       "      <td>2009-06-29 16:42:00</td>\n",
       "      <td>Это, собственно, не отзыв, это - размышлизм......</td>\n",
       "      <td>NaN</td>\n",
       "    </tr>\n",
       "  </tbody>\n",
       "</table>\n",
       "</div>"
      ],
      "text/plain": [
       "        city  rating_not_checked  \\\n",
       "89526   None               False   \n",
       "131055  None               False   \n",
       "138284  None               False   \n",
       "138285  None               False   \n",
       "138286  None               False   \n",
       "\n",
       "                                                    title  num_comments  \\\n",
       "89526            Халатность сотрудника, обман потребителя             3   \n",
       "131055    Любимый мой банк, но в последнее время удивляет             7   \n",
       "138284  Из-за одного некомпетентного сотрудника портит...             5   \n",
       "138285       Хамство кассира в отделении на Автозаводской             7   \n",
       "138286                                                МЕП            61   \n",
       "\n",
       "           bank_license   author                  bank_name  \\\n",
       "89526   лицензия № 1481   марс13            Сбербанк России   \n",
       "131055  лицензия № 3279    Lzt06  Национальный Банк «Траст»   \n",
       "138284  лицензия № 1460  1й2ц3у4    Восточный Экспресс Банк   \n",
       "138285  лицензия № 2771   sergor             Юниаструм Банк   \n",
       "138286  лицензия № 2557   Квинки                   Ситибанк   \n",
       "\n",
       "                   datetime  \\\n",
       "89526   2013-03-06 10:26:00   \n",
       "131055  2010-09-13 21:34:00   \n",
       "138284  2009-07-03 01:06:00   \n",
       "138285  2009-07-01 18:39:00   \n",
       "138286  2009-06-29 16:42:00   \n",
       "\n",
       "                                                     text  rating_grade  \n",
       "89526   В январе мной было подано заявление на досрочн...           1.0  \n",
       "131055  С удовольствием обслуживаюсь с 2009 г. в НБ \"Т...           3.0  \n",
       "138284  Как один человек может испортить репутацию бан...           NaN  \n",
       "138285  Недавно был в отделении на Автозаводской, Моск...           1.0  \n",
       "138286  Это, собственно, не отзыв, это - размышлизм......           NaN  "
      ]
     },
     "execution_count": 10,
     "metadata": {},
     "output_type": "execute_result"
    }
   ],
   "source": [
    "# количество нулевых = неизвестных значений городов\n",
    "data_responses_2[data_responses_2.city.isnull()].head()"
   ]
  },
  {
   "cell_type": "code",
   "execution_count": 11,
   "metadata": {
    "colab": {
     "base_uri": "https://localhost:8080/"
    },
    "id": "VijuVV1RWYc-",
    "outputId": "0470d447-2189-432a-e7a2-d80b9b927e58"
   },
   "outputs": [
    {
     "name": "stderr",
     "output_type": "stream",
     "text": [
      "<ipython-input-11-c37f173ccc42>:6: SettingWithCopyWarning: \n",
      "A value is trying to be set on a copy of a slice from a DataFrame\n",
      "\n",
      "See the caveats in the documentation: https://pandas.pydata.org/pandas-docs/stable/user_guide/indexing.html#returning-a-view-versus-a-copy\n",
      "  data_responses_2['rating_grade'][row] = 0\n",
      "<ipython-input-11-c37f173ccc42>:4: SettingWithCopyWarning: \n",
      "A value is trying to be set on a copy of a slice from a DataFrame\n",
      "\n",
      "See the caveats in the documentation: https://pandas.pydata.org/pandas-docs/stable/user_guide/indexing.html#returning-a-view-versus-a-copy\n",
      "  data_responses_2.city[row] = 'Неизвестный'\n"
     ]
    }
   ],
   "source": [
    "# замена строк на Неизвестный город и без рейтинга на ноль\n",
    "for row in range(0, len(data_responses_2)):\n",
    "    if data_responses_2.city[row] == None: \n",
    "        data_responses_2.city[row] = 'Неизвестный'\n",
    "    elif data_responses_2['rating_grade'].isnull()[row]: \n",
    "        data_responses_2['rating_grade'][row] = 0\n",
    "    else:\n",
    "        continue"
   ]
  },
  {
   "cell_type": "code",
   "execution_count": 12,
   "metadata": {
    "colab": {
     "base_uri": "https://localhost:8080/",
     "height": 336
    },
    "id": "PHL8ZEFhWYc-",
    "outputId": "85428e3d-2aba-43fb-ac73-fd92b3b50ac4"
   },
   "outputs": [
    {
     "data": {
      "text/html": [
       "<div>\n",
       "<style scoped>\n",
       "    .dataframe tbody tr th:only-of-type {\n",
       "        vertical-align: middle;\n",
       "    }\n",
       "\n",
       "    .dataframe tbody tr th {\n",
       "        vertical-align: top;\n",
       "    }\n",
       "\n",
       "    .dataframe thead th {\n",
       "        text-align: right;\n",
       "    }\n",
       "</style>\n",
       "<table border=\"1\" class=\"dataframe\">\n",
       "  <thead>\n",
       "    <tr style=\"text-align: right;\">\n",
       "      <th></th>\n",
       "      <th>city</th>\n",
       "      <th>rating_not_checked</th>\n",
       "      <th>title</th>\n",
       "      <th>num_comments</th>\n",
       "      <th>bank_license</th>\n",
       "      <th>author</th>\n",
       "      <th>bank_name</th>\n",
       "      <th>datetime</th>\n",
       "      <th>text</th>\n",
       "      <th>rating_grade</th>\n",
       "    </tr>\n",
       "  </thead>\n",
       "  <tbody>\n",
       "    <tr>\n",
       "      <th>0</th>\n",
       "      <td>г. Москва</td>\n",
       "      <td>False</td>\n",
       "      <td>Жалоба</td>\n",
       "      <td>0</td>\n",
       "      <td>лицензия № 2562</td>\n",
       "      <td>uhnov1</td>\n",
       "      <td>Бинбанк</td>\n",
       "      <td>2015-06-08 12:50:54</td>\n",
       "      <td>Добрый день! Я не являюсь клиентом банка и пор...</td>\n",
       "      <td>0.0</td>\n",
       "    </tr>\n",
       "    <tr>\n",
       "      <th>1</th>\n",
       "      <td>г. Новосибирск</td>\n",
       "      <td>False</td>\n",
       "      <td>Не могу пользоваться услугой Сбербанк он-лайн</td>\n",
       "      <td>0</td>\n",
       "      <td>лицензия № 1481</td>\n",
       "      <td>Foryou</td>\n",
       "      <td>Сбербанк России</td>\n",
       "      <td>2015-06-08 11:09:57</td>\n",
       "      <td>Доброго дня! Являюсь держателем зарплатной кар...</td>\n",
       "      <td>0.0</td>\n",
       "    </tr>\n",
       "    <tr>\n",
       "      <th>2</th>\n",
       "      <td>г. Москва</td>\n",
       "      <td>False</td>\n",
       "      <td>Двойное списание за один товар.</td>\n",
       "      <td>1</td>\n",
       "      <td>лицензия № 2562</td>\n",
       "      <td>Vladimir84</td>\n",
       "      <td>Бинбанк</td>\n",
       "      <td>2015-06-05 20:14:28</td>\n",
       "      <td>Здравствуйте!  Дублирую свое заявление от 03.0...</td>\n",
       "      <td>0.0</td>\n",
       "    </tr>\n",
       "    <tr>\n",
       "      <th>3</th>\n",
       "      <td>г. Ставрополь</td>\n",
       "      <td>False</td>\n",
       "      <td>Меняют проценты комиссии  не предупредив и не ...</td>\n",
       "      <td>2</td>\n",
       "      <td>лицензия № 1481</td>\n",
       "      <td>643609</td>\n",
       "      <td>Сбербанк России</td>\n",
       "      <td>2015-06-05 13:51:01</td>\n",
       "      <td>Добрый день!! Я открыл расчетный счет в СберБа...</td>\n",
       "      <td>0.0</td>\n",
       "    </tr>\n",
       "    <tr>\n",
       "      <th>4</th>\n",
       "      <td>г. Челябинск</td>\n",
       "      <td>False</td>\n",
       "      <td>Верните денежные средства за страховку</td>\n",
       "      <td>1</td>\n",
       "      <td>лицензия № 2766</td>\n",
       "      <td>anfisa-2003</td>\n",
       "      <td>ОТП Банк</td>\n",
       "      <td>2015-06-05 10:58:12</td>\n",
       "      <td>04.03.2015 г. взяла кредит в вашем банке, заяв...</td>\n",
       "      <td>0.0</td>\n",
       "    </tr>\n",
       "  </tbody>\n",
       "</table>\n",
       "</div>"
      ],
      "text/plain": [
       "             city  rating_not_checked  \\\n",
       "0       г. Москва               False   \n",
       "1  г. Новосибирск               False   \n",
       "2       г. Москва               False   \n",
       "3   г. Ставрополь               False   \n",
       "4    г. Челябинск               False   \n",
       "\n",
       "                                               title  num_comments  \\\n",
       "0                                             Жалоба             0   \n",
       "1      Не могу пользоваться услугой Сбербанк он-лайн             0   \n",
       "2                    Двойное списание за один товар.             1   \n",
       "3  Меняют проценты комиссии  не предупредив и не ...             2   \n",
       "4             Верните денежные средства за страховку             1   \n",
       "\n",
       "      bank_license       author        bank_name             datetime  \\\n",
       "0  лицензия № 2562       uhnov1          Бинбанк  2015-06-08 12:50:54   \n",
       "1  лицензия № 1481       Foryou  Сбербанк России  2015-06-08 11:09:57   \n",
       "2  лицензия № 2562   Vladimir84          Бинбанк  2015-06-05 20:14:28   \n",
       "3  лицензия № 1481       643609  Сбербанк России  2015-06-05 13:51:01   \n",
       "4  лицензия № 2766  anfisa-2003         ОТП Банк  2015-06-05 10:58:12   \n",
       "\n",
       "                                                text  rating_grade  \n",
       "0  Добрый день! Я не являюсь клиентом банка и пор...           0.0  \n",
       "1  Доброго дня! Являюсь держателем зарплатной кар...           0.0  \n",
       "2  Здравствуйте!  Дублирую свое заявление от 03.0...           0.0  \n",
       "3  Добрый день!! Я открыл расчетный счет в СберБа...           0.0  \n",
       "4  04.03.2015 г. взяла кредит в вашем банке, заяв...           0.0  "
      ]
     },
     "execution_count": 12,
     "metadata": {},
     "output_type": "execute_result"
    }
   ],
   "source": [
    "data_responses_2.head()"
   ]
  },
  {
   "cell_type": "code",
   "execution_count": 13,
   "metadata": {
    "id": "LNki--jZWYc_"
   },
   "outputs": [],
   "source": [
    "from nltk.tokenize import word_tokenize"
   ]
  },
  {
   "cell_type": "code",
   "execution_count": 14,
   "metadata": {
    "colab": {
     "base_uri": "https://localhost:8080/",
     "height": 35
    },
    "id": "AkSsBKpWWYc_",
    "outputId": "6bf3f84d-b185-4041-a2cc-640ad5d74ba6"
   },
   "outputs": [
    {
     "data": {
      "text/plain": [
       "'!\"#$%&\\'()*+,-./:;<=>?@[\\\\]^_`{|}~'"
      ]
     },
     "execution_count": 14,
     "metadata": {},
     "output_type": "execute_result"
    }
   ],
   "source": [
    "from string import punctuation\n",
    "punctuation"
   ]
  },
  {
   "cell_type": "code",
   "execution_count": 15,
   "metadata": {
    "colab": {
     "base_uri": "https://localhost:8080/"
    },
    "id": "M-tePNfbXaBN",
    "outputId": "3898c142-d704-4319-83cb-1b1aea51b255"
   },
   "outputs": [
    {
     "name": "stderr",
     "output_type": "stream",
     "text": [
      "[nltk_data] Downloading package punkt to C:\\nltk_data...\n",
      "[nltk_data]   Package punkt is already up-to-date!\n"
     ]
    },
    {
     "data": {
      "text/plain": [
       "True"
      ]
     },
     "execution_count": 15,
     "metadata": {},
     "output_type": "execute_result"
    }
   ],
   "source": [
    "import nltk\n",
    "nltk.download('punkt')"
   ]
  },
  {
   "cell_type": "code",
   "execution_count": 16,
   "metadata": {
    "colab": {
     "base_uri": "https://localhost:8080/"
    },
    "id": "8k5i2QD3WYc_",
    "outputId": "f74a115f-76db-44a2-8ebb-6f9f8b036a20"
   },
   "outputs": [
    {
     "name": "stdout",
     "output_type": "stream",
     "text": [
      "303659\n"
     ]
    },
    {
     "data": {
      "text/plain": [
       "['г.',\n",
       " 'Москва',\n",
       " 'г.',\n",
       " 'Новосибирск',\n",
       " 'г.',\n",
       " 'Москва',\n",
       " 'г.',\n",
       " 'Ставрополь',\n",
       " 'г.',\n",
       " 'Челябинск']"
      ]
     },
     "execution_count": 16,
     "metadata": {},
     "output_type": "execute_result"
    }
   ],
   "source": [
    "from collections import Counter\n",
    "corpus = [token for respon in data_responses_2.city for token in word_tokenize(respon) if token not in punctuation]\n",
    "print(len(corpus))\n",
    "corpus[:10]"
   ]
  },
  {
   "cell_type": "code",
   "execution_count": 17,
   "metadata": {
    "id": "7ahaA8p6WYc_"
   },
   "outputs": [],
   "source": [
    "freq_dict = Counter(corpus)\n",
    "\n",
    "freq_dict_sorted= sorted(freq_dict.items(), key=lambda x: -x[1])\n",
    "# freq_dict.most_common(20)"
   ]
  },
  {
   "cell_type": "code",
   "execution_count": 18,
   "metadata": {
    "colab": {
     "base_uri": "https://localhost:8080/"
    },
    "id": "nTx2hL0TWYdA",
    "outputId": "0a4ea5b8-a97f-4b76-eeb7-9746bcfff719"
   },
   "outputs": [
    {
     "data": {
      "text/plain": [
       "[('г.', 138574),\n",
       " ('Москва', 56268),\n",
       " ('Неизвестный', 15174),\n",
       " ('Санкт-Петербург', 14525),\n",
       " ('Екатеринбург', 2365),\n",
       " ('Новосибирск', 2338),\n",
       " ('Новгород', 2273),\n",
       " ('Нижний', 2261),\n",
       " ('Ростов-на-Дону', 1926),\n",
       " ('Самара', 1778),\n",
       " ('Челябинск', 1541),\n",
       " ('Казань', 1470),\n",
       " ('Краснодар', 1316),\n",
       " ('Уфа', 1279),\n",
       " ('Красноярск', 1246),\n",
       " ('Воронеж', 1235),\n",
       " ('москва', 1232),\n",
       " ('Пермь', 1182),\n",
       " ('Волгоград', 1036),\n",
       " ('Омск', 1011),\n",
       " ('Саратов', 961),\n",
       " ('Калининград', 764),\n",
       " ('Иркутск', 763),\n",
       " ('обл', 753),\n",
       " ('Ставрополь', 709),\n",
       " ('область', 702),\n",
       " ('Хабаровск', 701),\n",
       " ('Тюмень', 670),\n",
       " ('Владивосток', 651),\n",
       " ('Барнаул', 623),\n",
       " ('Ярославль', 617),\n",
       " ('Тула', 602),\n",
       " ('Томск', 580),\n",
       " ('Рязань', 558),\n",
       " ('Ульяновск', 516),\n",
       " ('Тольятти', 515),\n",
       " ('Иваново', 472),\n",
       " ('Липецк', 469),\n",
       " ('Ижевск', 463),\n",
       " ('Тверь', 457),\n",
       " ('Мурманск', 442),\n",
       " ('Оренбург', 438),\n",
       " ('Пенза', 438),\n",
       " ('Московская', 414),\n",
       " ('Сочи', 407),\n",
       " ('Кемерово', 402),\n",
       " ('Магнитогорск', 400),\n",
       " ('Белгород', 398),\n",
       " ('Чебоксары', 395),\n",
       " ('Владимир', 373),\n",
       " ('Петербург', 371),\n",
       " ('Курск', 368),\n",
       " ('Мытищи', 351),\n",
       " ('Астрахань', 339),\n",
       " ('Калуга', 339),\n",
       " ('Королев', 337),\n",
       " ('Подольск', 335),\n",
       " ('Архангельск', 332),\n",
       " ('Новокузнецк', 328),\n",
       " ('Балашиха', 328),\n",
       " ('Челны', 326),\n",
       " ('Набережные', 325),\n",
       " ('Вологда', 309),\n",
       " ('край', 300),\n",
       " ('Химки', 300),\n",
       " ('СПб', 288),\n",
       " ('Люберцы', 286),\n",
       " ('Киров', 284),\n",
       " ('Петрозаводск', 280),\n",
       " ('Брянск', 276),\n",
       " ('Посад', 273),\n",
       " ('Таганрог', 267),\n",
       " ('Тамбов', 264),\n",
       " ('Смоленск', 247),\n",
       " ('Орел', 238),\n",
       " ('Россия', 238),\n",
       " ('Великий', 238),\n",
       " ('Санкт', 238),\n",
       " ('Одинцово', 237),\n",
       " ('Сергиев', 228),\n",
       " ('Новороссийск', 228),\n",
       " ('Раменское', 226),\n",
       " ('Сургут', 210),\n",
       " ('Щелково', 208),\n",
       " ('Зеленоград', 203),\n",
       " ('Тагил', 201),\n",
       " ('Череповец', 201),\n",
       " ('Йошкар-Ола', 195),\n",
       " ('Железнодорожный', 194),\n",
       " ('области', 190),\n",
       " ('Жуковский', 188),\n",
       " ('санкт-петербург', 184),\n",
       " ('Красногорск', 179),\n",
       " ('Улан-Удэ', 178),\n",
       " ('Саранск', 177),\n",
       " ('Псков', 169),\n",
       " ('Курган', 167),\n",
       " ('Кострома', 163),\n",
       " ('Волжский', 162),\n",
       " ('Сыктывкар', 161),\n",
       " ('Нижневартовск', 161),\n",
       " ('Пушкино', 160),\n",
       " ('Обнинск', 160),\n",
       " ('Долгопрудный', 148),\n",
       " ('Коломна', 146),\n",
       " ('Электросталь', 137),\n",
       " ('Пятигорск', 136),\n",
       " ('Чита', 132),\n",
       " ('Южно-Сахалинск', 128),\n",
       " ('Благовещенск', 127),\n",
       " ('Дзержинск', 126),\n",
       " ('МО', 126),\n",
       " ('и', 121),\n",
       " ('Якутск', 119),\n",
       " ('на', 118),\n",
       " ('Стерлитамак', 118),\n",
       " ('МОСКВА', 116),\n",
       " ('Ногинск', 114),\n",
       " ('Бийск', 113),\n",
       " ('Ростов', 112),\n",
       " ('Энгельс', 112),\n",
       " ('Республика', 111),\n",
       " ('г', 110),\n",
       " ('Серпухов', 110),\n",
       " ('Абакан', 109),\n",
       " ('Старый', 109),\n",
       " ('Оскол', 109),\n",
       " ('Ангарск', 106),\n",
       " ('Краснодарский', 105),\n",
       " ('Балаково', 105),\n",
       " ('Северодвинск', 103),\n",
       " ('Волгодонск', 102),\n",
       " ('Реутов', 101),\n",
       " ('Норильск', 99),\n",
       " ('Рыбинск', 98),\n",
       " ('Клин', 98),\n",
       " ('Нижнекамск', 94),\n",
       " ('Ивантеевка', 93),\n",
       " ('Дубна', 92),\n",
       " ('Комсомольск-на-Амуре', 92),\n",
       " ('Братск', 92),\n",
       " ('район', 89),\n",
       " ('Уссурийск', 89),\n",
       " ('Санкт-петербург', 88),\n",
       " ('Фрязино', 88),\n",
       " ('Дмитров', 87),\n",
       " ('Миасс', 85),\n",
       " ('Геленджик', 83),\n",
       " ('Ковров', 83),\n",
       " ('Домодедово', 82),\n",
       " ('Орск', 81),\n",
       " ('Орехово-Зуево', 78),\n",
       " ('Королёв', 78),\n",
       " ('СПБ', 78),\n",
       " ('Шахты', 77),\n",
       " ('новосибирск', 76),\n",
       " ('Петропавловск-Камчатский', 75),\n",
       " ('Новочеркасск', 71),\n",
       " ('казань', 71),\n",
       " ('Муром', 71),\n",
       " ('Всеволожск', 71),\n",
       " ('Новомосковск', 71),\n",
       " ('Армавир', 70),\n",
       " ('Каменск-Уральский', 70),\n",
       " ('Дону', 70),\n",
       " ('Видное', 69),\n",
       " ('Сызрань', 69),\n",
       " ('Нальчик', 67),\n",
       " ('Бердск', 67),\n",
       " ('Лобня', 67),\n",
       " ('Владикавказ', 67),\n",
       " ('Ухта', 66),\n",
       " ('Ступино', 64),\n",
       " ('Железногорск', 64),\n",
       " ('Находка', 64),\n",
       " ('Ростовская', 63),\n",
       " ('Первоуральск', 63),\n",
       " ('С-Петербург', 62),\n",
       " ('Северск', 61),\n",
       " ('Магадан', 61),\n",
       " ('Выборг', 60),\n",
       " ('новгород', 60),\n",
       " ('омск', 59),\n",
       " ('Камышин', 59),\n",
       " ('Гатчина', 59),\n",
       " ('уфа', 59),\n",
       " ('Анапа', 58),\n",
       " ('Майкоп', 58),\n",
       " ('Челябинская', 56),\n",
       " ('Димитровград', 56),\n",
       " ('Чехов', 56),\n",
       " ('Альметьевск', 56),\n",
       " ('п.', 56),\n",
       " ('Солнечногорск', 55),\n",
       " ('Юбилейный', 55),\n",
       " ('Московской', 55),\n",
       " ('город', 54),\n",
       " ('с.', 54),\n",
       " ('Элиста', 54),\n",
       " ('Воскресенск', 54),\n",
       " ('Новочебоксарск', 53),\n",
       " ('Саров', 53),\n",
       " ('Туапсе', 52),\n",
       " ('петербург', 52),\n",
       " ('Санкт-', 50),\n",
       " ('Спб', 49),\n",
       " ('Ханты-Мансийск', 48),\n",
       " ('Ачинск', 48),\n",
       " ('Наро-Фоминск', 48),\n",
       " ('Самарская', 47),\n",
       " ('Павловский', 47),\n",
       " ('Бор', 47),\n",
       " ('нижний', 47),\n",
       " ('Златоуст', 47),\n",
       " ('Прокопьевск', 47),\n",
       " ('р-н', 46),\n",
       " ('Moscow', 46),\n",
       " ('Нефтеюганск', 45),\n",
       " ('Татарстан', 44),\n",
       " ('Нижегородская', 44),\n",
       " ('Климовск', 44),\n",
       " ('Салават', 43),\n",
       " ('Ставропольский', 43),\n",
       " ('Нефтекамск', 43),\n",
       " ('Великие', 43),\n",
       " ('Луки', 43),\n",
       " ('самара', 43),\n",
       " ('Арзамас', 42),\n",
       " ('Кисловодск', 42),\n",
       " ('Воды', 42),\n",
       " ('Батайск', 42),\n",
       " ('Севастополь', 42),\n",
       " ('Красноярский', 42),\n",
       " ('Зеленодольск', 42),\n",
       " ('Ессентуки', 42),\n",
       " ('пос', 41),\n",
       " ('Североуральск', 41),\n",
       " ('Минеральные', 40),\n",
       " ('Новый', 40),\n",
       " ('Черкесск', 40),\n",
       " ('Свердловская', 39),\n",
       " ('Новокуйбышевск', 39),\n",
       " ('Ленинградская', 39),\n",
       " ('Симферополь', 39),\n",
       " ('Ейск', 38),\n",
       " ('Егорьевск', 38),\n",
       " ('Апатиты', 38),\n",
       " ('Башкортостан', 37),\n",
       " ('Тульская', 37),\n",
       " ('Санк-Петербург', 37),\n",
       " ('Малаховка', 37),\n",
       " ('Алтайский', 36),\n",
       " ('Другие', 36),\n",
       " ('Саратовская', 35),\n",
       " ('Ноябрьск', 35),\n",
       " ('Глазов', 35),\n",
       " ('Воркута', 35),\n",
       " ('Кстово', 35),\n",
       " ('Волгоградская', 34),\n",
       " ('Артем', 34),\n",
       " ('Новоуральск', 34),\n",
       " ('Уренгой', 34),\n",
       " ('Октябрьский', 34),\n",
       " ('Дзержинский', 34),\n",
       " ('Питер', 34),\n",
       " ('г.Москва', 34),\n",
       " ('Рубцовск', 33),\n",
       " ('Мирный', 33),\n",
       " ('Истра', 33),\n",
       " ('Приморский', 32),\n",
       " ('Азов', 32),\n",
       " ('Невинномысск', 32),\n",
       " ('Тобольск', 32),\n",
       " ('Протвино', 32),\n",
       " ('санкт', 32),\n",
       " ('Кемеровская', 31),\n",
       " ('Иркутская', 31),\n",
       " ('Березники', 31),\n",
       " ('Сафоново', 30),\n",
       " ('Новотроицк', 30),\n",
       " ('Сосновый', 30),\n",
       " ('Краснознаменск', 30),\n",
       " ('края', 29),\n",
       " ('Троицк', 29),\n",
       " ('спб', 29),\n",
       " ('САНКТ-ПЕТЕРБУРГ', 29),\n",
       " ('Каменск-Шахтинский', 28),\n",
       " ('Зеленогорск', 28),\n",
       " ('екатеринбург', 28),\n",
       " ('волгоград', 28),\n",
       " ('челябинск', 28),\n",
       " ('Лыткарино', 27),\n",
       " ('Заречный', 27),\n",
       " ('Междуреченск', 27),\n",
       " ('саратов', 27),\n",
       " ('М.О', 27),\n",
       " ('Мончегорск', 26),\n",
       " ('Апрелевка', 26),\n",
       " ('Махачкала', 26),\n",
       " ('Новосибирская', 26),\n",
       " ('Борисоглебск', 26),\n",
       " ('Кинешма', 26),\n",
       " ('Белово', 26),\n",
       " ('Усинск', 26),\n",
       " ('Мурманская', 25),\n",
       " ('Нерюнгри', 25),\n",
       " ('Ревда', 25),\n",
       " ('Елец', 25),\n",
       " ('Выкса', 25),\n",
       " ('пгт', 25),\n",
       " ('пермь', 25),\n",
       " ('Красноармейск', 24),\n",
       " ('Копейск', 24),\n",
       " ('Ленинск-Кузнецкий', 24),\n",
       " ('Усть-Илимск', 24),\n",
       " ('Серов', 24),\n",
       " ('краснодар', 24),\n",
       " ('Лесной', 24),\n",
       " ('обл.', 24),\n",
       " ('Н.Новгород', 24),\n",
       " ('мск', 24),\n",
       " ('Горно-Алтайск', 23),\n",
       " ('Юрга', 23),\n",
       " ('Боровичи', 23),\n",
       " ('Бугульма', 23),\n",
       " ('Бузулук', 23),\n",
       " ('Верхняя', 23),\n",
       " ('Киев', 23),\n",
       " ('Канск', 23),\n",
       " ('дону', 23),\n",
       " ('Елабуга', 23),\n",
       " ('Нахабино', 23),\n",
       " ('Губкин', 23),\n",
       " ('Орёл', 23),\n",
       " ('Когалым', 23),\n",
       " ('Можайск', 23),\n",
       " ('Верещагино', 23),\n",
       " ('С.Петербург', 23),\n",
       " ('Узловая', 22),\n",
       " ('Томская', 22),\n",
       " ('Балахна', 22),\n",
       " ('Старая', 22),\n",
       " ('село', 22),\n",
       " ('Кашира', 22),\n",
       " ('Воткинск', 22),\n",
       " ('Амурск', 22),\n",
       " ('Грозный', 22),\n",
       " ('Чайковский', 22),\n",
       " ('красноярск', 22),\n",
       " ('тольятти', 22),\n",
       " ('Биробиджан', 21),\n",
       " ('Туймазы', 21),\n",
       " ('Павлово', 21),\n",
       " ('томск', 21),\n",
       " ('Вязьма', 21),\n",
       " ('Березовский', 21),\n",
       " ('Озерск', 21),\n",
       " ('воронеж', 21),\n",
       " ('Колпино', 21),\n",
       " ('магнитогорск', 21),\n",
       " ('С-Пб', 20),\n",
       " ('Кингисепп', 20),\n",
       " ('Тюменская', 20),\n",
       " ('Сарапул', 20),\n",
       " ('Котельники', 20),\n",
       " ('Кызыл', 20),\n",
       " ('иркутск', 20),\n",
       " ('поселок', 20),\n",
       " ('р-он', 20),\n",
       " ('в', 20),\n",
       " ('Новодвинск', 20),\n",
       " ('Снежинск', 20),\n",
       " ('Cанкт-Петербург', 20),\n",
       " ('Североморск', 19),\n",
       " ('Георгиевск', 19),\n",
       " ('Новоалтайск', 19),\n",
       " ('Усолье-Сибирское', 19),\n",
       " ('Бронницы', 19),\n",
       " ('Переславль-Залесский', 19),\n",
       " ('Черноголовка', 19),\n",
       " ('Щекино', 19),\n",
       " ('Аксай', 19),\n",
       " ('кемерово', 19),\n",
       " ('Тосно', 18),\n",
       " ('Светлый', 18),\n",
       " ('Курская', 18),\n",
       " ('Пермский', 18),\n",
       " ('Крымск', 18),\n",
       " ('Надым', 18),\n",
       " ('Пушкин', 18),\n",
       " ('Моск', 18),\n",
       " ('новокузнецк', 18),\n",
       " ('Щёлково', 18),\n",
       " ('ростов-на-дону', 18),\n",
       " ('отделение', 18),\n",
       " ('ул', 18),\n",
       " ('офис', 18),\n",
       " ('Асбест', 17),\n",
       " ('Холмск', 17),\n",
       " ('Южноуральск', 17),\n",
       " ('Белгородская', 17),\n",
       " ('Отрадный', 17),\n",
       " ('Железногорск-Илимский', 17),\n",
       " ('Шатура', 17),\n",
       " ('Волхов', 17),\n",
       " ('Оренбургская', 17),\n",
       " ('Черногорск', 17),\n",
       " ('Советская', 17),\n",
       " ('Кимры', 17),\n",
       " ('Лесосибирск', 17),\n",
       " ('Урюпинск', 17),\n",
       " ('калининград', 17),\n",
       " ('Кондопога', 16),\n",
       " ('Пышма', 16),\n",
       " ('Тверская', 16),\n",
       " ('Воронежская', 16),\n",
       " ('Голицыно', 16),\n",
       " ('Тихорецк', 16),\n",
       " ('Белогорск', 16),\n",
       " ('Стрежевой', 16),\n",
       " ('Кузнецк', 16),\n",
       " ('Александров', 16),\n",
       " ('Минусинск', 16),\n",
       " ('Пущино', 16),\n",
       " ('Лысьва', 16),\n",
       " ('р.п', 16),\n",
       " ('Шадринск', 16),\n",
       " ('барнаул', 16),\n",
       " ('владивосток', 16),\n",
       " ('-Петербург', 16),\n",
       " ('хабаровск', 16),\n",
       " ('челны', 16),\n",
       " (\"''\", 16),\n",
       " ('Клинцы', 15),\n",
       " ('Лениногорск', 15),\n",
       " ('Алексин', 15),\n",
       " ('Партизанск', 15),\n",
       " ('Кировск', 15),\n",
       " ('Ржев', 15),\n",
       " ('Шелехов', 15),\n",
       " ('Сосновоборск', 15),\n",
       " ('Искитим', 15),\n",
       " ('Ярцево', 15),\n",
       " ('Михайловка', 15),\n",
       " ('Коми', 15),\n",
       " ('Алексеевка', 15),\n",
       " ('Заринск', 15),\n",
       " ('Омская', 15),\n",
       " ('Щербинка', 15),\n",
       " ('Балашов', 15),\n",
       " ('Тимашевск', 15),\n",
       " ('Соликамск', 15),\n",
       " ('Нягань', 15),\n",
       " ('станица', 15),\n",
       " ('Саяногорск', 15),\n",
       " ('Белорецк', 15),\n",
       " ('Свердловской', 15),\n",
       " ('ст', 15),\n",
       " ('тюмень', 15),\n",
       " ('рязань', 15),\n",
       " ('Санкт-Петребург', 15),\n",
       " ('Ростов-на-дону', 15),\n",
       " ('Нижегородской', 15),\n",
       " ('Моска', 15),\n",
       " ('Чапаевск', 14),\n",
       " ('Вихоревка', 14),\n",
       " ('Богородицк', 14),\n",
       " ('Калининградская', 14),\n",
       " ('Краснокаменск', 14),\n",
       " ('Кропоткин', 14),\n",
       " ('республика', 14),\n",
       " ('Белая', 14),\n",
       " ('Хабаровский', 14),\n",
       " ('Темрюк', 14),\n",
       " ('Радужный', 14),\n",
       " ('Астраханская', 14),\n",
       " ('Печора', 14),\n",
       " ('Россошь', 14),\n",
       " ('Гусь-Хрустальный', 14),\n",
       " ('района', 14),\n",
       " ('Сальск', 14),\n",
       " ('Десногорск', 14),\n",
       " ('Монгохто', 14),\n",
       " ('Рузаевка', 14),\n",
       " ('Калья', 14),\n",
       " ('пенза', 14),\n",
       " ('набережные', 14),\n",
       " ('ростов', 14),\n",
       " ('Санкт_Петербург', 14),\n",
       " ('``', 14),\n",
       " ('Конаково', 13),\n",
       " ('Смоленская', 13),\n",
       " ('Вологодская', 13),\n",
       " ('Ханты-Мансийский', 13),\n",
       " ('Рославль', 13),\n",
       " ('Луга', 13),\n",
       " ('Курчатов', 13),\n",
       " ('Кунгур', 13),\n",
       " ('Котлас', 13),\n",
       " ('Ванино', 13),\n",
       " ('Нарьян-Мар', 13),\n",
       " ('Лабинск', 13),\n",
       " ('Мценск', 13),\n",
       " ('Назарово', 13),\n",
       " ('Черняховск', 13),\n",
       " ('Кирово-Чепецк', 13),\n",
       " ('Ишимбай', 13),\n",
       " ('ульяновск', 13),\n",
       " ('тула', 13),\n",
       " ('волжский', 13),\n",
       " ('ДО', 13),\n",
       " ('Новокубанск', 12),\n",
       " ('Кодинск', 12),\n",
       " ('Черемхово', 12),\n",
       " ('Лиски', 12),\n",
       " ('Луховицы', 12),\n",
       " ('Звенигород', 12),\n",
       " ('Ефремов', 12),\n",
       " ('Гавань', 12),\n",
       " ('Владимирская', 12),\n",
       " ('Мегион', 12),\n",
       " ('Малоярославец', 12),\n",
       " ('Кириши', 12),\n",
       " ('ярославль', 12),\n",
       " ('Иноземцево', 12),\n",
       " ('Киселевск', 12),\n",
       " ('Руза', 12),\n",
       " ('Кыштым', 12),\n",
       " ('Кумертау', 12),\n",
       " ('УФА', 12),\n",
       " ('вологда', 12),\n",
       " ('московская', 12),\n",
       " ('Моква', 12),\n",
       " ('тверь', 12),\n",
       " ('Sankt-Peterburg', 12),\n",
       " ('С.-Петербург', 12),\n",
       " ('АО', 11),\n",
       " ('Ярославская', 11),\n",
       " ('Якутия', 11),\n",
       " ('Костромская', 11),\n",
       " ('Калужская', 11),\n",
       " ('Азнакаево', 11),\n",
       " ('Калитва', 11),\n",
       " ('Советск', 11),\n",
       " ('Архангельская', 11),\n",
       " ('Пензенская', 11),\n",
       " ('Краснотурьинск', 11),\n",
       " ('Гагарин', 11),\n",
       " ('Красный', 11),\n",
       " ('Вышний', 11),\n",
       " ('Волочек', 11),\n",
       " ('Монино', 11),\n",
       " ('Шарыпово', 11),\n",
       " ('Тихвин', 11),\n",
       " ('Кореновск', 11),\n",
       " ('подольск', 11),\n",
       " ('мурманск', 11),\n",
       " ('МОсква', 11),\n",
       " ('Амурская', 11),\n",
       " ('нерезиновск', 11),\n",
       " ('Карелия', 10),\n",
       " ('Брянская', 10),\n",
       " ('Арсеньев', 10),\n",
       " ('Ишим', 10),\n",
       " ('Мичуринск', 10),\n",
       " ('Сухой', 10),\n",
       " ('Лог', 10),\n",
       " ('САМАРА', 10),\n",
       " ('Сибай', 10),\n",
       " ('Новошахтинск', 10),\n",
       " ('Волоколамск', 10),\n",
       " ('Русса', 10),\n",
       " ('Павловская', 10),\n",
       " ('Ульяновская', 10),\n",
       " ('курск', 10),\n",
       " ('Сатка', 10),\n",
       " ('Усть-Лабинск', 10),\n",
       " ('Купавна', 10),\n",
       " ('Прохладный', 10),\n",
       " ('Хотьково', 10),\n",
       " ('Людиново', 10),\n",
       " ('Волжск', 10),\n",
       " ('Жигулевск', 10),\n",
       " ('Югорск', 10),\n",
       " ('Заволжье', 10),\n",
       " ('Балабаново', 10),\n",
       " ('Куровское', 10),\n",
       " ('...', 10),\n",
       " ('брянск', 10),\n",
       " ('Санкт-Петерубрг', 10),\n",
       " ('липецк', 10),\n",
       " ('ОМСК', 10),\n",
       " ('оскол', 10),\n",
       " ('Озёрск', 10),\n",
       " ('С.', 10),\n",
       " ('Волгоградской', 10),\n",
       " ('Муравленко', 10),\n",
       " ('Ялта', 9),\n",
       " ('Суворов', 9),\n",
       " ('Белебей', 9),\n",
       " ('Полевской', 9),\n",
       " ('Кандалакша', 9),\n",
       " ('Забайкальский', 9),\n",
       " ('Шуя', 9),\n",
       " ('Унеча', 9),\n",
       " ('Спасск-Дальний', 9),\n",
       " ('Канаш', 9),\n",
       " ('Вольск', 9),\n",
       " ('Снежногорск', 9),\n",
       " ('новороссийск', 9),\n",
       " ('Кировская', 9),\n",
       " ('Советский', 9),\n",
       " ('Костомукша', 9),\n",
       " ('Минск', 9),\n",
       " ('Большой', 9),\n",
       " ('Учалы', 9),\n",
       " ('Ленинградской', 9),\n",
       " ('Челябинской', 9),\n",
       " ('Новозыбков', 9),\n",
       " ('Салда', 9),\n",
       " ('Моршанск', 9),\n",
       " ('Дюртюли', 9),\n",
       " ('Ивановская', 9),\n",
       " ('Корсаков', 9),\n",
       " ('Тында', 9),\n",
       " ('Ленинский', 9),\n",
       " ('чебоксары', 9),\n",
       " ('Город', 9),\n",
       " ('Красноярского', 9),\n",
       " ('череповец', 9),\n",
       " ('ижевск', 9),\n",
       " ('филиал', 9),\n",
       " ('калуга', 9),\n",
       " ('североморск', 9),\n",
       " ('Мосвка', 9),\n",
       " ('коломна', 9),\n",
       " ('петрозаводск', 9),\n",
       " ('старый', 9),\n",
       " ('таганрог', 8),\n",
       " ('Комсомольск', 8),\n",
       " ('Курганинск', 8),\n",
       " ('Дятьково', 8),\n",
       " ('Удмуртская', 8),\n",
       " ('Псковская', 8),\n",
       " ('Лермонтов', 8),\n",
       " ('Балтийск', 8),\n",
       " ('Удомля', 8),\n",
       " ('Камышлов', 8),\n",
       " ('Никольское', 8),\n",
       " ('Железноводск', 8),\n",
       " ('Сертолово', 8),\n",
       " ('Гуково', 8),\n",
       " ('округ', 8),\n",
       " ('Саянск', 8),\n",
       " ('Чудово', 8),\n",
       " ('Омский', 8),\n",
       " ('Оха', 8),\n",
       " ('Сасово', 8),\n",
       " ('Камень', 8),\n",
       " ('Чистополь', 8),\n",
       " ('Тучково', 8),\n",
       " ('Харьков', 8),\n",
       " ('Адлер', 8),\n",
       " ('Лебедянь', 8),\n",
       " ('Электроугли', 8),\n",
       " ('Аша', 8),\n",
       " ('Алапаевск', 8),\n",
       " ('Нижняя', 8),\n",
       " ('Пугачев', 8),\n",
       " ('Белореченск', 8),\n",
       " ('зеленоград', 8),\n",
       " ('с', 8),\n",
       " ('одинцово', 8),\n",
       " ('Лен', 8),\n",
       " ('не', 8),\n",
       " ('балашиха', 8),\n",
       " ('Санкт-Петебург', 8),\n",
       " ('ставрополь', 8),\n",
       " ('тагил', 8),\n",
       " ('РТ', 8),\n",
       " ('Красногорский', 8),\n",
       " ('Фролово', 7),\n",
       " ('Саха', 7),\n",
       " ('Валуйки', 7),\n",
       " ('Абинск', 7),\n",
       " ('КБР', 7),\n",
       " ('Инта', 7),\n",
       " ('Кировский', 7),\n",
       " ('Ялуторовск', 7),\n",
       " ('Ливны', 7),\n",
       " ('ХМАО', 7),\n",
       " ('Сураж', 7),\n",
       " ('Аткарск', 7),\n",
       " ('Славянск-на-Кубани', 7),\n",
       " ('Чебаркуль', 7),\n",
       " ('Сланцы', 7),\n",
       " ('Ахтубинск', 7),\n",
       " ('Чусовой', 7),\n",
       " ('Моздок', 7),\n",
       " ('Калиниград', 7),\n",
       " ('Еманжелинск', 7),\n",
       " ('Вытегра', 7),\n",
       " ('Медногорск', 7),\n",
       " ('Кубинка', 7),\n",
       " ('Жирновск', 7),\n",
       " ('Кушва', 7),\n",
       " ('д.', 7),\n",
       " ('Заинск', 7),\n",
       " ('Суздаль', 7),\n",
       " ('Дивногорск', 7),\n",
       " ('Салехард', 7),\n",
       " ('иваново', 7),\n",
       " ('Ростовской', 7),\n",
       " ('Сысерть', 7),\n",
       " ('Гусиноозерск', 7),\n",
       " ('Остров', 7),\n",
       " ('Углич', 7),\n",
       " ('Коммунар', 7),\n",
       " ('Красково', 7),\n",
       " ('Мыски', 7),\n",
       " ('Бавлы', 7),\n",
       " ('курган', 7),\n",
       " ('мытищи', 7),\n",
       " ('Амуре', 7),\n",
       " ('архангельск', 7),\n",
       " ('улан-удэ', 7),\n",
       " ('владимир', 7),\n",
       " ('миасс', 7),\n",
       " ('шахты', 7),\n",
       " ('ЕКАТЕРИНБУРГ', 7),\n",
       " ('Москве', 7),\n",
       " ('лобня', 7),\n",
       " ('южно-сахалинск', 7),\n",
       " ('г.Санкт-Петербург', 7),\n",
       " ('Новгородской', 7),\n",
       " ('новомосковск', 7),\n",
       " ('Владимирской', 7),\n",
       " ('Мурманской', 7),\n",
       " ('Знаменск', 6),\n",
       " ('Зима', 6),\n",
       " ('Новгородская', 6),\n",
       " ('Мелеуз', 6),\n",
       " ('Ковдор', 6),\n",
       " ('Усть-Кут', 6),\n",
       " ('Николаевск-на-Амуре', 6),\n",
       " ('Маркс', 6),\n",
       " ('сочи', 6),\n",
       " ('Елизово', 6),\n",
       " ('Нурлат', 6),\n",
       " ('Подольский', 6),\n",
       " ('Таштагол', 6),\n",
       " ('Торжок', 6),\n",
       " ('Одинцовский', 6),\n",
       " ('Камчатский', 6),\n",
       " ('Тамбовская', 6),\n",
       " ('р-на', 6),\n",
       " ('Нововоронеж', 6),\n",
       " ('Липецкая', 6),\n",
       " ('Вичуга', 6),\n",
       " ('Похвистнево', 6),\n",
       " ('Электрогорск', 6),\n",
       " ('Дедовск', 6),\n",
       " ('Окуловка', 6),\n",
       " ('Кинель-Черкассы', 6),\n",
       " ('Добрянка', 6),\n",
       " ('Семенов', 6),\n",
       " ('Оленегорск', 6),\n",
       " ('ЛО', 6),\n",
       " ('Сулин', 6),\n",
       " ('Тарко-Сале', 6),\n",
       " ('Коряжма', 6),\n",
       " ('Богородск', 6),\n",
       " ('Центр', 6),\n",
       " ('Талдом', 6),\n",
       " ('Шебекино', 6),\n",
       " ('Каневская', 6),\n",
       " ('Сосногорск', 6),\n",
       " ('Скопин', 6),\n",
       " ('Покров', 6),\n",
       " ('Московский', 6),\n",
       " ('Кинель', 6),\n",
       " ('Хакасия', 6),\n",
       " ('Буденновск', 6),\n",
       " ('Карпинск', 6),\n",
       " ('Грязи', 6),\n",
       " ('Красноуральск', 6),\n",
       " ('Украина', 6),\n",
       " ('Урай', 6),\n",
       " ('Юрьевец', 6),\n",
       " ('Можга', 6),\n",
       " ('Тура', 6),\n",
       " ('Донецк', 6),\n",
       " ('Чернушка', 6),\n",
       " ('Тверской', 6),\n",
       " ('Анжеро-Судженск', 6),\n",
       " ('Фокино', 6),\n",
       " ('Анадырь', 6),\n",
       " ('выкса', 6),\n",
       " ('ОБЛАСТЬ', 6),\n",
       " ('д', 6),\n",
       " ('Санкт-Петерубург', 6),\n",
       " ('стерлитамак', 6),\n",
       " ('Воронежской', 6),\n",
       " ('рп', 6),\n",
       " ('оренбург', 6),\n",
       " ('Тульской', 6),\n",
       " ('чита', 6),\n",
       " ('Н', 6),\n",
       " ('ПЕРМЬ', 6),\n",
       " ('Томской', 6),\n",
       " ('Пензенской', 6),\n",
       " ('химки', 6),\n",
       " ('пятигорск', 6),\n",
       " ('г.Ростов-на-Дону', 6),\n",
       " ('г.Зеленоград', 6),\n",
       " ('Иркутской', 6),\n",
       " ('Нолинск', 6),\n",
       " ('Талнах', 6),\n",
       " ('Петрбург', 6),\n",
       " ('Свободный', 5),\n",
       " ('Село', 5),\n",
       " ('Глушково', 5),\n",
       " ('Сходня', 5),\n",
       " ('РФ', 5),\n",
       " ('Донской', 5),\n",
       " ('Юсьва', 5),\n",
       " ('Яблоновский', 5),\n",
       " ('Бежецк', 5),\n",
       " ('Брюховецкая', 5),\n",
       " ('Никель', 5),\n",
       " ('Мариинск', 5),\n",
       " ('Валдай', 5),\n",
       " ('Борзя', 5),\n",
       " ('Белоярский', 5),\n",
       " ('Запрудня', 5),\n",
       " ('Всеволожский', 5),\n",
       " ('Удельная', 5),\n",
       " ('Кольчугино', 5),\n",
       " ('Камень-на-Оби', 5),\n",
       " ('Боровск', 5),\n",
       " ('тамбов', 5),\n",
       " ('Пыть-Ях', 5),\n",
       " ('Ипатово', 5),\n",
       " ('Ивановской', 5),\n",
       " ('Светлоград', 5),\n",
       " ('Ростов-на', 5),\n",
       " ('Бугуруслан', 5),\n",
       " ('Правдинский', 5),\n",
       " ('Ивангород', 5),\n",
       " ('королёв', 5),\n",
       " ('Заполярный', 5),\n",
       " ('Белоозерский', 5),\n",
       " ('п', 5),\n",
       " ('Каменка', 5),\n",
       " ('Киржач', 5),\n",
       " ('Полярный', 5),\n",
       " ('Запорожье', 5),\n",
       " ('Красноуфимск', 5),\n",
       " ('Власиха', 5),\n",
       " ('Рощино', 5),\n",
       " ('Верхний', 5),\n",
       " ('Уфалей', 5),\n",
       " ('Селятино', 5),\n",
       " ('автономный', 5),\n",
       " ('Пролетарск', 5),\n",
       " ('Отрадное', 5),\n",
       " ('Вуктыл', 5),\n",
       " ('Приморского', 5),\n",
       " ('Кяхта', 5),\n",
       " ('Жуковка', 5),\n",
       " ('Котово', 5),\n",
       " ('Трехгорный', 5),\n",
       " ('Кукмор', 5),\n",
       " ('Павловск', 5),\n",
       " ('щелково', 5),\n",
       " ('Ликино-Дулево', 5),\n",
       " ('Губкинский', 5),\n",
       " ('Вал', 5),\n",
       " ('Вельск', 5),\n",
       " ('Мордовия', 5),\n",
       " ('Белокуриха', 5),\n",
       " ('нефтекамск', 5),\n",
       " ('Лосино-Петровский', 5),\n",
       " ('Краснокамск', 5),\n",
       " ('Семилуки', 5),\n",
       " ('Стародуб', 5),\n",
       " ('Светогорск', 5),\n",
       " ('Вятские', 5),\n",
       " ('Поляны', 5),\n",
       " ('Самарской', 5),\n",
       " ('кимры', 5),\n",
       " ('сургут', 5),\n",
       " ('Моск.обл', 5),\n",
       " ('НОВОСИБИРСК', 5),\n",
       " ('КРАСНОЯРСК', 5),\n",
       " ('Кировской', 5),\n",
       " ('Котовск', 5),\n",
       " ('йошкар-ола', 5),\n",
       " ('смоленск', 5),\n",
       " ('Ессентукская', 5),\n",
       " ('уссурийск', 5),\n",
       " ('кострома', 5),\n",
       " ('люберцы', 5),\n",
       " ('железнодорожный', 5),\n",
       " ('РЯЗАНЬ', 5),\n",
       " ('нижневартовск', 5),\n",
       " ('Саратовской', 5),\n",
       " ('Санкт-Петерург', 5),\n",
       " ('городок', 5),\n",
       " ('Шушенское', 5),\n",
       " ('киров', 5),\n",
       " ('г.Пушкин', 5),\n",
       " ('Санкт-Петрбург', 5),\n",
       " ('ВОЛГОГРАД', 5),\n",
       " ('МСК', 5),\n",
       " ('королев', 5),\n",
       " ('видное', 5),\n",
       " ('Нейво-Рудянка', 5),\n",
       " ('г.Волжский', 5),\n",
       " ('Москва/МО', 5),\n",
       " ('Москв', 5),\n",
       " ('Городец', 5),\n",
       " ('г.Уфа', 5),\n",
       " ('Мосва', 5),\n",
       " ('Лен.обл', 5),\n",
       " ('Осинники', 4),\n",
       " ('г.Королев', 4),\n",
       " ('Борисоглеб', 4),\n",
       " ('Суровикино', 4),\n",
       " ('Болотное', 4),\n",
       " ('Шимановск', 4),\n",
       " ('Лучегорск', 4),\n",
       " ('Ямало-Ненецкий', 4),\n",
       " ('Вишневогорск', 4),\n",
       " ('Чувашская', 4),\n",
       " ('Онега', 4),\n",
       " ('Бирск', 4),\n",
       " ('Михайловск', 4),\n",
       " ('Львовский', 4),\n",
       " ('Облучье', 4),\n",
       " ('Байкальск', 4),\n",
       " ('Безенчук', 4),\n",
       " ('Казахстан', 4),\n",
       " ('Вилючинск', 4),\n",
       " ('Полярные', 4),\n",
       " ('Куйбышев', 4),\n",
       " ('Поляна', 4),\n",
       " ('Юрьев-Польский', 4),\n",
       " ('Жуков', 4),\n",
       " ('Родники', 4),\n",
       " ('Северный', 4),\n",
       " ('Кавказ', 4),\n",
       " ('Усмань', 4),\n",
       " ('Соль-Илецк', 4),\n",
       " ('Изобильный', 4),\n",
       " ('Дербент', 4),\n",
       " ('Дудинка', 4),\n",
       " ('Апшеронск', 4),\n",
       " ('Асино', 4),\n",
       " ('Бологое', 4),\n",
       " ('Янаул', 4),\n",
       " ('Нижнеудинск', 4),\n",
       " ('Краснодарского', 4),\n",
       " ('Устюг', 4),\n",
       " ('Одесса', 4),\n",
       " ('Фряново', 4),\n",
       " ('Зарайск', 4),\n",
       " ('Астана', 4),\n",
       " ('Курья', 4),\n",
       " ('Шумерля', 4),\n",
       " ('Лянтор', 4),\n",
       " ('Жердевка', 4),\n",
       " ('Беломорск', 4),\n",
       " ('Гусев', 4),\n",
       " ('Собинка', 4),\n",
       " ('Влг', 4),\n",
       " ('Лабытнанги', 4),\n",
       " ('Котельнич', 4),\n",
       " ('Бутурлиновка', 4),\n",
       " ('Суземка', 4),\n",
       " ('Котельниково', 4),\n",
       " ('Пионерский', 4),\n",
       " ('Белоусово', 4),\n",
       " ('Кущевская', 4),\n",
       " ('Звездный', 4),\n",
       " ('Городок', 4),\n",
       " ('Лесозаводск', 4),\n",
       " ('Гай', 4),\n",
       " ('Приозерск', 4),\n",
       " ('раменское', 4),\n",
       " ('Таиланд', 4),\n",
       " ('Лондон', 4),\n",
       " ('Ирбит', 4),\n",
       " ('Среднеуральск', 4),\n",
       " ('Морозовск', 4),\n",
       " ('Камешково', 4),\n",
       " ('Пойковский', 4),\n",
       " ('имени', 4),\n",
       " ('Венев', 4),\n",
       " ('Буздяк', 4),\n",
       " ...]"
      ]
     },
     "execution_count": 18,
     "metadata": {},
     "output_type": "execute_result"
    }
   ],
   "source": [
    "freq_dict_sorted"
   ]
  },
  {
   "cell_type": "code",
   "execution_count": 19,
   "metadata": {
    "colab": {
     "base_uri": "https://localhost:8080/"
    },
    "id": "UHdzR0wmWYdA",
    "outputId": "c31c6aba-c253-45c0-a355-addbc1a6a933"
   },
   "outputs": [
    {
     "data": {
      "text/plain": [
       "('Неизвестный', 15174)"
      ]
     },
     "execution_count": 19,
     "metadata": {},
     "output_type": "execute_result"
    }
   ],
   "source": [
    "freq_dict_sorted[2]"
   ]
  },
  {
   "cell_type": "markdown",
   "metadata": {
    "id": "iqSMMJuMWYdA"
   },
   "source": [
    "#### Второй более простой способ расчёта отзывов по городам и по банкам"
   ]
  },
  {
   "cell_type": "code",
   "execution_count": 20,
   "metadata": {
    "colab": {
     "base_uri": "https://localhost:8080/"
    },
    "id": "0izMIwCWWYdA",
    "outputId": "e7750841-aca9-4313-874e-477ae76ace84"
   },
   "outputs": [
    {
     "data": {
      "text/plain": [
       "г. Москва                                         55354\n",
       "Неизвестный                                       15174\n",
       "г. Санкт-Петербург                                14342\n",
       "г. Екатеринбург                                    2337\n",
       "г. Новосибирск                                     2300\n",
       "                                                  ...  \n",
       "г. ОРЁЛ                                               1\n",
       "г. Апатиты, (Мурманская область)                      1\n",
       "г. г. Заполярный Мурманская область (Мурманск)        1\n",
       "г. -                                                  1\n",
       "г. Москва (думаю там находится их справочная)         1\n",
       "Name: city, Length: 5824, dtype: int64"
      ]
     },
     "execution_count": 20,
     "metadata": {},
     "output_type": "execute_result"
    }
   ],
   "source": [
    "data_responses.city.value_counts()"
   ]
  },
  {
   "cell_type": "code",
   "execution_count": 21,
   "metadata": {
    "colab": {
     "base_uri": "https://localhost:8080/"
    },
    "id": "4bsVJsJYWYdB",
    "outputId": "bde3808e-e082-4cd4-ab0d-07819ba56a46"
   },
   "outputs": [
    {
     "data": {
      "text/plain": [
       "Сбербанк России                     26327\n",
       "Альфа-Банк                          10224\n",
       "ВТБ 24                               8185\n",
       "Русский Стандарт                     7943\n",
       "Хоум Кредит Банк                     7549\n",
       "                                    ...  \n",
       "Кошелев-Банк                            1\n",
       "Новокузнецкий Муниципальный Банк        1\n",
       "Современные Стандарты Бизнеса           1\n",
       "Красбанк                                1\n",
       "Донской Народный Банк                   1\n",
       "Name: bank_name, Length: 670, dtype: int64"
      ]
     },
     "execution_count": 21,
     "metadata": {},
     "output_type": "execute_result"
    }
   ],
   "source": [
    "data_responses.bank_name.value_counts()"
   ]
  },
  {
   "cell_type": "markdown",
   "metadata": {
    "id": "NHYaiQTfWYdB"
   },
   "source": [
    "#### 2 Постройте гистограмы длин слов в символах и в словах"
   ]
  },
  {
   "cell_type": "code",
   "execution_count": 18,
   "metadata": {
    "id": "b24uK-zsWYdB"
   },
   "outputs": [],
   "source": [
    "data_responses_3 = data_responses_2"
   ]
  },
  {
   "cell_type": "code",
   "execution_count": 23,
   "metadata": {
    "colab": {
     "base_uri": "https://localhost:8080/",
     "height": 336
    },
    "id": "m-zlMTHxWYdB",
    "outputId": "c5170e73-1a80-4684-bc97-62c6891a6524"
   },
   "outputs": [
    {
     "data": {
      "text/html": [
       "\n",
       "  <div id=\"df-077ba09f-b783-4f8c-a8c6-ce9271186cfb\">\n",
       "    <div class=\"colab-df-container\">\n",
       "      <div>\n",
       "<style scoped>\n",
       "    .dataframe tbody tr th:only-of-type {\n",
       "        vertical-align: middle;\n",
       "    }\n",
       "\n",
       "    .dataframe tbody tr th {\n",
       "        vertical-align: top;\n",
       "    }\n",
       "\n",
       "    .dataframe thead th {\n",
       "        text-align: right;\n",
       "    }\n",
       "</style>\n",
       "<table border=\"1\" class=\"dataframe\">\n",
       "  <thead>\n",
       "    <tr style=\"text-align: right;\">\n",
       "      <th></th>\n",
       "      <th>city</th>\n",
       "      <th>rating_not_checked</th>\n",
       "      <th>title</th>\n",
       "      <th>num_comments</th>\n",
       "      <th>bank_license</th>\n",
       "      <th>author</th>\n",
       "      <th>bank_name</th>\n",
       "      <th>datetime</th>\n",
       "      <th>text</th>\n",
       "      <th>rating_grade</th>\n",
       "    </tr>\n",
       "  </thead>\n",
       "  <tbody>\n",
       "    <tr>\n",
       "      <th>0</th>\n",
       "      <td>г. Москва</td>\n",
       "      <td>False</td>\n",
       "      <td>Жалоба</td>\n",
       "      <td>0</td>\n",
       "      <td>лицензия № 2562</td>\n",
       "      <td>uhnov1</td>\n",
       "      <td>Бинбанк</td>\n",
       "      <td>2015-06-08 12:50:54</td>\n",
       "      <td>Добрый день! Я не являюсь клиентом банка и пор...</td>\n",
       "      <td>0.0</td>\n",
       "    </tr>\n",
       "    <tr>\n",
       "      <th>1</th>\n",
       "      <td>г. Новосибирск</td>\n",
       "      <td>False</td>\n",
       "      <td>Не могу пользоваться услугой Сбербанк он-лайн</td>\n",
       "      <td>0</td>\n",
       "      <td>лицензия № 1481</td>\n",
       "      <td>Foryou</td>\n",
       "      <td>Сбербанк России</td>\n",
       "      <td>2015-06-08 11:09:57</td>\n",
       "      <td>Доброго дня! Являюсь держателем зарплатной кар...</td>\n",
       "      <td>0.0</td>\n",
       "    </tr>\n",
       "    <tr>\n",
       "      <th>2</th>\n",
       "      <td>г. Москва</td>\n",
       "      <td>False</td>\n",
       "      <td>Двойное списание за один товар.</td>\n",
       "      <td>1</td>\n",
       "      <td>лицензия № 2562</td>\n",
       "      <td>Vladimir84</td>\n",
       "      <td>Бинбанк</td>\n",
       "      <td>2015-06-05 20:14:28</td>\n",
       "      <td>Здравствуйте!  Дублирую свое заявление от 03.0...</td>\n",
       "      <td>0.0</td>\n",
       "    </tr>\n",
       "    <tr>\n",
       "      <th>3</th>\n",
       "      <td>г. Ставрополь</td>\n",
       "      <td>False</td>\n",
       "      <td>Меняют проценты комиссии  не предупредив и не ...</td>\n",
       "      <td>2</td>\n",
       "      <td>лицензия № 1481</td>\n",
       "      <td>643609</td>\n",
       "      <td>Сбербанк России</td>\n",
       "      <td>2015-06-05 13:51:01</td>\n",
       "      <td>Добрый день!! Я открыл расчетный счет в СберБа...</td>\n",
       "      <td>0.0</td>\n",
       "    </tr>\n",
       "    <tr>\n",
       "      <th>4</th>\n",
       "      <td>г. Челябинск</td>\n",
       "      <td>False</td>\n",
       "      <td>Верните денежные средства за страховку</td>\n",
       "      <td>1</td>\n",
       "      <td>лицензия № 2766</td>\n",
       "      <td>anfisa-2003</td>\n",
       "      <td>ОТП Банк</td>\n",
       "      <td>2015-06-05 10:58:12</td>\n",
       "      <td>04.03.2015 г. взяла кредит в вашем банке, заяв...</td>\n",
       "      <td>0.0</td>\n",
       "    </tr>\n",
       "  </tbody>\n",
       "</table>\n",
       "</div>\n",
       "      <button class=\"colab-df-convert\" onclick=\"convertToInteractive('df-077ba09f-b783-4f8c-a8c6-ce9271186cfb')\"\n",
       "              title=\"Convert this dataframe to an interactive table.\"\n",
       "              style=\"display:none;\">\n",
       "        \n",
       "  <svg xmlns=\"http://www.w3.org/2000/svg\" height=\"24px\"viewBox=\"0 0 24 24\"\n",
       "       width=\"24px\">\n",
       "    <path d=\"M0 0h24v24H0V0z\" fill=\"none\"/>\n",
       "    <path d=\"M18.56 5.44l.94 2.06.94-2.06 2.06-.94-2.06-.94-.94-2.06-.94 2.06-2.06.94zm-11 1L8.5 8.5l.94-2.06 2.06-.94-2.06-.94L8.5 2.5l-.94 2.06-2.06.94zm10 10l.94 2.06.94-2.06 2.06-.94-2.06-.94-.94-2.06-.94 2.06-2.06.94z\"/><path d=\"M17.41 7.96l-1.37-1.37c-.4-.4-.92-.59-1.43-.59-.52 0-1.04.2-1.43.59L10.3 9.45l-7.72 7.72c-.78.78-.78 2.05 0 2.83L4 21.41c.39.39.9.59 1.41.59.51 0 1.02-.2 1.41-.59l7.78-7.78 2.81-2.81c.8-.78.8-2.07 0-2.86zM5.41 20L4 18.59l7.72-7.72 1.47 1.35L5.41 20z\"/>\n",
       "  </svg>\n",
       "      </button>\n",
       "      \n",
       "  <style>\n",
       "    .colab-df-container {\n",
       "      display:flex;\n",
       "      flex-wrap:wrap;\n",
       "      gap: 12px;\n",
       "    }\n",
       "\n",
       "    .colab-df-convert {\n",
       "      background-color: #E8F0FE;\n",
       "      border: none;\n",
       "      border-radius: 50%;\n",
       "      cursor: pointer;\n",
       "      display: none;\n",
       "      fill: #1967D2;\n",
       "      height: 32px;\n",
       "      padding: 0 0 0 0;\n",
       "      width: 32px;\n",
       "    }\n",
       "\n",
       "    .colab-df-convert:hover {\n",
       "      background-color: #E2EBFA;\n",
       "      box-shadow: 0px 1px 2px rgba(60, 64, 67, 0.3), 0px 1px 3px 1px rgba(60, 64, 67, 0.15);\n",
       "      fill: #174EA6;\n",
       "    }\n",
       "\n",
       "    [theme=dark] .colab-df-convert {\n",
       "      background-color: #3B4455;\n",
       "      fill: #D2E3FC;\n",
       "    }\n",
       "\n",
       "    [theme=dark] .colab-df-convert:hover {\n",
       "      background-color: #434B5C;\n",
       "      box-shadow: 0px 1px 3px 1px rgba(0, 0, 0, 0.15);\n",
       "      filter: drop-shadow(0px 1px 2px rgba(0, 0, 0, 0.3));\n",
       "      fill: #FFFFFF;\n",
       "    }\n",
       "  </style>\n",
       "\n",
       "      <script>\n",
       "        const buttonEl =\n",
       "          document.querySelector('#df-077ba09f-b783-4f8c-a8c6-ce9271186cfb button.colab-df-convert');\n",
       "        buttonEl.style.display =\n",
       "          google.colab.kernel.accessAllowed ? 'block' : 'none';\n",
       "\n",
       "        async function convertToInteractive(key) {\n",
       "          const element = document.querySelector('#df-077ba09f-b783-4f8c-a8c6-ce9271186cfb');\n",
       "          const dataTable =\n",
       "            await google.colab.kernel.invokeFunction('convertToInteractive',\n",
       "                                                     [key], {});\n",
       "          if (!dataTable) return;\n",
       "\n",
       "          const docLinkHtml = 'Like what you see? Visit the ' +\n",
       "            '<a target=\"_blank\" href=https://colab.research.google.com/notebooks/data_table.ipynb>data table notebook</a>'\n",
       "            + ' to learn more about interactive tables.';\n",
       "          element.innerHTML = '';\n",
       "          dataTable['output_type'] = 'display_data';\n",
       "          await google.colab.output.renderOutput(dataTable, element);\n",
       "          const docLink = document.createElement('div');\n",
       "          docLink.innerHTML = docLinkHtml;\n",
       "          element.appendChild(docLink);\n",
       "        }\n",
       "      </script>\n",
       "    </div>\n",
       "  </div>\n",
       "  "
      ],
      "text/plain": [
       "             city  ...  rating_grade\n",
       "0       г. Москва  ...           0.0\n",
       "1  г. Новосибирск  ...           0.0\n",
       "2       г. Москва  ...           0.0\n",
       "3   г. Ставрополь  ...           0.0\n",
       "4    г. Челябинск  ...           0.0\n",
       "\n",
       "[5 rows x 10 columns]"
      ]
     },
     "execution_count": 23,
     "metadata": {},
     "output_type": "execute_result"
    }
   ],
   "source": [
    "data_responses_3.head()"
   ]
  },
  {
   "cell_type": "code",
   "execution_count": 16,
   "metadata": {
    "id": "bdwSSGpyWYdC"
   },
   "outputs": [],
   "source": [
    "from nltk.tokenize import word_tokenize"
   ]
  },
  {
   "cell_type": "code",
   "execution_count": 25,
   "metadata": {
    "colab": {
     "base_uri": "https://localhost:8080/"
    },
    "id": "ZdKymQ4chcce",
    "outputId": "2c0a76e6-e919-42d6-adfa-096a1f931273"
   },
   "outputs": [
    {
     "name": "stderr",
     "output_type": "stream",
     "text": [
      "/usr/local/lib/python3.7/dist-packages/ipykernel_launcher.py:4: SettingWithCopyWarning: \n",
      "A value is trying to be set on a copy of a slice from a DataFrame\n",
      "\n",
      "See the caveats in the documentation: https://pandas.pydata.org/pandas-docs/stable/user_guide/indexing.html#returning-a-view-versus-a-copy\n",
      "  after removing the cwd from sys.path.\n",
      "/usr/local/lib/python3.7/dist-packages/ipykernel_launcher.py:5: SettingWithCopyWarning: \n",
      "A value is trying to be set on a copy of a slice from a DataFrame\n",
      "\n",
      "See the caveats in the documentation: https://pandas.pydata.org/pandas-docs/stable/user_guide/indexing.html#returning-a-view-versus-a-copy\n",
      "  \"\"\"\n"
     ]
    }
   ],
   "source": [
    "data_responses_3['len_chars'] = 0\n",
    "data_responses_3['len_words'] = 0\n",
    "for i, each_response in enumerate(data_responses_3.text):\n",
    "  data_responses_3['len_chars'][i] = len(each_response)\n",
    "  data_responses_3['len_words'][i] = len(word_tokenize(each_response))"
   ]
  },
  {
   "cell_type": "code",
   "execution_count": 26,
   "metadata": {
    "colab": {
     "base_uri": "https://localhost:8080/",
     "height": 424
    },
    "id": "NgCaDODthcpK",
    "outputId": "fd02b6d2-5a06-4414-beee-ba2fbcf4c8e7"
   },
   "outputs": [
    {
     "data": {
      "text/html": [
       "\n",
       "  <div id=\"df-23753863-bd64-4701-9f06-38794b6289ad\">\n",
       "    <div class=\"colab-df-container\">\n",
       "      <div>\n",
       "<style scoped>\n",
       "    .dataframe tbody tr th:only-of-type {\n",
       "        vertical-align: middle;\n",
       "    }\n",
       "\n",
       "    .dataframe tbody tr th {\n",
       "        vertical-align: top;\n",
       "    }\n",
       "\n",
       "    .dataframe thead th {\n",
       "        text-align: right;\n",
       "    }\n",
       "</style>\n",
       "<table border=\"1\" class=\"dataframe\">\n",
       "  <thead>\n",
       "    <tr style=\"text-align: right;\">\n",
       "      <th></th>\n",
       "      <th>city</th>\n",
       "      <th>text</th>\n",
       "      <th>len_chars</th>\n",
       "      <th>len_words</th>\n",
       "    </tr>\n",
       "  </thead>\n",
       "  <tbody>\n",
       "    <tr>\n",
       "      <th>153116</th>\n",
       "      <td>Неизвестный</td>\n",
       "      <td>http://www.dp.ru/publication/2005-06-24/81877</td>\n",
       "      <td>45</td>\n",
       "      <td>3</td>\n",
       "    </tr>\n",
       "    <tr>\n",
       "      <th>151714</th>\n",
       "      <td>Неизвестный</td>\n",
       "      <td>Банк больше не работает с обменниками..</td>\n",
       "      <td>39</td>\n",
       "      <td>6</td>\n",
       "    </tr>\n",
       "    <tr>\n",
       "      <th>153286</th>\n",
       "      <td>Неизвестный</td>\n",
       "      <td>Охранники у банка слишком злые.</td>\n",
       "      <td>31</td>\n",
       "      <td>6</td>\n",
       "    </tr>\n",
       "    <tr>\n",
       "      <th>138228</th>\n",
       "      <td>г. Челябинск</td>\n",
       "      <td>Вот, собственно, и всё.</td>\n",
       "      <td>23</td>\n",
       "      <td>7</td>\n",
       "    </tr>\n",
       "    <tr>\n",
       "      <th>152261</th>\n",
       "      <td>Неизвестный</td>\n",
       "      <td>Быстро получил 150.000 без каких-либо проблем.</td>\n",
       "      <td>46</td>\n",
       "      <td>7</td>\n",
       "    </tr>\n",
       "    <tr>\n",
       "      <th>...</th>\n",
       "      <td>...</td>\n",
       "      <td>...</td>\n",
       "      <td>...</td>\n",
       "      <td>...</td>\n",
       "    </tr>\n",
       "    <tr>\n",
       "      <th>26023</th>\n",
       "      <td>г. Москва</td>\n",
       "      <td>Как и обещал в своем предыдущем отзыве от 29 о...</td>\n",
       "      <td>27364</td>\n",
       "      <td>4561</td>\n",
       "    </tr>\n",
       "    <tr>\n",
       "      <th>86611</th>\n",
       "      <td>г. Москва</td>\n",
       "      <td>История за 10 лет... Напишу кратко (это действ...</td>\n",
       "      <td>24604</td>\n",
       "      <td>4786</td>\n",
       "    </tr>\n",
       "    <tr>\n",
       "      <th>38104</th>\n",
       "      <td>г. Москва</td>\n",
       "      <td>Введение оно же вывод. Данный отзыв содержит к...</td>\n",
       "      <td>27220</td>\n",
       "      <td>5042</td>\n",
       "    </tr>\n",
       "    <tr>\n",
       "      <th>118257</th>\n",
       "      <td>г. Москва</td>\n",
       "      <td>Весь пост (крайне объёмный) опубликован мной в...</td>\n",
       "      <td>29679</td>\n",
       "      <td>5243</td>\n",
       "    </tr>\n",
       "    <tr>\n",
       "      <th>49155</th>\n",
       "      <td>г. Сафоново</td>\n",
       "      <td>Доброго времени суток. Я, Ливанцов Денис Анато...</td>\n",
       "      <td>32082</td>\n",
       "      <td>5908</td>\n",
       "    </tr>\n",
       "  </tbody>\n",
       "</table>\n",
       "<p>153499 rows × 4 columns</p>\n",
       "</div>\n",
       "      <button class=\"colab-df-convert\" onclick=\"convertToInteractive('df-23753863-bd64-4701-9f06-38794b6289ad')\"\n",
       "              title=\"Convert this dataframe to an interactive table.\"\n",
       "              style=\"display:none;\">\n",
       "        \n",
       "  <svg xmlns=\"http://www.w3.org/2000/svg\" height=\"24px\"viewBox=\"0 0 24 24\"\n",
       "       width=\"24px\">\n",
       "    <path d=\"M0 0h24v24H0V0z\" fill=\"none\"/>\n",
       "    <path d=\"M18.56 5.44l.94 2.06.94-2.06 2.06-.94-2.06-.94-.94-2.06-.94 2.06-2.06.94zm-11 1L8.5 8.5l.94-2.06 2.06-.94-2.06-.94L8.5 2.5l-.94 2.06-2.06.94zm10 10l.94 2.06.94-2.06 2.06-.94-2.06-.94-.94-2.06-.94 2.06-2.06.94z\"/><path d=\"M17.41 7.96l-1.37-1.37c-.4-.4-.92-.59-1.43-.59-.52 0-1.04.2-1.43.59L10.3 9.45l-7.72 7.72c-.78.78-.78 2.05 0 2.83L4 21.41c.39.39.9.59 1.41.59.51 0 1.02-.2 1.41-.59l7.78-7.78 2.81-2.81c.8-.78.8-2.07 0-2.86zM5.41 20L4 18.59l7.72-7.72 1.47 1.35L5.41 20z\"/>\n",
       "  </svg>\n",
       "      </button>\n",
       "      \n",
       "  <style>\n",
       "    .colab-df-container {\n",
       "      display:flex;\n",
       "      flex-wrap:wrap;\n",
       "      gap: 12px;\n",
       "    }\n",
       "\n",
       "    .colab-df-convert {\n",
       "      background-color: #E8F0FE;\n",
       "      border: none;\n",
       "      border-radius: 50%;\n",
       "      cursor: pointer;\n",
       "      display: none;\n",
       "      fill: #1967D2;\n",
       "      height: 32px;\n",
       "      padding: 0 0 0 0;\n",
       "      width: 32px;\n",
       "    }\n",
       "\n",
       "    .colab-df-convert:hover {\n",
       "      background-color: #E2EBFA;\n",
       "      box-shadow: 0px 1px 2px rgba(60, 64, 67, 0.3), 0px 1px 3px 1px rgba(60, 64, 67, 0.15);\n",
       "      fill: #174EA6;\n",
       "    }\n",
       "\n",
       "    [theme=dark] .colab-df-convert {\n",
       "      background-color: #3B4455;\n",
       "      fill: #D2E3FC;\n",
       "    }\n",
       "\n",
       "    [theme=dark] .colab-df-convert:hover {\n",
       "      background-color: #434B5C;\n",
       "      box-shadow: 0px 1px 3px 1px rgba(0, 0, 0, 0.15);\n",
       "      filter: drop-shadow(0px 1px 2px rgba(0, 0, 0, 0.3));\n",
       "      fill: #FFFFFF;\n",
       "    }\n",
       "  </style>\n",
       "\n",
       "      <script>\n",
       "        const buttonEl =\n",
       "          document.querySelector('#df-23753863-bd64-4701-9f06-38794b6289ad button.colab-df-convert');\n",
       "        buttonEl.style.display =\n",
       "          google.colab.kernel.accessAllowed ? 'block' : 'none';\n",
       "\n",
       "        async function convertToInteractive(key) {\n",
       "          const element = document.querySelector('#df-23753863-bd64-4701-9f06-38794b6289ad');\n",
       "          const dataTable =\n",
       "            await google.colab.kernel.invokeFunction('convertToInteractive',\n",
       "                                                     [key], {});\n",
       "          if (!dataTable) return;\n",
       "\n",
       "          const docLinkHtml = 'Like what you see? Visit the ' +\n",
       "            '<a target=\"_blank\" href=https://colab.research.google.com/notebooks/data_table.ipynb>data table notebook</a>'\n",
       "            + ' to learn more about interactive tables.';\n",
       "          element.innerHTML = '';\n",
       "          dataTable['output_type'] = 'display_data';\n",
       "          await google.colab.output.renderOutput(dataTable, element);\n",
       "          const docLink = document.createElement('div');\n",
       "          docLink.innerHTML = docLinkHtml;\n",
       "          element.appendChild(docLink);\n",
       "        }\n",
       "      </script>\n",
       "    </div>\n",
       "  </div>\n",
       "  "
      ],
      "text/plain": [
       "                city  ... len_words\n",
       "153116   Неизвестный  ...         3\n",
       "151714   Неизвестный  ...         6\n",
       "153286   Неизвестный  ...         6\n",
       "138228  г. Челябинск  ...         7\n",
       "152261   Неизвестный  ...         7\n",
       "...              ...  ...       ...\n",
       "26023      г. Москва  ...      4561\n",
       "86611      г. Москва  ...      4786\n",
       "38104      г. Москва  ...      5042\n",
       "118257     г. Москва  ...      5243\n",
       "49155    г. Сафоново  ...      5908\n",
       "\n",
       "[153499 rows x 4 columns]"
      ]
     },
     "execution_count": 26,
     "metadata": {},
     "output_type": "execute_result"
    }
   ],
   "source": [
    "data_responses_3[['city', 'text', 'len_chars', 'len_words']].sort_values(by='len_words')"
   ]
  },
  {
   "cell_type": "markdown",
   "metadata": {
    "id": "F9lLJt1UWYdD"
   },
   "source": [
    "#### 3 Найдите 10 самых частых:\n",
    "- слов\n",
    "- слов без стоп-слов\n",
    "- лемм\n",
    "- существительных"
   ]
  },
  {
   "cell_type": "markdown",
   "metadata": {
    "id": "9Eh9J38kpZF1"
   },
   "source": [
    "Ради интереса выявим самые частоиспользуемые символы"
   ]
  },
  {
   "cell_type": "code",
   "execution_count": 19,
   "metadata": {
    "colab": {
     "base_uri": "https://localhost:8080/",
     "height": 171
    },
    "id": "gHYcUw7EWYdB",
    "outputId": "38fb1621-0464-4b88-e002-b322b77ac39f"
   },
   "outputs": [],
   "source": [
    "chars = [each_char for each_response in data_responses_3.text for each_char in each_response.strip().lower()]"
   ]
  },
  {
   "cell_type": "code",
   "execution_count": 20,
   "metadata": {
    "colab": {
     "base_uri": "https://localhost:8080/",
     "height": 171
    },
    "id": "hjPbp02kWYdB",
    "outputId": "19ec772e-d96c-48b8-e683-baefca9c1d95"
   },
   "outputs": [
    {
     "data": {
      "text/plain": [
       "['д', 'о', 'б', 'р', 'ы']"
      ]
     },
     "execution_count": 20,
     "metadata": {},
     "output_type": "execute_result"
    }
   ],
   "source": [
    "chars[:5]"
   ]
  },
  {
   "cell_type": "code",
   "execution_count": 21,
   "metadata": {
    "id": "li0vaUgKWYdC"
   },
   "outputs": [],
   "source": [
    "freq_chars = nltk.FreqDist(chars)"
   ]
  },
  {
   "cell_type": "code",
   "execution_count": 22,
   "metadata": {
    "id": "4DeWAB7QWYdC"
   },
   "outputs": [
    {
     "data": {
      "text/plain": [
       "[(' ', 36599529),\n",
       " ('о', 20228699),\n",
       " ('е', 16339230),\n",
       " ('а', 15999296),\n",
       " ('н', 13505239),\n",
       " ('и', 12827830),\n",
       " ('т', 12748087),\n",
       " ('с', 9453519),\n",
       " ('р', 8753062),\n",
       " ('л', 7922451)]"
      ]
     },
     "execution_count": 22,
     "metadata": {},
     "output_type": "execute_result"
    }
   ],
   "source": [
    "freq_chars.most_common()[:10]"
   ]
  },
  {
   "cell_type": "markdown",
   "metadata": {
    "id": "kDJXbuCeqAtF"
   },
   "source": [
    "Самые частовстречающиеся слова топ-10"
   ]
  },
  {
   "cell_type": "code",
   "execution_count": 23,
   "metadata": {
    "id": "g6A-kYaWWYdC"
   },
   "outputs": [],
   "source": [
    "words = []\n",
    "for each_response in data_responses_3.text:\n",
    "  words.append(each_response.lower())\n",
    "words_str = ''.join(words)"
   ]
  },
  {
   "cell_type": "code",
   "execution_count": 24,
   "metadata": {
    "id": "ogXWLh5lazVt"
   },
   "outputs": [],
   "source": [
    "words_token = word_tokenize(words_str) "
   ]
  },
  {
   "cell_type": "code",
   "execution_count": 25,
   "metadata": {
    "id": "arnUwcLbWYdC"
   },
   "outputs": [
    {
     "data": {
      "text/plain": [
       "['добрый', 'день', '!', 'я', 'не']"
      ]
     },
     "execution_count": 25,
     "metadata": {},
     "output_type": "execute_result"
    }
   ],
   "source": [
    "words_token[:5]"
   ]
  },
  {
   "cell_type": "code",
   "execution_count": 26,
   "metadata": {
    "id": "2WBP8eEnWYdD"
   },
   "outputs": [],
   "source": [
    "freq_word = nltk.FreqDist(words_token)"
   ]
  },
  {
   "cell_type": "code",
   "execution_count": 27,
   "metadata": {
    "id": "AJtKfQq7WYdD"
   },
   "outputs": [
    {
     "data": {
      "text/plain": [
       "[(',', 3348588),\n",
       " ('.', 2026121),\n",
       " ('в', 1315951),\n",
       " ('и', 1054301),\n",
       " ('не', 850619),\n",
       " ('на', 703279),\n",
       " ('что', 621603),\n",
       " ('я', 569537),\n",
       " ('с', 453473),\n",
       " ('по', 364744)]"
      ]
     },
     "execution_count": 27,
     "metadata": {},
     "output_type": "execute_result"
    }
   ],
   "source": [
    "freq_word.most_common()[:10]"
   ]
  },
  {
   "cell_type": "markdown",
   "metadata": {
    "id": "lDjmSyp3qned"
   },
   "source": [
    "Самые частовстречающиеся слов без стоп-слов топ-10"
   ]
  },
  {
   "cell_type": "code",
   "execution_count": 28,
   "metadata": {
    "id": "KHSsg4_iWYdE"
   },
   "outputs": [
    {
     "name": "stderr",
     "output_type": "stream",
     "text": [
      "[nltk_data] Downloading package stopwords to C:\\nltk_data...\n",
      "[nltk_data]   Package stopwords is already up-to-date!\n"
     ]
    },
    {
     "data": {
      "text/plain": [
       "True"
      ]
     },
     "execution_count": 28,
     "metadata": {},
     "output_type": "execute_result"
    }
   ],
   "source": [
    "import nltk\n",
    "nltk.download('stopwords')"
   ]
  },
  {
   "cell_type": "code",
   "execution_count": 29,
   "metadata": {
    "id": "f6cRZ7O8WYdE"
   },
   "outputs": [
    {
     "name": "stdout",
     "output_type": "stream",
     "text": [
      "['и', 'в', 'во', 'не', 'что', 'он', 'на', 'я', 'с', 'со', 'как', 'а', 'то', 'все', 'она', 'так', 'его', 'но', 'да', 'ты', 'к', 'у', 'же', 'вы', 'за', 'бы', 'по', 'только', 'ее', 'мне', 'было', 'вот', 'от', 'меня', 'еще', 'нет', 'о', 'из', 'ему', 'теперь', 'когда', 'даже', 'ну', 'вдруг', 'ли', 'если', 'уже', 'или', 'ни', 'быть', 'был', 'него', 'до', 'вас', 'нибудь', 'опять', 'уж', 'вам', 'ведь', 'там', 'потом', 'себя', 'ничего', 'ей', 'может', 'они', 'тут', 'где', 'есть', 'надо', 'ней', 'для', 'мы', 'тебя', 'их', 'чем', 'была', 'сам', 'чтоб', 'без', 'будто', 'чего', 'раз', 'тоже', 'себе', 'под', 'будет', 'ж', 'тогда', 'кто', 'этот', 'того', 'потому', 'этого', 'какой', 'совсем', 'ним', 'здесь', 'этом', 'один', 'почти', 'мой', 'тем', 'чтобы', 'нее', 'сейчас', 'были', 'куда', 'зачем', 'всех', 'никогда', 'можно', 'при', 'наконец', 'два', 'об', 'другой', 'хоть', 'после', 'над', 'больше', 'тот', 'через', 'эти', 'нас', 'про', 'всего', 'них', 'какая', 'много', 'разве', 'три', 'эту', 'моя', 'впрочем', 'хорошо', 'свою', 'этой', 'перед', 'иногда', 'лучше', 'чуть', 'том', 'нельзя', 'такой', 'им', 'более', 'всегда', 'конечно', 'всю', 'между']\n"
     ]
    }
   ],
   "source": [
    "from nltk.corpus import stopwords\n",
    "print(stopwords.words('russian'))"
   ]
  },
  {
   "cell_type": "code",
   "execution_count": 30,
   "metadata": {
    "id": "Lq12fpVTWYdE"
   },
   "outputs": [
    {
     "data": {
      "text/plain": [
       "'!\"#$%&\\'()*+,-./:;<=>?@[\\\\]^_`{|}~'"
      ]
     },
     "execution_count": 30,
     "metadata": {},
     "output_type": "execute_result"
    }
   ],
   "source": [
    "punctuation"
   ]
  },
  {
   "cell_type": "code",
   "execution_count": 31,
   "metadata": {
    "id": "Cu9x8IlBWYdE"
   },
   "outputs": [],
   "source": [
    "noise = stopwords.words('russian') + list(punctuation)"
   ]
  },
  {
   "cell_type": "code",
   "execution_count": 32,
   "metadata": {
    "id": "3xekapZSqrph"
   },
   "outputs": [
    {
     "ename": "KeyboardInterrupt",
     "evalue": "",
     "output_type": "error",
     "traceback": [
      "\u001b[1;31m---------------------------------------------------------------------------\u001b[0m",
      "\u001b[1;31mKeyboardInterrupt\u001b[0m                         Traceback (most recent call last)",
      "\u001b[1;32m<ipython-input-32-7f9fec176c95>\u001b[0m in \u001b[0;36m<module>\u001b[1;34m\u001b[0m\n\u001b[0;32m      2\u001b[0m \u001b[1;32mfor\u001b[0m \u001b[0mi\u001b[0m\u001b[1;33m,\u001b[0m \u001b[0melem\u001b[0m \u001b[1;32min\u001b[0m \u001b[0menumerate\u001b[0m\u001b[1;33m(\u001b[0m\u001b[0mwords_token_no_stopwords\u001b[0m\u001b[1;33m)\u001b[0m\u001b[1;33m:\u001b[0m\u001b[1;33m\u001b[0m\u001b[1;33m\u001b[0m\u001b[0m\n\u001b[0;32m      3\u001b[0m   \u001b[1;32mif\u001b[0m \u001b[0melem\u001b[0m \u001b[1;32min\u001b[0m \u001b[0mnoise\u001b[0m\u001b[1;33m:\u001b[0m\u001b[1;33m\u001b[0m\u001b[1;33m\u001b[0m\u001b[0m\n\u001b[1;32m----> 4\u001b[1;33m     \u001b[0mwords_token_no_stopwords\u001b[0m\u001b[1;33m.\u001b[0m\u001b[0mpop\u001b[0m\u001b[1;33m(\u001b[0m\u001b[0mi\u001b[0m\u001b[1;33m)\u001b[0m\u001b[1;33m\u001b[0m\u001b[1;33m\u001b[0m\u001b[0m\n\u001b[0m",
      "\u001b[1;31mKeyboardInterrupt\u001b[0m: "
     ]
    }
   ],
   "source": [
    "words_token_no_stopwords = words_token\n",
    "for i, elem in enumerate(words_token_no_stopwords):\n",
    "  if elem in noise:\n",
    "    words_token_no_stopwords.pop(i)"
   ]
  },
  {
   "cell_type": "markdown",
   "metadata": {
    "id": "9sp7IDqEB32p"
   },
   "source": [
    "Уберём знаки пунктуации, которые являются повторением тех, которые есть в punctuation, но не удалились"
   ]
  },
  {
   "cell_type": "code",
   "execution_count": 33,
   "metadata": {
    "id": "8m5pFHW-64hY"
   },
   "outputs": [
    {
     "ename": "KeyboardInterrupt",
     "evalue": "",
     "output_type": "error",
     "traceback": [
      "\u001b[1;31m---------------------------------------------------------------------------\u001b[0m",
      "\u001b[1;31mKeyboardInterrupt\u001b[0m                         Traceback (most recent call last)",
      "\u001b[1;32m<ipython-input-33-157a6adcd45a>\u001b[0m in \u001b[0;36m<module>\u001b[1;34m\u001b[0m\n\u001b[0;32m      1\u001b[0m \u001b[1;32mwhile\u001b[0m \u001b[1;34m\"...\"\u001b[0m \u001b[1;32min\u001b[0m \u001b[0mwords_token_no_stopwords\u001b[0m\u001b[1;33m:\u001b[0m\u001b[1;33m\u001b[0m\u001b[1;33m\u001b[0m\u001b[0m\n\u001b[1;32m----> 2\u001b[1;33m   \u001b[0mwords_token_no_stopwords\u001b[0m\u001b[1;33m.\u001b[0m\u001b[0mremove\u001b[0m\u001b[1;33m(\u001b[0m\u001b[1;34m\"...\"\u001b[0m\u001b[1;33m)\u001b[0m\u001b[1;33m\u001b[0m\u001b[1;33m\u001b[0m\u001b[0m\n\u001b[0m\u001b[0;32m      3\u001b[0m \u001b[1;32mwhile\u001b[0m  \u001b[1;34m\"''\"\u001b[0m \u001b[1;32min\u001b[0m \u001b[0mwords_token_no_stopwords\u001b[0m\u001b[1;33m:\u001b[0m\u001b[1;33m\u001b[0m\u001b[1;33m\u001b[0m\u001b[0m\n\u001b[0;32m      4\u001b[0m   \u001b[0mwords_token_no_stopwords\u001b[0m\u001b[1;33m.\u001b[0m\u001b[0mremove\u001b[0m\u001b[1;33m(\u001b[0m\u001b[1;34m\"''\"\u001b[0m\u001b[1;33m)\u001b[0m\u001b[1;33m\u001b[0m\u001b[1;33m\u001b[0m\u001b[0m\n\u001b[0;32m      5\u001b[0m \u001b[1;32mwhile\u001b[0m \u001b[1;34m\"``\"\u001b[0m \u001b[1;32min\u001b[0m \u001b[0mwords_token_no_stopwords\u001b[0m\u001b[1;33m:\u001b[0m\u001b[1;33m\u001b[0m\u001b[1;33m\u001b[0m\u001b[0m\n",
      "\u001b[1;31mKeyboardInterrupt\u001b[0m: "
     ]
    }
   ],
   "source": [
    "while \"...\" in words_token_no_stopwords: \n",
    "  words_token_no_stopwords.remove(\"...\")\n",
    "while  \"''\" in words_token_no_stopwords: \n",
    "  words_token_no_stopwords.remove(\"''\")\n",
    "while \"``\" in words_token_no_stopwords: \n",
    "  words_token_no_stopwords.remove(\"``\")"
   ]
  },
  {
   "cell_type": "code",
   "execution_count": 37,
   "metadata": {
    "id": "5biLx8PtHPTC"
   },
   "outputs": [
    {
     "data": {
      "text/plain": [
       "['добрый',\n",
       " 'день',\n",
       " 'я',\n",
       " 'являюсь',\n",
       " 'клиентом',\n",
       " 'банка',\n",
       " 'поручителем',\n",
       " 'кредитному',\n",
       " 'договору',\n",
       " 'а']"
      ]
     },
     "execution_count": 37,
     "metadata": {},
     "output_type": "execute_result"
    }
   ],
   "source": [
    "words_token_no_stopwords[:10]"
   ]
  },
  {
   "cell_type": "code",
   "execution_count": 38,
   "metadata": {
    "id": "jFOI1dnV1TOh"
   },
   "outputs": [],
   "source": [
    "freq_word_nostop = nltk.FreqDist(words_token_no_stopwords)"
   ]
  },
  {
   "cell_type": "code",
   "execution_count": 39,
   "metadata": {
    "id": "JmW3KdzS1nRG"
   },
   "outputs": [
    {
     "data": {
      "text/plain": [
       "[(',', 3342082),\n",
       " ('.', 2022112),\n",
       " ('в', 1313676),\n",
       " ('и', 1052494),\n",
       " ('не', 849223),\n",
       " ('на', 702001),\n",
       " ('что', 621241),\n",
       " ('я', 568798),\n",
       " ('с', 452532),\n",
       " ('по', 363966)]"
      ]
     },
     "execution_count": 39,
     "metadata": {},
     "output_type": "execute_result"
    }
   ],
   "source": [
    "freq_word_nostop.most_common()[:10]"
   ]
  },
  {
   "cell_type": "markdown",
   "metadata": {
    "id": "4VLsrzHMqp9N"
   },
   "source": [
    "Самые частовстречающиеся лемм топ-10\n"
   ]
  },
  {
   "cell_type": "code",
   "execution_count": 34,
   "metadata": {
    "id": "MaiqLitWEoiQ"
   },
   "outputs": [
    {
     "name": "stdout",
     "output_type": "stream",
     "text": [
      "Requirement already satisfied: pymorphy2 in c:\\users\\first\\anaconda3\\lib\\site-packages (0.9.1)\n",
      "Requirement already satisfied: docopt>=0.6 in c:\\users\\first\\anaconda3\\lib\\site-packages (from pymorphy2) (0.6.2)\n",
      "Requirement already satisfied: pymorphy2-dicts-ru<3.0,>=2.4 in c:\\users\\first\\anaconda3\\lib\\site-packages (from pymorphy2) (2.4.417127.4579844)\n",
      "Requirement already satisfied: dawg-python>=0.7.1 in c:\\users\\first\\anaconda3\\lib\\site-packages (from pymorphy2) (0.7.2)\n"
     ]
    }
   ],
   "source": [
    "!pip install pymorphy2"
   ]
  },
  {
   "cell_type": "code",
   "execution_count": 35,
   "metadata": {
    "id": "XTsAu1glEUeJ"
   },
   "outputs": [],
   "source": [
    "from pymorphy2 import MorphAnalyzer\n",
    "pymorphy2_analyzer = MorphAnalyzer()"
   ]
  },
  {
   "cell_type": "code",
   "execution_count": 44,
   "metadata": {},
   "outputs": [
    {
     "data": {
      "text/plain": [
       "43758199"
      ]
     },
     "execution_count": 44,
     "metadata": {},
     "output_type": "execute_result"
    }
   ],
   "source": [
    "len(words_token_no_stopwords)"
   ]
  },
  {
   "cell_type": "code",
   "execution_count": 36,
   "metadata": {
    "id": "L6PjmHpRCbLJ"
   },
   "outputs": [],
   "source": [
    "words_token_lemma = words_token_no_stopwords"
   ]
  },
  {
   "cell_type": "code",
   "execution_count": 40,
   "metadata": {
    "id": "CAznXbFjE5pi"
   },
   "outputs": [
    {
     "ename": "KeyboardInterrupt",
     "evalue": "",
     "output_type": "error",
     "traceback": [
      "\u001b[1;31m---------------------------------------------------------------------------\u001b[0m",
      "\u001b[1;31mKeyboardInterrupt\u001b[0m                         Traceback (most recent call last)",
      "\u001b[1;32m<ipython-input-40-738914f35295>\u001b[0m in \u001b[0;36m<module>\u001b[1;34m\u001b[0m\n\u001b[0;32m      1\u001b[0m \u001b[1;32mfor\u001b[0m \u001b[0mi\u001b[0m\u001b[1;33m,\u001b[0m \u001b[0mword\u001b[0m \u001b[1;32min\u001b[0m \u001b[0menumerate\u001b[0m\u001b[1;33m(\u001b[0m\u001b[0mwords_token_lemma\u001b[0m\u001b[1;33m)\u001b[0m\u001b[1;33m:\u001b[0m\u001b[1;33m\u001b[0m\u001b[1;33m\u001b[0m\u001b[0m\n\u001b[1;32m----> 2\u001b[1;33m   \u001b[0mwords_token_lemma\u001b[0m\u001b[1;33m[\u001b[0m\u001b[0mi\u001b[0m\u001b[1;33m]\u001b[0m \u001b[1;33m=\u001b[0m \u001b[0mpymorphy2_analyzer\u001b[0m\u001b[1;33m.\u001b[0m\u001b[0mparse\u001b[0m\u001b[1;33m(\u001b[0m\u001b[0mword\u001b[0m\u001b[1;33m)\u001b[0m\u001b[1;33m[\u001b[0m\u001b[1;36m0\u001b[0m\u001b[1;33m]\u001b[0m\u001b[1;33m.\u001b[0m\u001b[0mnormal_form\u001b[0m\u001b[1;33m\u001b[0m\u001b[1;33m\u001b[0m\u001b[0m\n\u001b[0m",
      "\u001b[1;32m~\\anaconda3\\lib\\site-packages\\pymorphy2\\analyzer.py\u001b[0m in \u001b[0;36mparse\u001b[1;34m(self, word)\u001b[0m\n\u001b[0;32m    313\u001b[0m \u001b[1;33m\u001b[0m\u001b[0m\n\u001b[0;32m    314\u001b[0m         \u001b[1;32mfor\u001b[0m \u001b[0manalyzer\u001b[0m\u001b[1;33m,\u001b[0m \u001b[0mis_terminal\u001b[0m \u001b[1;32min\u001b[0m \u001b[0mself\u001b[0m\u001b[1;33m.\u001b[0m\u001b[0m_units\u001b[0m\u001b[1;33m:\u001b[0m\u001b[1;33m\u001b[0m\u001b[1;33m\u001b[0m\u001b[0m\n\u001b[1;32m--> 315\u001b[1;33m             \u001b[0mres\u001b[0m\u001b[1;33m.\u001b[0m\u001b[0mextend\u001b[0m\u001b[1;33m(\u001b[0m\u001b[0manalyzer\u001b[0m\u001b[1;33m.\u001b[0m\u001b[0mparse\u001b[0m\u001b[1;33m(\u001b[0m\u001b[0mword\u001b[0m\u001b[1;33m,\u001b[0m \u001b[0mword_lower\u001b[0m\u001b[1;33m,\u001b[0m \u001b[0mseen\u001b[0m\u001b[1;33m)\u001b[0m\u001b[1;33m)\u001b[0m\u001b[1;33m\u001b[0m\u001b[1;33m\u001b[0m\u001b[0m\n\u001b[0m\u001b[0;32m    316\u001b[0m \u001b[1;33m\u001b[0m\u001b[0m\n\u001b[0;32m    317\u001b[0m             \u001b[1;32mif\u001b[0m \u001b[0mis_terminal\u001b[0m \u001b[1;32mand\u001b[0m \u001b[0mres\u001b[0m\u001b[1;33m:\u001b[0m\u001b[1;33m\u001b[0m\u001b[1;33m\u001b[0m\u001b[0m\n",
      "\u001b[1;32m~\\anaconda3\\lib\\site-packages\\pymorphy2\\units\\by_lookup.py\u001b[0m in \u001b[0;36mparse\u001b[1;34m(self, word, word_lower, seen_parses)\u001b[0m\n\u001b[0;32m     22\u001b[0m         \"\"\"\n\u001b[0;32m     23\u001b[0m         \u001b[0mres\u001b[0m \u001b[1;33m=\u001b[0m \u001b[1;33m[\u001b[0m\u001b[1;33m]\u001b[0m\u001b[1;33m\u001b[0m\u001b[1;33m\u001b[0m\u001b[0m\n\u001b[1;32m---> 24\u001b[1;33m         \u001b[0mpara_data\u001b[0m \u001b[1;33m=\u001b[0m \u001b[0mself\u001b[0m\u001b[1;33m.\u001b[0m\u001b[0mdict\u001b[0m\u001b[1;33m.\u001b[0m\u001b[0mwords\u001b[0m\u001b[1;33m.\u001b[0m\u001b[0msimilar_items\u001b[0m\u001b[1;33m(\u001b[0m\u001b[0mword_lower\u001b[0m\u001b[1;33m,\u001b[0m \u001b[0mself\u001b[0m\u001b[1;33m.\u001b[0m\u001b[0mmorph\u001b[0m\u001b[1;33m.\u001b[0m\u001b[0mchar_substitutes\u001b[0m\u001b[1;33m)\u001b[0m\u001b[1;33m\u001b[0m\u001b[1;33m\u001b[0m\u001b[0m\n\u001b[0m\u001b[0;32m     25\u001b[0m \u001b[1;33m\u001b[0m\u001b[0m\n\u001b[0;32m     26\u001b[0m         \u001b[1;32mfor\u001b[0m \u001b[0mfixed_word\u001b[0m\u001b[1;33m,\u001b[0m \u001b[0mparses\u001b[0m \u001b[1;32min\u001b[0m \u001b[0mpara_data\u001b[0m\u001b[1;33m:\u001b[0m\u001b[1;33m\u001b[0m\u001b[1;33m\u001b[0m\u001b[0m\n",
      "\u001b[1;32m~\\anaconda3\\lib\\site-packages\\dawg_python\\dawgs.py\u001b[0m in \u001b[0;36msimilar_items\u001b[1;34m(self, key, replaces)\u001b[0m\n\u001b[0;32m    367\u001b[0m         \u001b[0municode\u001b[0m \u001b[0mstrings\u001b[0m\u001b[1;33m.\u001b[0m\u001b[1;33m\u001b[0m\u001b[1;33m\u001b[0m\u001b[0m\n\u001b[0;32m    368\u001b[0m         \"\"\"\n\u001b[1;32m--> 369\u001b[1;33m         \u001b[1;32mreturn\u001b[0m \u001b[0mself\u001b[0m\u001b[1;33m.\u001b[0m\u001b[0m_similar_items\u001b[0m\u001b[1;33m(\u001b[0m\u001b[1;34m\"\"\u001b[0m\u001b[1;33m,\u001b[0m \u001b[0mkey\u001b[0m\u001b[1;33m,\u001b[0m \u001b[0mself\u001b[0m\u001b[1;33m.\u001b[0m\u001b[0mdct\u001b[0m\u001b[1;33m.\u001b[0m\u001b[0mROOT\u001b[0m\u001b[1;33m,\u001b[0m \u001b[0mreplaces\u001b[0m\u001b[1;33m)\u001b[0m\u001b[1;33m\u001b[0m\u001b[1;33m\u001b[0m\u001b[0m\n\u001b[0m\u001b[0;32m    370\u001b[0m \u001b[1;33m\u001b[0m\u001b[0m\n\u001b[0;32m    371\u001b[0m \u001b[1;33m\u001b[0m\u001b[0m\n",
      "\u001b[1;32m~\\anaconda3\\lib\\site-packages\\dawg_python\\dawgs.py\u001b[0m in \u001b[0;36m_similar_items\u001b[1;34m(self, current_prefix, key, index, replace_chars)\u001b[0m\n\u001b[0;32m    352\u001b[0m             \u001b[1;32mif\u001b[0m \u001b[0mindex\u001b[0m\u001b[1;33m:\u001b[0m\u001b[1;33m\u001b[0m\u001b[1;33m\u001b[0m\u001b[0m\n\u001b[0;32m    353\u001b[0m                 \u001b[0mfound_key\u001b[0m \u001b[1;33m=\u001b[0m \u001b[0mcurrent_prefix\u001b[0m \u001b[1;33m+\u001b[0m \u001b[0mkey\u001b[0m\u001b[1;33m[\u001b[0m\u001b[0mstart_pos\u001b[0m\u001b[1;33m:\u001b[0m\u001b[1;33m]\u001b[0m\u001b[1;33m\u001b[0m\u001b[1;33m\u001b[0m\u001b[0m\n\u001b[1;32m--> 354\u001b[1;33m                 \u001b[0mvalue\u001b[0m \u001b[1;33m=\u001b[0m \u001b[0mself\u001b[0m\u001b[1;33m.\u001b[0m\u001b[0m_value_for_index\u001b[0m\u001b[1;33m(\u001b[0m\u001b[0mindex\u001b[0m\u001b[1;33m)\u001b[0m\u001b[1;33m\u001b[0m\u001b[1;33m\u001b[0m\u001b[0m\n\u001b[0m\u001b[0;32m    355\u001b[0m                 \u001b[0mres\u001b[0m\u001b[1;33m.\u001b[0m\u001b[0minsert\u001b[0m\u001b[1;33m(\u001b[0m\u001b[1;36m0\u001b[0m\u001b[1;33m,\u001b[0m \u001b[1;33m(\u001b[0m\u001b[0mfound_key\u001b[0m\u001b[1;33m,\u001b[0m \u001b[0mvalue\u001b[0m\u001b[1;33m)\u001b[0m\u001b[1;33m)\u001b[0m\u001b[1;33m\u001b[0m\u001b[1;33m\u001b[0m\u001b[0m\n\u001b[0;32m    356\u001b[0m \u001b[1;33m\u001b[0m\u001b[0m\n",
      "\u001b[1;32m~\\anaconda3\\lib\\site-packages\\dawg_python\\dawgs.py\u001b[0m in \u001b[0;36m_value_for_index\u001b[1;34m(self, index)\u001b[0m\n\u001b[0;32m    420\u001b[0m \u001b[1;33m\u001b[0m\u001b[0m\n\u001b[0;32m    421\u001b[0m     \u001b[1;32mdef\u001b[0m \u001b[0m_value_for_index\u001b[0m\u001b[1;33m(\u001b[0m\u001b[0mself\u001b[0m\u001b[1;33m,\u001b[0m \u001b[0mindex\u001b[0m\u001b[1;33m)\u001b[0m\u001b[1;33m:\u001b[0m\u001b[1;33m\u001b[0m\u001b[1;33m\u001b[0m\u001b[0m\n\u001b[1;32m--> 422\u001b[1;33m         \u001b[0mvalue\u001b[0m \u001b[1;33m=\u001b[0m \u001b[0msuper\u001b[0m\u001b[1;33m(\u001b[0m\u001b[0mRecordDAWG\u001b[0m\u001b[1;33m,\u001b[0m \u001b[0mself\u001b[0m\u001b[1;33m)\u001b[0m\u001b[1;33m.\u001b[0m\u001b[0m_value_for_index\u001b[0m\u001b[1;33m(\u001b[0m\u001b[0mindex\u001b[0m\u001b[1;33m)\u001b[0m\u001b[1;33m\u001b[0m\u001b[1;33m\u001b[0m\u001b[0m\n\u001b[0m\u001b[0;32m    423\u001b[0m         \u001b[1;32mreturn\u001b[0m \u001b[1;33m[\u001b[0m\u001b[0mself\u001b[0m\u001b[1;33m.\u001b[0m\u001b[0m_struct\u001b[0m\u001b[1;33m.\u001b[0m\u001b[0munpack\u001b[0m\u001b[1;33m(\u001b[0m\u001b[0mval\u001b[0m\u001b[1;33m)\u001b[0m \u001b[1;32mfor\u001b[0m \u001b[0mval\u001b[0m \u001b[1;32min\u001b[0m \u001b[0mvalue\u001b[0m\u001b[1;33m]\u001b[0m\u001b[1;33m\u001b[0m\u001b[1;33m\u001b[0m\u001b[0m\n\u001b[0;32m    424\u001b[0m \u001b[1;33m\u001b[0m\u001b[0m\n",
      "\u001b[1;32m~\\anaconda3\\lib\\site-packages\\dawg_python\\dawgs.py\u001b[0m in \u001b[0;36m_value_for_index\u001b[1;34m(self, index)\u001b[0m\n\u001b[0;32m    225\u001b[0m \u001b[1;33m\u001b[0m\u001b[0m\n\u001b[0;32m    226\u001b[0m         \u001b[0mcompleter\u001b[0m\u001b[1;33m.\u001b[0m\u001b[0mstart\u001b[0m\u001b[1;33m(\u001b[0m\u001b[0mindex\u001b[0m\u001b[1;33m)\u001b[0m\u001b[1;33m\u001b[0m\u001b[1;33m\u001b[0m\u001b[0m\n\u001b[1;32m--> 227\u001b[1;33m         \u001b[1;32mwhile\u001b[0m \u001b[0mcompleter\u001b[0m\u001b[1;33m.\u001b[0m\u001b[0mnext\u001b[0m\u001b[1;33m(\u001b[0m\u001b[1;33m)\u001b[0m\u001b[1;33m:\u001b[0m\u001b[1;33m\u001b[0m\u001b[1;33m\u001b[0m\u001b[0m\n\u001b[0m\u001b[0;32m    228\u001b[0m             \u001b[1;31m# a2b_base64 doesn't support bytearray in python 2.6\u001b[0m\u001b[1;33m\u001b[0m\u001b[1;33m\u001b[0m\u001b[1;33m\u001b[0m\u001b[0m\n\u001b[0;32m    229\u001b[0m             \u001b[1;31m# so it is converted (and copied) to bytes\u001b[0m\u001b[1;33m\u001b[0m\u001b[1;33m\u001b[0m\u001b[1;33m\u001b[0m\u001b[0m\n",
      "\u001b[1;32m~\\anaconda3\\lib\\site-packages\\dawg_python\\wrapper.py\u001b[0m in \u001b[0;36mnext\u001b[1;34m(self)\u001b[0m\n\u001b[0;32m    152\u001b[0m                         \u001b[1;32mbreak\u001b[0m\u001b[1;33m\u001b[0m\u001b[1;33m\u001b[0m\u001b[0m\n\u001b[0;32m    153\u001b[0m \u001b[1;33m\u001b[0m\u001b[0m\n\u001b[1;32m--> 154\u001b[1;33m         \u001b[1;32mreturn\u001b[0m \u001b[0mself\u001b[0m\u001b[1;33m.\u001b[0m\u001b[0m_find_terminal\u001b[0m\u001b[1;33m(\u001b[0m\u001b[0mindex\u001b[0m\u001b[1;33m)\u001b[0m\u001b[1;33m\u001b[0m\u001b[1;33m\u001b[0m\u001b[0m\n\u001b[0m\u001b[0;32m    155\u001b[0m \u001b[1;33m\u001b[0m\u001b[0m\n\u001b[0;32m    156\u001b[0m     \u001b[1;32mdef\u001b[0m \u001b[0m_follow\u001b[0m\u001b[1;33m(\u001b[0m\u001b[0mself\u001b[0m\u001b[1;33m,\u001b[0m \u001b[0mlabel\u001b[0m\u001b[1;33m,\u001b[0m \u001b[0mindex\u001b[0m\u001b[1;33m)\u001b[0m\u001b[1;33m:\u001b[0m\u001b[1;33m\u001b[0m\u001b[1;33m\u001b[0m\u001b[0m\n",
      "\u001b[1;32m~\\anaconda3\\lib\\site-packages\\dawg_python\\wrapper.py\u001b[0m in \u001b[0;36m_find_terminal\u001b[1;34m(self, index)\u001b[0m\n\u001b[0;32m    167\u001b[0m             \u001b[0mlabel\u001b[0m \u001b[1;33m=\u001b[0m \u001b[0mself\u001b[0m\u001b[1;33m.\u001b[0m\u001b[0m_guide\u001b[0m\u001b[1;33m.\u001b[0m\u001b[0mchild\u001b[0m\u001b[1;33m(\u001b[0m\u001b[0mindex\u001b[0m\u001b[1;33m)\u001b[0m\u001b[1;33m\u001b[0m\u001b[1;33m\u001b[0m\u001b[0m\n\u001b[0;32m    168\u001b[0m \u001b[1;33m\u001b[0m\u001b[0m\n\u001b[1;32m--> 169\u001b[1;33m             \u001b[0mindex\u001b[0m \u001b[1;33m=\u001b[0m \u001b[0mself\u001b[0m\u001b[1;33m.\u001b[0m\u001b[0m_dic\u001b[0m\u001b[1;33m.\u001b[0m\u001b[0mfollow_char\u001b[0m\u001b[1;33m(\u001b[0m\u001b[0mlabel\u001b[0m\u001b[1;33m,\u001b[0m \u001b[0mindex\u001b[0m\u001b[1;33m)\u001b[0m\u001b[1;33m\u001b[0m\u001b[1;33m\u001b[0m\u001b[0m\n\u001b[0m\u001b[0;32m    170\u001b[0m             \u001b[1;32mif\u001b[0m \u001b[0mindex\u001b[0m \u001b[1;32mis\u001b[0m \u001b[1;32mNone\u001b[0m\u001b[1;33m:\u001b[0m\u001b[1;33m\u001b[0m\u001b[1;33m\u001b[0m\u001b[0m\n\u001b[0;32m    171\u001b[0m                 \u001b[1;32mreturn\u001b[0m \u001b[1;32mFalse\u001b[0m\u001b[1;33m\u001b[0m\u001b[1;33m\u001b[0m\u001b[0m\n",
      "\u001b[1;32m~\\anaconda3\\lib\\site-packages\\dawg_python\\wrapper.py\u001b[0m in \u001b[0;36mfollow_char\u001b[1;34m(self, label, index)\u001b[0m\n\u001b[0;32m     51\u001b[0m     \u001b[1;32mdef\u001b[0m \u001b[0mfollow_char\u001b[0m\u001b[1;33m(\u001b[0m\u001b[0mself\u001b[0m\u001b[1;33m,\u001b[0m \u001b[0mlabel\u001b[0m\u001b[1;33m,\u001b[0m \u001b[0mindex\u001b[0m\u001b[1;33m)\u001b[0m\u001b[1;33m:\u001b[0m\u001b[1;33m\u001b[0m\u001b[1;33m\u001b[0m\u001b[0m\n\u001b[0;32m     52\u001b[0m         \u001b[1;34m\"Follows a transition\"\u001b[0m\u001b[1;33m\u001b[0m\u001b[1;33m\u001b[0m\u001b[0m\n\u001b[1;32m---> 53\u001b[1;33m         \u001b[0moffset\u001b[0m \u001b[1;33m=\u001b[0m \u001b[0munits\u001b[0m\u001b[1;33m.\u001b[0m\u001b[0moffset\u001b[0m\u001b[1;33m(\u001b[0m\u001b[0mself\u001b[0m\u001b[1;33m.\u001b[0m\u001b[0m_units\u001b[0m\u001b[1;33m[\u001b[0m\u001b[0mindex\u001b[0m\u001b[1;33m]\u001b[0m\u001b[1;33m)\u001b[0m\u001b[1;33m\u001b[0m\u001b[1;33m\u001b[0m\u001b[0m\n\u001b[0m\u001b[0;32m     54\u001b[0m         \u001b[0mnext_index\u001b[0m \u001b[1;33m=\u001b[0m \u001b[1;33m(\u001b[0m\u001b[0mindex\u001b[0m \u001b[1;33m^\u001b[0m \u001b[0moffset\u001b[0m \u001b[1;33m^\u001b[0m \u001b[0mlabel\u001b[0m\u001b[1;33m)\u001b[0m \u001b[1;33m&\u001b[0m \u001b[0munits\u001b[0m\u001b[1;33m.\u001b[0m\u001b[0mPRECISION_MASK\u001b[0m\u001b[1;33m\u001b[0m\u001b[1;33m\u001b[0m\u001b[0m\n\u001b[0;32m     55\u001b[0m \u001b[1;33m\u001b[0m\u001b[0m\n",
      "\u001b[1;32m~\\anaconda3\\lib\\site-packages\\dawg_python\\units.py\u001b[0m in \u001b[0;36moffset\u001b[1;34m(base)\u001b[0m\n\u001b[0;32m     30\u001b[0m \u001b[1;32mdef\u001b[0m \u001b[0moffset\u001b[0m\u001b[1;33m(\u001b[0m\u001b[0mbase\u001b[0m\u001b[1;33m)\u001b[0m\u001b[1;33m:\u001b[0m\u001b[1;33m\u001b[0m\u001b[1;33m\u001b[0m\u001b[0m\n\u001b[0;32m     31\u001b[0m     \u001b[1;34m\"\"\" Read an offset to child units from a non-leaf unit. \"\"\"\u001b[0m\u001b[1;33m\u001b[0m\u001b[1;33m\u001b[0m\u001b[0m\n\u001b[1;32m---> 32\u001b[1;33m     \u001b[1;32mreturn\u001b[0m \u001b[1;33m(\u001b[0m\u001b[1;33m(\u001b[0m\u001b[0mbase\u001b[0m \u001b[1;33m>>\u001b[0m \u001b[1;36m10\u001b[0m\u001b[1;33m)\u001b[0m \u001b[1;33m<<\u001b[0m \u001b[1;33m(\u001b[0m\u001b[1;33m(\u001b[0m\u001b[0mbase\u001b[0m \u001b[1;33m&\u001b[0m \u001b[0mEXTENSION_BIT\u001b[0m\u001b[1;33m)\u001b[0m \u001b[1;33m>>\u001b[0m \u001b[1;36m6\u001b[0m\u001b[1;33m)\u001b[0m\u001b[1;33m)\u001b[0m \u001b[1;33m&\u001b[0m \u001b[0mPRECISION_MASK\u001b[0m\u001b[1;33m\u001b[0m\u001b[1;33m\u001b[0m\u001b[0m\n\u001b[0m",
      "\u001b[1;31mKeyboardInterrupt\u001b[0m: "
     ]
    }
   ],
   "source": [
    "for i, word in enumerate(words_token_lemma):\n",
    "  words_token_lemma[i] = pymorphy2_analyzer.parse(word)[0].normal_form"
   ]
  },
  {
   "cell_type": "code",
   "execution_count": 45,
   "metadata": {
    "id": "zmu-4oN0Mx4j"
   },
   "outputs": [],
   "source": [
    "# проверка работы pymorphy\n",
    "# pymorphy2_analyzer.parse('лошади')[0].normal_form"
   ]
  },
  {
   "cell_type": "code",
   "execution_count": 42,
   "metadata": {
    "id": "xyI1TjKAHKph"
   },
   "outputs": [
    {
     "data": {
      "text/plain": [
       "['добрый',\n",
       " 'день',\n",
       " 'я',\n",
       " 'являться',\n",
       " 'клиент',\n",
       " 'банк',\n",
       " 'поручитель',\n",
       " 'кредитный',\n",
       " 'договор',\n",
       " 'а']"
      ]
     },
     "execution_count": 42,
     "metadata": {},
     "output_type": "execute_result"
    }
   ],
   "source": [
    "words_token_lemma[:10]"
   ]
  },
  {
   "cell_type": "code",
   "execution_count": 43,
   "metadata": {},
   "outputs": [
    {
     "data": {
      "text/plain": [
       "43758199"
      ]
     },
     "execution_count": 43,
     "metadata": {},
     "output_type": "execute_result"
    }
   ],
   "source": [
    "len(words_token_lemma)"
   ]
  },
  {
   "cell_type": "code",
   "execution_count": 46,
   "metadata": {
    "id": "LMtY4MsWBzGz"
   },
   "outputs": [],
   "source": [
    "freq_word_lemma = nltk.FreqDist(words_token_lemma)"
   ]
  },
  {
   "cell_type": "code",
   "execution_count": 47,
   "metadata": {
    "id": "yBZd8v_nBzJE"
   },
   "outputs": [
    {
     "data": {
      "text/plain": [
       "[(',', 3342082),\n",
       " ('.', 2022112),\n",
       " ('в', 1314297),\n",
       " ('и', 1052494),\n",
       " ('не', 849223),\n",
       " ('на', 702001),\n",
       " ('что', 622144),\n",
       " ('я', 589219),\n",
       " ('с', 454791),\n",
       " ('по', 363966)]"
      ]
     },
     "execution_count": 47,
     "metadata": {},
     "output_type": "execute_result"
    }
   ],
   "source": [
    "freq_word_lemma.most_common()[:10]"
   ]
  },
  {
   "cell_type": "markdown",
   "metadata": {
    "id": "quGl_YRwqdF5"
   },
   "source": [
    "Самые частовстречающиеся существительных топ-10"
   ]
  },
  {
   "cell_type": "code",
   "execution_count": 55,
   "metadata": {
    "id": "eXdlVf6VqsIN"
   },
   "outputs": [
    {
     "data": {
      "text/plain": [
       "[Parse(word='идти', tag=OpencorporaTag('INFN,impf,intr'), normal_form='идти', score=1.0, methods_stack=((DictionaryAnalyzer(), 'идти', 1696, 0),))]"
      ]
     },
     "execution_count": 55,
     "metadata": {},
     "output_type": "execute_result"
    }
   ],
   "source": [
    "# принцип алгоритма по отбору существительных\n",
    "# p = pymorphy2_analyzer.parse('идти')\n",
    "# p"
   ]
  },
  {
   "cell_type": "code",
   "execution_count": 68,
   "metadata": {
    "id": "u7njQRBmWYdE"
   },
   "outputs": [
    {
     "data": {
      "text/plain": [
       "OpencorporaTag('INFN,impf,intr')"
      ]
     },
     "execution_count": 68,
     "metadata": {},
     "output_type": "execute_result"
    }
   ],
   "source": [
    "# p[0].tag"
   ]
  },
  {
   "cell_type": "code",
   "execution_count": 71,
   "metadata": {},
   "outputs": [
    {
     "data": {
      "text/plain": [
       "1.0"
      ]
     },
     "execution_count": 71,
     "metadata": {},
     "output_type": "execute_result"
    }
   ],
   "source": [
    "# p[0].score"
   ]
  },
  {
   "cell_type": "code",
   "execution_count": 70,
   "metadata": {},
   "outputs": [
    {
     "data": {
      "text/plain": [
       "False"
      ]
     },
     "execution_count": 70,
     "metadata": {},
     "output_type": "execute_result"
    }
   ],
   "source": [
    "\n",
    "# 'NOUN' in p[0].tag"
   ]
  },
  {
   "cell_type": "code",
   "execution_count": 125,
   "metadata": {},
   "outputs": [
    {
     "ename": "IndexError",
     "evalue": "list assignment index out of range",
     "output_type": "error",
     "traceback": [
      "\u001b[1;31m---------------------------------------------------------------------------\u001b[0m",
      "\u001b[1;31mIndexError\u001b[0m                                Traceback (most recent call last)",
      "\u001b[1;32m<ipython-input-125-96b15081857b>\u001b[0m in \u001b[0;36m<module>\u001b[1;34m\u001b[0m\n\u001b[0;32m      9\u001b[0m     \u001b[0mp\u001b[0m \u001b[1;33m=\u001b[0m \u001b[0mpymorphy2_analyzer\u001b[0m\u001b[1;33m.\u001b[0m\u001b[0mparse\u001b[0m\u001b[1;33m(\u001b[0m\u001b[0mword\u001b[0m\u001b[1;33m)\u001b[0m\u001b[1;33m[\u001b[0m\u001b[1;36m0\u001b[0m\u001b[1;33m]\u001b[0m\u001b[1;33m\u001b[0m\u001b[1;33m\u001b[0m\u001b[0m\n\u001b[0;32m     10\u001b[0m     \u001b[1;32mif\u001b[0m \u001b[1;33m(\u001b[0m\u001b[1;34m'NOUN'\u001b[0m \u001b[1;32min\u001b[0m \u001b[0mp\u001b[0m\u001b[1;33m.\u001b[0m\u001b[0mtag\u001b[0m\u001b[1;33m)\u001b[0m \u001b[1;32mand\u001b[0m \u001b[1;33m(\u001b[0m\u001b[0mp\u001b[0m\u001b[1;33m.\u001b[0m\u001b[0mscore\u001b[0m \u001b[1;33m>\u001b[0m \u001b[1;36m0.5\u001b[0m\u001b[1;33m)\u001b[0m\u001b[1;33m:\u001b[0m\u001b[1;33m\u001b[0m\u001b[1;33m\u001b[0m\u001b[0m\n\u001b[1;32m---> 11\u001b[1;33m         \u001b[0mnouns\u001b[0m\u001b[1;33m[\u001b[0m\u001b[0mi\u001b[0m\u001b[1;33m]\u001b[0m \u001b[1;33m=\u001b[0m \u001b[0mword\u001b[0m\u001b[1;33m\u001b[0m\u001b[1;33m\u001b[0m\u001b[0m\n\u001b[0m\u001b[0;32m     12\u001b[0m         \u001b[0mi\u001b[0m \u001b[1;33m+=\u001b[0m \u001b[1;36m1\u001b[0m\u001b[1;33m\u001b[0m\u001b[1;33m\u001b[0m\u001b[0m\n",
      "\u001b[1;31mIndexError\u001b[0m: list assignment index out of range"
     ]
    }
   ],
   "source": [
    "# проходим по словам-леммам, которые мы подготовили на прошлом шаге\n",
    "#  далее пропускаем их через pymorphy2_analyzer, и проверяем часть речи, если tag NOUN и при этом оценка более 50 %, \n",
    "# то можно причислять это слово к существительному и записывать в список, а потом расчитаем частоту данных слов при помощи FreqDist\n",
    "\n",
    "i = 0\n",
    "nouns = []\n",
    "\n",
    "for word in words_token_lemma:\n",
    "    p = pymorphy2_analyzer.parse(word)[0]\n",
    "    if ('NOUN' in p.tag) and (p.score > 0.5):\n",
    "        nouns[i] = word\n",
    "        i += 1"
   ]
  },
  {
   "cell_type": "code",
   "execution_count": 114,
   "metadata": {},
   "outputs": [],
   "source": [
    "freq_nouns = nltk.FreqDist(nouns.values())"
   ]
  },
  {
   "cell_type": "code",
   "execution_count": 115,
   "metadata": {},
   "outputs": [
    {
     "data": {
      "text/plain": [
       "[]"
      ]
     },
     "execution_count": 115,
     "metadata": {},
     "output_type": "execute_result"
    }
   ],
   "source": [
    "freq_nouns.most_common()[:10]"
   ]
  },
  {
   "cell_type": "markdown",
   "metadata": {
    "id": "DmKtnwGsWYdE"
   },
   "source": [
    "#### 4 Постройте кривые Ципфа и Хипса"
   ]
  },
  {
   "cell_type": "markdown",
   "metadata": {
    "id": "saghjFZjWYdF"
   },
   "source": [
    "##### Закон Ципфа\n",
    "Эмпирическая закономерность: если все слова корпуса текста упорядочить по убыванию частоты их использования, то частота n-го слова в таком списке окажется приблизительно обратно пропорциональной его порядковому номеру n. Иными словами, частотность слов убывает очень быстро.\n",
    "\n",
    "\n",
    "В любом достаточно большом тексте ранг слова обратно пропорционален его частоте: $f = \\frac{a}{r}$\n",
    "\n",
    "$f$ – частота слова, $r$  – ранг слова, $a$  – параметр, для славянских языков – около 0.07"
   ]
  },
  {
   "cell_type": "code",
   "execution_count": 113,
   "metadata": {
    "id": "6O9gpJugWYdF"
   },
   "outputs": [],
   "source": [
    "freqs = list(freq_nouns.values())\n",
    "freqs = sorted(freqs, reverse = True)\n",
    "\n",
    "fig, ax = plt.subplots()\n",
    "ax.plot(freqs[:300], range(300))\n",
    "plt.show()"
   ]
  },
  {
   "cell_type": "markdown",
   "metadata": {
    "id": "s6lrhxFcWYdF"
   },
   "source": [
    "###### Закон Хипса\n",
    "\n",
    "С увеличением длины текста (количества токенов), количество слов увеличивается в соответствии с законом: $|V| = K*N^b$\n",
    "\n",
    "\n",
    "$N$  –  число токенов, $|V|$  – количество слов в словаре, $K, b$  –  параметры, обычно $K \\in [10,100], b \\in [0.4, 0.6]$\n",
    "\n",
    "\n",
    "Закон Хипса -- обратная сторона закона Ципфа. Он описывает, что чем больше корпус, тем меньше новых слов добавляется с добавлением новых текстов. В какой-то момент корпус насыщается."
   ]
  },
  {
   "cell_type": "code",
   "execution_count": 116,
   "metadata": {
    "id": "O5KnyKy1WYdF"
   },
   "outputs": [
    {
     "name": "stderr",
     "output_type": "stream",
     "text": [
      "100%|█████████████████████████████████████████████████████████████████████████| 153499/153499 [14:46<00:00, 173.13it/s]\n"
     ]
    }
   ],
   "source": [
    "from tqdm import tqdm\n",
    "\n",
    "cnt = Counter()\n",
    "n_words = []\n",
    "n_tokens = []\n",
    "tokens = []\n",
    "\n",
    "for index, row in tqdm(data_responses_3.iterrows(), total = len(data_responses_3)):\n",
    "    tokens = word_tokenize(row['text'])\n",
    "    cnt.update([token for token in tokens if token not in punctuation])\n",
    "    n_words.append(len(cnt))\n",
    "    n_tokens.append(sum(cnt.values()))"
   ]
  },
  {
   "cell_type": "code",
   "execution_count": 118,
   "metadata": {
    "id": "TMhwOb78WYdF"
   },
   "outputs": [],
   "source": [
    "fig, ax = plt.subplots()\n",
    "ax.plot(n_tokens, n_words)\n",
    "plt.show()"
   ]
  },
  {
   "cell_type": "markdown",
   "metadata": {
    "id": "gkNxoVnrWYdG"
   },
   "source": [
    "#### 5 Ответьте на следующие вопросы:\n",
    "- какое слово встречается чаще, \"сотрудник\" или \"клиент\"?\n",
    "- сколько раз встречается слова \"мошенничество\" и \"доверие\"?"
   ]
  },
  {
   "cell_type": "code",
   "execution_count": null,
   "metadata": {
    "id": "o_R0EyGlWYdG"
   },
   "outputs": [],
   "source": [
    "word_1 = \"сотрудник\"\n",
    "word_2 = \"клиент\"\n",
    "for i in freq_nouns:\n",
    "    if word_1 in i:\n",
    "        quantity_1 = i[1]\n",
    "    elif word_2 in i:\n",
    "        quantity_2 = i[1]\n",
    "        \n",
    "if quantity_1 > quantity_2:\n",
    "    print('сотрудник встречается чаще')\n",
    "elif quantity_1 < quantity_2:\n",
    "        print('клиент встречается чаще')\n",
    "    "
   ]
  },
  {
   "cell_type": "code",
   "execution_count": null,
   "metadata": {},
   "outputs": [],
   "source": [
    "word_1 = \"мошенничество\"\n",
    "word_2 = \"доверие\"\n",
    "for i in freq_nouns:\n",
    "    if word_1 in i:\n",
    "        quantity_1 = i[1]\n",
    "    elif word_2 in i:\n",
    "        quantity_2 = i[1]\n",
    "        \n",
    "print(f'мошенничество встречается {quantity_1} раз')\n",
    "print(f'доверие встречается {quantity_2} раз')"
   ]
  },
  {
   "cell_type": "markdown",
   "metadata": {
    "id": "47Al96EaWYdG"
   },
   "source": [
    "#### 6 В поле \"rating_grade\" записана оценка отзыва по шкале от 1 до 5. Используйте меру  𝑡𝑓−𝑖𝑑𝑓 , для того, чтобы найти ключевые слова и биграмы для положительных отзывов (с оценкой 5) и отрицательных отзывов (с оценкой 1)"
   ]
  },
  {
   "cell_type": "markdown",
   "metadata": {
    "id": "mCeBB9LcWYdG"
   },
   "source": [
    "`TfidfVectorizer` делает то же, что и `CountVectorizer`, но в качестве значений – tf-idf каждого слова.\n",
    "\n",
    "Как считается tf-idf:\n",
    "\n",
    "TF (term frequency) – относительная частотность слова в документе:\n",
    "$$ TF(t,d) = \\frac{n_t}{\\sum_k n_k} $$\n",
    "\n",
    "`t` -- слово (term), `d` -- документ, $n_t$ -- количество вхождений слова, $n_k$ -- количество вхождений остальных слов\n",
    "\n",
    "IDF (inverse document frequency) – обратная частота документов, в которых есть это слово:\n",
    "$$ IDF(t, D) = \\mbox{log} \\frac{|D|}{|{d : t \\in d}|} $$\n",
    "\n",
    "`t` -- слово (term), `D` -- коллекция документов\n",
    "\n",
    "Перемножаем их:\n",
    "$$TFIDF_(t,d,D) = TF(t,d) \\times IDF(i, D)$$\n",
    "\n",
    "Сакральный смысл – если слово часто встречается в одном документе, но в целом по корпусу встречается в небольшом \n",
    "количестве документов, у него высокий TF-IDF."
   ]
  },
  {
   "cell_type": "code",
   "execution_count": 127,
   "metadata": {},
   "outputs": [],
   "source": [
    "from sklearn.feature_extraction.text import TfidfVectorizer"
   ]
  },
  {
   "cell_type": "code",
   "execution_count": null,
   "metadata": {
    "id": "XtN5agr0WYdG"
   },
   "outputs": [],
   "source": [
    "vec = TfidfVectorizer(ngram_range = (1, 2))\n",
    "bow = vec.fit_transform(data_responses_3['text'])"
   ]
  },
  {
   "cell_type": "markdown",
   "metadata": {
    "id": "WS3dgjvgWYdH"
   },
   "source": [
    "### Часть 2. Тематическое моделирование\n",
    "1. Постройте несколько тематических моделей коллекции документов с разным числом тем. Приведите примеры понятных (интерпретируемых) тем.\n",
    "2. Найдите темы, в которых упомянуты конкретные банки (Сбербанк, ВТБ, другой банк). Можете ли вы их прокомментировать / объяснить?\n",
    "Эта часть задания может быть сделана с использованием gensim.\n"
   ]
  },
  {
   "cell_type": "code",
   "execution_count": null,
   "metadata": {
    "id": "Sw42SFfgnlVZ"
   },
   "outputs": [],
   "source": []
  },
  {
   "cell_type": "code",
   "execution_count": null,
   "metadata": {
    "id": "E7_m1wpmnlXx"
   },
   "outputs": [],
   "source": []
  },
  {
   "cell_type": "code",
   "execution_count": null,
   "metadata": {
    "id": "2WDPOVahnlaI"
   },
   "outputs": [],
   "source": []
  },
  {
   "cell_type": "code",
   "execution_count": null,
   "metadata": {
    "id": "obFlPNRonlc0"
   },
   "outputs": [],
   "source": []
  },
  {
   "cell_type": "code",
   "execution_count": null,
   "metadata": {
    "id": "SAB54zlknlfW"
   },
   "outputs": [],
   "source": []
  },
  {
   "cell_type": "markdown",
   "metadata": {
    "id": "7nvcAyWDnmOX"
   },
   "source": [
    "\n",
    "### Часть 3. Классификация текстов\n",
    "Сформулируем для простоты задачу бинарной классификации: будем классифицировать на два класса, то есть, различать резко отрицательные отзывы (с оценкой 1) и положительные отзывы (с оценкой 5).\n",
    "\n",
    "1. Составьте обучающее и тестовое множество: выберите из всего набора данных N1 отзывов с оценкой 1 и N2 отзывов с оценкой 5 (значение N1 и N2 – на ваше усмотрение). Используйте sklearn.model_selection.train_test_split для разделения множества отобранных документов на обучающее и тестовое.\n",
    "2. Используйте любой известный вам алгоритм классификации текстов для решения задачи и получите baseline. Сравните разные варианты векторизации текста: использование только униграм, пар или троек слов или с использованием символьных $n$-грам.\n",
    "3. Сравните, как изменяется качество решения задачи при использовании скрытых тем в качестве признаков:\n",
    "- 1-ый вариант: $tf-idf$ преобразование (sklearn.feature_extraction.text.TfidfTransformer) и сингулярное разложение (оно же – латентый семантический анализ) (sklearn.decomposition.TruncatedSVD),\n",
    "- 2-ой вариант: тематические модели LDA (sklearn.decomposition.LatentDirichletAllocation).\n",
    "Используйте accuracy и F-measure для оценки качества классификации.\n",
    "\n",
    "В ноутбуке, размещенном в папке репозитория. написан примерный Pipeline для классификации текстов.\n",
    "\n",
    "Эта часть задания может быть сделана с использованием sklearn."
   ]
  },
  {
   "cell_type": "markdown",
   "metadata": {
    "id": "AJ39G_RaqauR"
   },
   "source": [
    "## Классификация текстов"
   ]
  },
  {
   "cell_type": "code",
   "execution_count": null,
   "metadata": {
    "id": "bUSukDrwqauS"
   },
   "outputs": [],
   "source": [
    "from sklearn.pipeline import Pipeline\n",
    "from sklearn.ensemble import RandomForestClassifier\n",
    "\n",
    "# !!! На каждом этапе Pipeline нужно указать свои параметры\n",
    "# 1-ый вариант: tf-idf + LSI\n",
    "# 2-ой вариант: LDA\n",
    "\n",
    "# clf = Pipeline([\n",
    "#     ('vect', CountVectorizer(analyzer = 'char', ngram_range={4,6})),\n",
    "#     ('clf', RandomForestClassifier()),\n",
    "# ])\n",
    "\n",
    "\n",
    "\n",
    "clf = Pipeline([ \n",
    "    ('vect', CountVectorizer()), \n",
    "    ('tfidf', TfidfTransformer()), \n",
    "    ('tm', TruncatedSVD()), \n",
    "    ('clf', RandomForestClassifier())\n",
    "])\n"
   ]
  },
  {
   "cell_type": "code",
   "execution_count": null,
   "metadata": {
    "id": "iTWTmNotWYdI"
   },
   "outputs": [],
   "source": []
  }
 ],
 "metadata": {
  "accelerator": "GPU",
  "colab": {
   "collapsed_sections": [],
   "name": "HW1_banki_TM_and_classification.ipynb",
   "provenance": []
  },
  "kernelspec": {
   "display_name": "Python 3",
   "language": "python",
   "name": "python3"
  }
 },
 "nbformat": 4,
 "nbformat_minor": 1
}
