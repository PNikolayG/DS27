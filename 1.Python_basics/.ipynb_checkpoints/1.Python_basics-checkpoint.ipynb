{
 "cells": [
  {
   "cell_type": "markdown",
   "metadata": {},
   "source": [
    "# Домашнее задание "
   ]
  },
  {
   "cell_type": "markdown",
   "metadata": {},
   "source": [
    "##  \"Основы Python\""
   ]
  },
  {
   "cell_type": "markdown",
   "metadata": {},
   "source": [
    "### Задание 1"
   ]
  },
  {
   "cell_type": "markdown",
   "metadata": {},
   "source": [
    "### Дано:"
   ]
  },
  {
   "cell_type": "markdown",
   "metadata": {},
   "source": [
    "Даны 2 переменных, в которых хранятся строки произвольной длины: phrase_1 и phrase_2. Напишите код, который проверяет какая из этих строк длиннее."
   ]
  },
  {
   "cell_type": "markdown",
   "metadata": {},
   "source": [
    "### Решение"
   ]
  },
  {
   "cell_type": "code",
   "execution_count": 2,
   "metadata": {},
   "outputs": [
    {
     "name": "stdout",
     "output_type": "stream",
     "text": [
      "Фразы равной длины\n"
     ]
    }
   ],
   "source": [
    "#Тест программы\n",
    "\n",
    "#phrase_1 = 'Насколько проще было бы писать программы, если бы не заказчики'\n",
    "#phrase_2 = '640Кб должно хватить для любых задач. Билл Гейтс (по легенде)'\n",
    "#Фраза 1 длиннее фразы 2\n",
    "\n",
    "#phrase_1 = '640Кб должно хватить для любых задач. Билл Гейтс (по легенде)'\n",
    "#phrase_2 = 'Насколько проще было бы писать программы, если бы не заказчики'\n",
    "#Фраза 2 длиннее фразы 1\n",
    "\n",
    "#phrase_1 = 'Насколько проще было бы писать программы, если бы не заказчики'\n",
    "#phrase_2 = 'Насколько проще было бы писать программы, если бы не заказчики'\n",
    "#Фразы равной длины\n",
    "\n",
    "phrase_1 = 'Насколько проще было бы писать программы, если бы не заказчики'\n",
    "phrase_2 = 'Насколько проще было бы писать программы, если бы не заказчики'\n",
    "#специальная функция для измерения количества символов фразы len от length\n",
    "if len(phrase_1) > len(phrase_2):\n",
    "        print(\"Фраза 1 длиннее, чем фраза 2\")\n",
    "elif len(phrase_1) < len(phrase_2):\n",
    "        print(\"Фраза 2 длиннее, чем фраза 1\")\n",
    "else:\n",
    "        print(\"Фразы равной длины\")"
   ]
  },
  {
   "cell_type": "markdown",
   "metadata": {},
   "source": [
    "### Задание 2"
   ]
  },
  {
   "cell_type": "markdown",
   "metadata": {},
   "source": [
    "### Дано:"
   ]
  },
  {
   "cell_type": "markdown",
   "metadata": {},
   "source": [
    "Дана переменная, в которой хранится четырехзначное число (год). Необходимо написать программу, которая выведет, является ли данный год високосным или обычным."
   ]
  },
  {
   "cell_type": "markdown",
   "metadata": {},
   "source": [
    "### Решение"
   ]
  },
  {
   "cell_type": "code",
   "execution_count": 16,
   "metadata": {},
   "outputs": [
    {
     "name": "stdout",
     "output_type": "stream",
     "text": [
      "Год високосный\n"
     ]
    }
   ],
   "source": [
    "#Тест программы\n",
    "\n",
    "#year = 2020\n",
    "#Високосный год\n",
    "\n",
    "#year = 2019\n",
    "#Обычный год\n",
    "\n",
    "#phrase_1 = 'Насколько проще было бы писать программы, если бы не заказчики'\n",
    "#phrase_2 = 'Насколько проще было бы писать программы, если бы не заказчики'\n",
    "#Фразы равной длины\n",
    "\n",
    "year = 2024\n",
    "\n",
    "#високосный год -который  делится на 4 нацело\n",
    "if year % 400 == 0 or (year % 4 == 0 and year % 100 != 0):\n",
    "        print(\"Год високосный\")\n",
    "else :\n",
    "        print(\"Год обычный\")"
   ]
  },
  {
   "cell_type": "markdown",
   "metadata": {},
   "source": [
    "### Задание 3"
   ]
  },
  {
   "cell_type": "markdown",
   "metadata": {},
   "source": [
    "### Дано:"
   ]
  },
  {
   "cell_type": "markdown",
   "metadata": {},
   "source": [
    "Необходимо написать программу, которая будет запрашивать у пользователя месяц и дату рождения и выводить соответствующий знак зодиака."
   ]
  },
  {
   "cell_type": "markdown",
   "metadata": {},
   "source": [
    "### Решение"
   ]
  },
  {
   "cell_type": "code",
   "execution_count": 17,
   "metadata": {},
   "outputs": [
    {
     "name": "stdout",
     "output_type": "stream",
     "text": [
      "Введите Ваш День Рождения=20\n",
      "Введите Ваш Месяц Рождения=Февраль\n",
      "Ваш результат: Рыбы\n"
     ]
    }
   ],
   "source": [
    "#Тест программы\n",
    "\n",
    "#Введите день:30 Введите месяц: Август\n",
    "#Ваш знак зодиака: Дева\n",
    "\n",
    "#Введите день: 29 Введите месяц: Октябрь\n",
    "#Ваш знак зодиака: Скорпион\n",
    "\n",
    "bithday = int(input('Введите Ваш День Рождения = '))\n",
    "bithmonth = input('Введите Ваш Месяц Рождения = ')\n",
    " #Проверка на Водолея\n",
    "if ((bithmonth == 'Январь' and bithday >= 21) or \n",
    "(bithmonth == 'Февраль' and bithday <= 19 )):\n",
    "    print('Ваш результат: Водолей')\n",
    " #Проверка на Рыбу  \n",
    "elif ((bithmonth == 'Февраль' and bithday >= 20) or \n",
    "(bithmonth == 'Март' and bithday <= 20 )):\n",
    "    print('Ваш результат: Рыбы')\n",
    " #Проверка на Овна \n",
    "elif ((bithmonth == 'Март' and bithday >= 21) or \n",
    "(bithmonth == 'Апрель' and bithday <= 20 )):\n",
    "    print('Ваш результат: Овен')\n",
    " #Проверка на Тельца \n",
    "elif ((bithmonth == 'Апрель' and bithday >= 21) or \n",
    "(bithmonth == 'Май' and bithday <= 21 )):\n",
    "    print('Ваш результат: Телец')\n",
    " #Проверка на Близнецов    \n",
    "elif ((bithmonth == 'Май' and bithday >= 22) or \n",
    "(bithmonth == 'Июнь' and bithday <= 21 )):\n",
    "    print('Ваш результат: Близнецы')\n",
    " #Проверка на Рака    \n",
    "elif ((bithmonth == 'Июнь' and bithday >= 22) or \n",
    "(bithmonth == 'Июль' and bithday <= 22 )):\n",
    "    print('Ваш результат: Рак')\n",
    " #Проверка на Льва   \n",
    "elif ((bithmonth == 'Июль' and bithday >= 23) or \n",
    "(bithmonth == 'Август' and bithday <= 21 )):\n",
    "    print('Ваш результат: Лев')\n",
    " #Проверка на Деву   \n",
    "elif ((bithmonth == 'Август' and bithday >= 22) or \n",
    "(bithmonth == 'Сентябрь' and bithday <= 23 )):\n",
    "    print('Ваш результат: Дева')\n",
    " #Проверка на Весы   \n",
    "elif ((bithmonth == 'Сентябрь' and bithday >= 24) or \n",
    "(bithmonth == 'Октябрь' and bithday <= 23 )):\n",
    "    print('Ваш результат: Весы')\n",
    " #Проверка на Скорпиона       \n",
    "elif ((bithmonth == 'Октябрь' and bithday >= 24) or \n",
    "(bithmonth == 'Ноябрь' and bithday <= 22 )):\n",
    "    print('Ваш результат: Скорпион')\n",
    " #Проверка на Стрельца       \n",
    "elif ((bithmonth == 'Ноябрь' and bithday >= 23) or \n",
    "(bithmonth == 'Декабрь' and bithday <= 22 )):\n",
    "    print('Ваш результат: Стрелец')\n",
    " #Проверка на Козерога   \n",
    "elif ((bithmonth == 'Декабрь' and bithday >= 23) or \n",
    "(bithmonth == 'Январь' and bithday <= 20 )):\n",
    "    print('Ваш результат: Козерог')"
   ]
  },
  {
   "cell_type": "markdown",
   "metadata": {},
   "source": [
    "### Задание 4"
   ]
  },
  {
   "cell_type": "markdown",
   "metadata": {},
   "source": [
    "### Дано:"
   ]
  },
  {
   "cell_type": "markdown",
   "metadata": {},
   "source": [
    "Вам нужно написать программу для подбора упаковок по размерам товара. Размеры хранятся в переменных (в сантиметрах):"
   ]
  },
  {
   "cell_type": "markdown",
   "metadata": {},
   "source": [
    "- width = 10\n",
    "- length = 205\n",
    "- height = 5\n",
    "\n",
    "### Используйте следующие правила:\n",
    "\n",
    "1. если каждое из трех измерений менее 15 сантиметров, то выведите на экран \"Коробка №1\";\n",
    "1. если хотя бы одно из измерений больше 15 сантиметров, но менее 50 сантиметров, то выводите \"Коробка №2\";\n",
    "1. если длина товара больше 2 метров, то выводите \"Упаковка для лыж\";\n",
    "1. во всех остальных случаях выводите \"Стандартная коробка №3\"."
   ]
  },
  {
   "cell_type": "markdown",
   "metadata": {},
   "source": [
    "### Решение"
   ]
  },
  {
   "cell_type": "code",
   "execution_count": 25,
   "metadata": {},
   "outputs": [
    {
     "name": "stdout",
     "output_type": "stream",
     "text": [
      "Введите ширину товара = 45\n",
      "Введите длину товара = 205\n",
      "Введите высоту товара = 455\n",
      "Упаковка для лыж\n"
     ]
    }
   ],
   "source": [
    "width = int(input('Введите ширину товара = '))\n",
    "length = int(input('Введите длину товара = '))\n",
    "height = int(input('Введите высоту товара = '))\n",
    "\n",
    "if length > 200:\n",
    "    print('Упаковка для лыж')\n",
    "elif width < 15 and length < 15 and height < 15:\n",
    "    print('Коробка №1')\n",
    "elif 15 < width < 50 or 15 < length < 50 or 15 < height < 50:\n",
    "    print('Коробка №2')\n",
    "else:\n",
    "    print('Стандартная коробка №3')"
   ]
  },
  {
   "cell_type": "markdown",
   "metadata": {},
   "source": [
    "### Задание 5"
   ]
  },
  {
   "cell_type": "markdown",
   "metadata": {},
   "source": [
    "### Дано"
   ]
  },
  {
   "cell_type": "markdown",
   "metadata": {},
   "source": [
    "Дана переменная, в которой хранится шестизначное число (номер проездного билета). Напишите программу, которая будет определять, является ли данный билет \"счастливым\". Билет считается счастливым, если сумма первых трех цифр совпадает с суммой последних трех цифр номера."
   ]
  },
  {
   "cell_type": "markdown",
   "metadata": {},
   "source": [
    "### Тест программы"
   ]
  },
  {
   "cell_type": "markdown",
   "metadata": {},
   "source": [
    "number = 123456\n",
    "Результат:\n",
    "Несчастливый билет\n",
    "\n",
    "number = 123321\n",
    "Результат:\n",
    "Счастливый билет"
   ]
  },
  {
   "cell_type": "markdown",
   "metadata": {},
   "source": [
    "### Решение"
   ]
  },
  {
   "cell_type": "code",
   "execution_count": 5,
   "metadata": {},
   "outputs": [
    {
     "name": "stdout",
     "output_type": "stream",
     "text": [
      "Введите 6-значный номер вашего билета 555666\n",
      "Несчастливый билет! Улыбнись, очень близко =)\n"
     ]
    }
   ],
   "source": [
    "number = int(input('Введите 6-значный номер вашего билета '))\n",
    "#i индекс - число шагов в цикле\n",
    "i = 0\n",
    "#sum123 - переменная собирает сумму первых трёх цифр 6 - значного числа\n",
    "#sum456 - переменная собирает сумму вторых трёх цифр 6 - значного числа\n",
    "sum123 = 0\n",
    "sum456 = 0\n",
    "\n",
    "while i <= 5:\n",
    "    #разряд числа выделяется\n",
    "    number_rank = number // (10 ** (5 - i))\n",
    "    #отнимаем учтённый разряд из исходного числа\n",
    "    number = number - number_rank * (10 ** (5 - i))\n",
    "    #условие проверяет к какой тройке цифр относится разряд и добавляет в нужную переменную\n",
    "    if i <= 2:\n",
    "        sum123 =  sum123 + number_rank\n",
    "    elif i > 2:\n",
    "        sum456 = sum456 + number_rank\n",
    "    i += 1\n",
    "#условие- вердикт, какой же билетик\n",
    "if sum123 == sum456:\n",
    "    print('Счастливый билет! Ура!')\n",
    "else:\n",
    "    print('Несчастливый билет! Улыбнись, очень близко =)')"
   ]
  },
  {
   "cell_type": "markdown",
   "metadata": {},
   "source": [
    "### Задание 6"
   ]
  },
  {
   "cell_type": "markdown",
   "metadata": {},
   "source": [
    "### Дано"
   ]
  },
  {
   "cell_type": "markdown",
   "metadata": {},
   "source": [
    "Напишите программу, которая сможет вычислять площади трех фигур (круг, треугольник и прямоугольник). Тип фигуры запрашиваем через пользовательский ввод, после чего делаем запрос характеристик фигуры:\n",
    "\n",
    "- если пользователь выбрал круг, запрашиваем его радиус,\n",
    "- если треугольник – длины трех его сторон;\n",
    "- если прямоугольник – длины двух его сторон."
   ]
  },
  {
   "cell_type": "markdown",
   "metadata": {},
   "source": [
    "### Тест программы"
   ]
  },
  {
   "cell_type": "markdown",
   "metadata": {},
   "source": [
    "\n",
    "Введите тип фигуры:\n",
    "Круг\n",
    "\n",
    "Введите радиус круга:\n",
    "10\n",
    "Результат:\n",
    "Площадь круга: 314.16\n",
    "\n",
    "Введите тип фигуры:\n",
    "Треугольник\n",
    "\n",
    "Введите длину стороны A:\n",
    "2\n",
    "\n",
    "Введите длину стороны B:\n",
    "2\n",
    "\n",
    "Введите длину стороны C:\n",
    "3\n",
    "Результат:\n",
    "Площадь треугольника: 1.98"
   ]
  },
  {
   "cell_type": "markdown",
   "metadata": {},
   "source": [
    "### Решение"
   ]
  },
  {
   "cell_type": "code",
   "execution_count": 18,
   "metadata": {},
   "outputs": [
    {
     "name": "stdout",
     "output_type": "stream",
     "text": [
      "Введите тип фигуры = Треугольник\n",
      "Введите сторону A = 1\n",
      "Введите сторону B = 1\n",
      "Введите сторону C = 2\n",
      "Площадь треугольника:  0.0\n",
      "Введите тип фигуры = Круг\n",
      "Введите радиус круга = 5\n",
      "Площадь круга:  78.5\n",
      "Введите тип фигуры = end\n"
     ]
    }
   ],
   "source": [
    "#консольный пользовательский интерфейс\n",
    "while True:\n",
    "    figure = input('Введите тип фигуры = ')\n",
    "    if figure == 'Круг':\n",
    "        radius = int(input('Введите радиус круга = '))\n",
    "        S = 3.14 * (radius ** 2)\n",
    "        print('Площадь круга: ', S)\n",
    "    elif figure == 'Треугольник':\n",
    "        A = int(input('Введите сторону A = '))\n",
    "        B = int(input('Введите сторону B = '))\n",
    "        C = int(input('Введите сторону C = '))\n",
    "        polper = (A + B + C) / 2\n",
    "        S = (polper * (polper - A) * (polper - B) * (polper - C)) ** 0.5\n",
    "        print('Площадь треугольника: ', S)\n",
    "    elif figure == 'Прямоугольник':\n",
    "        length = int(input('Введите длину прямоугольника = '))\n",
    "        weight = int(input('Введите ширину прямоугольника = '))\n",
    "        S = length * weight\n",
    "        print('Площадь прямоугольника: ', S)\n",
    "    elif figure == 'end': \n",
    "        break"
   ]
  },
  {
   "cell_type": "code",
   "execution_count": null,
   "metadata": {},
   "outputs": [],
   "source": []
  }
 ],
 "metadata": {
  "kernelspec": {
   "display_name": "Python 3",
   "language": "python",
   "name": "python3"
  },
  "language_info": {
   "codemirror_mode": {
    "name": "ipython",
    "version": 3
   },
   "file_extension": ".py",
   "mimetype": "text/x-python",
   "name": "python",
   "nbconvert_exporter": "python",
   "pygments_lexer": "ipython3",
   "version": "3.8.5"
  }
 },
 "nbformat": 4,
 "nbformat_minor": 4
}
