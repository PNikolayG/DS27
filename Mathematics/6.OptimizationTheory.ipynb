{
 "cells": [
  {
   "cell_type": "markdown",
   "id": "sporting-security",
   "metadata": {},
   "source": [
    "# Домашнее задание \"Теория оптимизации\".\n",
    "\n",
    "## Задание:\n",
    "\n",
    "При фиксированном seed=42 поразбирайтесь и поэкспериментируйте с параметрами алгоритма дифференциальной эволюции: strategy, popsize, tol, mutation, recombination и updating.\n",
    "\n",
    "Постройте графики количества итераций оптимизации функции ackley от значения параметра.\n",
    "\n",
    "## Дополнительное задание:\n",
    "Найти множество параметров (strategy=..., ..., updating=...), которые требуют минимального количества итераций.\n"
   ]
  },
  {
   "cell_type": "markdown",
   "id": "isolated-uniform",
   "metadata": {},
   "source": [
    "## Решение:"
   ]
  },
  {
   "cell_type": "code",
   "execution_count": 1,
   "id": "interstate-crash",
   "metadata": {},
   "outputs": [],
   "source": [
    "import numpy as np\n",
    "from scipy.optimize import differential_evolution"
   ]
  },
  {
   "cell_type": "code",
   "execution_count": 2,
   "id": "dangerous-folder",
   "metadata": {},
   "outputs": [
    {
     "data": {
      "text/plain": [
       "     fun: 4.440892098500626e-16\n",
       " message: 'Optimization terminated successfully.'\n",
       "    nfev: 2793\n",
       "     nit: 90\n",
       " success: True\n",
       "       x: array([0., 0.])"
      ]
     },
     "execution_count": 2,
     "metadata": {},
     "output_type": "execute_result"
    }
   ],
   "source": [
    "def ackley(x):\n",
    "    arg1 = -0.2 * np.sqrt(0.5 * (x[0] ** 2 + x[1] ** 2))\n",
    "    arg2 = 0.5 * (np.cos(2. * np.pi * x[0]) + np.cos(2. * np.pi * x[1]))\n",
    "    return -20. * np.exp(arg1) - np.exp(arg2) + 20. + np.e\n",
    "\n",
    "bounds = [(-10, 10), (-10, 10)]\n",
    "# strategy='best1bin',\n",
    "result = differential_evolution(ackley, bounds, seed=42)\n",
    "result"
   ]
  },
  {
   "cell_type": "code",
   "execution_count": 12,
   "id": "standard-selling",
   "metadata": {},
   "outputs": [
    {
     "data": {
      "text/plain": [
       "     fun: 4.440892098500626e-16\n",
       " message: 'Optimization terminated successfully.'\n",
       "    nfev: 5133\n",
       "     nit: 168\n",
       " success: True\n",
       "       x: array([0., 0.])"
      ]
     },
     "execution_count": 12,
     "metadata": {},
     "output_type": "execute_result"
    }
   ],
   "source": [
    "# рубрика ЭКСПЕРИМЕНТЫ\n",
    "# + strategy='rand1bin'\n",
    "result = differential_evolution(ackley, bounds, seed=42, strategy='rand1bin')\n",
    "result"
   ]
  },
  {
   "cell_type": "code",
   "execution_count": 13,
   "id": "fossil-reserve",
   "metadata": {},
   "outputs": [
    {
     "data": {
      "text/plain": [
       "     fun: 2.134514787144326e-11\n",
       " message: 'Optimization terminated successfully.'\n",
       "    nfev: 1247\n",
       "     nit: 147\n",
       " success: True\n",
       "       x: array([-1.0369483e-12, -7.4740214e-12])"
      ]
     },
     "execution_count": 13,
     "metadata": {},
     "output_type": "execute_result"
    }
   ],
   "source": [
    "# + popsize = 4\n",
    "result = differential_evolution(ackley, bounds, seed=42, strategy='rand1bin', popsize = 4)\n",
    "result"
   ]
  },
  {
   "cell_type": "code",
   "execution_count": 23,
   "id": "solved-happiness",
   "metadata": {},
   "outputs": [
    {
     "data": {
      "text/plain": [
       "     fun: 4.440892098500626e-16\n",
       " message: 'Optimization terminated successfully.'\n",
       "    nfev: 1775\n",
       "     nit: 213\n",
       " success: True\n",
       "       x: array([0., 0.])"
      ]
     },
     "execution_count": 23,
     "metadata": {},
     "output_type": "execute_result"
    }
   ],
   "source": [
    "# + tol=0.001\n",
    "result = differential_evolution(ackley, bounds, seed=42, strategy='rand1bin', popsize = 4, tol=0.001)\n",
    "result"
   ]
  },
  {
   "cell_type": "code",
   "execution_count": 25,
   "id": "indie-malta",
   "metadata": {},
   "outputs": [
    {
     "data": {
      "text/plain": [
       "     fun: 4.440892098500626e-16\n",
       " message: 'Optimization terminated successfully.'\n",
       "    nfev: 1111\n",
       "     nit: 130\n",
       " success: True\n",
       "       x: array([0., 0.])"
      ]
     },
     "execution_count": 25,
     "metadata": {},
     "output_type": "execute_result"
    }
   ],
   "source": [
    "# + mutation=0.5 ---> tol=0.01\n",
    "result = differential_evolution(ackley, bounds, seed=42, strategy='rand1bin', popsize = 4, tol=0.01, mutation=0.5)\n",
    "result"
   ]
  },
  {
   "cell_type": "code",
   "execution_count": 38,
   "id": "chemical-sight",
   "metadata": {},
   "outputs": [
    {
     "data": {
      "text/plain": [
       "     fun: 4.440892098500626e-16\n",
       " message: 'Optimization terminated successfully.'\n",
       "    nfev: 1063\n",
       "     nit: 124\n",
       " success: True\n",
       "       x: array([0., 0.])"
      ]
     },
     "execution_count": 38,
     "metadata": {},
     "output_type": "execute_result"
    }
   ],
   "source": [
    "# + recombination=0.4\n",
    "result = differential_evolution(ackley, bounds, seed=42, strategy='rand1bin', popsize = 4, tol=0.01, mutation=0.5, recombination=0.4)\n",
    "result"
   ]
  },
  {
   "cell_type": "code",
   "execution_count": 47,
   "id": "exotic-writer",
   "metadata": {},
   "outputs": [
    {
     "data": {
      "text/plain": [
       "     fun: 4.440892098500626e-16\n",
       " message: 'Optimization terminated successfully.'\n",
       "    nfev: 1063\n",
       "     nit: 124\n",
       " success: True\n",
       "       x: array([0., 0.])"
      ]
     },
     "execution_count": 47,
     "metadata": {},
     "output_type": "execute_result"
    }
   ],
   "source": [
    "# + updating='deferred' - увеличивает число переборов --- updating='immediate'\n",
    "result = differential_evolution(ackley, bounds, seed=42, strategy='rand1bin', popsize = 4, tol=0.01, mutation=0.5, recombination=0.4, updating='immediate')\n",
    "result"
   ]
  },
  {
   "cell_type": "markdown",
   "id": "specific-missouri",
   "metadata": {},
   "source": [
    "## Дополнительное задание:\n",
    "Найти множество параметров (strategy=..., ..., updating=...), которые требуют минимального количества итераций. ---> nit - min\n",
    "Будем перебирать все параметры по порядку, не учитывая различные комбинации"
   ]
  },
  {
   "cell_type": "code",
   "execution_count": 158,
   "id": "ordinary-mississippi",
   "metadata": {},
   "outputs": [
    {
     "data": {
      "text/plain": [
       "     fun: 4.440892098500626e-16\n",
       " message: 'Optimization terminated successfully.'\n",
       "    nfev: 783\n",
       "     nit: 23\n",
       " success: True\n",
       "       x: array([0., 0.])"
      ]
     },
     "execution_count": 158,
     "metadata": {},
     "output_type": "execute_result"
    }
   ],
   "source": [
    "# наилучший вариант, который был найден представлен ниже, с сохранением полученной координаты минимума с той же точностью\n",
    "result = differential_evolution(ackley, bounds, seed=42, strategy='best1bin', popsize=15, tol=0.001, mutation=0.12, recombination=0.7, updating='immediate')\n",
    "result"
   ]
  },
  {
   "cell_type": "code",
   "execution_count": null,
   "id": "radical-village",
   "metadata": {},
   "outputs": [],
   "source": []
  }
 ],
 "metadata": {
  "kernelspec": {
   "display_name": "Python 3",
   "language": "python",
   "name": "python3"
  },
  "language_info": {
   "codemirror_mode": {
    "name": "ipython",
    "version": 3
   },
   "file_extension": ".py",
   "mimetype": "text/x-python",
   "name": "python",
   "nbconvert_exporter": "python",
   "pygments_lexer": "ipython3",
   "version": "3.8.8"
  }
 },
 "nbformat": 4,
 "nbformat_minor": 5
}
