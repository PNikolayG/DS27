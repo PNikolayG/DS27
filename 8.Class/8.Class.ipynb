{
 "cells": [
  {
   "cell_type": "markdown",
   "metadata": {},
   "source": [
    "# Домашнее задание по теме \"Понятие класса\"\n",
    "### Задание №1\n",
    "### Дано\n",
    "Напишите функцию, которая возвращает название валюты (поле ‘Name’) с максимальным значением курса с помощью сервиса https://www.cbr-xml-daily.ru/daily_json.js\n",
    "### Решение\n"
   ]
  },
  {
   "cell_type": "code",
   "execution_count": 16,
   "metadata": {},
   "outputs": [
    {
     "name": "stdout",
     "output_type": "stream",
     "text": [
      "СДР (специальные права заимствования) : 105.9449\n"
     ]
    }
   ],
   "source": [
    "#импортируем библиотеку запросов, чтобы взаимодействовать с сайтом\n",
    "import requests\n",
    "def max_currency():\n",
    "    #помещаем в переменную данные с сайта формата json\n",
    "    full_data = requests.get('https://www.cbr-xml-daily.ru/daily_json.js').json()\n",
    "    #создадим пустой список для результата отбора\n",
    "    maximum = [0, 0]\n",
    "    # в цикле перебираем словарь по валютам, по условию путём сранивания, если \"бОльше займи моё место\"\n",
    "    for tiker in full_data['Valute']:\n",
    "        if full_data['Valute'][tiker]['Value'] > maximum[1]:\n",
    "            maximum[0] = full_data['Valute'][tiker]['Name']\n",
    "            maximum[1] = full_data['Valute'][tiker]['Value']\n",
    "    print('{} : {}'.format(maximum[0], maximum[1]))\n",
    "max_currency()"
   ]
  },
  {
   "cell_type": "markdown",
   "metadata": {},
   "source": [
    "### Задание №2\n",
    "### Дано\n",
    "Добавьте в класс Rate параметр diff (со значениями True или False), который в случае значения True в методах курсов валют (eur, usd итд) будет возвращать не курс валюты, а изменение по сравнению с прошлым значением. Считайте, self.diff будет принимать значение True только при возврате значения курса. При отображении всей информации о валюте он не используется.\n",
    "### Решение\n"
   ]
  },
  {
   "cell_type": "code",
   "execution_count": 4,
   "metadata": {},
   "outputs": [
    {
     "data": {
      "text/plain": [
       "0.54"
      ]
     },
     "execution_count": 4,
     "metadata": {},
     "output_type": "execute_result"
    }
   ],
   "source": [
    "class Rate:\n",
    "    def __init__(self, format_ = 'value', diff = False):\n",
    "        self.format = format_\n",
    "        self.diff = diff\n",
    "    \n",
    "    def exchange_rates(self):\n",
    "        \"\"\"\n",
    "        Возвращает ответ сервиса с информацией о валютах в виде:\n",
    "        \n",
    "        {\n",
    "            'AMD': {\n",
    "                'CharCode': 'AMD',\n",
    "                'ID': 'R01060',\n",
    "                'Name': 'Армянских драмов',\n",
    "                'Nominal': 100,\n",
    "                'NumCode': '051',\n",
    "                'Previous': 14.103,\n",
    "                'Value': 14.0879\n",
    "                },\n",
    "            ...\n",
    "        }\n",
    "        \"\"\"\n",
    "        self.r = requests.get('https://www.cbr-xml-daily.ru/daily_json.js')\n",
    "        return self.r.json()['Valute']\n",
    "    \n",
    "    def make_format(self, currency):\n",
    "        \"\"\"\n",
    "        Возвращает информацию о валюте currency в двух вариантах:\n",
    "        - полная информация о валюте при self.format = 'full':\n",
    "        Rate('full').make_format('EUR')\n",
    "        {\n",
    "            'CharCode': 'EUR',\n",
    "            'ID': 'R01239',\n",
    "            'Name': 'Евро',\n",
    "            'Nominal': 1,\n",
    "            'NumCode': '978',\n",
    "            'Previous': 79.6765,\n",
    "            'Value': 79.4966\n",
    "        }\n",
    "        \n",
    "        Rate('value').make_format('EUR')\n",
    "        79.4966\n",
    "        \"\"\"\n",
    "        response = self.exchange_rates()\n",
    "        \n",
    "        if currency in response:\n",
    "            if self.format == 'full':\n",
    "                return response[currency]\n",
    "            \n",
    "            if self.format == 'value' and self.diff == False:\n",
    "                return response[currency]['Value']\n",
    "            \n",
    "            if self.format == 'value' and self.diff == True:\n",
    "                return (response[currency]['Previous'] - response[currency]['Value'])\n",
    "        \n",
    "        return 'Error'\n",
    "    \n",
    "    def eur(self):\n",
    "        \"\"\"Возвращает курс евро на сегодня в формате self.format\"\"\"\n",
    "        return self.make_format('EUR')\n",
    "    \n",
    "    def usd(self):\n",
    "        \"\"\"Возвращает курс доллара на сегодня в формате self.format\"\"\"\n",
    "        return self.make_format('USD')\n",
    "    \n",
    "    def brl(self):\n",
    "        \"\"\"Возвращает курс бразильского реала на сегодня в формате self.format\"\"\"\n",
    "        return self.make_format('BRL')\n",
    "    \n",
    "r = Rate(format_='value', diff = True)\n",
    "round(r.eur(), 3)"
   ]
  },
  {
   "cell_type": "markdown",
   "metadata": {},
   "source": [
    "### Задание №3\n",
    "### Дано\n",
    "Напишите класс Designer, который учитывает количество международных премий. \n",
    "\n",
    "Подсказки в коде занятия в разделе “Домашнее задание задача 3”.\n",
    "\n",
    "Комментарий по классу Designer такой:\n",
    "\n",
    "Напишите класс Designer, который учитывает количество международных премий для дизайнеров (из презентации: “Повышение на 1 грейд за каждые 7 баллов. Получение международной премии – это +2 балла”). Считайте, что при выходе на работу сотрудник уже имеет две премии и их количество не меняется со стажем (конечно если хотите это можно вручную менять).\n",
    "\n",
    "Класс Designer пишется по аналогии с классом Developer из материалов занятия. Комментарий про его условия Вика написала выше: “Повышение на 1 грейд за каждые 7 баллов. Получение международной премии – это +2 балла”\n",
    "### Решение\n"
   ]
  },
  {
   "cell_type": "code",
   "execution_count": 13,
   "metadata": {},
   "outputs": [
    {
     "name": "stdout",
     "output_type": "stream",
     "text": [
      "Имя: Alex Грейд: 4 Количество премий: 10  Количество баллов: 6\n",
      "Имя: Alex Грейд: 5 Количество премий: 11  Количество баллов: 1\n",
      "Имя: Alex Грейд: 5 Количество премий: 12  Количество баллов: 3\n",
      "Имя: Alex Грейд: 5 Количество премий: 13  Количество баллов: 5\n",
      "Имя: Alex Грейд: 6 Количество премий: 14  Количество баллов: 0\n",
      "Имя: Alex Грейд: 6 Количество премий: 15  Количество баллов: 2\n",
      "Имя: Alex Грейд: 6 Количество премий: 16  Количество баллов: 4\n",
      "Имя: Alex Грейд: 6 Количество премий: 17  Количество баллов: 6\n",
      "Имя: Alex Грейд: 7 Количество премий: 18  Количество баллов: 1\n",
      "Имя: Alex Грейд: 7 Количество премий: 19  Количество баллов: 3\n",
      "Имя: Alex Грейд: 7 Количество премий: 20  Количество баллов: 5\n",
      "Имя: Alex Грейд: 8 Количество премий: 21  Количество баллов: 0\n",
      "Имя: Alex Грейд: 8 Количество премий: 22  Количество баллов: 2\n",
      "Имя: Alex Грейд: 8 Количество премий: 23  Количество баллов: 4\n",
      "Имя: Alex Грейд: 8 Количество премий: 24  Количество баллов: 6\n",
      "Имя: Alex Грейд: 9 Количество премий: 25  Количество баллов: 1\n",
      "Имя: Alex Грейд: 9 Количество премий: 26  Количество баллов: 3\n",
      "Имя: Alex Грейд: 9 Количество премий: 27  Количество баллов: 5\n",
      "Имя: Alex Грейд: 10 Количество премий: 28  Количество баллов: 0\n",
      "Имя: Alex Грейд: 10 Количество премий: 29  Количество баллов: 2\n"
     ]
    }
   ],
   "source": [
    "class Designer:\n",
    "    def __init__(self, name, grade = 0, num_prizes = 2):\n",
    "        \"\"\"Метод учитывает в классе при входных параметрах имя, грейд и количество премий, внутри себя рассчитывает \n",
    "        количество баллов\"\"\"\n",
    "        self.name = name\n",
    "        self.grade = grade\n",
    "        self.num_prizes = num_prizes\n",
    "        self.points = num_prizes * 2\n",
    "    \n",
    "    def up_points_for_prize(self, num_prizes = 1):\n",
    "        \"\"\"Метод прибавляет заданное количество премий(по умолчанию 1) человеку и рассчитывает его баллы\"\"\"\n",
    "        self.num_prizes = self.num_prizes + num_prizes\n",
    "        self.points = self.points + 2 * num_prizes\n",
    "        \n",
    "    \n",
    "    def check_time_for_up(self):\n",
    "        \"\"\"Метод проверяет количество баллов и увеличивает грейд сотрудника согласно правилу за каждые 7 баллов +1 грейд\"\"\"\n",
    "        #условие проверяет, если количество баллов делится на 7, значит пора повышать\n",
    "        if (self.points / 7) >= 1:\n",
    "            #высчитывается насколько пора повышать путём деления нацело, полученное число и прибавляется к грейду\n",
    "            up_for_grade = self.points // 7\n",
    "            self.grade =  self.grade + up_for_grade\n",
    "            #далее из складывающихся баллов вычитают те баллы, которые были учтены при повышении грейда\n",
    "            self.points -= up_for_grade * 7\n",
    "        return print('Имя: {} Грейд: {} Количество премий: {}  Количество баллов: {}'.format(self.name, self.grade, self.num_prizes, self.points))\n",
    "    \n",
    "a = Designer('Alex', 0)\n",
    "for number_prizes in range(0, 20):\n",
    "    a.check_time_for_up()\n",
    "    a.up_points_for_prize()\n",
    "    \n"
   ]
  }
 ],
 "metadata": {
  "kernelspec": {
   "display_name": "Python 3",
   "language": "python",
   "name": "python3"
  },
  "language_info": {
   "codemirror_mode": {
    "name": "ipython",
    "version": 3
   },
   "file_extension": ".py",
   "mimetype": "text/x-python",
   "name": "python",
   "nbconvert_exporter": "python",
   "pygments_lexer": "ipython3",
   "version": "3.8.8"
  }
 },
 "nbformat": 4,
 "nbformat_minor": 4
}
