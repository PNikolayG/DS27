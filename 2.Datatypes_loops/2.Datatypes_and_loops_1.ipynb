{
 "cells": [
  {
   "cell_type": "markdown",
   "metadata": {},
   "source": [
    "# Домашнее задание \"Введение в типы данных и циклы. Часть 1\""
   ]
  },
  {
   "cell_type": "markdown",
   "metadata": {},
   "source": [
    "## Задание 1"
   ]
  },
  {
   "cell_type": "markdown",
   "metadata": {},
   "source": [
    "### Дано"
   ]
  },
  {
   "cell_type": "markdown",
   "metadata": {},
   "source": [
    "Дана переменная, в которой хранится слово из латинских букв. Напишите код, который выводит на экран:\n",
    "\n",
    "- среднюю букву, если число букв в слове нечетное;\n",
    "- две средних буквы, если число букв четное."
   ]
  },
  {
   "cell_type": "markdown",
   "metadata": {},
   "source": [
    "### Тест программы\n",
    "\n",
    "word = 'test'\n",
    "Результат:\n",
    "es\n",
    "\n",
    "word = 'testing'\n",
    "Результат:\n",
    "t"
   ]
  },
  {
   "cell_type": "markdown",
   "metadata": {},
   "source": [
    "### Решение"
   ]
  },
  {
   "cell_type": "code",
   "execution_count": 80,
   "metadata": {},
   "outputs": [
    {
     "name": "stdout",
     "output_type": "stream",
     "text": [
      "Введите любое слово testing\n",
      "t\n"
     ]
    }
   ],
   "source": [
    "#вводим любюое слово\n",
    "word = str(input('Введите любое слово '))\n",
    "#определение длины строки\n",
    "length = len(word)\n",
    "#сразу высчитывает \"середину\" или рядом\n",
    "num = len(word) // 2\n",
    "#проверка на чётность букв через остаток от деления\n",
    "if length % 2 == 0:\n",
    "    #вывод через f функцию - рядом(так как нумерация с 0) и середину строки\n",
    "    print(f\"{word[num-1]}{word[num]}\")\n",
    "else:\n",
    "    print(word[num])\n"
   ]
  },
  {
   "cell_type": "markdown",
   "metadata": {},
   "source": [
    "## Задание 2"
   ]
  },
  {
   "cell_type": "markdown",
   "metadata": {},
   "source": [
    "### Дано"
   ]
  },
  {
   "cell_type": "markdown",
   "metadata": {},
   "source": [
    "Напишите программу, которая последовательно запрашивает у пользователя числа (по одному за раз) и после первого нуля выводит сумму всех ранее введенных чисел."
   ]
  },
  {
   "cell_type": "markdown",
   "metadata": {},
   "source": [
    "### Тест программы\n",
    "\n",
    "1. Введите число:       1\n",
    "    Введите число:      4\n",
    "    Введите число:      6\n",
    "    Введите число:      0\n",
    "    Результат:          11\n",
    "\n",
    "\n",
    "2. Введите число:       0\n",
    "   Результат:           0"
   ]
  },
  {
   "cell_type": "code",
   "execution_count": 33,
   "metadata": {},
   "outputs": [
    {
     "name": "stdout",
     "output_type": "stream",
     "text": [
      "Введите число 0\n",
      "Результат:  0\n",
      "Введи \"Д\" = Далее или \"C\" = Стоп: Д\n",
      "Введите число 12\n",
      "Введите число 1\n",
      "Введите число 0\n",
      "Результат:  13\n",
      "Введи \"Д\" = Далее или \"C\" = Стоп: С\n"
     ]
    }
   ],
   "source": [
    "#создание пустого списка, куда будут добавляться числа\n",
    "numbers_list=[]\n",
    "#клиенто-пользовательский интерфейс\n",
    "while True:\n",
    "    number = int(input('Введите число '))\n",
    "    #вводимое число добавляется в конце списка\n",
    "    numbers_list.append(number)\n",
    "    if number == 0:\n",
    "        print('Результат: ', sum(numbers_list))\n",
    "        #обнуление списка, чтобы в следующей иттерации не учитывались предыдущие числа\n",
    "        numbers_list=[]\n",
    "        #обновление/стоп программы счёта\n",
    "        start = str(input('Введи \"Д\" = Далее или \"C\" = Стоп: '))\n",
    "        if start == 'Д':\n",
    "            continue\n",
    "        elif start == 'С':\n",
    "            break    "
   ]
  },
  {
   "cell_type": "markdown",
   "metadata": {},
   "source": [
    "##  Задание 3"
   ]
  },
  {
   "cell_type": "markdown",
   "metadata": {},
   "source": [
    "### Дано\n",
    "\n",
    "Мы делаем MVP (minimum viable product)dating-сервиса, и у нас есть список парней и девушек.\n",
    "Выдвигаем гипотезу: лучшие рекомендации мы получим, если просто отсортируем имена по алфавиту и познакомим людей с одинаковыми индексами после сортировки! Но мы не будем никого знакомить, если кто-то может остаться без пары:"
   ]
  },
  {
   "cell_type": "markdown",
   "metadata": {},
   "source": [
    "### Тест программы\n",
    "\n",
    "1. boys = ['Peter', 'Alex', 'John', 'Arthur', 'Richard']\n",
    "    girls = ['Kate', 'Liza', 'Kira', 'Emma', 'Trisha']\n",
    "    Результат:\n",
    "\n",
    "    Идеальные пары:  \n",
    "    Alex и Emma  \n",
    "    Arthur и Kate  \n",
    "    John и Kira  \n",
    "    Peter и Liza  \n",
    "    Richard и Trisha\n",
    "2. boys = ['Peter', 'Alex', 'John', 'Arthur', 'Richard', 'Michael']\n",
    "    girls = ['Kate', 'Liza', 'Kira', 'Emma', 'Trisha']\n",
    "    Результат:\n",
    "    Внимание, кто-то может остаться без пары!"
   ]
  },
  {
   "cell_type": "markdown",
   "metadata": {},
   "source": [
    "### Решение"
   ]
  },
  {
   "cell_type": "code",
   "execution_count": 22,
   "metadata": {},
   "outputs": [
    {
     "name": "stdout",
     "output_type": "stream",
     "text": [
      "Идеальные пары:\n",
      "Alex и Emma\n",
      "Arthur и Kate\n",
      "John и Kira\n",
      "Peter и Liza\n",
      "Richard и Trisha\n"
     ]
    }
   ],
   "source": [
    "boys = ['Peter', 'Alex', 'John', 'Arthur', 'Richard']\n",
    "girls = ['Kate', 'Liza', 'Kira', 'Emma', 'Trisha']\n",
    "#так как списки изменяемый тип данных, необходимо создать новые переменные и с ними работать\n",
    "sorted_boys = sorted(boys)\n",
    "sorted_girls = sorted(girls)\n",
    "if len(boys) == len(girls):\n",
    "    print('Идеальные пары:' )\n",
    "    for number in range(len(sorted_boys)):\n",
    "        print(sorted_boys[number], 'и', sorted_girls[number])\n",
    "else:\n",
    "    print('Внимание, кто-то может остаться без пары!')"
   ]
  },
  {
   "cell_type": "markdown",
   "metadata": {},
   "source": [
    "## Задание 4"
   ]
  },
  {
   "cell_type": "markdown",
   "metadata": {},
   "source": [
    "### Дано\n",
    "У нас есть список, содержащий информацию о среднедневной температуре в Фаренгейтах за произвольный период по странам (структура данных в примере). Необходимо написать код, который рассчитает среднюю температуру за период в Цельсиях(!) для каждой страны."
   ]
  },
  {
   "cell_type": "markdown",
   "metadata": {},
   "source": [
    "### Тест программы\n",
    "countries_temperature = [\n",
    "    \n",
    "    ['Thailand', [75.2, 77, 78.8, 73.4, 68, 75.2, 77]],\n",
    "    \n",
    "    ['Germany', [57.2, 55.4, 59, 59, 53.6]],\n",
    "    \n",
    "    ['Russia', [35.6, 37.4, 39.2, 41, 42.8, 39.2, 35.6]],\n",
    "    \n",
    "    ['Poland', [50, 50, 53.6, 57.2, 55.4, 55.4]]\n",
    "]\n",
    "\n",
    "Результат:\n",
    "\n",
    "Средняя температура в странах:\n",
    "\n",
    "Thailand  -  23.9 С\n",
    "\n",
    "Germany  -  13.8 С\n",
    "\n",
    "Russia  -  3.7 С\n",
    "\n",
    "Poland  -  12.0 С"
   ]
  },
  {
   "cell_type": "markdown",
   "metadata": {},
   "source": [
    "### Решение"
   ]
  },
  {
   "cell_type": "code",
   "execution_count": 18,
   "metadata": {},
   "outputs": [
    {
     "name": "stdout",
     "output_type": "stream",
     "text": [
      "Средняя температура в странах: \n",
      "Thailand - 23.9 C \n",
      "Germany - 13.8 C \n",
      "Russia - 3.7 C \n",
      "Poland - 12.0 C \n"
     ]
    }
   ],
   "source": [
    "countries_temperature = [['Thailand', [75.2, 77, 78.8, 73.4, 68, 75.2, 77]], \n",
    "                         ['Germany', [57.2, 55.4, 59, 59, 53.6]], \n",
    "                         ['Russia', [35.6, 37.4, 39.2, 41, 42.8, 39.2, 35.6]], \n",
    "                         ['Poland', [50, 50, 53.6, 57.2, 55.4, 55.4]]]\n",
    "print('Средняя температура в странах: ')\n",
    "#цикл for пробегается по каждому элементу списка для каждой страны\n",
    "for number in range(len(countries_temperature)):\n",
    "    #Для каждой страны далее находим сумму температур в Фаренгейтах\n",
    "    sum_temp = sum(countries_temperature[number][1])\n",
    "    #переводим сумму Фаренгейтов в Цельсии по формуле (F-32*len(list))/1.8\n",
    "    F_to_C = (sum_temp - 32 * len(countries_temperature[number][1])) * 5 / 9 \n",
    "    #находим среднее арифметическое за период для каждой страны и получаем число уже в Цельсиях\n",
    "    average_temp = F_to_C / (len(countries_temperature[number][1]))\n",
    "    #вывод при помощи f-строки, с округлением до 1 знака после запятой\n",
    "    print(f\"{countries_temperature[number][0]} - {average_temp :.1f} C \")\n"
   ]
  },
  {
   "cell_type": "markdown",
   "metadata": {},
   "source": [
    "## Задание 5"
   ]
  },
  {
   "cell_type": "markdown",
   "metadata": {},
   "source": [
    "### Дано\n",
    "Дан поток логов по количеству просмотренных страниц для каждого пользователя. Вам необходимо написать алгоритм, который считает среднее значение просмотров на пользователя. Т. е. надо посчитать отношение суммы всех просмотров к количеству уникальных пользователей."
   ]
  },
  {
   "cell_type": "markdown",
   "metadata": {},
   "source": [
    "### Тест программы\n",
    "\n",
    "stream = [\n",
    "  -   '2018-01-01,user1,3',\n",
    "  - '2018-01-07,user1,4',\n",
    "  -  '2018-03-29,user1,1',\n",
    "  -  '2018-04-04,user1,13',\n",
    "  -  '2018-01-05,user2,7',\n",
    "  -  '2018-06-14,user3,4',\n",
    "  -  '2018-07-02,user3,10',\n",
    "  -  '2018-03-21,user4,19',\n",
    "  -  '2018-03-22,user4,4',\n",
    "  -  '2018-04-22,user4,8',\n",
    "  -  '2018-05-03,user4,9',\n",
    "  -  '2018-05-11,user4,11',\n",
    "]\n",
    "\n",
    "Результат:\n",
    "Среднее количество просмотров на уникального пользователя: 23.25\n",
    "\n",
    "stream = [\n",
    "   - '2018-01-01,user100,150',\n",
    "   - '2018-01-07,user99,205',\n",
    "   - '2018-03-29,user1001,81'\n",
    "]\n",
    "\n",
    "Результат:\n",
    "Среднее количество просмотров на уникального пользователя: 145.33"
   ]
  },
  {
   "cell_type": "markdown",
   "metadata": {},
   "source": [
    "### Решение"
   ]
  },
  {
   "cell_type": "code",
   "execution_count": 51,
   "metadata": {},
   "outputs": [
    {
     "name": "stdout",
     "output_type": "stream",
     "text": [
      "Среднее количество просмотров на уникального пользователя: 23.25\n"
     ]
    }
   ],
   "source": [
    "stream =  ['2018-01-01,user1,3',\n",
    "'2018-01-07,user1,4',\n",
    "'2018-03-29,user1,1',\n",
    "'2018-04-04,user1,13',\n",
    "'2018-01-05,user2,7',\n",
    "'2018-06-14,user3,4',\n",
    "'2018-07-02,user3,10',\n",
    "'2018-03-21,user4,19',\n",
    "'2018-03-22,user4,4',\n",
    "'2018-04-22,user4,8',\n",
    "'2018-05-03,user4,9',\n",
    "'2018-05-11,user4,11', ]\n",
    "#преобразуем список в строку, тк из этого списка неудобно выбирать значение первому индексу соответствует сразу 3 значимых \n",
    "#параметра: дата, пользователь и просмотры, делаем при помощи join метода\n",
    "stream = ','.join(stream)\n",
    "#теперь преобразуем обратно в список через разделитель запятая, теперь у нас один индекс - один параметр\n",
    "stream = stream.split(',')\n",
    "#объявим два списка: первый для уникальных пользователей, а второй для просмотров\n",
    "users_list = []\n",
    "views_list = []\n",
    "#используем цикл, бегающий по элементам списка и сортирующий их по признаку, знаем, что дата стоит на элементе 0+3n\n",
    "#пользователь - 1+3n, просмотры - 2+3n, где первое число это индекс первого элемента параметра, а 3n - шаг, отсюда представленная\n",
    "#ниже сортировка, пользователя проверяем на уникальность при помощи not in\n",
    "\n",
    "sum = 0\n",
    "for number in range(len(stream)):\n",
    "    if number % 3 == 1 and stream[number] not in users_list:\n",
    "        users_list.append(stream[number])\n",
    "    elif number % 3 == 2:\n",
    "        views_list.append(stream[number])\n",
    "        #теперь надо найти суммы всех просмотров, однако они у нас имеют тип str,надо поменяв тип и суммировать их\n",
    "        sum = int(stream[number])  + sum\n",
    "#последним шагом считаем отношение которое требуется, при выводе округляем до 2 знаков после запятой\n",
    "average_views = sum / len(users_list)\n",
    "print(f\"Среднее количество просмотров на уникального пользователя: {average_views :.2f}\")"
   ]
  },
  {
   "cell_type": "markdown",
   "metadata": {},
   "source": [
    "## Задание 6"
   ]
  },
  {
   "cell_type": "markdown",
   "metadata": {},
   "source": [
    "### Дано\n",
    "Необходимо у пользователя запрашивать набор чисел разделенных пробелом. В результате должны выводиться числа, которые повторяются в вводе более одного раза."
   ]
  },
  {
   "cell_type": "markdown",
   "metadata": {},
   "source": [
    "### Тест программы\n",
    "Введите числа:\n",
    "4 8 0 3 4 2 0 3\n",
    "Результат:\n",
    "0 3 4\n",
    "\n",
    "Введите числа:\n",
    "1 1 2 2 3 3\n",
    "Результат:\n",
    "1 2 3\n",
    "\n",
    "Введите числа:\n",
    "1 1 1 1 1 2 2 2\n",
    "Результат:\n",
    "1 2"
   ]
  },
  {
   "cell_type": "markdown",
   "metadata": {},
   "source": [
    "### Решение"
   ]
  },
  {
   "cell_type": "code",
   "execution_count": 79,
   "metadata": {},
   "outputs": [
    {
     "name": "stdout",
     "output_type": "stream",
     "text": [
      "Введите числа через пробел: 1 1 1 2 2 3 4 5 5\n",
      "Результат: \n",
      "1 2 5\n"
     ]
    }
   ],
   "source": [
    "#ввод чисел через пробел благодаря методу .split()\n",
    "users_numbers = input('Введите числа через пробел: ').split()\n",
    "print('Результат: ')\n",
    "#создаём список, куда будем помещать числа, которые повторяются более одного раза\n",
    "repeating_numbers = []\n",
    "#цикл for для перебора списка с введёнными числами\n",
    "for index in range(len(users_numbers)):\n",
    "    #отбор идёт по двумя условиям, есть ли уже в списке repeating И повторяется более 1 раза в введённом списке\n",
    "    if users_numbers[index] not in repeating_numbers and users_numbers.count(users_numbers[index]) > 1:\n",
    "        repeating_numbers.append(users_numbers[index])\n",
    "#вывод через пробел списка при помощи метода ' '.join\n",
    "print(' '.join(repeating_numbers)) "
   ]
  }
 ],
 "metadata": {
  "kernelspec": {
   "display_name": "Python 3",
   "language": "python",
   "name": "python3"
  },
  "language_info": {
   "codemirror_mode": {
    "name": "ipython",
    "version": 3
   },
   "file_extension": ".py",
   "mimetype": "text/x-python",
   "name": "python",
   "nbconvert_exporter": "python",
   "pygments_lexer": "ipython3",
   "version": "3.8.8"
  }
 },
 "nbformat": 4,
 "nbformat_minor": 4
}
