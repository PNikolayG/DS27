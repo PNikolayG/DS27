{
 "cells": [
  {
   "cell_type": "markdown",
   "id": "sporting-security",
   "metadata": {},
   "source": [
    "# Домашнее задание \"Производная функции нескольких аргументов\".\n",
    "\n",
    "## Уровень 0:\n",
    "\n",
    "Посчитайте частные производные функций:\n",
    "\n",
    "1) $f(x,y)=2x^2y^3 + 1/x + y^2x + 7$, а для этой функции также градиент в точке $(1,2)$\n",
    "\n",
    "2) $f(x,y)=x^2y - sin(xy) + cos(x^2) + 6y$\n",
    "\n",
    "## Уровень 1:\n",
    "\n",
    "Градиентный спуск своими руками:\n",
    "def f(x):\n",
    "    return (x[0]**2) + (x[1]**2)\n",
    "    \n",
    "\n",
    "x = np.array([100, 200])\n",
    "learning_rate = 0.1\n",
    "\n",
    "\n",
    "\n",
    "for i in range(100):\n",
    "    # Calculate gradient\n",
    "    grad = # Your code here (функция для вычисления градиента есть в лекционном ноутбуке)\n",
    "    \n",
    "    # Update x with gradient\n",
    "    x = # Your code here (смотри слайд презентации про градиентный спуск)\n",
    "    \n",
    "    \n",
    "print(\"Минимум достигается в: \", x)\n",
    "print(\"Значение функции в минимуме: \", f(x))\n",
    "\n",
    "\n",
    "Проверка с помощью встроенной функции numpy:"
   ]
  },
  {
   "cell_type": "markdown",
   "id": "isolated-uniform",
   "metadata": {},
   "source": [
    "## Уровень 0:\n",
    "## Посчитайте частные производные функций:\n",
    "\n",
    "1) $f(x,y)=2x^2y^3 + 1/x + y^2x + 7$, а для этой функции также градиент в точке $(1,2)$\n",
    "\n",
    "2) $f(x,y)=x^2y - sin(xy) + cos(x^2) + 6y$"
   ]
  },
  {
   "cell_type": "code",
   "execution_count": 57,
   "id": "interstate-crash",
   "metadata": {},
   "outputs": [],
   "source": [
    "import numpy as np\n",
    "from scipy.optimize import approx_fprime\n",
    "from scipy.misc  import derivative \n",
    "from sympy import *"
   ]
  },
  {
   "cell_type": "code",
   "execution_count": 27,
   "id": "dangerous-folder",
   "metadata": {},
   "outputs": [],
   "source": [
    "x, y = symbols('x y')"
   ]
  },
  {
   "cell_type": "code",
   "execution_count": 28,
   "id": "spectacular-membrane",
   "metadata": {},
   "outputs": [],
   "source": [
    "f1 = 2 * x ** 2 * y ** 3 + 1 / x + y ** 2 * x + 7"
   ]
  },
  {
   "cell_type": "code",
   "execution_count": 29,
   "id": "exclusive-standing",
   "metadata": {},
   "outputs": [
    {
     "name": "stdout",
     "output_type": "stream",
     "text": [
      "Differentiation by x: f'x = 4*x*y**3 + y**2 - 1/x**2\n"
     ]
    }
   ],
   "source": [
    "# вычислим частные производные по х и у для первой функции\n",
    "df1_x = diff(f1, x)\n",
    "print(\"Differentiation by x: f'x = {}\".format(df1_x))"
   ]
  },
  {
   "cell_type": "code",
   "execution_count": 30,
   "id": "associate-spyware",
   "metadata": {},
   "outputs": [
    {
     "name": "stdout",
     "output_type": "stream",
     "text": [
      "Differentiation by y: f'y = 6*x**2*y**2 + 2*x*y\n"
     ]
    }
   ],
   "source": [
    "df1_y = diff(f1, y)\n",
    "print(\"Differentiation by y: f'y = {}\".format(df1_y))"
   ]
  },
  {
   "cell_type": "code",
   "execution_count": 60,
   "id": "missing-designation",
   "metadata": {},
   "outputs": [],
   "source": [
    "x = [1, 2]\n",
    "c0, c1, c2, c3 = (7, 1, 1, 2)\n",
    "eps = np.sqrt(np.finfo(float).eps)"
   ]
  },
  {
   "cell_type": "code",
   "execution_count": 64,
   "id": "polish-procedure",
   "metadata": {},
   "outputs": [],
   "source": [
    "def f1(x):\n",
    "    return 2 * x[0] ** 2 * x[1] ** 3 + 1 / x[0] + x[1] ** 2 * x[0] + 7"
   ]
  },
  {
   "cell_type": "code",
   "execution_count": 65,
   "id": "dense-testimony",
   "metadata": {},
   "outputs": [
    {
     "data": {
      "text/plain": [
       "array([35.00000024, 28.00000024])"
      ]
     },
     "execution_count": 65,
     "metadata": {},
     "output_type": "execute_result"
    }
   ],
   "source": [
    "# градиент для первой функции\n",
    "approx_fprime(x, f1, [eps, eps])"
   ]
  },
  {
   "cell_type": "code",
   "execution_count": 31,
   "id": "amber-softball",
   "metadata": {},
   "outputs": [],
   "source": [
    "f2 = x ** 2 * y - sin(x * y) + cos(x ** 2) + 6 * y"
   ]
  },
  {
   "cell_type": "code",
   "execution_count": 32,
   "id": "serious-senegal",
   "metadata": {},
   "outputs": [
    {
     "name": "stdout",
     "output_type": "stream",
     "text": [
      "Differentiation by x: f'x = 2*x*y - 2*x*sin(x**2) - y*cos(x*y)\n"
     ]
    }
   ],
   "source": [
    "# вычислим частные производные по х и у для второй функции\n",
    "df2_x = diff(f2, x)\n",
    "print(\"Differentiation by x: f'x = {}\".format(df2_x))"
   ]
  },
  {
   "cell_type": "code",
   "execution_count": 33,
   "id": "exterior-chosen",
   "metadata": {},
   "outputs": [
    {
     "name": "stdout",
     "output_type": "stream",
     "text": [
      "Differentiation by y: f'y = x**2 - x*cos(x*y) + 6\n"
     ]
    }
   ],
   "source": [
    "df2_y = diff(f2, y)\n",
    "print(\"Differentiation by y: f'y = {}\".format(df2_y))"
   ]
  },
  {
   "cell_type": "markdown",
   "id": "atlantic-feedback",
   "metadata": {},
   "source": [
    "## Уровень 1:\n",
    "\n",
    "### Градиентный спуск своими руками:\n",
    "\n"
   ]
  },
  {
   "cell_type": "code",
   "execution_count": 81,
   "id": "african-tucson",
   "metadata": {},
   "outputs": [],
   "source": [
    "def f(x):\n",
    "    return (x[0]**2) + (x[1]**2)"
   ]
  },
  {
   "cell_type": "code",
   "execution_count": 82,
   "id": "studied-parent",
   "metadata": {},
   "outputs": [],
   "source": [
    "x = np.array([100, 200])\n",
    "learning_rate = 0.1\n",
    "eps = np.sqrt(np.finfo(float).eps)"
   ]
  },
  {
   "cell_type": "code",
   "execution_count": 83,
   "id": "bridal-gentleman",
   "metadata": {},
   "outputs": [],
   "source": [
    "for i in range(100):\n",
    "    # Calculate gradient\n",
    "    grad = approx_fprime(x, f, [eps, eps])\n",
    "    # Update x with gradient\n",
    "    x = x - learning_rate * grad"
   ]
  },
  {
   "cell_type": "code",
   "execution_count": 84,
   "id": "confirmed-slope",
   "metadata": {},
   "outputs": [
    {
     "name": "stdout",
     "output_type": "stream",
     "text": [
      "Минимум достигается в:  [1.29197811e-08 3.32901401e-08]\n",
      "Значение функции в минимуме:  1.2751541739575584e-15\n"
     ]
    }
   ],
   "source": [
    "print(\"Минимум достигается в: \", x)\n",
    "print(\"Значение функции в минимуме: \", f(x))"
   ]
  },
  {
   "cell_type": "markdown",
   "id": "common-clear",
   "metadata": {},
   "source": [
    "Проверка с помощью встроенной функции numpy:"
   ]
  },
  {
   "cell_type": "code",
   "execution_count": 85,
   "id": "selective-thompson",
   "metadata": {},
   "outputs": [
    {
     "data": {
      "text/plain": [
       "array([2.03703591e-08, 2.03703591e-08])"
      ]
     },
     "execution_count": 85,
     "metadata": {},
     "output_type": "execute_result"
    }
   ],
   "source": [
    "np.gradient(x)"
   ]
  }
 ],
 "metadata": {
  "kernelspec": {
   "display_name": "Python 3",
   "language": "python",
   "name": "python3"
  },
  "language_info": {
   "codemirror_mode": {
    "name": "ipython",
    "version": 3
   },
   "file_extension": ".py",
   "mimetype": "text/x-python",
   "name": "python",
   "nbconvert_exporter": "python",
   "pygments_lexer": "ipython3",
   "version": "3.8.8"
  }
 },
 "nbformat": 4,
 "nbformat_minor": 5
}
