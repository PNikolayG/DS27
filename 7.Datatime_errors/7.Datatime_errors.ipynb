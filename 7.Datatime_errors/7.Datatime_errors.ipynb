{
 "cells": [
  {
   "cell_type": "markdown",
   "metadata": {},
   "source": [
    "# Домашнее задание по теме \"Обработка ошибок\"\n",
    "### Задание 1\n",
    "### Дано \n",
    "Печатные газеты использовали свой формат дат для каждого выпуска. \n",
    "Для каждой газеты из списка напишите формат указанной даты для перевода в объект datetime:\n",
    "\n",
    "The Moscow Times - Wednesday, October 2, 2002\n",
    "\n",
    "The Guardian - Friday, 11.10.13\n",
    "\n",
    "Daily News - Thursday, 18 August 1977\n",
    "\n",
    "### Решение"
   ]
  },
  {
   "cell_type": "code",
   "execution_count": 21,
   "metadata": {},
   "outputs": [
    {
     "name": "stdout",
     "output_type": "stream",
     "text": [
      "Введите дату в формате: число-месяц-год(xx-xx-xxxx): 09-01-2021\n",
      "Введите название газеты: Xxx Xxxx: Daily News\n",
      "Daily News - Saturday, 09 January 2021\n"
     ]
    }
   ],
   "source": [
    "# Создадим функцию для решения задачи, чтобы было удобно\n",
    "def date_format_for_newspapers():\n",
    "    \"\"\"\n",
    "    Функция при указании даты в формате число-месяц-год(xx-xx-xxxx) и названии газеты выводит \n",
    "    название газеты и формат даты для нёё в виде:\n",
    "    Название - Дата\n",
    "    \"\"\"\n",
    "    #создадим словарь, где ключ=название газеты, значение=формат даты\n",
    "    format_date = {\n",
    "        'The Moscow Times': '%A, %B %d, %Y',\n",
    "        'The Guardian': '%A, %d.%m.%y',\n",
    "        'Daily News': '%A, %d %B %Y'\n",
    "    }\n",
    "    #вводим число в с нужной информацией и название газеты\n",
    "    date_string = input('Введите дату в формате: число-месяц-год(xx-xx-xxxx): ')\n",
    "    newspaper = input('Введите название газеты: Xxx Xxxx: ')\n",
    "    #\n",
    "    from datetime import datetime\n",
    "    date_datetime = datetime.strptime(date_string, '%d-%m-%Y')\n",
    "    if newspaper in format_date:\n",
    "        print('{} - {}'.format(newspaper, date_datetime.strftime(format_date[newspaper])))\n",
    "\n",
    "date_format_for_newspapers()"
   ]
  },
  {
   "cell_type": "markdown",
   "metadata": {},
   "source": [
    "### Задание 2\n",
    "### Дано \n",
    "Дан поток дат в формате YYYY-MM-DD, в которых встречаются некорректные значения:\n",
    "stream = ['2018-04-02', '2018-02-29', '2018-19-02']\n",
    "\n",
    "Напишите функцию, которая проверяет эти даты на корректность. \n",
    "Т. е. для каждой даты возвращает True (дата корректна) или False (некорректная дата).\n",
    "### Решение\n"
   ]
  },
  {
   "cell_type": "code",
   "execution_count": 29,
   "metadata": {},
   "outputs": [
    {
     "name": "stdout",
     "output_type": "stream",
     "text": [
      "1 2018-04-02 True\n",
      "2 2018-02-29 False\n",
      "3 2018-19-02 False\n"
     ]
    }
   ],
   "source": [
    "def check_date(list_date):\n",
    "    \"\"\"\n",
    "    Функция проверяет дату на корректность формату YYYY-MM-DD, принимая на вход список дат\n",
    "    Выводит 3 стобца: 1 - номер индекса в списке даты, 2 - дата, 3 - True - дата корректна, False - дата некорректна\n",
    "    \"\"\"\n",
    "    from datetime import datetime\n",
    "    for i, date in enumerate(stream):\n",
    "        #в случае если всё правильно выполняется блок try, если ошибка, то except и значению bool прсиваивается то или иное значение\n",
    "        try:\n",
    "            date_datetime = datetime.strptime(date, '%Y-%m-%d')\n",
    "            bool_ = True\n",
    "        except:\n",
    "            bool_ = False\n",
    "        print('{} {} {}'.format(i, date, bool_))\n",
    "        \n",
    "stream = ['2018-04-02', '2018-02-29', '2018-19-02']\n",
    "check_date(stream)"
   ]
  },
  {
   "cell_type": "markdown",
   "metadata": {},
   "source": [
    "### Задание 3\n",
    "### Дано \n",
    "Напишите функцию date_range, которая возвращает список дат за период от start_date до end_date. \n",
    "Даты должны вводиться в формате YYYY-MM-DD. В случае неверного формата или при start_date > end_date должен \n",
    "возвращаться пустой список.\n",
    "### Решение"
   ]
  },
  {
   "cell_type": "code",
   "execution_count": 2,
   "metadata": {},
   "outputs": [
    {
     "name": "stdout",
     "output_type": "stream",
     "text": [
      "Введите две даты через пробел в формате YYYY-MM-DD - период от и до: 2020-01-01 20200101\n"
     ]
    },
    {
     "data": {
      "text/plain": [
       "[]"
      ]
     },
     "execution_count": 2,
     "metadata": {},
     "output_type": "execute_result"
    }
   ],
   "source": [
    "def date_range():\n",
    "    #заводим список для хранения промежутка дат\n",
    "    date_list = []\n",
    "    try:\n",
    "        #Вводим две даты промежутоку через пробел\n",
    "        start_date, end_date = input('Введите две даты через пробел в формате YYYY-MM-DD - период от и до: ').split()\n",
    "        #проверяем корректен ли промежуток дат: от ранней даты к поздней\n",
    "        if start_date <= end_date:\n",
    "            #импоортируем библиотеки datetime и timedelta для работы с датами\n",
    "            from datetime import datetime\n",
    "            from datetime import timedelta\n",
    "            #переводим начальную дату в формат datetime и присваиваем новой переменной, к котороый в дальнейшем будем прибавлять 1 день\n",
    "            start_date_dt = datetime.strptime(start_date,'%Y-%m-%d')\n",
    "            #это для того, чтобы проверить на корректность второе значение периода, если переводится значит всё корректно, если нет, то выпадет ошибка - пустой список\n",
    "            end_date_dt = datetime.strptime(end_date,'%Y-%m-%d')\n",
    "            current_dt = start_date_dt\n",
    "            #вводим цикл пока текущая дата раньше конца печатай строку=дату в нужном формате и увеличивай datetime на 1 день\n",
    "            while current_dt.strftime('%Y-%m-%d') <= end_date:\n",
    "                date_list.append(current_dt.strftime('%Y-%m-%d'))\n",
    "                current_dt += timedelta(days=1)  \n",
    "        return date_list\n",
    "    except:\n",
    "        return date_list\n",
    "        \n",
    "date_range()       "
   ]
  },
  {
   "cell_type": "markdown",
   "metadata": {},
   "source": [
    "### Задание 4 (бонусное)\n",
    "### Дано \n",
    "Ваш коллега прислал код функции:\n",
    "\n",
    "DEFAULT_USER_COUNT = 3\n",
    "\n",
    "def delete_and_return_last_user(region, default_list=['A100', 'A101', 'A102']):\n",
    "\n",
    "\"\"\"\n",
    "Удаляет из списка default_list последнего пользователя\n",
    "и возвращает ID нового последнего пользователя.\n",
    "\"\"\"\n",
    "\n",
    "element_to_delete = default_list[-1]\n",
    "default_list.remove(element_to_delete)\n",
    "\n",
    "1\n",
    "\n",
    "return default_list[DEFAULT_USER_COUNT-2]\n",
    "\n",
    "При однократном вызове этой функции все работает корректно:\n",
    "\n",
    "delete_and_return_last_user(1)\n",
    "'A101'\n",
    "\n",
    "Однако, при повторном вызове получается ошибка \n",
    "IndexError: list index out of range.\n",
    "\n",
    "Задание:\n",
    "\n",
    "- Что значит ошибка list index out of range?\n",
    "- Почему при первом запуске функция работает корректно, а при втором - нет?\n",
    "### Решение"
   ]
  },
  {
   "cell_type": "code",
   "execution_count": 63,
   "metadata": {},
   "outputs": [
    {
     "data": {
      "text/plain": [
       "'A101'"
      ]
     },
     "execution_count": 63,
     "metadata": {},
     "output_type": "execute_result"
    }
   ],
   "source": [
    "DEFAULT_USER_COUNT = 3\n",
    "\n",
    "def delete_and_return_last_user(region, default_list = ['A100', 'A101', 'A102']):\n",
    "    \"\"\"\n",
    "    Удаляет из списка default_list последнего пользователя и возвращает ID нового последнего пользователя.\n",
    "    \"\"\"\n",
    "    element_to_delete = default_list[-1]\n",
    "    default_list.remove(element_to_delete)\n",
    "    return default_list[DEFAULT_USER_COUNT-2]\n",
    "\n",
    "delete_and_return_last_user(1)"
   ]
  },
  {
   "cell_type": "markdown",
   "metadata": {},
   "source": [
    "### Ответ"
   ]
  },
  {
   "cell_type": "markdown",
   "metadata": {},
   "source": [
    "Прежде, чем ответить на вопросы необходимо проделать трасировку функции, чтобы понять, а что происходить:\n",
    "\n",
    "Представленная функция работает со списком, а также с его особенностью нумерации(индексации) значений списка, их можно \n",
    "перечислять как слева направо, т.е. 0, 1, 2, так и справа налево, т.е. -1, -2, -3 оба варианты в соответствие с порядком \n",
    "значений 'A100', 'A101', 'A102' ('A100' это и 0, и -3 и т.д.)\n",
    "\n",
    "Таким образом, при первой итерации функции, у нас удаляется 'A102' и меняется индексация , 'A100', 'A101' это 0/-2 и 1/-1 соответственно, а при возвращении последнего значения путём вычисления DEFAULT_USER_COUNT(3) - 2 = 1, действительно последний элемент будет иметь индекс 1,  default_list[1] = 'A101' возвратится.\n",
    "\n",
    "При второй итерации же, у нас удалится последний элемент и останется значение 'A100' с индексами 0/-1, а при возвращении\n",
    "функцией значения получится всё тот же индекс DEFAULT_USER_COUNT(3) - 2 = 1, то есть default_list[1] будет обращение \n",
    "к значению, которого не существует, отсюда и ошибка \"list index out of range\"\n"
   ]
  }
 ],
 "metadata": {
  "kernelspec": {
   "display_name": "Python 3 (ipykernel)",
   "language": "python",
   "name": "python3"
  },
  "language_info": {
   "codemirror_mode": {
    "name": "ipython",
    "version": 3
   },
   "file_extension": ".py",
   "mimetype": "text/x-python",
   "name": "python",
   "nbconvert_exporter": "python",
   "pygments_lexer": "ipython3",
   "version": "3.9.7"
  }
 },
 "nbformat": 4,
 "nbformat_minor": 4
}
