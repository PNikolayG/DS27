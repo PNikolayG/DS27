{
 "cells": [
  {
   "cell_type": "markdown",
   "id": "sporting-security",
   "metadata": {},
   "source": [
    "# Домашнее задание \"Продвинутая линейная алгебра\".\n",
    "\n",
    "## Уровень 0:\n",
    "\n",
    "Придумайте матрицы, которые обладают следующими свойствами:\n",
    "- a) Диагональная, ортогональная, но не единичная(!)\n",
    "- b) Верхнетреугольная, ортогональная\n",
    "- c) Нижнетреугольная, ортогональная\n",
    "- d) Матрица, у которой определитель = 1, и все элементы не равны 0\n",
    "\n",
    "P.S. Во всех пунктах ответом должна быть ненулевая матрица размерности не менее 2!\n",
    "\n",
    "Найдите собственные значения и собственные вектора матриц:\n",
    "\n",
    "- m = np.array([[2, 2],\n",
    "              [1, 3]])\n",
    "- print(m)\n",
    "\n",
    "## Уровень 1:\n",
    "\n",
    "Найдите спектральное разложение матрицы:\n",
    "\n",
    "- m = np.array([[1, 2],\n",
    "              [2,3]])\n",
    "- print(m)\n",
    "\n",
    "Постройте зависимость качества восстановления рукописных цифр (MNIST) в зависимости от различного количества компонент PCA. В качестве метрики различия предлагаю использовать MSE.*\n",
    "\n",
    "У PCA есть метод transform и inverse_transofrm. Первый - снижает размерность, второй - восстанавливает оригинальные данные с потерей информации. Надо посчитать насколько в среднем точно восстанавливается оригинальная картинка в зависимости от количества компонент в PCA.\n",
    "\n",
    "В качестве справки можно использовать:\n",
    "\n",
    "https://scikit-learn.org/stable/modules/generated/sklearn.decomposition.PCA.html - Документация по PCA\n",
    "\n",
    "https://scikit-learn.org/stable/modules/generated/sklearn.metrics.mean_squared_error.html - Документация по MSE\n",
    "\n",
    "Картинки цифр можно взять отсюда - https://scikit-learn.org/stable/modules/generated/sklearn.datasets.load_digits.html"
   ]
  },
  {
   "cell_type": "markdown",
   "id": "isolated-uniform",
   "metadata": {},
   "source": [
    "## Уровень 0:\n",
    "## Придумайте матрицы, которые обладают следующими свойствами:\n",
    "\n",
    "### a) Диагональная, ортогональная, но не единичная(!)"
   ]
  },
  {
   "cell_type": "code",
   "execution_count": 164,
   "id": "interstate-crash",
   "metadata": {},
   "outputs": [],
   "source": [
    "import numpy as np"
   ]
  },
  {
   "cell_type": "code",
   "execution_count": 165,
   "id": "reverse-helicopter",
   "metadata": {},
   "outputs": [],
   "source": [
    "A = np.array([\n",
    "    [-1, 0],\n",
    "    [0, -1]\n",
    "])"
   ]
  },
  {
   "cell_type": "code",
   "execution_count": 166,
   "id": "medieval-photographer",
   "metadata": {},
   "outputs": [
    {
     "data": {
      "text/plain": [
       "array([[-1,  0],\n",
       "       [ 0, -1]])"
      ]
     },
     "execution_count": 166,
     "metadata": {},
     "output_type": "execute_result"
    }
   ],
   "source": [
    "At = np.transpose(A)\n",
    "At"
   ]
  },
  {
   "cell_type": "code",
   "execution_count": 167,
   "id": "based-edgar",
   "metadata": {},
   "outputs": [
    {
     "data": {
      "text/plain": [
       "array([[1, 0],\n",
       "       [0, 1]])"
      ]
     },
     "execution_count": 167,
     "metadata": {},
     "output_type": "execute_result"
    }
   ],
   "source": [
    "np.dot(At, A)"
   ]
  },
  {
   "cell_type": "markdown",
   "id": "polyphonic-tobacco",
   "metadata": {},
   "source": [
    "### b) Верхнетреугольная, ортогональная"
   ]
  },
  {
   "cell_type": "code",
   "execution_count": 158,
   "id": "proved-telling",
   "metadata": {},
   "outputs": [],
   "source": [
    "B = np.array([\n",
    "    [1, 0],\n",
    "    [0, -1]\n",
    "])"
   ]
  },
  {
   "cell_type": "code",
   "execution_count": 159,
   "id": "suspected-picnic",
   "metadata": {},
   "outputs": [
    {
     "data": {
      "text/plain": [
       "array([[ 1,  0],\n",
       "       [ 0, -1]])"
      ]
     },
     "execution_count": 159,
     "metadata": {},
     "output_type": "execute_result"
    }
   ],
   "source": [
    "Bt = np.transpose(B)\n",
    "Bt"
   ]
  },
  {
   "cell_type": "code",
   "execution_count": 160,
   "id": "suspended-thought",
   "metadata": {},
   "outputs": [
    {
     "data": {
      "text/plain": [
       "array([[1, 0],\n",
       "       [0, 1]])"
      ]
     },
     "execution_count": 160,
     "metadata": {},
     "output_type": "execute_result"
    }
   ],
   "source": [
    "np.dot(Bt, B)"
   ]
  },
  {
   "cell_type": "markdown",
   "id": "catholic-notice",
   "metadata": {},
   "source": [
    "### c) Нижнетреугольная, ортогональная"
   ]
  },
  {
   "cell_type": "code",
   "execution_count": 161,
   "id": "southwest-exception",
   "metadata": {},
   "outputs": [],
   "source": [
    "C = np.array([\n",
    "    [-1, 0],\n",
    "    [0, 1]\n",
    "])"
   ]
  },
  {
   "cell_type": "code",
   "execution_count": 162,
   "id": "handmade-trouble",
   "metadata": {},
   "outputs": [
    {
     "data": {
      "text/plain": [
       "array([[-1,  0],\n",
       "       [ 0,  1]])"
      ]
     },
     "execution_count": 162,
     "metadata": {},
     "output_type": "execute_result"
    }
   ],
   "source": [
    "Ct = np.transpose(C)\n",
    "Ct"
   ]
  },
  {
   "cell_type": "code",
   "execution_count": 163,
   "id": "gross-printing",
   "metadata": {},
   "outputs": [
    {
     "data": {
      "text/plain": [
       "array([[1, 0],\n",
       "       [0, 1]])"
      ]
     },
     "execution_count": 163,
     "metadata": {},
     "output_type": "execute_result"
    }
   ],
   "source": [
    "np.dot(Ct, C)"
   ]
  },
  {
   "cell_type": "markdown",
   "id": "monthly-check",
   "metadata": {},
   "source": [
    "### d) Матрица, у которой определитель = 1, и все элементы не равны 0\n",
    "P.S. Во всех пунктах ответом должна быть ненулевая матрица размерности не менее 2!"
   ]
  },
  {
   "cell_type": "code",
   "execution_count": 67,
   "id": "loved-crazy",
   "metadata": {},
   "outputs": [],
   "source": [
    "D = np.array([\n",
    "    [7, 3],\n",
    "    [2, 1]\n",
    "])"
   ]
  },
  {
   "cell_type": "code",
   "execution_count": 68,
   "id": "weekly-restoration",
   "metadata": {},
   "outputs": [
    {
     "data": {
      "text/plain": [
       "1.0000000000000002"
      ]
     },
     "execution_count": 68,
     "metadata": {},
     "output_type": "execute_result"
    }
   ],
   "source": [
    "np.linalg.det(D)"
   ]
  },
  {
   "cell_type": "markdown",
   "id": "arabic-cyprus",
   "metadata": {},
   "source": [
    "### Найдите собственные значения и собственные вектора матриц:"
   ]
  },
  {
   "cell_type": "code",
   "execution_count": 3,
   "id": "proved-canvas",
   "metadata": {},
   "outputs": [
    {
     "name": "stdout",
     "output_type": "stream",
     "text": [
      "[[2 2]\n",
      " [1 3]]\n"
     ]
    }
   ],
   "source": [
    "m = np.array([[2, 2],\n",
    "        [1, 3]])\n",
    "print(m)"
   ]
  },
  {
   "cell_type": "code",
   "execution_count": 5,
   "id": "improving-daily",
   "metadata": {},
   "outputs": [],
   "source": [
    "w, v = np.linalg.eig(m)"
   ]
  },
  {
   "cell_type": "code",
   "execution_count": 6,
   "id": "built-director",
   "metadata": {},
   "outputs": [
    {
     "data": {
      "text/plain": [
       "array([1., 4.])"
      ]
     },
     "execution_count": 6,
     "metadata": {},
     "output_type": "execute_result"
    }
   ],
   "source": [
    "w"
   ]
  },
  {
   "cell_type": "code",
   "execution_count": 7,
   "id": "greenhouse-settle",
   "metadata": {},
   "outputs": [
    {
     "data": {
      "text/plain": [
       "array([[-0.89442719, -0.70710678],\n",
       "       [ 0.4472136 , -0.70710678]])"
      ]
     },
     "execution_count": 7,
     "metadata": {},
     "output_type": "execute_result"
    }
   ],
   "source": [
    "v"
   ]
  },
  {
   "cell_type": "code",
   "execution_count": 8,
   "id": "utility-belly",
   "metadata": {},
   "outputs": [
    {
     "data": {
      "text/plain": [
       "array([[-0.89442719, -2.82842712],\n",
       "       [ 0.4472136 , -2.82842712]])"
      ]
     },
     "execution_count": 8,
     "metadata": {},
     "output_type": "execute_result"
    }
   ],
   "source": [
    "np.dot(m, v)"
   ]
  },
  {
   "cell_type": "code",
   "execution_count": 11,
   "id": "known-drill",
   "metadata": {},
   "outputs": [
    {
     "data": {
      "text/plain": [
       "array([[-0.89442719, -2.82842712],\n",
       "       [ 0.4472136 , -2.82842712]])"
      ]
     },
     "execution_count": 11,
     "metadata": {},
     "output_type": "execute_result"
    }
   ],
   "source": [
    "w * v"
   ]
  },
  {
   "cell_type": "markdown",
   "id": "atlantic-feedback",
   "metadata": {},
   "source": [
    "## Уровень 1:\n",
    "\n",
    "### Найдите спектральное разложение матрицы:\n"
   ]
  },
  {
   "cell_type": "code",
   "execution_count": 168,
   "id": "african-tucson",
   "metadata": {},
   "outputs": [
    {
     "name": "stdout",
     "output_type": "stream",
     "text": [
      "[[1 2]\n",
      " [2 3]]\n"
     ]
    }
   ],
   "source": [
    "m = np.array([[1, 2],\n",
    "              [2, 3]])\n",
    "print(m)"
   ]
  },
  {
   "cell_type": "code",
   "execution_count": 178,
   "id": "short-deposit",
   "metadata": {},
   "outputs": [
    {
     "data": {
      "text/plain": [
       "(array([-0.23606798,  4.23606798]),\n",
       " array([[-0.85065081, -0.52573111],\n",
       "        [ 0.52573111, -0.85065081]]))"
      ]
     },
     "execution_count": 178,
     "metadata": {},
     "output_type": "execute_result"
    }
   ],
   "source": [
    "w, v = np.linalg.eig(m)\n",
    "w, v"
   ]
  },
  {
   "cell_type": "code",
   "execution_count": 179,
   "id": "blessed-porter",
   "metadata": {},
   "outputs": [
    {
     "data": {
      "text/plain": [
       "array([[ 0.20081142, -2.22703273],\n",
       "       [-0.12410828, -3.60341465]])"
      ]
     },
     "execution_count": 179,
     "metadata": {},
     "output_type": "execute_result"
    }
   ],
   "source": [
    "m @ v"
   ]
  },
  {
   "cell_type": "code",
   "execution_count": 239,
   "id": "homeless-western",
   "metadata": {},
   "outputs": [
    {
     "data": {
      "text/plain": [
       "array([[ 0.20081142, -2.22703273],\n",
       "       [-0.12410828, -3.60341465]])"
      ]
     },
     "execution_count": 239,
     "metadata": {},
     "output_type": "execute_result"
    }
   ],
   "source": [
    "w * v"
   ]
  },
  {
   "cell_type": "code",
   "execution_count": 247,
   "id": "nutritional-orange",
   "metadata": {},
   "outputs": [],
   "source": [
    "S = np.linalg.inv(v)"
   ]
  },
  {
   "cell_type": "code",
   "execution_count": 248,
   "id": "electoral-cinema",
   "metadata": {},
   "outputs": [],
   "source": [
    "D = w * np.eye(2)\n",
    "St = np.linalg.inv(S)"
   ]
  },
  {
   "cell_type": "code",
   "execution_count": 249,
   "id": "coastal-peoples",
   "metadata": {},
   "outputs": [
    {
     "data": {
      "text/plain": [
       "array([[1., 2.],\n",
       "       [2., 3.]])"
      ]
     },
     "execution_count": 249,
     "metadata": {},
     "output_type": "execute_result"
    }
   ],
   "source": [
    "St @ D @ S"
   ]
  },
  {
   "cell_type": "code",
   "execution_count": 197,
   "id": "applied-hygiene",
   "metadata": {},
   "outputs": [
    {
     "data": {
      "text/plain": [
       "array([[1, 2],\n",
       "       [2, 3]])"
      ]
     },
     "execution_count": 197,
     "metadata": {},
     "output_type": "execute_result"
    }
   ],
   "source": [
    "m"
   ]
  },
  {
   "cell_type": "markdown",
   "id": "focused-commander",
   "metadata": {},
   "source": [
    "### Постройте зависимость качества восстановления рукописных цифр (MNIST) в зависимости от различного количества компонент PCA. В качестве метрики различия предлагаю использовать MSE.*\n",
    "\n",
    "У PCA есть метод transform и inverse_transofrm. Первый - снижает размерность, второй - восстанавливает оригинальные данные с потерей информации. Надо посчитать насколько в среднем точно восстанавливается оригинальная картинка в зависимости от количества компонент в PCA.\n"
   ]
  },
  {
   "cell_type": "code",
   "execution_count": 320,
   "id": "possible-peeing",
   "metadata": {},
   "outputs": [],
   "source": [
    "from sklearn.datasets import load_digits\n",
    "import matplotlib.pyplot as plt\n",
    "from PIL import Image\n",
    "from sklearn.metrics import mean_squared_error\n",
    "from sklearn.decomposition import PCA"
   ]
  },
  {
   "cell_type": "code",
   "execution_count": 336,
   "id": "wicked-standing",
   "metadata": {},
   "outputs": [
    {
     "name": "stdout",
     "output_type": "stream",
     "text": [
      "(8, 8)\n"
     ]
    },
    {
     "data": {
      "text/plain": [
       "array([[ 0.,  0.,  5., 13.,  9.,  1.,  0.,  0.],\n",
       "       [ 0.,  0., 13., 15., 10., 15.,  5.,  0.],\n",
       "       [ 0.,  3., 15.,  2.,  0., 11.,  8.,  0.],\n",
       "       [ 0.,  4., 12.,  0.,  0.,  8.,  8.,  0.],\n",
       "       [ 0.,  5.,  8.,  0.,  0.,  9.,  8.,  0.],\n",
       "       [ 0.,  4., 11.,  0.,  1., 12.,  7.,  0.],\n",
       "       [ 0.,  2., 14.,  5., 10., 12.,  0.,  0.],\n",
       "       [ 0.,  0.,  6., 13., 10.,  0.,  0.,  0.]])"
      ]
     },
     "execution_count": 336,
     "metadata": {},
     "output_type": "execute_result"
    }
   ],
   "source": [
    "# выбор и вывод картинки на экран\n",
    "digits = load_digits()\n",
    "print(digits.images[0].shape)\n",
    "digits.images[0]"
   ]
  },
  {
   "cell_type": "code",
   "execution_count": 337,
   "id": "labeled-delhi",
   "metadata": {},
   "outputs": [
    {
     "data": {
      "text/plain": [
       "<Figure size 432x288 with 0 Axes>"
      ]
     },
     "metadata": {},
     "output_type": "display_data"
    },
    {
     "data": {
      "image/png": "[encoded data removed]",
      "text/plain": [
       "<Figure size 288x288 with 1 Axes>"
      ]
     },
     "metadata": {
      "needs_background": "light"
     },
     "output_type": "display_data"
    }
   ],
   "source": [
    "plt.gray() \n",
    "plt.matshow(digits.images[0]) \n",
    "plt.show() "
   ]
  },
  {
   "cell_type": "code",
   "execution_count": 355,
   "id": "acute-proposal",
   "metadata": {},
   "outputs": [],
   "source": [
    "pca = PCA()\n",
    "digits_reduction = pca.fit_transform(digits.images[0])"
   ]
  },
  {
   "cell_type": "code",
   "execution_count": 356,
   "id": "primary-labor",
   "metadata": {},
   "outputs": [],
   "source": [
    "digits_restore = pca.inverse_transform(digits_reduction)"
   ]
  },
  {
   "cell_type": "code",
   "execution_count": 357,
   "id": "finished-intention",
   "metadata": {},
   "outputs": [
    {
     "data": {
      "text/plain": [
       "<Figure size 432x288 with 0 Axes>"
      ]
     },
     "metadata": {},
     "output_type": "display_data"
    },
    {
     "data": {
      "image/png": "[encoded data removed]",
      "text/plain": [
       "<Figure size 288x288 with 1 Axes>"
      ]
     },
     "metadata": {
      "needs_background": "light"
     },
     "output_type": "display_data"
    }
   ],
   "source": [
    "plt.gray() \n",
    "plt.matshow(digits_restore) \n",
    "plt.show() "
   ]
  },
  {
   "cell_type": "code",
   "execution_count": 358,
   "id": "continued-association",
   "metadata": {},
   "outputs": [
    {
     "data": {
      "text/plain": [
       "1.1487786932280984e-29"
      ]
     },
     "execution_count": 358,
     "metadata": {},
     "output_type": "execute_result"
    }
   ],
   "source": [
    "# расчёт точности восстановления через средне квадратическую ошибку, идеальное восстановление 0\n",
    "y_true = digits.images[0]\n",
    "y_pred = digits_restore\n",
    "mean_squared_error(y_true, y_pred)"
   ]
  },
  {
   "cell_type": "code",
   "execution_count": 365,
   "id": "brave-backing",
   "metadata": {},
   "outputs": [],
   "source": [
    "list_errors = []\n",
    "components = []\n",
    "for comp in range(0, 9):\n",
    "    components.append(comp)\n",
    "    pca = PCA(n_components = comp)\n",
    "    digits_reduction = pca.fit_transform(digits.images[0])\n",
    "    digits_restore = pca.inverse_transform(digits_reduction)\n",
    "    y_true = digits.images[0]\n",
    "    y_pred = digits_restore\n",
    "    list_errors.append(mean_squared_error(y_true, y_pred))"
   ]
  },
  {
   "cell_type": "code",
   "execution_count": 395,
   "id": "isolated-twist",
   "metadata": {},
   "outputs": [
    {
     "data": {
      "text/plain": [
       "Text(0, 0.5, 'ошибка восстановления (MSE)')"
      ]
     },
     "execution_count": 395,
     "metadata": {},
     "output_type": "execute_result"
    },
    {
     "data": {
      "image/png": "[encoded data removed]",
      "text/plain": [
       "<Figure size 432x288 with 1 Axes>"
      ]
     },
     "metadata": {
      "needs_background": "light"
     },
     "output_type": "display_data"
    }
   ],
   "source": [
    "plt.plot(components, list_errors, ls='-', marker='o')\n",
    "plt.grid()\n",
    "\n",
    "plt.xlabel('количество компонент (n_components)')\n",
    "plt.ylabel('ошибка восстановления (MSE)')"
   ]
  }
 ],
 "metadata": {
  "kernelspec": {
   "display_name": "Python 3",
   "language": "python",
   "name": "python3"
  },
  "language_info": {
   "codemirror_mode": {
    "name": "ipython",
    "version": 3
   },
   "file_extension": ".py",
   "mimetype": "text/x-python",
   "name": "python",
   "nbconvert_exporter": "python",
   "pygments_lexer": "ipython3",
   "version": "3.8.8"
  }
 },
 "nbformat": 4,
 "nbformat_minor": 5
}
