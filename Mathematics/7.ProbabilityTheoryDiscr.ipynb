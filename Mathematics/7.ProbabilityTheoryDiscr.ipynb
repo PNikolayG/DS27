{
 "cells": [
  {
   "cell_type": "markdown",
   "id": "devoted-exhibit",
   "metadata": {},
   "source": [
    "# Домашнее задание по теме \"Теория вероятности. Дискретные случайные величины\""
   ]
  },
  {
   "cell_type": "markdown",
   "id": "excessive-fundamental",
   "metadata": {},
   "source": [
    "## Уровень 0:\n",
    "### Задание 1:\n",
    "Монетку подбрасывают 15 раз, найдите вероятность выпадения простого числа орлов.\n",
    "\n",
    "### Задание 2:\n",
    "Создайте свою дискретную случайную величину с не менее, чем 10 значениями. Просемплируйте 1000 случайных значений, постройте гистограмму плотности распределения по выборке, посчитайте среднее, дисперсию и медиану.\n",
    "\n",
    "## Уровень 1:\n",
    "### Задание 3:\n",
    "Пусть брошены 3 уравновешенные монеты.\n",
    "\n",
    "Рассмотрим 3 события:\n",
    "\n",
    "A1 - монеты 1 и 2 упали одной и той же стороной;\n",
    "\n",
    "A2 - монеты 2 и 3 упали одной и той же стороной;\n",
    "\n",
    "A3 - монеты 1 и 3 упали одной и той же стороной.\n",
    "\n",
    "Покажите, почему эти 3 события (A1, A2, A3) являются попарно независимыми, но не являются независимыми в совокупности.\n",
    "\n",
    "### Задание 4 (формула полной вероятности):\n",
    "В магазин привезли устройства с 3-х разных предприятий.\n",
    "\n",
    "Соотношение устройств следующее: 20% - продукция первого предприятия, 30% - продукция второго предприятия, 50% - продукция третьего предприятия; далее, 10% продукции первого предприятия высшего сорта, на втором предприятии - 5% и на третьем - 20% продукции высшего сорта.\n",
    "\n",
    "Найти вероятность того, что случайно купленная новая продукция окажется высшего сорта."
   ]
  },
  {
   "cell_type": "markdown",
   "id": "processed-virtue",
   "metadata": {},
   "source": [
    "## Решение"
   ]
  },
  {
   "cell_type": "markdown",
   "id": "active-basic",
   "metadata": {},
   "source": [
    "### Задание 1:\n",
    "Монетку подбрасывают 15 раз, найдите вероятность выпадения простого числа орлов.(2,3,5,7,11,13)"
   ]
  },
  {
   "cell_type": "code",
   "execution_count": 5,
   "id": "chinese-softball",
   "metadata": {},
   "outputs": [],
   "source": [
    "from scipy.stats import *\n",
    "import numpy as np"
   ]
  },
  {
   "cell_type": "markdown",
   "id": "needed-region",
   "metadata": {},
   "source": [
    "### Альтернативный способ ???"
   ]
  },
  {
   "cell_type": "code",
   "execution_count": 22,
   "id": "diverse-level",
   "metadata": {},
   "outputs": [],
   "source": [
    "# количество подбрасываний монетки\n",
    "n = 15"
   ]
  },
  {
   "cell_type": "code",
   "execution_count": 38,
   "id": "provincial-employee",
   "metadata": {},
   "outputs": [
    {
     "name": "stdout",
     "output_type": "stream",
     "text": [
      "Количество простых чисел: 6 при количестве подбрасываний: n = 15 \n"
     ]
    }
   ],
   "source": [
    "simple = 0\n",
    "for i in range(2, n+1):\n",
    "    division = 0\n",
    "    for x in range(1, i+1):\n",
    "        if i % x == 0:\n",
    "            division += 1\n",
    "        if division == 2 and x == i:\n",
    "            simple = simple + 1\n",
    "print('Количество простых чисел: {} при количестве подбрасываний: n = {} '.format(simple, n))         "
   ]
  },
  {
   "cell_type": "code",
   "execution_count": 39,
   "id": "double-brave",
   "metadata": {},
   "outputs": [],
   "source": [
    "# вероятность выпадения орла\n",
    "P_eagle = 0.5"
   ]
  },
  {
   "cell_type": "code",
   "execution_count": 44,
   "id": "stylish-flush",
   "metadata": {},
   "outputs": [
    {
     "data": {
      "text/plain": [
       "0.4"
      ]
     },
     "execution_count": 44,
     "metadata": {},
     "output_type": "execute_result"
    }
   ],
   "source": [
    "# вероятность выпадения простого числа как число благоприятных исходов simple на(/) все возможные варианты n\n",
    "P_simple = simple / n\n",
    "P_simple"
   ]
  },
  {
   "cell_type": "code",
   "execution_count": 53,
   "id": "unable-microphone",
   "metadata": {},
   "outputs": [],
   "source": [
    "# по формуле условной вероятности\n",
    "# P_eagle_simple = P_eagle * P (simple / eagle)\n",
    "P_simple_after_eagle = P_simple\n",
    "P_eagle_simple = P_eagle * P_simple_after_eagle "
   ]
  },
  {
   "cell_type": "code",
   "execution_count": 54,
   "id": "orange-words",
   "metadata": {},
   "outputs": [
    {
     "name": "stdout",
     "output_type": "stream",
     "text": [
      "Вероятность выпадения простого числа орлов 0.2\n"
     ]
    }
   ],
   "source": [
    "print('Вероятность выпадения простого числа орлов', P_eagle_simple)"
   ]
  },
  {
   "cell_type": "markdown",
   "id": "cathedral-davis",
   "metadata": {},
   "source": [
    "### Первый способ"
   ]
  },
  {
   "cell_type": "code",
   "execution_count": 55,
   "id": "stylish-carter",
   "metadata": {},
   "outputs": [],
   "source": [
    "import math"
   ]
  },
  {
   "cell_type": "code",
   "execution_count": 68,
   "id": "accepted-porter",
   "metadata": {},
   "outputs": [
    {
     "data": {
      "text/plain": [
       "(15, 6, 0.4)"
      ]
     },
     "execution_count": 68,
     "metadata": {},
     "output_type": "execute_result"
    }
   ],
   "source": [
    "# по формуле Бернулли Pn_k = Сn_k * p**k * (1 - p)**(n - k)\n",
    "# сочетание Сn_k= n! /(k!(n-k)!)\n",
    "n = 15\n",
    "k = simple\n",
    "p = P_simple\n",
    "n, k, p"
   ]
  },
  {
   "cell_type": "code",
   "execution_count": 69,
   "id": "other-colleague",
   "metadata": {},
   "outputs": [
    {
     "data": {
      "text/plain": [
       "5005.0"
      ]
     },
     "execution_count": 69,
     "metadata": {},
     "output_type": "execute_result"
    }
   ],
   "source": [
    "Cn_k = math.factorial(n) / (math.factorial(k) * math.factorial(n-k))\n",
    "Cn_k"
   ]
  },
  {
   "cell_type": "code",
   "execution_count": 70,
   "id": "surprised-length",
   "metadata": {},
   "outputs": [
    {
     "data": {
      "text/plain": [
       "4.127824281600001e-05"
      ]
     },
     "execution_count": 70,
     "metadata": {},
     "output_type": "execute_result"
    }
   ],
   "source": [
    "koef = p ** k * (1 - p) ** (n - k)\n",
    "koef"
   ]
  },
  {
   "cell_type": "code",
   "execution_count": 72,
   "id": "effective-postage",
   "metadata": {},
   "outputs": [
    {
     "name": "stdout",
     "output_type": "stream",
     "text": [
      "Вероятность выпадения простого числа орлов 0.20659760529408003\n"
     ]
    }
   ],
   "source": [
    "Pn_k = Cn_k * koef\n",
    "print('Вероятность выпадения простого числа орлов', Pn_k)"
   ]
  },
  {
   "cell_type": "markdown",
   "id": "random-turner",
   "metadata": {},
   "source": [
    "### Задание 2:\n",
    "Создайте свою дискретную случайную величину с не менее, чем 10 значениями. Просемплируйте 1000 случайных значений, постройте гистограмму плотности распределения по выборке, посчитайте среднее, дисперсию и медиану."
   ]
  },
  {
   "cell_type": "code",
   "execution_count": 87,
   "id": "spoken-graph",
   "metadata": {},
   "outputs": [],
   "source": [
    "import matplotlib.pyplot as plt\n",
    "from scipy.stats import * "
   ]
  },
  {
   "cell_type": "code",
   "execution_count": 157,
   "id": "nonprofit-advantage",
   "metadata": {},
   "outputs": [
    {
     "data": {
      "text/plain": [
       "array([[ 8,  7,  7, ...,  4,  7, 11],\n",
       "       [12,  3,  2, ..., 10,  5,  1],\n",
       "       [11,  4,  4, ..., 11, 10,  6],\n",
       "       ...,\n",
       "       [12,  4,  3, ..., 12,  7,  3],\n",
       "       [ 1,  5,  3, ...,  2,  8,  6],\n",
       "       [ 7,  8,  6, ...,  2,  5, 10]], dtype=int16)"
      ]
     },
     "execution_count": 157,
     "metadata": {},
     "output_type": "execute_result"
    }
   ],
   "source": [
    "# случайная величина формируемая по 1000 раз\n",
    "random_value = np.random.randint(1, 13, (1000, 10), dtype = np.int16)\n",
    "random_value"
   ]
  },
  {
   "cell_type": "code",
   "execution_count": 170,
   "id": "hawaiian-algeria",
   "metadata": {},
   "outputs": [
    {
     "data": {
      "image/png": "[encoded data removed]",
      "text/plain": [
       "<Figure size 432x288 with 1 Axes>"
      ]
     },
     "metadata": {
      "needs_background": "light"
     },
     "output_type": "display_data"
    }
   ],
   "source": [
    "plt.hist(random_value, density=True, histtype  = 'stepfilled');\n",
    "plt.xlabel('Случайные величины')\n",
    "plt.ylabel('Плотность вероятности')\n",
    "plt.title('Гистограмма плотности распределения');"
   ]
  },
  {
   "cell_type": "code",
   "execution_count": 171,
   "id": "clinical-shell",
   "metadata": {},
   "outputs": [
    {
     "name": "stdout",
     "output_type": "stream",
     "text": [
      "Среднее значение выборки 6.5014\n"
     ]
    }
   ],
   "source": [
    "# среднее\n",
    "print('Среднее значение выборки', np.mean(random_value))"
   ]
  },
  {
   "cell_type": "code",
   "execution_count": 172,
   "id": "speaking-mozambique",
   "metadata": {},
   "outputs": [
    {
     "name": "stdout",
     "output_type": "stream",
     "text": [
      "Дисперсия выборки 11.92299804\n"
     ]
    }
   ],
   "source": [
    "# дисперсия\n",
    "print('Дисперсия выборки', np.var(random_value))"
   ]
  },
  {
   "cell_type": "code",
   "execution_count": 173,
   "id": "gentle-validity",
   "metadata": {},
   "outputs": [
    {
     "name": "stdout",
     "output_type": "stream",
     "text": [
      "Медиана выборки 7.0\n"
     ]
    }
   ],
   "source": [
    "# медиана\n",
    "print('Медиана выборки', np.median(random_value))"
   ]
  },
  {
   "cell_type": "markdown",
   "id": "dress-windows",
   "metadata": {},
   "source": [
    "### Задание 3:\n",
    "Пусть брошены 3 уравновешенные монеты.\n",
    "\n",
    "Рассмотрим 3 события:\n",
    "\n",
    "A1 - монеты 1 и 2 упали одной и той же стороной;\n",
    "\n",
    "A2 - монеты 2 и 3 упали одной и той же стороной;\n",
    "\n",
    "A3 - монеты 1 и 3 упали одной и той же стороной.\n",
    "\n",
    "Покажите, почему эти 3 события (A1, A2, A3) являются попарно независимыми, но не являются независимыми в совокупности."
   ]
  },
  {
   "cell_type": "code",
   "execution_count": 180,
   "id": "differential-signature",
   "metadata": {},
   "outputs": [],
   "source": [
    "# условие попарной независимости P_A1_A2 = P_A1 * P_A2 (где цифры справа номера монет участвующих в эксперименте, а слева номера экспер)\n",
    "# вероятности благоприятных исходов событий (2 варианта выпадения монет, лежащих на одной стороне из всего возможных 4 вариантов)\n",
    "P_A1 = 2 / 4\n",
    "P_A2 = 2 / 4\n",
    "P_A3 = 2 / 4"
   ]
  },
  {
   "cell_type": "code",
   "execution_count": 190,
   "id": "passing-given",
   "metadata": {},
   "outputs": [],
   "source": [
    "# вероятности благоприятных исходов 2-х событий (A1 и A2 и т.д.) \n",
    "P_A1_A2 = 2 / 8\n",
    "P_A2_A3 = 2 / 8\n",
    "P_A3_A1 = 2 / 8"
   ]
  },
  {
   "cell_type": "code",
   "execution_count": 198,
   "id": "assured-custody",
   "metadata": {},
   "outputs": [
    {
     "name": "stdout",
     "output_type": "stream",
     "text": [
      "A1 и A2 - попарнонезависимы\n",
      "A2 и A3 - попарнонезависимы\n",
      "A1 и A3 - попарнонезависимы\n"
     ]
    }
   ],
   "source": [
    "# проверка на попарную независимость событий\n",
    "if P_A1_A2 == P_A1 * P_A2:\n",
    "    print('A1 и A2 - попарнонезависимы')\n",
    "if P_A2_A3 == P_A2 * P_A3:\n",
    "    print('A2 и A3 - попарнонезависимы')\n",
    "if P_A3_A1 == P_A1 * P_A3:\n",
    "    print('A1 и A3 - попарнонезависимы')"
   ]
  },
  {
   "cell_type": "code",
   "execution_count": 194,
   "id": "coordinate-width",
   "metadata": {},
   "outputs": [],
   "source": [
    "# вероятность благоприятных исходов 3-х событий (A1, A2 и A3) \n",
    "P_A1_A2_A3 = 2 / 8"
   ]
  },
  {
   "cell_type": "code",
   "execution_count": 197,
   "id": "based-breast",
   "metadata": {},
   "outputs": [
    {
     "name": "stdout",
     "output_type": "stream",
     "text": [
      "Unindependent\n"
     ]
    }
   ],
   "source": [
    "# условие совокупной независимости P_A1_A2_A3 = P_A1 * P_A2 * P_A3\n",
    "# проверка на совокупную независимость событий\n",
    "if P_A3_A1 == P_A1 * P_A2 * P_A3:\n",
    "    print('A1, A2 и A3 - попарнонезависимы')\n",
    "else:\n",
    "    print('Unindependent')"
   ]
  },
  {
   "cell_type": "markdown",
   "id": "knowing-beast",
   "metadata": {},
   "source": [
    "### Задание 4 (формула полной вероятности):\n",
    "В магазин привезли устройства с 3-х разных предприятий.\n",
    "\n",
    "Соотношение устройств следующее: 20% - продукция первого предприятия, 30% - продукция второго предприятия, 50% - продукция третьего предприятия; далее, 10% продукции первого предприятия высшего сорта, на втором предприятии - 5% и на третьем - 20% продукции высшего сорта.\n",
    "\n",
    "Найти вероятность того, что случайно купленная новая продукция окажется высшего сорта."
   ]
  },
  {
   "cell_type": "code",
   "execution_count": 206,
   "id": "tight-mercy",
   "metadata": {},
   "outputs": [],
   "source": [
    "# вероятности высшего сорта на предприятиях\n",
    "PB_A = np.array([0.1, 0.05, 0.2])"
   ]
  },
  {
   "cell_type": "code",
   "execution_count": 207,
   "id": "awful-vertex",
   "metadata": {},
   "outputs": [],
   "source": [
    "# вероятности распределения продукции между предприятиями\n",
    "PA = np.array([0.2, 0.3, 0.5])"
   ]
  },
  {
   "cell_type": "code",
   "execution_count": 211,
   "id": "polished-server",
   "metadata": {},
   "outputs": [
    {
     "name": "stdout",
     "output_type": "stream",
     "text": [
      "Вероятность события B -  случайно купленная новая продукция окажется высшего сорт : 0.135\n"
     ]
    }
   ],
   "source": [
    "# вероятность события B - случайно купленная продукция окажется высшего сорта\n",
    "P_B = np.sum(PA * PB_A)\n",
    "print('Вероятность события B -  случайно купленная новая продукция окажется высшего сорт : {}'.format(P_B))"
   ]
  }
 ],
 "metadata": {
  "kernelspec": {
   "display_name": "Python 3",
   "language": "python",
   "name": "python3"
  },
  "language_info": {
   "codemirror_mode": {
    "name": "ipython",
    "version": 3
   },
   "file_extension": ".py",
   "mimetype": "text/x-python",
   "name": "python",
   "nbconvert_exporter": "python",
   "pygments_lexer": "ipython3",
   "version": "3.8.8"
  }
 },
 "nbformat": 4,
 "nbformat_minor": 5
}
