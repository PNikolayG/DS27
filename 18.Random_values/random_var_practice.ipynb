{
 "cells": [
  {
   "cell_type": "code",
   "execution_count": 2,
   "metadata": {},
   "outputs": [],
   "source": [
    "import numpy as np"
   ]
  },
  {
   "cell_type": "code",
   "execution_count": 3,
   "metadata": {},
   "outputs": [
    {
     "data": {
      "text/plain": [
       "4"
      ]
     },
     "execution_count": 3,
     "metadata": {},
     "output_type": "execute_result"
    }
   ],
   "source": [
    "# генерируем дискретную величину\n",
    "np.random.randint(1, 5)"
   ]
  },
  {
   "cell_type": "code",
   "execution_count": 4,
   "metadata": {},
   "outputs": [
    {
     "data": {
      "text/plain": [
       "array([2, 4, 4, 4, 2, 1, 3, 3, 4, 4, 1, 3, 1, 2, 2, 2, 2, 3, 2, 3, 3, 2,\n",
       "       4, 4, 4, 3, 4, 3, 2, 4, 1, 3, 3, 4, 4, 4, 4, 3, 1, 4, 4, 1, 3, 2,\n",
       "       4, 1, 2, 2, 1, 4, 4, 1, 4, 3, 3, 1, 2, 1, 1, 2, 2, 2, 3, 1, 3, 2,\n",
       "       1, 1, 1, 3, 4, 4, 3, 4, 2, 3, 4, 1, 3, 2, 1, 2, 1, 1, 1, 2, 3, 4,\n",
       "       3, 1, 4, 1, 1, 1, 4, 2, 3, 3, 1, 2])"
      ]
     },
     "execution_count": 4,
     "metadata": {},
     "output_type": "execute_result"
    }
   ],
   "source": [
    "np.random.randint(1, 5, 100)"
   ]
  },
  {
   "cell_type": "code",
   "execution_count": 5,
   "metadata": {},
   "outputs": [
    {
     "data": {
      "text/plain": [
       "array([0.93907142, 0.4207238 , 0.7830525 , 0.36213198, 0.40241347,\n",
       "       0.80960262, 0.50948334, 0.05538276, 0.65923507, 0.12069541,\n",
       "       0.57882275, 0.93707384, 0.20232117, 0.71303311, 0.28043273,\n",
       "       0.39098103, 0.34837015, 0.09949862, 0.34928889, 0.63144945,\n",
       "       0.93179594, 0.46316529, 0.50946628, 0.27742292, 0.85148537,\n",
       "       0.82492711, 0.31278576, 0.10795469, 0.84663141, 0.57914373,\n",
       "       0.49980156, 0.01149858, 0.87982254, 0.84963466, 0.97300225,\n",
       "       0.47360605, 0.09857714, 0.54472903, 0.42320752, 0.76650709,\n",
       "       0.86867899, 0.44238077, 0.34423161, 0.52761325, 0.47378917,\n",
       "       0.79063785, 0.1641183 , 0.75481973, 0.7366378 , 0.01937444,\n",
       "       0.0531937 , 0.10826777, 0.46788515, 0.87397699, 0.37209   ,\n",
       "       0.341619  , 0.22478325, 0.33555498, 0.32343601, 0.02278001,\n",
       "       0.50919469, 0.77490896, 0.7577859 , 0.61836466, 0.35709843,\n",
       "       0.69093824, 0.23852559, 0.92763527, 0.19325383, 0.40791944,\n",
       "       0.12051396, 0.47904978, 0.44028949, 0.24503754, 0.80865146,\n",
       "       0.62189714, 0.8421394 , 0.02492788, 0.65393646, 0.18056536,\n",
       "       0.10163384, 0.92163079, 0.82274515, 0.46110633, 0.51501894,\n",
       "       0.26985227, 0.17415188, 0.04583024, 0.95948876, 0.72647954,\n",
       "       0.09534128, 0.06958076, 0.66946914, 0.54646769, 0.81633195,\n",
       "       0.21588353, 0.06525378, 0.2405443 , 0.05496211, 0.0351172 ])"
      ]
     },
     "execution_count": 5,
     "metadata": {},
     "output_type": "execute_result"
    }
   ],
   "source": [
    "# генерируем непрерывную величину\n",
    "np.random.random(100)"
   ]
  },
  {
   "cell_type": "code",
   "execution_count": 6,
   "metadata": {},
   "outputs": [
    {
     "data": {
      "text/plain": [
       "4.335895339778029"
      ]
     },
     "execution_count": 6,
     "metadata": {},
     "output_type": "execute_result"
    }
   ],
   "source": [
    "np.random.uniform(1, 5)"
   ]
  },
  {
   "cell_type": "code",
   "execution_count": 7,
   "metadata": {},
   "outputs": [
    {
     "data": {
      "text/plain": [
       "array([1.10568667, 2.35772595, 2.63543897, 2.24891134, 1.51021474,\n",
       "       4.53052407, 3.313741  , 1.20596826, 1.77617777, 2.58762423,\n",
       "       3.96038742, 2.67013566, 2.46116465, 3.27587565, 4.52289587,\n",
       "       2.48931575, 2.69773333, 3.68170061, 3.19721375, 2.73120476,\n",
       "       4.64167853, 3.07666073, 3.47515158, 1.70076875, 3.8990342 ,\n",
       "       2.08234373, 3.63468222, 4.0459869 , 3.01014659, 4.98824767,\n",
       "       3.27730359, 4.26486423, 4.13491096, 2.97523743, 1.79440399,\n",
       "       3.48874205, 4.09515861, 2.86712774, 2.57781917, 1.84475008,\n",
       "       3.59730151, 2.3613734 , 1.75566454, 1.60409875, 1.90183527,\n",
       "       3.25912793, 4.75595683, 1.31854678, 2.85126868, 3.11941333,\n",
       "       2.105153  , 3.98700728, 1.27103802, 3.48037018, 2.00358413,\n",
       "       3.639756  , 2.59269215, 1.20193001, 1.87143854, 4.14614964,\n",
       "       3.74098681, 3.28322639, 2.32585005, 2.18632005, 1.28605948,\n",
       "       3.18032627, 3.66652857, 4.01549822, 3.26263267, 1.98424701,\n",
       "       3.41202374, 3.83059298, 1.81211411, 2.24565058, 3.14795513,\n",
       "       3.15115978, 1.49945884, 1.40576952, 4.26231965, 3.81570734,\n",
       "       1.37401769, 3.53439781, 3.52816066, 3.68437019, 2.39575061,\n",
       "       4.5532755 , 1.05915669, 2.45017931, 3.0981384 , 1.96653911,\n",
       "       2.61458806, 2.76522749, 1.83957017, 1.97867122, 1.87562149,\n",
       "       3.58426526, 2.90349697, 3.25516601, 4.34293643, 1.61413409])"
      ]
     },
     "execution_count": 7,
     "metadata": {},
     "output_type": "execute_result"
    }
   ],
   "source": [
    "np.random.uniform(1, 5, 100)"
   ]
  },
  {
   "cell_type": "markdown",
   "metadata": {},
   "source": [
    "**Задача 1.** Оценить вероятность того, что на игральной кости выпадет больше 4 очков. Сравнить с теоретической вероятностью."
   ]
  },
  {
   "cell_type": "code",
   "execution_count": 8,
   "metadata": {},
   "outputs": [
    {
     "name": "stdout",
     "output_type": "stream",
     "text": [
      "330 1000 0.33 0.3333333333333333\n"
     ]
    }
   ],
   "source": [
    "import numpy as np\n",
    "# np.random.seed(None)\n",
    "trials = 1000    # Количество попыток\n",
    "successes = 0    # Количество успехов\n",
    "\n",
    "for i in range(trials):\n",
    "    random_score = np.random.randint(1, 7)    # Случайное количество очков от 1 до 6\n",
    "    if random_score > 4:\n",
    "        successes += 1\n",
    "        \n",
    "p_monte_carlo = successes / trials    # Вероятность из моделирования\n",
    "p = 2 / 6                             # Теоретическая вероятность\n",
    "\n",
    "print(successes, trials, p_monte_carlo, p)"
   ]
  },
  {
   "cell_type": "markdown",
   "metadata": {},
   "source": [
    "**Задача 1А** (опциональная). Дан квадрат, в который вписан круг (касаясь сторон квадрата). В квадрат случайным образом попадают точки. Какова вероятность, что наугад взятая точка попадёт в круг?  \n",
    "_Подсказка:_ Удобно взять квардат со стороной, равной 2, и отсчитывать координаты точек от его центра."
   ]
  },
  {
   "cell_type": "code",
   "execution_count": null,
   "metadata": {},
   "outputs": [],
   "source": []
  },
  {
   "cell_type": "code",
   "execution_count": null,
   "metadata": {},
   "outputs": [],
   "source": []
  },
  {
   "cell_type": "markdown",
   "metadata": {},
   "source": [
    "**Задача 2.** Смоделировать стрельбу по мишени."
   ]
  },
  {
   "cell_type": "code",
   "execution_count": null,
   "metadata": {},
   "outputs": [],
   "source": [
    "import matplotlib.pyplot as plt\n",
    "\n",
    "shots = 1000    # Количество выстрелов\n",
    "std_dev = 1 # Стандартное отклонение (на сколько мы в среднем будем мазать)\n",
    "\n",
    "x = np.random.normal(0, std_dev, shots) # 0 - и среднее, и мода, и медиана\n",
    "y = np.random.normal(0, std_dev, shots)\n",
    "\n",
    "\n",
    "plt.scatter(x, y)\n",
    "# почему разброс от -3 до 3?"
   ]
  },
  {
   "cell_type": "markdown",
   "metadata": {},
   "source": [
    "**Задача 3.** Графически определить распределение измеренных значений физической величины, когда измерительный прибор имеет случайную погрешность."
   ]
  },
  {
   "cell_type": "code",
   "execution_count": null,
   "metadata": {},
   "outputs": [],
   "source": [
    "import pandas as pd\n",
    "\n",
    "data = pd.read_csv(\"data.log\", sep=\" \")[\"az\"]\n",
    "data.describe()"
   ]
  },
  {
   "cell_type": "code",
   "execution_count": null,
   "metadata": {},
   "outputs": [],
   "source": [
    "data.plot()"
   ]
  },
  {
   "cell_type": "code",
   "execution_count": null,
   "metadata": {},
   "outputs": [],
   "source": [
    "plt.hist(uni, bins=11)\n",
    "plt.show()\n",
    "plt.hist(normal, bins=11)\n",
    "plt.show()\n",
    "plt.hist(data, bins=11)\n",
    "plt.show()"
   ]
  },
  {
   "cell_type": "markdown",
   "metadata": {},
   "source": [
    "**Задача 4.** Рассчитать вероятность того, что пациент заражён COVID-19, если известно, что тест дал положительный результат. Сравнить с результатом моделирования."
   ]
  },
  {
   "cell_type": "code",
   "execution_count": 9,
   "metadata": {},
   "outputs": [
    {
     "name": "stdout",
     "output_type": "stream",
     "text": [
      "0.8260869565217391\n"
     ]
    }
   ],
   "source": [
    "prev = 0.50    # Распространённость болезни\n",
    "sens = 0.95    # Чувствительность теста\n",
    "spec = 0.80    # Специфичность теста\n",
    "\n",
    "p = (sens * prev) / (sens * prev + (1 - spec) * (1 - prev))   # Теоретическая вероятность \n",
    "print(p)"
   ]
  },
  {
   "cell_type": "code",
   "execution_count": 10,
   "metadata": {},
   "outputs": [
    {
     "name": "stdout",
     "output_type": "stream",
     "text": [
      "0.8833333333333333\n"
     ]
    }
   ],
   "source": [
    "population = 100    # Количество испытуемых\n",
    "\n",
    "true_pos = 0    # Количество больных с положительным тестом\n",
    "false_pos = 0   # Количество здоровых с положительным тестом\n",
    "\n",
    "for i in range(population):\n",
    "    # Наугад решаем, заражён ли человек\n",
    "    # для этого генерируем случайную величину от 0 до 1     \n",
    "    infected = np.random.uniform() < prev\n",
    "    \n",
    "    # Наугад решаем, дал ли тест положительный результат \n",
    "    positive = np.random.uniform() < sens if infected else np.random.uniform() < 1 - spec\n",
    "    \n",
    "    if positive:\n",
    "        if infected:\n",
    "            true_pos += 1\n",
    "        else:\n",
    "            false_pos += 1\n",
    "            \n",
    "p_monte_carlo = true_pos / (true_pos + false_pos)    # Вероятность из моделирования\n",
    "print(p_monte_carlo)"
   ]
  }
 ],
 "metadata": {
  "kernelspec": {
   "display_name": "Python 3",
   "language": "python",
   "name": "python3"
  },
  "language_info": {
   "codemirror_mode": {
    "name": "ipython",
    "version": 3
   },
   "file_extension": ".py",
   "mimetype": "text/x-python",
   "name": "python",
   "nbconvert_exporter": "python",
   "pygments_lexer": "ipython3",
   "version": "3.8.5"
  }
 },
 "nbformat": 4,
 "nbformat_minor": 4
}
