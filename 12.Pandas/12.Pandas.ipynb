{
 "cells": [
  {
   "cell_type": "markdown",
   "metadata": {},
   "source": [
    "# Домашнее задание по теме \"Pandas\""
   ]
  },
  {
   "cell_type": "markdown",
   "metadata": {},
   "source": [
    "### Задание 1\n",
    "\n",
    "Скачайте с сайта https://grouplens.org/datasets/movielens/ датасет любого размера. \n",
    "Определите какому фильму было выставлено больше всего оценок 5.0.\n",
    "\n",
    "### Решение"
   ]
  },
  {
   "cell_type": "code",
   "execution_count": 42,
   "metadata": {},
   "outputs": [
    {
     "data": {
      "text/plain": [
       "318    153\n",
       "Name: movieId, dtype: int64"
      ]
     },
     "execution_count": 42,
     "metadata": {},
     "output_type": "execute_result"
    }
   ],
   "source": [
    "import pandas as pd\n",
    "ratings_movies = pd.read_csv('ratings.csv')\n",
    "# фильтр по кино с оценками 5\n",
    "ratings_movies = ratings_movies[ratings_movies['rating'] == 5].filter(items=['movieId', 'rating'])\n",
    "# считаем у какого фильма больше всего строк = оценок 5\n",
    "answer = ratings_movies['movieId'].value_counts()\n",
    "# первая строка является ответом, т.к. всё отсортировано по убыванию количества оценок\n",
    "answer.head(1)\n",
    "\n"
   ]
  },
  {
   "cell_type": "markdown",
   "metadata": {},
   "source": [
    "### Задание 2\n",
    "По данным файла power.csv посчитайте суммарное потребление стран Прибалтики (Латвия, Литва и Эстония) категорий 4, 12 и 21 \n",
    "за период с 2005 по 2010 года. Не учитывайте в расчетах отрицательные значения quantity.\n",
    "\n",
    "### Решение"
   ]
  },
  {
   "cell_type": "code",
   "execution_count": 43,
   "metadata": {},
   "outputs": [
    {
     "data": {
      "text/plain": [
       "118284.0"
      ]
     },
     "execution_count": 43,
     "metadata": {},
     "output_type": "execute_result"
    }
   ],
   "source": [
    "power = pd.read_csv('power.csv')\n",
    "# фильтруем по странам\n",
    "power = power[(power['country'] == 'Latvia') | (power['country'] == 'Litva') | (power['country'] == 'Estonia')]\n",
    "# фильтруем по категориям\n",
    "power = power[(power['category'] == 4 ) | (power['category'] == 12 ) | (power['category'] == 21 )]\n",
    "# фильтруем по годам\n",
    "power = power[(power['year'] >= 2005) & (power['year'] <= 2010)]\n",
    "# фильтруем по мощности больше 0\n",
    "power = power[power['quantity'] > 0]\n",
    "# находим сумму элементов столбца\n",
    "sum_power = power['quantity'].sum()\n",
    "sum_power\n",
    "\n",
    "\n"
   ]
  },
  {
   "cell_type": "markdown",
   "metadata": {},
   "source": [
    "### Задание 3\n",
    "Выберите страницу любого сайта с табличными данными. Импортируйте таблицы в pandas dataframe.\n",
    "Примеры страниц (необязательно брать именно эти):\n",
    "https://fortrader.org/quotes\n",
    "https://www.finanz.ru/valyuty/v-realnom-vremeni\n",
    "    \n",
    "### Решение"
   ]
  },
  {
   "cell_type": "code",
   "execution_count": 45,
   "metadata": {},
   "outputs": [
    {
     "data": {
      "text/html": [
       "<div>\n",
       "<style scoped>\n",
       "    .dataframe tbody tr th:only-of-type {\n",
       "        vertical-align: middle;\n",
       "    }\n",
       "\n",
       "    .dataframe tbody tr th {\n",
       "        vertical-align: top;\n",
       "    }\n",
       "\n",
       "    .dataframe thead th {\n",
       "        text-align: right;\n",
       "    }\n",
       "</style>\n",
       "<table border=\"1\" class=\"dataframe\">\n",
       "  <thead>\n",
       "    <tr style=\"text-align: right;\">\n",
       "      <th></th>\n",
       "      <th>Название</th>\n",
       "      <th>Цена</th>\n",
       "      <th>Изменение</th>\n",
       "      <th>Изменение(%)</th>\n",
       "      <th>Обновлено</th>\n",
       "    </tr>\n",
       "  </thead>\n",
       "  <tbody>\n",
       "    <tr>\n",
       "      <th>0</th>\n",
       "      <td>Bitcoin Курс биткоина</td>\n",
       "      <td>37 747.40</td>\n",
       "      <td>-95.00000</td>\n",
       "      <td>-0.250000</td>\n",
       "      <td>NaN</td>\n",
       "    </tr>\n",
       "    <tr>\n",
       "      <th>1</th>\n",
       "      <td>Litecoin Курс лайткоин к доллару (LTC/USD)</td>\n",
       "      <td>152.26</td>\n",
       "      <td>-2.70000</td>\n",
       "      <td>-1.740000</td>\n",
       "      <td>NaN</td>\n",
       "    </tr>\n",
       "    <tr>\n",
       "      <th>2</th>\n",
       "      <td>BitcoinCash Курс Биткоин кеш к доллару США (BC...</td>\n",
       "      <td>434.62</td>\n",
       "      <td>-3.87000</td>\n",
       "      <td>-0.880000</td>\n",
       "      <td>NaN</td>\n",
       "    </tr>\n",
       "    <tr>\n",
       "      <th>3</th>\n",
       "      <td>Dash Dash</td>\n",
       "      <td>119.12</td>\n",
       "      <td>-1.31000</td>\n",
       "      <td>-1.090000</td>\n",
       "      <td>NaN</td>\n",
       "    </tr>\n",
       "    <tr>\n",
       "      <th>4</th>\n",
       "      <td>Ripple Ripple</td>\n",
       "      <td>0.443</td>\n",
       "      <td>-0.00900</td>\n",
       "      <td>-2.084000</td>\n",
       "      <td>NaN</td>\n",
       "    </tr>\n",
       "    <tr>\n",
       "      <th>5</th>\n",
       "      <td>Ethereum Ethereum</td>\n",
       "      <td>1 720.70</td>\n",
       "      <td>-2.61000</td>\n",
       "      <td>-0.150000</td>\n",
       "      <td>NaN</td>\n",
       "    </tr>\n",
       "    <tr>\n",
       "      <th>6</th>\n",
       "      <td>Zcash (ZEC)</td>\n",
       "      <td>93.739</td>\n",
       "      <td>-2.80600</td>\n",
       "      <td>-2.906000</td>\n",
       "      <td>NaN</td>\n",
       "    </tr>\n",
       "    <tr>\n",
       "      <th>7</th>\n",
       "      <td>NEO (NEO)</td>\n",
       "      <td>25.563</td>\n",
       "      <td>-0.50600</td>\n",
       "      <td>-1.941000</td>\n",
       "      <td>NaN</td>\n",
       "    </tr>\n",
       "    <tr>\n",
       "      <th>8</th>\n",
       "      <td>EOS (EOS)</td>\n",
       "      <td>3.2924</td>\n",
       "      <td>-0.02010</td>\n",
       "      <td>-0.606800</td>\n",
       "      <td>NaN</td>\n",
       "    </tr>\n",
       "    <tr>\n",
       "      <th>9</th>\n",
       "      <td>TRON (TRX)</td>\n",
       "      <td>0.036051</td>\n",
       "      <td>-0.00016</td>\n",
       "      <td>-0.441855</td>\n",
       "      <td>NaN</td>\n",
       "    </tr>\n",
       "    <tr>\n",
       "      <th>10</th>\n",
       "      <td>Monero</td>\n",
       "      <td>153.15</td>\n",
       "      <td>-1.99000</td>\n",
       "      <td>-1.280000</td>\n",
       "      <td>NaN</td>\n",
       "    </tr>\n",
       "    <tr>\n",
       "      <th>11</th>\n",
       "      <td>IOTA</td>\n",
       "      <td>0.50795</td>\n",
       "      <td>-0.00906</td>\n",
       "      <td>-1.752380</td>\n",
       "      <td>NaN</td>\n",
       "    </tr>\n",
       "    <tr>\n",
       "      <th>12</th>\n",
       "      <td>ETC/USD эфириум классик, ETC</td>\n",
       "      <td>8.3387</td>\n",
       "      <td>-0.17230</td>\n",
       "      <td>-2.024400</td>\n",
       "      <td>NaN</td>\n",
       "    </tr>\n",
       "  </tbody>\n",
       "</table>\n",
       "</div>"
      ],
      "text/plain": [
       "                                             Название       Цена  Изменение  \\\n",
       "0                               Bitcoin Курс биткоина  37 747.40  -95.00000   \n",
       "1          Litecoin Курс лайткоин к доллару (LTC/USD)     152.26   -2.70000   \n",
       "2   BitcoinCash Курс Биткоин кеш к доллару США (BC...     434.62   -3.87000   \n",
       "3                                           Dash Dash     119.12   -1.31000   \n",
       "4                                       Ripple Ripple      0.443   -0.00900   \n",
       "5                                   Ethereum Ethereum   1 720.70   -2.61000   \n",
       "6                                         Zcash (ZEC)     93.739   -2.80600   \n",
       "7                                           NEO (NEO)     25.563   -0.50600   \n",
       "8                                           EOS (EOS)     3.2924   -0.02010   \n",
       "9                                          TRON (TRX)   0.036051   -0.00016   \n",
       "10                                             Monero     153.15   -1.99000   \n",
       "11                                               IOTA    0.50795   -0.00906   \n",
       "12                       ETC/USD эфириум классик, ETC     8.3387   -0.17230   \n",
       "\n",
       "    Изменение(%)  Обновлено  \n",
       "0      -0.250000        NaN  \n",
       "1      -1.740000        NaN  \n",
       "2      -0.880000        NaN  \n",
       "3      -1.090000        NaN  \n",
       "4      -2.084000        NaN  \n",
       "5      -0.150000        NaN  \n",
       "6      -2.906000        NaN  \n",
       "7      -1.941000        NaN  \n",
       "8      -0.606800        NaN  \n",
       "9      -0.441855        NaN  \n",
       "10     -1.280000        NaN  \n",
       "11     -1.752380        NaN  \n",
       "12     -2.024400        NaN  "
      ]
     },
     "execution_count": 45,
     "metadata": {},
     "output_type": "execute_result"
    }
   ],
   "source": [
    "site = 'https://fortrader.org/quotes'\n",
    "\n",
    "data = pd.read_html(site)\n",
    "# выбираем любую таблицу от 0 до 7\n",
    "data[7]"
   ]
  },
  {
   "cell_type": "code",
   "execution_count": null,
   "metadata": {},
   "outputs": [],
   "source": []
  }
 ],
 "metadata": {
  "kernelspec": {
   "display_name": "Python 3",
   "language": "python",
   "name": "python3"
  },
  "language_info": {
   "codemirror_mode": {
    "name": "ipython",
    "version": 3
   },
   "file_extension": ".py",
   "mimetype": "text/x-python",
   "name": "python",
   "nbconvert_exporter": "python",
   "pygments_lexer": "ipython3",
   "version": "3.8.5"
  }
 },
 "nbformat": 4,
 "nbformat_minor": 4
}
