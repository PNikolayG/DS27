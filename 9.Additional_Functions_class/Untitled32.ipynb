{
  "nbformat": 4,
  "nbformat_minor": 0,
  "metadata": {
    "colab": {
      "name": "Untitled32.ipynb",
      "provenance": []
    },
    "kernelspec": {
      "name": "python3",
      "display_name": "Python 3"
    }
  },
  "cells": [
    {
      "cell_type": "code",
      "metadata": {
        "id": "c-xNxKIK0vaD",
        "colab_type": "code",
        "colab": {}
      },
      "source": [
        "СЛОВАРЬ: ключ -> значение\n",
        "МАССИВ: список (коллекция)"
      ],
      "execution_count": null,
      "outputs": []
    },
    {
      "cell_type": "code",
      "metadata": {
        "id": "FVF5zgf_9AJb",
        "colab_type": "code",
        "colab": {}
      },
      "source": [
        "import time"
      ],
      "execution_count": null,
      "outputs": []
    },
    {
      "cell_type": "code",
      "metadata": {
        "id": "ltW5piry4Dec",
        "colab_type": "code",
        "colab": {}
      },
      "source": [
        "GUESTS = []"
      ],
      "execution_count": null,
      "outputs": []
    },
    {
      "cell_type": "code",
      "metadata": {
        "id": "eOiChwID4I3V",
        "colab_type": "code",
        "colab": {}
      },
      "source": [
        "GUESTS.append({'name': 'Василий', 'email': 'vasya@ya.ru', 'title': 'Mr.'})\n",
        "GUESTS.append({'name': 'Ирина', 'email': 'irina@ya.ru', 'title': 'Mrs.'})\n",
        "GUESTS.append({'name': 'Ольга', 'email': 'olga@ya.ru', 'title': 'Ms.'})"
      ],
      "execution_count": null,
      "outputs": []
    },
    {
      "cell_type": "code",
      "metadata": {
        "id": "0pUpZNEX4Y7y",
        "colab_type": "code",
        "colab": {
          "base_uri": "https://localhost:8080/",
          "height": 90
        },
        "outputId": "722c5294-16f0-443a-d744-464d12e89047"
      },
      "source": [
        "GUESTS"
      ],
      "execution_count": null,
      "outputs": [
        {
          "output_type": "execute_result",
          "data": {
            "text/plain": [
              "[{'email': 'vasya@ya.ru', 'name': 'Василий', 'title': 'Mr.'},\n",
              " {'email': 'irina@ya.ru', 'name': 'Ирина', 'title': 'Mrs.'},\n",
              " {'email': 'olga@ya.ru', 'name': 'Ольга', 'title': 'Ms.'}]"
            ]
          },
          "metadata": {
            "tags": []
          },
          "execution_count": 26
        }
      ]
    },
    {
      "cell_type": "code",
      "metadata": {
        "id": "rKBVnv614aGm",
        "colab_type": "code",
        "colab": {
          "base_uri": "https://localhost:8080/",
          "height": 90
        },
        "outputId": "54b5bfd1-312c-47f2-87ad-1db86bd5e8d8"
      },
      "source": [
        "for i, g in enumerate(GUESTS):\n",
        "  print('{}. {} ({})'.format(i, g['name'], g['email']))"
      ],
      "execution_count": null,
      "outputs": [
        {
          "output_type": "stream",
          "text": [
            "0. Василий (vasya@ya.ru)\n",
            "1. Ирина (irina@ya.ru)\n",
            "2. Ольга (olga@ya.ru)\n"
          ],
          "name": "stdout"
        }
      ]
    },
    {
      "cell_type": "code",
      "metadata": {
        "id": "yuTcalxs4py3",
        "colab_type": "code",
        "colab": {}
      },
      "source": [
        "GUESTS.append({'name': 'Иван', 'email': 'ivan@ya.ru', 'title': 'Mr.'})"
      ],
      "execution_count": null,
      "outputs": []
    },
    {
      "cell_type": "code",
      "metadata": {
        "id": "rA6jUJHF4vTj",
        "colab_type": "code",
        "colab": {
          "base_uri": "https://localhost:8080/",
          "height": 108
        },
        "outputId": "04eb630b-593f-499f-d62c-41fcbec15bfd"
      },
      "source": [
        "for i, g in enumerate(GUESTS):\n",
        "  print('{}. {} ({})'.format(i, g['name'], g['email']))"
      ],
      "execution_count": null,
      "outputs": [
        {
          "output_type": "stream",
          "text": [
            "0. Василий (vasya@ya.ru)\n",
            "1. Ирина (irina@ya.ru)\n",
            "2. Ольга (olga@ya.ru)\n",
            "3. Иван (ivan@ya.ru)\n"
          ],
          "name": "stdout"
        }
      ]
    },
    {
      "cell_type": "code",
      "metadata": {
        "id": "NcSriATx4xJk",
        "colab_type": "code",
        "colab": {
          "base_uri": "https://localhost:8080/",
          "height": 125
        },
        "outputId": "82703a18-f760-445d-dc92-2a324ed4994a"
      },
      "source": [
        "print(\"\"\"\n",
        "to: {}\n",
        "Дорогой, {} {}!\n",
        "Приглашаем тебя на праздник тогда-то и там-то\n",
        "\"\"\".format(GUESTS[0]['email'], GUESTS[0]['title'], GUESTS[0]['name']))"
      ],
      "execution_count": null,
      "outputs": [
        {
          "output_type": "stream",
          "text": [
            "\n",
            "to: vasya@ya.ru\n",
            "Дорогой, Mr. Василий!\n",
            "Приглашаем тебя на праздник тогда-то и там-то\n",
            "\n"
          ],
          "name": "stdout"
        }
      ]
    },
    {
      "cell_type": "code",
      "metadata": {
        "id": "zGV6Q_-Z5DEF",
        "colab_type": "code",
        "colab": {
          "base_uri": "https://localhost:8080/",
          "height": 125
        },
        "outputId": "d59127d5-5d58-4571-e4c1-0911cb488ec9"
      },
      "source": [
        "print(\"\"\"\n",
        "to: {}\n",
        "Дорогой, {} {}!\n",
        "Приглашаем тебя на праздник тогда-то и там-то\n",
        "\"\"\".format(GUESTS[2]['email'], GUESTS[2]['title'], GUESTS[2]['name']))"
      ],
      "execution_count": null,
      "outputs": [
        {
          "output_type": "stream",
          "text": [
            "\n",
            "to: olga@ya.ru\n",
            "Дорогой, Ms. Ольга!\n",
            "Приглашаем тебя на праздник тогда-то и там-то\n",
            "\n"
          ],
          "name": "stdout"
        }
      ]
    },
    {
      "cell_type": "code",
      "metadata": {
        "id": "XWBg4bYz5WyE",
        "colab_type": "code",
        "colab": {}
      },
      "source": [
        "def print_list():\n",
        "  for i, g in enumerate(GUESTS):\n",
        "    print('{}. {} ({})'.format(i, g['name'], g['email']))"
      ],
      "execution_count": null,
      "outputs": []
    },
    {
      "cell_type": "code",
      "metadata": {
        "id": "sN11Ztu371c2",
        "colab_type": "code",
        "colab": {}
      },
      "source": [
        "def add_guest(name, email, title):\n",
        "  GUESTS.append({\n",
        "      'name': name,\n",
        "      'email': email,\n",
        "      'title': title})"
      ],
      "execution_count": null,
      "outputs": []
    },
    {
      "cell_type": "code",
      "metadata": {
        "id": "GdZPO_YT9VMY",
        "colab_type": "code",
        "colab": {}
      },
      "source": [
        "def check_has_guest(email):\n",
        "  for g in GUESTS:\n",
        "    if g['email'] == email:\n",
        "      return True\n",
        "    \n",
        "  return False"
      ],
      "execution_count": null,
      "outputs": []
    },
    {
      "cell_type": "code",
      "metadata": {
        "id": "LfWmhGut92Fy",
        "colab_type": "code",
        "colab": {
          "base_uri": "https://localhost:8080/",
          "height": 72
        },
        "outputId": "cb376777-7258-4be8-885a-99bafd3de442"
      },
      "source": [
        "check_has_guest('vasya@ya.ru')"
      ],
      "execution_count": null,
      "outputs": [
        {
          "output_type": "stream",
          "text": [
            "CHECKING GUEST vasya@ya.ru\n"
          ],
          "name": "stdout"
        },
        {
          "output_type": "execute_result",
          "data": {
            "text/plain": [
              "True"
            ]
          },
          "metadata": {
            "tags": []
          },
          "execution_count": 65
        }
      ]
    },
    {
      "cell_type": "code",
      "metadata": {
        "id": "u3F4tt3x8o17",
        "colab_type": "code",
        "colab": {}
      },
      "source": [
        "add_guest('Полина', 'polina@ya.ru', 'Mrs.')"
      ],
      "execution_count": null,
      "outputs": []
    },
    {
      "cell_type": "code",
      "metadata": {
        "id": "bXeupBp6579w",
        "colab_type": "code",
        "colab": {
          "base_uri": "https://localhost:8080/",
          "height": 160
        },
        "outputId": "f26f5eeb-8aea-4b14-eb4c-dea4de9d7c87"
      },
      "source": [
        "print_list(GUESTS)"
      ],
      "execution_count": null,
      "outputs": [
        {
          "output_type": "stream",
          "text": [
            "0. Василий (vasya@ya.ru)\n",
            "1. Ирина (irina@ya.ru)\n",
            "2. Ольга (olga@ya.ru)\n",
            "3. Иван (ivan@ya.ru)\n",
            "4. Оксана (oksana@ya.ru)\n",
            "5. Полина (polina@ya.ru)\n",
            "6. Полина (polina@ya.ru)\n"
          ],
          "name": "stdout"
        }
      ]
    },
    {
      "cell_type": "code",
      "metadata": {
        "id": "7DwtgRVn7Y5n",
        "colab_type": "code",
        "colab": {
          "base_uri": "https://localhost:8080/",
          "height": 108
        },
        "outputId": "e837592d-c741-46a4-e100-77f53eef59b1"
      },
      "source": [
        "print_list(GUESTS)"
      ],
      "execution_count": null,
      "outputs": [
        {
          "output_type": "stream",
          "text": [
            "0. Василий (vasya@ya.ru)\n",
            "1. Ирина (irina@ya.ru)\n",
            "2. Ольга (olga@ya.ru)\n",
            "3. Иван (ivan@ya.ru)\n"
          ],
          "name": "stdout"
        }
      ]
    },
    {
      "cell_type": "code",
      "metadata": {
        "id": "1Xf3kcjM7mXu",
        "colab_type": "code",
        "colab": {}
      },
      "source": [
        ""
      ],
      "execution_count": null,
      "outputs": []
    },
    {
      "cell_type": "code",
      "metadata": {
        "id": "K89TQxeSBIWR",
        "colab_type": "code",
        "colab": {}
      },
      "source": [
        "class GuestsList:\n",
        "  def __init__(self):\n",
        "    self.guests = []\n",
        "\n",
        "  def print(self):\n",
        "    for i, g in enumerate(self.guests):\n",
        "      print('{}. {} ({})'.format(i, g['name'], g['email']))\n",
        "\n",
        "  def add(self, name, email, title):\n",
        "    self.guests.append({\n",
        "      'name': name,\n",
        "      'email': email,\n",
        "      'title': title})\n",
        "\n",
        "  def check_has(self, email):\n",
        "    for g in self.guests:\n",
        "      if g['email'] == email:\n",
        "        return True\n",
        "    \n",
        "    return False"
      ],
      "execution_count": null,
      "outputs": []
    },
    {
      "cell_type": "code",
      "metadata": {
        "id": "DpdIiI-CEI2w",
        "colab_type": "code",
        "colab": {}
      },
      "source": [
        "gl = GuestsList()"
      ],
      "execution_count": null,
      "outputs": []
    },
    {
      "cell_type": "code",
      "metadata": {
        "id": "Rw_Iqv4GB7Ro",
        "colab_type": "code",
        "colab": {}
      },
      "source": [
        "gl.print()"
      ],
      "execution_count": null,
      "outputs": []
    },
    {
      "cell_type": "code",
      "metadata": {
        "id": "pkt8nTufB9qn",
        "colab_type": "code",
        "colab": {}
      },
      "source": [
        "gl.add('Вася', 'vasya@ya.ru', 'mr.')"
      ],
      "execution_count": null,
      "outputs": []
    },
    {
      "cell_type": "code",
      "metadata": {
        "id": "fOR9a72VCBSQ",
        "colab_type": "code",
        "colab": {
          "base_uri": "https://localhost:8080/",
          "height": 55
        },
        "outputId": "8a6c7d69-cee7-455a-9478-125583b65bda"
      },
      "source": [
        "gl.print()"
      ],
      "execution_count": null,
      "outputs": [
        {
          "output_type": "stream",
          "text": [
            "0. Вася (vasya@ya.ru)\n"
          ],
          "name": "stdout"
        }
      ]
    },
    {
      "cell_type": "code",
      "metadata": {
        "id": "r3sabjLTCB6a",
        "colab_type": "code",
        "colab": {}
      },
      "source": [
        "gl_for_work = GuestsList()"
      ],
      "execution_count": null,
      "outputs": []
    },
    {
      "cell_type": "code",
      "metadata": {
        "id": "deoxafqjCEoA",
        "colab_type": "code",
        "colab": {}
      },
      "source": [
        "gl_for_work.print()"
      ],
      "execution_count": null,
      "outputs": []
    },
    {
      "cell_type": "code",
      "metadata": {
        "id": "iY2P2x9rCGGc",
        "colab_type": "code",
        "colab": {}
      },
      "source": [
        "gl_for_work.add('Петя', 'petya@ya.ru', 'mr.')"
      ],
      "execution_count": null,
      "outputs": []
    },
    {
      "cell_type": "code",
      "metadata": {
        "id": "IDaP216aCKCE",
        "colab_type": "code",
        "colab": {
          "base_uri": "https://localhost:8080/",
          "height": 55
        },
        "outputId": "b67848c0-2e60-41f7-aceb-c274bb9b4c59"
      },
      "source": [
        "gl_for_work.print()"
      ],
      "execution_count": null,
      "outputs": [
        {
          "output_type": "stream",
          "text": [
            "0. Петя (petya@ya.ru)\n"
          ],
          "name": "stdout"
        }
      ]
    },
    {
      "cell_type": "code",
      "metadata": {
        "id": "JjWmeNKnCLxT",
        "colab_type": "code",
        "colab": {}
      },
      "source": [
        "class Guest:\n",
        "  def __init__(self, name, email, title):\n",
        "    self.name = name\n",
        "    self.email = email\n",
        "    self.title = title\n",
        "\n",
        "  def __str__(self):\n",
        "    return \"{} {}({})\".format(self.title, self.name, self.email)\n",
        "\n",
        "  def print_letter(self):\n",
        "    print(\"Привет, {}! Приходи на праздник\".format(self.name))\n",
        "\n",
        "  def print_beautifull(self):\n",
        "    print(\"{} {}({})\".format(self.title, self.name, self.email))\n",
        "\n",
        "  def short_description(self):\n",
        "    return \"{}({})\".format(self.name,  self.email)"
      ],
      "execution_count": null,
      "outputs": []
    },
    {
      "cell_type": "code",
      "metadata": {
        "id": "Ej_uAJFjF-ey",
        "colab_type": "code",
        "colab": {}
      },
      "source": [
        "class GuestsList:\n",
        "  def __init__(self):\n",
        "    self.guests = []\n",
        "\n",
        "  def print(self):\n",
        "    for i, g in enumerate(self.guests):\n",
        "      print('{}. {} ({})'.format(i, g.short_description()))\n",
        "\n",
        "  def add(self, guest):\n",
        "    self.guests.append(guest)\n",
        "\n",
        "  def check_has(self, email):\n",
        "    for g in self.guests:\n",
        "      if g.email == email:\n",
        "        return True\n",
        "    \n",
        "    return False"
      ],
      "execution_count": null,
      "outputs": []
    },
    {
      "cell_type": "code",
      "metadata": {
        "id": "be4AZoPxGIL0",
        "colab_type": "code",
        "colab": {}
      },
      "source": [
        "gl = GuestsList()"
      ],
      "execution_count": null,
      "outputs": []
    },
    {
      "cell_type": "code",
      "metadata": {
        "id": "ycnycqUoGKAq",
        "colab_type": "code",
        "colab": {}
      },
      "source": [
        "gl.add(Guest('Вася', 'vasya@ya.ru', 'Mr.'))"
      ],
      "execution_count": null,
      "outputs": []
    },
    {
      "cell_type": "code",
      "metadata": {
        "id": "Aicj2EuZGOPq",
        "colab_type": "code",
        "colab": {
          "base_uri": "https://localhost:8080/",
          "height": 55
        },
        "outputId": "61c1782c-f820-4320-86ee-85231a95c47c"
      },
      "source": [
        "gl.print()"
      ],
      "execution_count": null,
      "outputs": [
        {
          "output_type": "stream",
          "text": [
            "0. Вася (vasya@ya.ru)\n"
          ],
          "name": "stdout"
        }
      ]
    },
    {
      "cell_type": "code",
      "metadata": {
        "id": "BtoaBdq7GO41",
        "colab_type": "code",
        "colab": {
          "base_uri": "https://localhost:8080/",
          "height": 55
        },
        "outputId": "4cb9f9b2-c853-4aad-ddf9-e1a405e38507"
      },
      "source": [
        "gl.guests[0].print_letter()"
      ],
      "execution_count": null,
      "outputs": [
        {
          "output_type": "stream",
          "text": [
            "Привет, Вася! Приходи на праздник\n"
          ],
          "name": "stdout"
        }
      ]
    },
    {
      "cell_type": "code",
      "metadata": {
        "id": "-P3K2HVRHCTz",
        "colab_type": "code",
        "colab": {}
      },
      "source": [
        "class WorkGuest(Guest):\n",
        "  def __init__(self, name, email, title, department):\n",
        "    super().__init__(name, email, title)\n",
        "    self.department = department\n",
        "\n",
        "  def print_letter(self):\n",
        "    print(\"Привет, коллега {} из департамента {}! Приходи на праздник\".format(self.name, self.department))"
      ],
      "execution_count": null,
      "outputs": []
    },
    {
      "cell_type": "code",
      "metadata": {
        "id": "J8onscChHlOr",
        "colab_type": "code",
        "colab": {}
      },
      "source": [
        "gl.add(WorkGuest('Вася', 'vasya@ya.ru', 'Mr.', 'Юридический'))"
      ],
      "execution_count": null,
      "outputs": []
    },
    {
      "cell_type": "code",
      "metadata": {
        "id": "5nl_kjFuHo3U",
        "colab_type": "code",
        "colab": {
          "base_uri": "https://localhost:8080/",
          "height": 72
        },
        "outputId": "8e290d15-57a3-490e-ee1d-3b78eb940466"
      },
      "source": [
        "gl.guests[3].print_letter()"
      ],
      "execution_count": null,
      "outputs": [
        {
          "output_type": "stream",
          "text": [
            "Привет, Вася! Приходи на праздник\n",
            "Привет, коллега Вася из департамента Юридический! Приходи на праздник\n"
          ],
          "name": "stdout"
        }
      ]
    },
    {
      "cell_type": "code",
      "metadata": {
        "id": "DNqW6soOHqId",
        "colab_type": "code",
        "colab": {}
      },
      "source": [
        "g = Guest(\"Петя\", 'petya@ya.ru', 'mr')"
      ],
      "execution_count": null,
      "outputs": []
    },
    {
      "cell_type": "code",
      "metadata": {
        "id": "Gn7Xbr7cLtYH",
        "colab_type": "code",
        "colab": {
          "base_uri": "https://localhost:8080/",
          "height": 55
        },
        "outputId": "826b15b2-d90a-48e8-82bd-272df24ae6cb"
      },
      "source": [
        "print(g)"
      ],
      "execution_count": null,
      "outputs": [
        {
          "output_type": "stream",
          "text": [
            "mr Петя(petya@ya.ru)\n"
          ],
          "name": "stdout"
        }
      ]
    },
    {
      "cell_type": "code",
      "metadata": {
        "id": "__Gt_7ubLuEl",
        "colab_type": "code",
        "colab": {}
      },
      "source": [
        ""
      ],
      "execution_count": null,
      "outputs": []
    }
  ]
}