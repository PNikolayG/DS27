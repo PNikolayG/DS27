{
 "cells": [
  {
   "cell_type": "markdown",
   "metadata": {},
   "source": [
    "# Лекция - практика по Управляющим конструкциям и коллекциям. Часть 2."
   ]
  },
  {
   "cell_type": "markdown",
   "metadata": {},
   "source": [
    "### Задача 1"
   ]
  },
  {
   "cell_type": "code",
   "execution_count": 9,
   "metadata": {},
   "outputs": [
    {
     "name": "stdout",
     "output_type": "stream",
     "text": [
      "{1: 2, 3: 4}\n",
      "{'id1': 654321, 'id2': 123456, 'id3': 777777}\n"
     ]
    }
   ],
   "source": [
    "dict_1 = {1: 2}\n",
    "dict_2 = {3: 4}\n",
    "dict_1.update(dict_2)\n",
    "sorted(dict_1.values())\n",
    "print(dict_1)\n",
    "my_dict = {    'id1': 654321,     'id2': 123456,     'id3': 777777}\n",
    "sorted(my_dict.values())\n",
    "print(my_dict)"
   ]
  },
  {
   "cell_type": "markdown",
   "metadata": {},
   "source": [
    "### Задача 2"
   ]
  },
  {
   "cell_type": "code",
   "execution_count": 17,
   "metadata": {},
   "outputs": [
    {
     "name": "stdout",
     "output_type": "stream",
     "text": [
      "225\n"
     ]
    }
   ],
   "source": [
    "bodycount = {  \n",
    "    'Проклятие Черной жемчужины': \n",
    "    { \n",
    "        'человек': 17 \n",
    "    },    \n",
    "    'Сундук мертвеца':\n",
    "    {\n",
    "        'человек': 56,  \n",
    "        'раков-отшельников': 1 \n",
    "    },   \n",
    "    'На краю света':\n",
    "    {\n",
    "        'человек': 88  \n",
    "    },   \n",
    "    'На странных берегах': \n",
    "    {  \n",
    "        'человек': 56,  \n",
    "        'русалок': 2,  \n",
    "        'ядовитых жаб': 3,       \n",
    "        'пиратов зомби': 2 \n",
    "    }\n",
    "}\n",
    "\n",
    "\n",
    "all_dead = 0\n",
    "for dead in bodycount.values():\n",
    "    all_dead += sum(dead.values())\n",
    "\n",
    "print(all_dead)"
   ]
  }
 ],
 "metadata": {
  "kernelspec": {
   "display_name": "Python 3",
   "language": "python",
   "name": "python3"
  },
  "language_info": {
   "codemirror_mode": {
    "name": "ipython",
    "version": 3
   },
   "file_extension": ".py",
   "mimetype": "text/x-python",
   "name": "python",
   "nbconvert_exporter": "python",
   "pygments_lexer": "ipython3",
   "version": "3.8.5"
  }
 },
 "nbformat": 4,
 "nbformat_minor": 4
}
