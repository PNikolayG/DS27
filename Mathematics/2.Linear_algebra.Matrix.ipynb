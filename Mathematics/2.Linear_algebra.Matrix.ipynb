{
 "cells": [
  {
   "cell_type": "markdown",
   "id": "satisfied-sunset",
   "metadata": {},
   "source": [
    "# Домашнее задание \"Линейная алгебра. Матрицы\".¶\n",
    "\n",
    "## Уровень 0:\n",
    "- Создайте матрицу 3 на 3, заполненную числами от 1 до 9\n",
    "- Прибавьте к ней матрицу с единицами на диагонале\n",
    "- Умножьте полученную матрицу на вектор (1, 2, 3)\n",
    "- Посчитайте обратную матрицу к полученной матрице\n",
    "\n",
    "## Уровень 1:\n",
    "Дан объект в 2d пространстве:\n",
    "\n",
    "- import numpy as np\n",
    "- import matplotlib.pyplot as plt\n",
    "\n",
    "- A = [\n",
    "- [-100, -100, 1],\n",
    "- [-100, 100, 1],\n",
    "- [100, 100, 1],\n",
    "- [0, 0, 1],\n",
    "- [100, -100, 1],\n",
    "- [-100, -100, 1]\n",
    "- ]\n",
    "\n",
    "- A = np.array(A)\n",
    "- x = A[:,0]\n",
    "- y = A[:,1]\n",
    "\n",
    "- plt.plot(x, y)\n",
    "- plt.ylim([-200, 200])\n",
    "- plt.xlim([-200, 200])\n",
    "\n",
    "При помощи матричных операций выполните:\n",
    "\n",
    "- Уменьшить объект в два раза\n",
    "- Повернуть на 130 градусов\n",
    "- Отразить объект относительно прямой y=x\n",
    "- Выполнить смещение объекта и масштабирование (применить 2 матрицы трансформаций). Смещение на (200, 300) и масштабирование на (0.5, 1.2)"
   ]
  },
  {
   "cell_type": "markdown",
   "id": "similar-spider",
   "metadata": {},
   "source": [
    "## Решение. \n",
    "### Уровень 0:"
   ]
  },
  {
   "cell_type": "code",
   "execution_count": 2,
   "id": "mature-cooper",
   "metadata": {},
   "outputs": [],
   "source": [
    "import numpy as np\n",
    "import matplotlib.pyplot as plt"
   ]
  },
  {
   "cell_type": "markdown",
   "id": "national-bridge",
   "metadata": {},
   "source": [
    "### Создайте матрицу 3 на 3, заполненную числами от 1 до 9"
   ]
  },
  {
   "cell_type": "code",
   "execution_count": 3,
   "id": "alpine-trigger",
   "metadata": {},
   "outputs": [
    {
     "data": {
      "text/plain": [
       "array([[1, 2, 3],\n",
       "       [4, 5, 6],\n",
       "       [7, 8, 9]])"
      ]
     },
     "execution_count": 3,
     "metadata": {},
     "output_type": "execute_result"
    }
   ],
   "source": [
    "M = np.array([[1,2,3],\n",
    "             [4,5,6],\n",
    "             [7,8,9]]\n",
    "            )\n",
    "M"
   ]
  },
  {
   "cell_type": "markdown",
   "id": "integrated-bowling",
   "metadata": {},
   "source": [
    "### Прибавьте к ней матрицу с единицами на диагонале"
   ]
  },
  {
   "cell_type": "code",
   "execution_count": 4,
   "id": "rational-practitioner",
   "metadata": {},
   "outputs": [
    {
     "data": {
      "text/plain": [
       "array([[1., 0., 0.],\n",
       "       [0., 1., 0.],\n",
       "       [0., 0., 1.]])"
      ]
     },
     "execution_count": 4,
     "metadata": {},
     "output_type": "execute_result"
    }
   ],
   "source": [
    "E = np.eye(3)\n",
    "E"
   ]
  },
  {
   "cell_type": "code",
   "execution_count": 5,
   "id": "controlling-event",
   "metadata": {},
   "outputs": [
    {
     "data": {
      "text/plain": [
       "array([[ 2.,  2.,  3.],\n",
       "       [ 4.,  6.,  6.],\n",
       "       [ 7.,  8., 10.]])"
      ]
     },
     "execution_count": 5,
     "metadata": {},
     "output_type": "execute_result"
    }
   ],
   "source": [
    "S = M + E\n",
    "S"
   ]
  },
  {
   "cell_type": "markdown",
   "id": "creative-logging",
   "metadata": {},
   "source": [
    "### Умножьте полученную матрицу на вектор (1, 2, 3)"
   ]
  },
  {
   "cell_type": "code",
   "execution_count": 6,
   "id": "dutch-summer",
   "metadata": {},
   "outputs": [
    {
     "data": {
      "text/plain": [
       "array([[15.],\n",
       "       [34.],\n",
       "       [53.]])"
      ]
     },
     "execution_count": 6,
     "metadata": {},
     "output_type": "execute_result"
    }
   ],
   "source": [
    "# размерности 3*3 умножается на 3*1\n",
    "MP = S @ np.array([[1], [2], [3]])\n",
    "MP"
   ]
  },
  {
   "cell_type": "markdown",
   "id": "center-release",
   "metadata": {},
   "source": [
    "### Посчитайте обратную матрицу к полученной матрице"
   ]
  },
  {
   "cell_type": "code",
   "execution_count": 7,
   "id": "acceptable-greene",
   "metadata": {},
   "outputs": [
    {
     "data": {
      "text/plain": [
       "array([[-6. , -2. ,  3. ],\n",
       "       [-1. ,  0.5,  0. ],\n",
       "       [ 5. ,  1. , -2. ]])"
      ]
     },
     "execution_count": 7,
     "metadata": {},
     "output_type": "execute_result"
    }
   ],
   "source": [
    "I = np.linalg.inv(S)\n",
    "I"
   ]
  },
  {
   "cell_type": "markdown",
   "id": "southeast-museum",
   "metadata": {},
   "source": [
    "### Уровень 1:"
   ]
  },
  {
   "cell_type": "code",
   "execution_count": 8,
   "id": "living-demand",
   "metadata": {},
   "outputs": [],
   "source": [
    "A = [\n",
    " [-100, -100, 1],\n",
    " [-100, 100, 1],\n",
    " [100, 100, 1],\n",
    " [0, 0, 1],\n",
    " [100, -100, 1],\n",
    " [-100, -100, 1]\n",
    " ]\n",
    "\n",
    "A = np.array(A)\n",
    "x = A[:,0]\n",
    "y = A[:,1]"
   ]
  },
  {
   "cell_type": "code",
   "execution_count": 9,
   "id": "physical-convert",
   "metadata": {},
   "outputs": [
    {
     "data": {
      "text/plain": [
       "(-200.0, 200.0)"
      ]
     },
     "execution_count": 9,
     "metadata": {},
     "output_type": "execute_result"
    },
    {
     "data": {
      "image/png": "[encoded data removed]",
      "text/plain": [
       "<Figure size 432x288 with 1 Axes>"
      ]
     },
     "metadata": {
      "needs_background": "light"
     },
     "output_type": "display_data"
    }
   ],
   "source": [
    "plt.plot(x, y)\n",
    "plt.ylim([-200, 200])\n",
    "plt.xlim([-200, 200])"
   ]
  },
  {
   "cell_type": "markdown",
   "id": "helpful-discrimination",
   "metadata": {},
   "source": [
    "### Уменьшить объект в два раза\n"
   ]
  },
  {
   "cell_type": "code",
   "execution_count": 10,
   "id": "swiss-south",
   "metadata": {},
   "outputs": [
    {
     "data": {
      "text/plain": [
       "array([[-50. , -50. ,   0.5],\n",
       "       [-50. ,  50. ,   0.5],\n",
       "       [ 50. ,  50. ,   0.5],\n",
       "       [  0. ,   0. ,   0.5],\n",
       "       [ 50. , -50. ,   0.5],\n",
       "       [-50. , -50. ,   0.5]])"
      ]
     },
     "execution_count": 10,
     "metadata": {},
     "output_type": "execute_result"
    }
   ],
   "source": [
    "Dec = A * 0.5\n",
    "Dec"
   ]
  },
  {
   "cell_type": "code",
   "execution_count": 11,
   "id": "sunrise-rachel",
   "metadata": {},
   "outputs": [],
   "source": [
    "x2 = Dec[:,0]\n",
    "y2 = Dec[:,1]"
   ]
  },
  {
   "cell_type": "code",
   "execution_count": 12,
   "id": "guilty-parcel",
   "metadata": {},
   "outputs": [
    {
     "data": {
      "text/plain": [
       "(-200.0, 200.0)"
      ]
     },
     "execution_count": 12,
     "metadata": {},
     "output_type": "execute_result"
    },
    {
     "data": {
      "image/png": "[encoded data removed]",
      "text/plain": [
       "<Figure size 432x288 with 1 Axes>"
      ]
     },
     "metadata": {
      "needs_background": "light"
     },
     "output_type": "display_data"
    }
   ],
   "source": [
    "plt.plot(x2, y2)\n",
    "plt.ylim([-200, 200])\n",
    "plt.xlim([-200, 200])"
   ]
  },
  {
   "cell_type": "markdown",
   "id": "animal-savings",
   "metadata": {},
   "source": [
    "### Повернуть на 130 градусов\n"
   ]
  },
  {
   "cell_type": "code",
   "execution_count": 13,
   "id": "tired-desert",
   "metadata": {},
   "outputs": [],
   "source": [
    "Rot = np.array([\n",
    "    [np.cos(np.deg2rad(130)), +np.sin(np.deg2rad(130))],\n",
    "    [-np.sin(np.deg2rad(130)), np.cos(np.deg2rad(130))]\n",
    "])"
   ]
  },
  {
   "cell_type": "code",
   "execution_count": 14,
   "id": "increased-actor",
   "metadata": {},
   "outputs": [
    {
     "data": {
      "image/png": "[encoded data removed]",
      "text/plain": [
       "<Figure size 432x288 with 1 Axes>"
      ]
     },
     "metadata": {
      "needs_background": "light"
     },
     "output_type": "display_data"
    }
   ],
   "source": [
    "x3 = []\n",
    "y3 = []\n",
    "for x,y,k in A:\n",
    "    Rotxy = np.array([x, y]) @ Rot\n",
    "    x3.append(Rotxy[0])\n",
    "    y3.append(Rotxy[1])\n",
    "plt.plot(x3, y3) \n",
    "plt.show()"
   ]
  },
  {
   "cell_type": "code",
   "execution_count": 15,
   "id": "powerful-scanning",
   "metadata": {},
   "outputs": [
    {
     "data": {
      "text/plain": [
       "array([140.88320528, -12.32568334])"
      ]
     },
     "execution_count": 15,
     "metadata": {},
     "output_type": "execute_result"
    }
   ],
   "source": [
    "Rotxy"
   ]
  },
  {
   "cell_type": "markdown",
   "id": "veterinary-postage",
   "metadata": {},
   "source": [
    "### Отразить объект относительно прямой y=x"
   ]
  },
  {
   "cell_type": "code",
   "execution_count": 16,
   "id": "educational-musician",
   "metadata": {},
   "outputs": [],
   "source": [
    "Ref = np.array([\n",
    "    [0, 1, 0], \n",
    "    [1, 0, 0], \n",
    "    [0, 0, 1]])"
   ]
  },
  {
   "cell_type": "code",
   "execution_count": 17,
   "id": "wooden-preview",
   "metadata": {},
   "outputs": [],
   "source": [
    "Refxy = A @ Ref"
   ]
  },
  {
   "cell_type": "code",
   "execution_count": 18,
   "id": "fewer-leeds",
   "metadata": {},
   "outputs": [],
   "source": [
    "x4 = Refxy[:,0]\n",
    "y4 = Refxy[:,1]"
   ]
  },
  {
   "cell_type": "code",
   "execution_count": 19,
   "id": "arbitrary-point",
   "metadata": {},
   "outputs": [
    {
     "data": {
      "text/plain": [
       "(-200.0, 200.0)"
      ]
     },
     "execution_count": 19,
     "metadata": {},
     "output_type": "execute_result"
    },
    {
     "data": {
      "image/png": "[encoded data removed]",
      "text/plain": [
       "<Figure size 432x288 with 1 Axes>"
      ]
     },
     "metadata": {
      "needs_background": "light"
     },
     "output_type": "display_data"
    }
   ],
   "source": [
    "plt.plot(x4, y4)\n",
    "plt.ylim([-200, 200])\n",
    "plt.xlim([-200, 200])"
   ]
  },
  {
   "cell_type": "markdown",
   "id": "greenhouse-vegetable",
   "metadata": {},
   "source": [
    "### Выполнить смещение объекта и масштабирование (применить 2 матрицы трансформаций). Смещение на (200, 300) и масштабирование на (0.5, 1.2)"
   ]
  },
  {
   "cell_type": "code",
   "execution_count": 20,
   "id": "failing-spirit",
   "metadata": {},
   "outputs": [],
   "source": [
    "Dist = np.array([\n",
    "    [200, 300, 0],\n",
    "    [200, 300, 0],\n",
    "    [200, 300, 0],\n",
    "    [200, 300, 0],\n",
    "    [200, 300, 0],\n",
    "    [200, 300, 0]\n",
    "                ])"
   ]
  },
  {
   "cell_type": "code",
   "execution_count": 21,
   "id": "charitable-chicago",
   "metadata": {},
   "outputs": [],
   "source": [
    "Scal = np.array([\n",
    "    [0.5, 1.2, 1],\n",
    "    [0.5, 1.2, 1],\n",
    "    [0.5, 1.2, 1],\n",
    "    [0.5, 1.2, 1],\n",
    "    [0.5, 1.2, 1],\n",
    "    [0.5, 1.2, 1]\n",
    "])"
   ]
  },
  {
   "cell_type": "code",
   "execution_count": 22,
   "id": "native-accommodation",
   "metadata": {},
   "outputs": [],
   "source": [
    "New = (A + Dist) * Scal"
   ]
  },
  {
   "cell_type": "code",
   "execution_count": 23,
   "id": "current-might",
   "metadata": {},
   "outputs": [],
   "source": [
    "x5 = New[:,0]\n",
    "y5 = New[:,1]"
   ]
  },
  {
   "cell_type": "code",
   "execution_count": 24,
   "id": "competitive-expansion",
   "metadata": {},
   "outputs": [
    {
     "data": {
      "text/plain": [
       "[<matplotlib.lines.Line2D at 0x14e4ad6af10>]"
      ]
     },
     "execution_count": 24,
     "metadata": {},
     "output_type": "execute_result"
    },
    {
     "data": {
      "image/png": "[encoded data removed]",
      "text/plain": [
       "<Figure size 432x288 with 1 Axes>"
      ]
     },
     "metadata": {
      "needs_background": "light"
     },
     "output_type": "display_data"
    }
   ],
   "source": [
    "plt.plot(x5, y5)"
   ]
  },
  {
   "cell_type": "code",
   "execution_count": null,
   "id": "decreased-watershed",
   "metadata": {},
   "outputs": [],
   "source": []
  }
 ],
 "metadata": {
  "kernelspec": {
   "display_name": "Python 3",
   "language": "python",
   "name": "python3"
  },
  "language_info": {
   "codemirror_mode": {
    "name": "ipython",
    "version": 3
   },
   "file_extension": ".py",
   "mimetype": "text/x-python",
   "name": "python",
   "nbconvert_exporter": "python",
   "pygments_lexer": "ipython3",
   "version": "3.8.8"
  }
 },
 "nbformat": 4,
 "nbformat_minor": 5
}
