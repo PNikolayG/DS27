{
 "cells": [
  {
   "cell_type": "markdown",
   "metadata": {},
   "source": [
    "# Домашнее задание \"Управляющие конструкции и коллекции. Часть 2\""
   ]
  },
  {
   "cell_type": "markdown",
   "metadata": {},
   "source": [
    "## Задание 1"
   ]
  },
  {
   "cell_type": "markdown",
   "metadata": {},
   "source": [
    "### Дано"
   ]
  },
  {
   "cell_type": "markdown",
   "metadata": {},
   "source": [
    "Дана переменная, в которой хранится словарь, содержащий гео-метки для каждого пользователя (пример структуры данных приведен ниже). Вам необходимо написать программу, которая выведет на экран множество уникальных гео-меток всех пользователей."
   ]
  },
  {
   "cell_type": "markdown",
   "metadata": {},
   "source": [
    "### Тест программы\n",
    "\n",
    "ids = {\n",
    "- ‘user1’: [213, 213, 213, 15, 213],\n",
    "- ‘user2’: [54, 54, 119, 119, 119],\n",
    "- ‘user3’: [213, 98, 98, 35]}\n",
    "\n",
    "Результат: \n",
    "{98, 35, 15, 213, 54, 119}"
   ]
  },
  {
   "cell_type": "markdown",
   "metadata": {},
   "source": [
    "### Решение"
   ]
  },
  {
   "cell_type": "code",
   "execution_count": 36,
   "metadata": {},
   "outputs": [
    {
     "name": "stdout",
     "output_type": "stream",
     "text": [
      "{98, 35, 15, 213, 54, 119}\n"
     ]
    }
   ],
   "source": [
    "ids = {\n",
    "'user1': [213, 213, 213, 15, 213],\n",
    "'user2': [54, 54, 119, 119, 119],\n",
    "'user3': [213, 98, 98, 35]\n",
    "}\n",
    "#объявляем множество для конечного вывода и список для всех геоточек\n",
    "geo_unics = {}\n",
    "geo_points_all = []\n",
    "#берём все значения словаря и переводим их в тип данных лист, поместив в geo_points\n",
    "geo_points = list(ids.values())\n",
    "#теперь смотрим сколько у нас списков списка, сделаем слияние их все в один при помощи .extend(list)\n",
    "for lst in geo_points:\n",
    "    geo_points_all.extend(lst)\n",
    "#помещаем все наши геоточки в множество, где автоматически отсеются повторяющиеся\n",
    "geo_unics = set(geo_points_all)\n",
    "print(geo_unics)"
   ]
  },
  {
   "cell_type": "markdown",
   "metadata": {},
   "source": [
    "## Задание 2"
   ]
  },
  {
   "cell_type": "markdown",
   "metadata": {},
   "source": [
    "### Дано"
   ]
  },
  {
   "cell_type": "markdown",
   "metadata": {},
   "source": [
    "Дана переменная, в которой хранится список поисковых запросов пользователя (пример структуры данных приведен ниже). Вам необходимо написать программу, которая выведет на экран распределение количества слов в запросах в требуемом виде."
   ]
  },
  {
   "cell_type": "markdown",
   "metadata": {},
   "source": [
    "### Тест программы\n",
    "\n",
    "queries = [\n",
    "- ‘смотреть сериалы онлайн’,\n",
    "- ‘новости спорта’,\n",
    "- ‘афиша кино’,\n",
    "- ‘курс доллара’,\n",
    "- ‘сериалы этим летом’,\n",
    "- ‘курс по питону’,\n",
    "- ‘сериалы про спорт’,\n",
    "]\n",
    "\n",
    "Результат:\n",
    "- Поисковых запросов, содержащих 2 слов(а): 42.86%\n",
    "- Поисковых запросов, содержащих 3 слов(а): 57.14%"
   ]
  },
  {
   "cell_type": "code",
   "execution_count": 32,
   "metadata": {},
   "outputs": [
    {
     "name": "stdout",
     "output_type": "stream",
     "text": [
      "Поисковых запросов, содержащих 3 слов(а): 57.14%\n",
      "Поисковых запросов, содержащих 2 слов(а): 42.86%\n"
     ]
    }
   ],
   "source": [
    "queries = [\n",
    "'смотреть сериалы онлайн',\n",
    "'новости спорта',\n",
    "'афиша кино',\n",
    "'курс доллара',\n",
    "'сериалы этим летом',\n",
    "'курс по питону',\n",
    "'сериалы про спорт',]\n",
    "#создадим словарь, ключи которого будут количество слов в запросе, а значение количество таких запросов\n",
    "request = {}\n",
    "#в цикле for разобъём каждый элемент списка(строку) на список (при помощи метода split) и посчитаем количество слов\n",
    "for req in queries:\n",
    "    length = len(req.split(' '))\n",
    "#условие определяет есть ли длина = ключ в словаре, если нет то создаём и вносим первоначальное значение 1, а если есть то +1\n",
    "    if length not in request:\n",
    "        request[length] = 1\n",
    "    else:\n",
    "        request[length] += 1   \n",
    "#выводим при помощи for словарь, используя также f строку\n",
    "for quantity, length_req in request.items():\n",
    "    print(f\"Поисковых запросов, содержащих {quantity} слов(а): {length_req / len(queries) * 100:.2f}%\")"
   ]
  },
  {
   "cell_type": "markdown",
   "metadata": {},
   "source": [
    "##  Задание 3"
   ]
  },
  {
   "cell_type": "markdown",
   "metadata": {},
   "source": [
    "### Дано\n",
    "\n",
    "Дана переменная, в которой хранится информация о затратах и доходе рекламных кампаний по различным источникам. Необходимо дополнить исходную структуру показателем ROI, который рассчитаем по формуле: (revenue / cost - 1) * 100"
   ]
  },
  {
   "cell_type": "markdown",
   "metadata": {},
   "source": [
    "### Тест программы\n",
    "\n",
    "results = {\n",
    "- ‘vk’: {‘revenue’: 103, ‘cost’: 98},\n",
    "- ‘yandex’: {‘revenue’: 179, ‘cost’: 153},\n",
    "- ‘facebook’: {‘revenue’: 103, ‘cost’: 110},\n",
    "- ‘adwords’: {‘revenue’: 35, ‘cost’: 34},\n",
    "- ‘twitter’: {‘revenue’: 11, ‘cost’: 24},\n",
    "}\n",
    "\n",
    "\n",
    " Результат:\n",
    "- {‘adwords’: {‘ROI’: 2.94, ‘cost’: 34, ‘revenue’: 35},\n",
    "- ‘facebook’: {‘ROI’: -6.36, ‘cost’: 110, ‘revenue’: 103},\n",
    "- ‘twitter’: {‘ROI’: -54.17, ‘cost’: 24, ‘revenue’: 11},\n",
    "- ‘vk’: {‘ROI’: 5.1, ‘cost’: 98, ‘revenue’: 103},\n",
    "- ‘yandex’: {‘ROI’: 16.99, ‘cost’: 153, ‘revenue’: 179}}"
   ]
  },
  {
   "cell_type": "markdown",
   "metadata": {},
   "source": [
    "### Решение"
   ]
  },
  {
   "cell_type": "code",
   "execution_count": 31,
   "metadata": {},
   "outputs": [
    {
     "name": "stdout",
     "output_type": "stream",
     "text": [
      "{'vk': {'revenue': 103, 'cost': 98, 'ROI': 5.1}, 'yandex': {'revenue': 179, 'cost': 153, 'ROI': 16.99}, 'facebook': {'revenue': 103, 'cost': 110, 'ROI': -6.36}, 'adwords': {'revenue': 35, 'cost': 34, 'ROI': 2.94}, 'twitter': {'revenue': 11, 'cost': 24, 'ROI': -54.17}}\n"
     ]
    }
   ],
   "source": [
    "results = {\n",
    "'vk' : {'revenue': 103, 'cost': 98},\n",
    "'yandex': {'revenue': 179, 'cost': 153},\n",
    "'facebook': {'revenue': 103, 'cost': 110},\n",
    "'adwords': {'revenue': 35, 'cost': 34},\n",
    "'twitter': {'revenue': 11, 'cost': 24}, \n",
    "}\n",
    "#используем перебор по значениям=словарям внешнего словаря, считая новый параметр и добавляя его, если нет setdefault\n",
    "for assessment in results.values():\n",
    "    roi = round((assessment['revenue'] / assessment['cost'] - 1) * 100, 2)\n",
    "    assessment.setdefault('ROI', roi)\n",
    "print(results)"
   ]
  },
  {
   "cell_type": "markdown",
   "metadata": {},
   "source": [
    "## Задание 4"
   ]
  },
  {
   "cell_type": "markdown",
   "metadata": {},
   "source": [
    "### Дано\n",
    "Дана переменная, в которой хранится статистика рекламных каналов по объемам продаж (пример структуры данных приведен ниже). Напишите программу, которая возвращает название канала с максимальным объемом продаж."
   ]
  },
  {
   "cell_type": "markdown",
   "metadata": {},
   "source": [
    "### Тест программы\n",
    "stats = {\n",
    "- ‘facebook’: 55, \n",
    "- ‘yandex’: 115, \n",
    "- ‘vk’: 120, \n",
    "- ‘google’: 99, \n",
    "- ‘email’: 42, \n",
    "- ‘ok’: 98}\n",
    "\n",
    "Результат: \n",
    "- Максимальный объем продаж на рекламном канале: vk"
   ]
  },
  {
   "cell_type": "markdown",
   "metadata": {},
   "source": [
    "### Решение"
   ]
  },
  {
   "cell_type": "code",
   "execution_count": 49,
   "metadata": {},
   "outputs": [
    {
     "name": "stdout",
     "output_type": "stream",
     "text": [
      "Максимальный объем продаж на рекламном канале: vk\n"
     ]
    }
   ],
   "source": [
    "stats = {\n",
    "'facebook': 55,\n",
    "'yandex': 115,\n",
    "'vk': 120,\n",
    "'google': 99,\n",
    "'email': 42,\n",
    "'ok': 98\n",
    "}\n",
    "#переводим словарь в список из кортежей\n",
    "stats_list = list(stats.items())\n",
    "#создадим пустой список, в который будем помещать максимальный объём продаж компании, т.е название и число\n",
    "maximum = ['0', 0]\n",
    "#пройдёмся циклом по листу и сравниваем с нашим первоначлаьно пустым листом, если больше, то перезаписываем на большее и тд\n",
    "for pairs in stats_list: \n",
    "    if pairs[1] > maximum[1]:\n",
    "        maximum = pairs\n",
    "#выводим компанию с наибольшим объёмом продаж\n",
    "print(f'Максимальный объем продаж на рекламном канале: {maximum[0]}')"
   ]
  },
  {
   "cell_type": "markdown",
   "metadata": {},
   "source": [
    "## Задание 5"
   ]
  },
  {
   "cell_type": "markdown",
   "metadata": {},
   "source": [
    "### Дано\n",
    "Дан список произвольной длины. Необходимо написать код, который на основе исходного списка составит словарь такого уровня вложенности, какова длина исхондого списка."
   ]
  },
  {
   "cell_type": "markdown",
   "metadata": {},
   "source": [
    "### Тест программы\n",
    "\n",
    "- my_list = [‘2018-01-01’, ‘yandex’, ‘cpc’, 100]\n",
    "\n",
    "Результат: {‘2018-01-01’: {‘yandex’: {‘cpc’: 100}}}\n",
    "\n",
    "- my_list = [‘a’, ‘b’, ‘c’, ‘d’, ‘e’, ‘f’]\n",
    "\n",
    "Результат: {‘a’: {‘b’: {‘c’: {‘d’: {‘e’: ‘f’}}}}}"
   ]
  },
  {
   "cell_type": "markdown",
   "metadata": {},
   "source": [
    "### Решение"
   ]
  },
  {
   "cell_type": "code",
   "execution_count": 18,
   "metadata": {},
   "outputs": [
    {
     "name": "stdout",
     "output_type": "stream",
     "text": [
      "{'a': {'b': {'c': {'d': {'e': {'f': 0}}}}}}\n"
     ]
    }
   ],
   "source": [
    "my_list = ['a', 'b', 'c', 'd', 'e', 'f', 0]\n",
    "#программа не будет работать с одним элементом списка!\n",
    "#переворот списка, будем помещать элементы с конца, т.к конец это внутренний словарь, так проще \n",
    "my_list_reversed = list(reversed(my_list))\n",
    "#создаём словарь для вложений, найдя закономерность, что только последний элемент списка является значением, а остальные ключами\n",
    "#создаём из первых двух элементов словарь, а далее будем просто его же вкладывать в себя с новым ключом\n",
    "many_dictionaries = {}\n",
    "many_dictionaries[f'{my_list_reversed[1]}'] = my_list_reversed[0]\n",
    "#получаем цикл, который начинает перебирать элементы начиная с третьего, т.к прошлые два уже словарь\n",
    "for num in range(2, len(my_list_reversed)):\n",
    "    many_dictionaries = {my_list_reversed[num]: many_dictionaries}\n",
    "\n",
    "print(many_dictionaries)"
   ]
  },
  {
   "cell_type": "markdown",
   "metadata": {},
   "source": [
    "## Задание 6"
   ]
  },
  {
   "cell_type": "markdown",
   "metadata": {},
   "source": [
    "### Дано\n",
    "Дана книга рецептов с информацией о том, сколько ингредиентов нужно для приготовления блюда в расчете на одну порцию (пример данных представлен ниже).\n",
    "Напишите программу, которая будет запрашивать у пользователя количество порций для приготовления этих блюд и отображать информацию о суммарном количестве требуемых ингредиентов в указанном виде."
   ]
  },
  {
   "cell_type": "markdown",
   "metadata": {},
   "source": [
    "### Тест программы\n",
    "cook_book = {\n",
    "\n",
    "‘салат’: [\n",
    "\n",
    "- {‘ingridient_name’: ‘сыр’, ‘quantity’: 50, ‘measure’: ‘гр’},\n",
    "- {‘ingridient_name’: ‘томаты’, ‘quantity’: 2, ‘measure’: ‘шт’},\n",
    "- {‘ingridient_name’: ‘огурцы’, ‘quantity’: 20, ‘measure’: ‘гр’},\n",
    "- {‘ingridient_name’: ‘маслины’, ‘quantity’: 10, ‘measure’: ‘гр’},\n",
    "- {‘ingridient_name’: ‘оливковое масло’, ‘quantity’: 20, ‘measure’: ‘мл’},\n",
    "- {‘ingridient_name’: ‘салат’, ‘quantity’: 10, ‘measure’: ‘гр’},\n",
    "- {‘ingridient_name’: ‘перец’, ‘quantity’: 20, ‘measure’: ‘гр’}\n",
    "],\n",
    "\n",
    "‘пицца’: [\n",
    "\n",
    "- {‘ingridient_name’: ‘сыр’, ‘quantity’: 20, ‘measure’: ‘гр’},\n",
    "- {‘ingridient_name’: ‘колбаса’, ‘quantity’: 30, ‘measure’: ‘гр’},\n",
    "- {‘ingridient_name’: ‘бекон’, ‘quantity’: 30, ‘measure’: ‘гр’},\n",
    "- {‘ingridient_name’: ‘оливки’, ‘quantity’: 10, ‘measure’: ‘гр’},\n",
    "- {‘ingridient_name’: ‘томаты’, ‘quantity’: 20, ‘measure’: ‘гр’},\n",
    "- {‘ingridient_name’: ‘тесто’, ‘quantity’: 100, ‘measure’: ‘гр’},\n",
    "],\n",
    "\n",
    "‘лимонад’: [\n",
    "\n",
    "- {‘ingridient_name’: ‘лимон’, ‘quantity’: 1, ‘measure’: ‘шт’},\n",
    "- {‘ingridient_name’: ‘вода’, ‘quantity’: 200, ‘measure’: ‘мл’},\n",
    "- {‘ingridient_name’: ‘сахар’, ‘quantity’: 10, ‘measure’: ‘гр’},\n",
    "- {‘ingridient_name’: ‘лайм’, ‘quantity’: 20, ‘measure’: ‘гр’},\n",
    "]\n",
    "}\n",
    "\n",
    "Введите количество порций:\n",
    "\n",
    "3\n",
    "\n",
    "Результат:\n",
    "\n",
    "- Сыр: 210 гр\n",
    "- Томаты: 6 шт\n",
    "- Огурцы: 60 гр\n",
    "- Маслины: 30 гр\n",
    "- Оливковое Масло: 60 мл\n",
    "- Салат: 30 гр\n",
    "- Перец: 60 гр\n",
    "- Колбаса: 90 гр\n",
    "- Бекон: 90 гр\n",
    "- Оливки: 30 гр\n",
    "- Томаты: 60 гр\n",
    "- Тесто: 300 гр\n",
    "- Лимон: 3 шт\n",
    "- Вода: 600 мл\n",
    "- Сахар: 30 гр\n",
    "- Лайм: 60 гр"
   ]
  },
  {
   "cell_type": "markdown",
   "metadata": {},
   "source": [
    "### Решение"
   ]
  },
  {
   "cell_type": "code",
   "execution_count": 64,
   "metadata": {},
   "outputs": [
    {
     "name": "stdout",
     "output_type": "stream",
     "text": [
      "Введите количество порций: 1000\n",
      "Сыр: 70000 гр\n",
      "Томаты: 22000 шт\n",
      "Огурцы: 20000 гр\n",
      "Маслины: 10000 гр\n",
      "Оливковое масло: 20000 мл\n",
      "Салат: 10000 гр\n",
      "Перец: 20000 гр\n",
      "Колбаса: 30000 гр\n",
      "Бекон: 30000 гр\n",
      "Оливки: 10000 гр\n",
      "Тесто: 100000 гр\n",
      "Лимон: 1000 шт\n",
      "Вода: 200000 мл\n",
      "Сахар: 10000 гр\n",
      "Лайм: 20000 гр\n"
     ]
    }
   ],
   "source": [
    "cook_book = {\n",
    "  'салат': [\n",
    "     {'ingridient_name': 'сыр', 'quantity': 50, 'measure': 'гр'},\n",
    "     {'ingridient_name': 'томаты', 'quantity': 2, 'measure': 'шт'},\n",
    "     {'ingridient_name': 'огурцы', 'quantity': 20, 'measure': 'гр'},\n",
    "     {'ingridient_name': 'маслины', 'quantity': 10, 'measure': 'гр'},\n",
    "     {'ingridient_name': 'оливковое масло', 'quantity': 20, 'measure': 'мл'},\n",
    "     {'ingridient_name': 'салат', 'quantity': 10, 'measure': 'гр'},\n",
    "     {'ingridient_name': 'перец', 'quantity': 20, 'measure': 'гр'}\n",
    "    ],\n",
    "  'пицца': [\n",
    "     {'ingridient_name': 'сыр', 'quantity': 20, 'measure': 'гр'},\n",
    "     {'ingridient_name': 'колбаса', 'quantity': 30, 'measure': 'гр'},\n",
    "     {'ingridient_name': 'бекон', 'quantity': 30, 'measure': 'гр'},\n",
    "     {'ingridient_name': 'оливки', 'quantity': 10, 'measure': 'гр'},\n",
    "     {'ingridient_name': 'томаты', 'quantity': 20, 'measure': 'гр'},\n",
    "     {'ingridient_name': 'тесто', 'quantity': 100, 'measure': 'гр'},   \n",
    "    ],\n",
    "  'лимонад': [\n",
    "     {'ingridient_name': 'лимон', 'quantity': 1, 'measure': 'шт'},\n",
    "     {'ingridient_name': 'вода', 'quantity': 200, 'measure': 'мл'},\n",
    "     {'ingridient_name': 'сахар', 'quantity': 10, 'measure': 'гр'},\n",
    "     {'ingridient_name': 'лайм', 'quantity': 20, 'measure': 'гр'},    \n",
    "    ]\n",
    "}\n",
    "#пользовательский интерфейс\n",
    "quantity = int(input('Введите количество порций: '))\n",
    "#создадим словарь куда будем помещать значения словарей, а у повторяющихся продуктов суммировать количество\n",
    "general_products = {}\n",
    "#цикл перебора в главном словаре по значениям=спискам из словарей =)\n",
    "for dish, gramm in cook_book.items():\n",
    "    #разложим для начала ключи и значения внешнего словаря по переменным\n",
    "    for element in gramm:\n",
    "        #теперь будем проверять каждый продукт на повтор и помещать в наш суммарный словарь\n",
    "         if element['ingridient_name'] not in general_products:\n",
    "                #если его нет, значит надо создать по ключу список, который будет состоять из количества и единицы измерения\n",
    "                         general_products[element['ingridient_name']] = []  \n",
    "                #и поместить в этот список количество и измерение\n",
    "                         general_products[element['ingridient_name']].append(element['quantity'])\n",
    "                         general_products[element['ingridient_name']].append(element['measure'])\n",
    "                #если повторяется продукт, значит надо увеличить количество в этом продукте\n",
    "            else:\n",
    "                         general_products[element['ingridient_name']][0] += element['quantity']\n",
    "#выводим ключи с большой буквы и количество и единицы измерения с учетом количества порций\n",
    "for parametres in general_products:\n",
    "    print(f'{parametres.capitalize()}: {general_products[parametres][0]*quantity} {general_products[parametres][1]}')"
   ]
  }
 ],
 "metadata": {
  "kernelspec": {
   "display_name": "Python 3",
   "language": "python",
   "name": "python3"
  },
  "language_info": {
   "codemirror_mode": {
    "name": "ipython",
    "version": 3
   },
   "file_extension": ".py",
   "mimetype": "text/x-python",
   "name": "python",
   "nbconvert_exporter": "python",
   "pygments_lexer": "ipython3",
   "version": "3.8.8"
  }
 },
 "nbformat": 4,
 "nbformat_minor": 4
}
