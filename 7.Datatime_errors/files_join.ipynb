{
 "cells": [
  {
   "cell_type": "markdown",
   "metadata": {},
   "source": [
    "# Объединение больших файлов"
   ]
  },
  {
   "cell_type": "code",
   "execution_count": 1,
   "metadata": {},
   "outputs": [
    {
     "name": "stdout",
     "output_type": "stream",
     "text": [
      "user_id source\n",
      "t_1 9\n",
      "h_2 9\n",
      "v_3 3\n",
      "r_4 9\n",
      "p_5 1\n",
      "h_6 9\n",
      "f_7 4\n",
      "r_8 5\n",
      "y_9 7\n",
      "e_10 7\n",
      "b_11 7\n"
     ]
    }
   ],
   "source": [
    "with open('visit_log.tsv') as f:\n",
    "    for i, line in enumerate(f):\n",
    "        user_id, source = line.strip().split('\\t')\n",
    "        print(user_id, source)\n",
    "        \n",
    "        if i > 10:\n",
    "            break"
   ]
  },
  {
   "cell_type": "code",
   "execution_count": 2,
   "metadata": {},
   "outputs": [
    {
     "name": "stdout",
     "output_type": "stream",
     "text": [
      "user_id category\n",
      "r_8 auto\n",
      "e_16 home\n",
      "m_19 tech\n",
      "b_11 repair\n",
      "e_10 sport\n"
     ]
    }
   ],
   "source": [
    "with open('purchase_log.tsv') as f:\n",
    "    for i, line in enumerate(f):\n",
    "        user_id, source = line.strip().split('\\t')\n",
    "        print(user_id, source)\n",
    "        \n",
    "        if i > 10:\n",
    "            break"
   ]
  },
  {
   "cell_type": "code",
   "execution_count": 3,
   "metadata": {},
   "outputs": [
    {
     "name": "stdout",
     "output_type": "stream",
     "text": [
      "user_id source\n",
      "a_12 7\n",
      "b_11 7\n",
      "b_14 2\n",
      "e_10 7\n",
      "e_16 6\n",
      "f_7 4\n",
      "h_2 9\n",
      "h_6 9\n",
      "j_13 5\n",
      "m_19 4\n",
      "p_18 4\n"
     ]
    }
   ],
   "source": [
    "with open('visit_log_sorted.tsv') as f:\n",
    "    for i, line in enumerate(f):\n",
    "        user_id, source = line.strip().split('\\t')\n",
    "        print(user_id, source)\n",
    "        \n",
    "        if i > 10:\n",
    "            break"
   ]
  },
  {
   "cell_type": "code",
   "execution_count": 4,
   "metadata": {},
   "outputs": [
    {
     "name": "stdout",
     "output_type": "stream",
     "text": [
      "user_id category\n",
      "b_11 repair\n",
      "e_10 sport\n",
      "e_16 home\n",
      "m_19 tech\n",
      "r_8 auto\n"
     ]
    }
   ],
   "source": [
    "with open('purchase_log_sorted.tsv') as f:\n",
    "    for i, line in enumerate(f):\n",
    "        user_id, source = line.strip().split('\\t')\n",
    "        print(user_id, source)\n",
    "        \n",
    "        if i > 10:\n",
    "            break"
   ]
  },
  {
   "cell_type": "markdown",
   "metadata": {},
   "source": [
    "### Что ожидаем на выходе\n",
    "```\n",
    "user_id\tsource\tcategory\n",
    "b_11\t7\trepair\n",
    "e_10\t7\tsport\n",
    "e_16\t6\thome\n",
    "m_19\t4\ttech\n",
    "r_8\t5\tauto\n",
    "```"
   ]
  },
  {
   "cell_type": "code",
   "execution_count": 5,
   "metadata": {
    "scrolled": false
   },
   "outputs": [
    {
     "name": "stdout",
     "output_type": "stream",
     "text": [
      "user_id a_12 меньше b_11\n",
      "\n",
      "Нашлось ура b_11 7 b_11 repair\n",
      "user_id b_14 меньше e_10\n",
      "\n",
      "Нашлось ура e_10 7 e_10 sport\n",
      "\n",
      "Нашлось ура e_16 6 e_16 home\n",
      "user_id f_7 меньше m_19\n",
      "user_id h_2 меньше m_19\n",
      "user_id h_6 меньше m_19\n",
      "user_id j_13 меньше m_19\n",
      "\n",
      "Нашлось ура m_19 4 m_19 tech\n",
      "user_id p_18 меньше r_8\n",
      "user_id p_5 меньше r_8\n",
      "user_id q_21 меньше r_8\n",
      "user_id r_4 меньше r_8\n",
      "\n",
      "Нашлось ура r_8 5 r_8 auto\n"
     ]
    }
   ],
   "source": [
    "with open('visit_log_sorted.tsv') as f, open('purchase_log_sorted.tsv') as p:\n",
    "    # пропускаем заголовок\n",
    "    f.readline()\n",
    "    p.readline()\n",
    "    \n",
    "    # первая строчка visit_log_sorted.tsv\n",
    "    user_id, source = f.readline().strip().split('\\t')\n",
    "    \n",
    "    for i, line in enumerate(p):\n",
    "        p_user_id, p_category = line.strip().split('\\t')\n",
    "        \n",
    "        while user_id < p_user_id:\n",
    "            print('user_id {} меньше {}'.format(user_id, p_user_id))\n",
    "            user_id, source = f.readline().strip().split('\\t')\n",
    "        \n",
    "        print('\\nНашлось ура', user_id, source, p_user_id, p_category)\n",
    "        user_id, source = f.readline().strip().split('\\t')\n",
    "              \n",
    "        if i > 10:\n",
    "            break"
   ]
  },
  {
   "cell_type": "code",
   "execution_count": 6,
   "metadata": {},
   "outputs": [
    {
     "name": "stdout",
     "output_type": "stream",
     "text": [
      "user_id\tsource\tcategory\n",
      "b_11\t7\trepair\n",
      "e_10\t7\tsport\n",
      "e_16\t6\thome\n",
      "m_19\t4\ttech\n",
      "r_8\t5\tauto\n"
     ]
    }
   ],
   "source": [
    "with open('visit_log_sorted.tsv') as f, open('purchase_log_sorted.tsv') as p:\n",
    "    f.readline()\n",
    "    p.readline()\n",
    "    print('user_id\\tsource\\tcategory')\n",
    "    \n",
    "    user_id, source = f.readline().strip().split('\\t')\n",
    "    \n",
    "    for line in p:\n",
    "        p_user_id, p_category = line.strip().split('\\t')\n",
    "        \n",
    "        while user_id < p_user_id:\n",
    "            user_id, source = f.readline().strip().split('\\t')\n",
    "        \n",
    "        print('{}\\t{}\\t{}'.format(user_id, source, p_category))\n",
    "        \n",
    "        user_id, source = f.readline().strip().split('\\t')"
   ]
  }
 ],
 "metadata": {
  "kernelspec": {
   "display_name": "Python 3",
   "language": "python",
   "name": "python3"
  },
  "language_info": {
   "codemirror_mode": {
    "name": "ipython",
    "version": 3
   },
   "file_extension": ".py",
   "mimetype": "text/x-python",
   "name": "python",
   "nbconvert_exporter": "python",
   "pygments_lexer": "ipython3",
   "version": "3.8.8"
  }
 },
 "nbformat": 4,
 "nbformat_minor": 2
}
