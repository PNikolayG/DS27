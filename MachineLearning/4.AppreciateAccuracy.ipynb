{
 "cells": [
  {
   "cell_type": "markdown",
   "id": "elementary-louis",
   "metadata": {},
   "source": [
    "# Домашняя работа \"Оценка точности модели, переобучение, регуляризация\"\n",
    "## Задание\n",
    "Посчитать tpr и fpr в ноутбуке к лекции. Убедиться, что график ROC AUC получается таким же, как и штатными средствами.\n",
    "\n",
    "Построить график Precision - Recall на этих же данных."
   ]
  },
  {
   "cell_type": "code",
   "execution_count": 1,
   "id": "threaded-monkey",
   "metadata": {},
   "outputs": [],
   "source": [
    "import pandas as pd\n",
    "import numpy as np"
   ]
  },
  {
   "cell_type": "code",
   "execution_count": 2,
   "id": "expanded-clear",
   "metadata": {},
   "outputs": [
    {
     "data": {
      "text/html": [
       "<div>\n",
       "<style scoped>\n",
       "    .dataframe tbody tr th:only-of-type {\n",
       "        vertical-align: middle;\n",
       "    }\n",
       "\n",
       "    .dataframe tbody tr th {\n",
       "        vertical-align: top;\n",
       "    }\n",
       "\n",
       "    .dataframe thead th {\n",
       "        text-align: right;\n",
       "    }\n",
       "</style>\n",
       "<table border=\"1\" class=\"dataframe\">\n",
       "  <thead>\n",
       "    <tr style=\"text-align: right;\">\n",
       "      <th></th>\n",
       "      <th>rate_marriage</th>\n",
       "      <th>age</th>\n",
       "      <th>yrs_married</th>\n",
       "      <th>children</th>\n",
       "      <th>religious</th>\n",
       "      <th>educ</th>\n",
       "      <th>occupation</th>\n",
       "      <th>occupation_husb</th>\n",
       "      <th>affair</th>\n",
       "    </tr>\n",
       "  </thead>\n",
       "  <tbody>\n",
       "    <tr>\n",
       "      <th>0</th>\n",
       "      <td>3.0</td>\n",
       "      <td>32.0</td>\n",
       "      <td>9.0</td>\n",
       "      <td>3.0</td>\n",
       "      <td>3.0</td>\n",
       "      <td>17.0</td>\n",
       "      <td>2.0</td>\n",
       "      <td>5.0</td>\n",
       "      <td>1</td>\n",
       "    </tr>\n",
       "    <tr>\n",
       "      <th>1</th>\n",
       "      <td>3.0</td>\n",
       "      <td>27.0</td>\n",
       "      <td>13.0</td>\n",
       "      <td>3.0</td>\n",
       "      <td>1.0</td>\n",
       "      <td>14.0</td>\n",
       "      <td>3.0</td>\n",
       "      <td>4.0</td>\n",
       "      <td>1</td>\n",
       "    </tr>\n",
       "    <tr>\n",
       "      <th>2</th>\n",
       "      <td>4.0</td>\n",
       "      <td>22.0</td>\n",
       "      <td>2.5</td>\n",
       "      <td>0.0</td>\n",
       "      <td>1.0</td>\n",
       "      <td>16.0</td>\n",
       "      <td>3.0</td>\n",
       "      <td>5.0</td>\n",
       "      <td>1</td>\n",
       "    </tr>\n",
       "    <tr>\n",
       "      <th>3</th>\n",
       "      <td>4.0</td>\n",
       "      <td>37.0</td>\n",
       "      <td>16.5</td>\n",
       "      <td>4.0</td>\n",
       "      <td>3.0</td>\n",
       "      <td>16.0</td>\n",
       "      <td>5.0</td>\n",
       "      <td>5.0</td>\n",
       "      <td>1</td>\n",
       "    </tr>\n",
       "    <tr>\n",
       "      <th>4</th>\n",
       "      <td>5.0</td>\n",
       "      <td>27.0</td>\n",
       "      <td>9.0</td>\n",
       "      <td>1.0</td>\n",
       "      <td>1.0</td>\n",
       "      <td>14.0</td>\n",
       "      <td>3.0</td>\n",
       "      <td>4.0</td>\n",
       "      <td>1</td>\n",
       "    </tr>\n",
       "  </tbody>\n",
       "</table>\n",
       "</div>"
      ],
      "text/plain": [
       "   rate_marriage   age  yrs_married  children  religious  educ  occupation  \\\n",
       "0            3.0  32.0          9.0       3.0        3.0  17.0         2.0   \n",
       "1            3.0  27.0         13.0       3.0        1.0  14.0         3.0   \n",
       "2            4.0  22.0          2.5       0.0        1.0  16.0         3.0   \n",
       "3            4.0  37.0         16.5       4.0        3.0  16.0         5.0   \n",
       "4            5.0  27.0          9.0       1.0        1.0  14.0         3.0   \n",
       "\n",
       "   occupation_husb  affair  \n",
       "0              5.0       1  \n",
       "1              4.0       1  \n",
       "2              5.0       1  \n",
       "3              5.0       1  \n",
       "4              4.0       1  "
      ]
     },
     "execution_count": 2,
     "metadata": {},
     "output_type": "execute_result"
    }
   ],
   "source": [
    "# Данные содержат признаки пользователей и целевую переменную affair - была ли связь на стороне\n",
    "data = pd.read_csv('affair_data.csv')\n",
    "data.head()"
   ]
  },
  {
   "cell_type": "code",
   "execution_count": 3,
   "id": "accomplished-pharmacy",
   "metadata": {},
   "outputs": [
    {
     "name": "stdout",
     "output_type": "stream",
     "text": [
      "<class 'pandas.core.frame.DataFrame'>\n",
      "RangeIndex: 6366 entries, 0 to 6365\n",
      "Data columns (total 9 columns):\n",
      " #   Column           Non-Null Count  Dtype  \n",
      "---  ------           --------------  -----  \n",
      " 0   rate_marriage    6366 non-null   float64\n",
      " 1   age              6366 non-null   float64\n",
      " 2   yrs_married      6366 non-null   float64\n",
      " 3   children         6366 non-null   float64\n",
      " 4   religious        6366 non-null   float64\n",
      " 5   educ             6366 non-null   float64\n",
      " 6   occupation       6366 non-null   float64\n",
      " 7   occupation_husb  6366 non-null   float64\n",
      " 8   affair           6366 non-null   int64  \n",
      "dtypes: float64(8), int64(1)\n",
      "memory usage: 447.7 KB\n"
     ]
    }
   ],
   "source": [
    "data.info()"
   ]
  },
  {
   "cell_type": "code",
   "execution_count": 4,
   "id": "sustained-illness",
   "metadata": {},
   "outputs": [],
   "source": [
    "from sklearn.model_selection import train_test_split"
   ]
  },
  {
   "cell_type": "code",
   "execution_count": 5,
   "id": "prompt-imagination",
   "metadata": {},
   "outputs": [],
   "source": [
    "from sklearn.linear_model import LogisticRegression\n",
    "from sklearn.tree import DecisionTreeClassifier"
   ]
  },
  {
   "cell_type": "code",
   "execution_count": 6,
   "id": "accepted-avatar",
   "metadata": {},
   "outputs": [
    {
     "data": {
      "text/html": [
       "<div>\n",
       "<style scoped>\n",
       "    .dataframe tbody tr th:only-of-type {\n",
       "        vertical-align: middle;\n",
       "    }\n",
       "\n",
       "    .dataframe tbody tr th {\n",
       "        vertical-align: top;\n",
       "    }\n",
       "\n",
       "    .dataframe thead th {\n",
       "        text-align: right;\n",
       "    }\n",
       "</style>\n",
       "<table border=\"1\" class=\"dataframe\">\n",
       "  <thead>\n",
       "    <tr style=\"text-align: right;\">\n",
       "      <th></th>\n",
       "      <th>rate_marriage</th>\n",
       "      <th>age</th>\n",
       "      <th>yrs_married</th>\n",
       "      <th>children</th>\n",
       "      <th>religious</th>\n",
       "      <th>educ</th>\n",
       "      <th>occupation</th>\n",
       "      <th>occupation_husb</th>\n",
       "    </tr>\n",
       "  </thead>\n",
       "  <tbody>\n",
       "    <tr>\n",
       "      <th>0</th>\n",
       "      <td>3.0</td>\n",
       "      <td>32.0</td>\n",
       "      <td>9.0</td>\n",
       "      <td>3.0</td>\n",
       "      <td>3.0</td>\n",
       "      <td>17.0</td>\n",
       "      <td>2.0</td>\n",
       "      <td>5.0</td>\n",
       "    </tr>\n",
       "    <tr>\n",
       "      <th>1</th>\n",
       "      <td>3.0</td>\n",
       "      <td>27.0</td>\n",
       "      <td>13.0</td>\n",
       "      <td>3.0</td>\n",
       "      <td>1.0</td>\n",
       "      <td>14.0</td>\n",
       "      <td>3.0</td>\n",
       "      <td>4.0</td>\n",
       "    </tr>\n",
       "  </tbody>\n",
       "</table>\n",
       "</div>"
      ],
      "text/plain": [
       "   rate_marriage   age  yrs_married  children  religious  educ  occupation  \\\n",
       "0            3.0  32.0          9.0       3.0        3.0  17.0         2.0   \n",
       "1            3.0  27.0         13.0       3.0        1.0  14.0         3.0   \n",
       "\n",
       "   occupation_husb  \n",
       "0              5.0  \n",
       "1              4.0  "
      ]
     },
     "execution_count": 6,
     "metadata": {},
     "output_type": "execute_result"
    }
   ],
   "source": [
    "#формируем набор признаков и целевую переменную\n",
    "X = data[data.columns[:-1]]\n",
    "X.head(2)"
   ]
  },
  {
   "cell_type": "code",
   "execution_count": 7,
   "id": "documentary-pointer",
   "metadata": {},
   "outputs": [],
   "source": [
    "Y = data['affair']"
   ]
  },
  {
   "cell_type": "markdown",
   "id": "collected-confidence",
   "metadata": {},
   "source": [
    "### Построим две модели"
   ]
  },
  {
   "cell_type": "code",
   "execution_count": 8,
   "id": "outstanding-pendant",
   "metadata": {},
   "outputs": [],
   "source": [
    "model = LogisticRegression()\n",
    "model_tree = DecisionTreeClassifier()"
   ]
  },
  {
   "cell_type": "code",
   "execution_count": 9,
   "id": "spare-debut",
   "metadata": {},
   "outputs": [],
   "source": [
    "#Разбиваем данные на обущаю и тестовую выборку в соотношении 70/30\n",
    "X_train, X_test, Y_train, Y_test = train_test_split(X, Y, test_size = 0.3, random_state = 0)"
   ]
  },
  {
   "cell_type": "code",
   "execution_count": 10,
   "id": "opening-seeker",
   "metadata": {},
   "outputs": [
    {
     "data": {
      "text/plain": [
       "LogisticRegression()"
      ]
     },
     "execution_count": 10,
     "metadata": {},
     "output_type": "execute_result"
    }
   ],
   "source": [
    "#обучаем модель\n",
    "model.fit(X_train, Y_train)"
   ]
  },
  {
   "cell_type": "code",
   "execution_count": 11,
   "id": "legal-recall",
   "metadata": {},
   "outputs": [
    {
     "data": {
      "text/plain": [
       "DecisionTreeClassifier()"
      ]
     },
     "execution_count": 11,
     "metadata": {},
     "output_type": "execute_result"
    }
   ],
   "source": [
    "model_tree.fit(X_train, Y_train)"
   ]
  },
  {
   "cell_type": "code",
   "execution_count": 12,
   "id": "vocational-melissa",
   "metadata": {},
   "outputs": [],
   "source": [
    "# получаем прогнозные значения модели\n",
    "predictions_model = model.predict_proba(X_test)"
   ]
  },
  {
   "cell_type": "code",
   "execution_count": 13,
   "id": "blessed-assault",
   "metadata": {},
   "outputs": [
    {
     "data": {
      "text/plain": [
       "array([1, 0, 0, ..., 0, 0, 0], dtype=int64)"
      ]
     },
     "execution_count": 13,
     "metadata": {},
     "output_type": "execute_result"
    }
   ],
   "source": [
    "pred_model = model.predict(X_test)\n",
    "pred_model"
   ]
  },
  {
   "cell_type": "code",
   "execution_count": 14,
   "id": "combined-state",
   "metadata": {},
   "outputs": [
    {
     "data": {
      "text/plain": [
       "array([[0.37442488, 0.62557512],\n",
       "       [0.92523133, 0.07476867],\n",
       "       [0.68436964, 0.31563036],\n",
       "       ...,\n",
       "       [0.54059869, 0.45940131],\n",
       "       [0.79790213, 0.20209787],\n",
       "       [0.77284695, 0.22715305]])"
      ]
     },
     "execution_count": 14,
     "metadata": {},
     "output_type": "execute_result"
    }
   ],
   "source": [
    "predictions_model"
   ]
  },
  {
   "cell_type": "code",
   "execution_count": 15,
   "id": "advanced-workstation",
   "metadata": {},
   "outputs": [
    {
     "data": {
      "text/plain": [
       "array([0.62557512, 0.07476867, 0.31563036, ..., 0.45940131, 0.20209787,\n",
       "       0.22715305])"
      ]
     },
     "execution_count": 15,
     "metadata": {},
     "output_type": "execute_result"
    }
   ],
   "source": [
    "predictions_model[:, 1]"
   ]
  },
  {
   "cell_type": "code",
   "execution_count": 16,
   "id": "interim-workshop",
   "metadata": {},
   "outputs": [],
   "source": [
    "predictions_model_tree = model_tree.predict_proba(X_test)"
   ]
  },
  {
   "cell_type": "code",
   "execution_count": 17,
   "id": "white-supervision",
   "metadata": {},
   "outputs": [],
   "source": [
    "pred_model_tree = model_tree.predict(X_test)"
   ]
  },
  {
   "cell_type": "code",
   "execution_count": 18,
   "id": "early-request",
   "metadata": {},
   "outputs": [
    {
     "data": {
      "text/plain": [
       "array([[0., 1.],\n",
       "       [1., 0.],\n",
       "       [0., 1.],\n",
       "       ...,\n",
       "       [0., 1.],\n",
       "       [1., 0.],\n",
       "       [0., 1.]])"
      ]
     },
     "execution_count": 18,
     "metadata": {},
     "output_type": "execute_result"
    }
   ],
   "source": [
    "predictions_model_tree"
   ]
  },
  {
   "cell_type": "markdown",
   "id": "canadian-variety",
   "metadata": {},
   "source": [
    "### Оценим качество моделей на обучении и обобщении"
   ]
  },
  {
   "cell_type": "code",
   "execution_count": 19,
   "id": "lightweight-scope",
   "metadata": {},
   "outputs": [
    {
     "data": {
      "text/plain": [
       "0.7235188509874326"
      ]
     },
     "execution_count": 19,
     "metadata": {},
     "output_type": "execute_result"
    }
   ],
   "source": [
    "# оценка точности моделей\n",
    "# на обучение\n",
    "model.score(X_train, Y_train)"
   ]
  },
  {
   "cell_type": "code",
   "execution_count": 20,
   "id": "outstanding-navigator",
   "metadata": {},
   "outputs": [
    {
     "data": {
      "text/plain": [
       "0.9497307001795332"
      ]
     },
     "execution_count": 20,
     "metadata": {},
     "output_type": "execute_result"
    }
   ],
   "source": [
    "model_tree.score(X_train, Y_train)"
   ]
  },
  {
   "cell_type": "code",
   "execution_count": 21,
   "id": "reasonable-spine",
   "metadata": {},
   "outputs": [
    {
     "data": {
      "text/plain": [
       "0.7319371727748691"
      ]
     },
     "execution_count": 21,
     "metadata": {},
     "output_type": "execute_result"
    }
   ],
   "source": [
    "#оценка точности моделей\n",
    "# на обобщение\n",
    "model.score(X_test, Y_test)"
   ]
  },
  {
   "cell_type": "code",
   "execution_count": 22,
   "id": "divided-thong",
   "metadata": {},
   "outputs": [
    {
     "data": {
      "text/plain": [
       "0.6560209424083769"
      ]
     },
     "execution_count": 22,
     "metadata": {},
     "output_type": "execute_result"
    }
   ],
   "source": [
    "model_tree.score(X_test, Y_test)"
   ]
  },
  {
   "cell_type": "markdown",
   "id": "electrical-reproduction",
   "metadata": {},
   "source": [
    "### Проведём оценку точности моделей\n",
    "### Точность для логистической регрессии"
   ]
  },
  {
   "cell_type": "code",
   "execution_count": 23,
   "id": "later-geometry",
   "metadata": {},
   "outputs": [],
   "source": [
    "# проведём оценку точности моделей\n",
    "# посчитаем accuracy для каждой модели\n",
    "\n",
    "tp = 0 # True Positive\n",
    "tn = 0 # True Negative\n",
    "fp = 0 # False Positive\n",
    "fn = 0 # False Negative\n",
    "\n",
    "# для линейной регрессии (как бы строит таблицу 2х2 определяя верные и неверные предсказания, ошибки 1 и 2 рода)\n",
    "\n",
    "for predicted_values, fact in zip ( predictions_model[:, 1], Y_test ):\n",
    "    if predicted_values >=0.5:\n",
    "        predicted = 1\n",
    "    else:\n",
    "        predicted = 0\n",
    "        \n",
    "    if predicted == 1:\n",
    "        if fact == 1:\n",
    "            tp += 1\n",
    "        else:\n",
    "            fp += 1\n",
    "    else:\n",
    "        if fact == 1:\n",
    "            fn += 1\n",
    "        else:\n",
    "            tn += 1"
   ]
  },
  {
   "cell_type": "code",
   "execution_count": 24,
   "id": "determined-lobby",
   "metadata": {},
   "outputs": [
    {
     "data": {
      "text/plain": [
       "(226, 131, 381, 1172)"
      ]
     },
     "execution_count": 24,
     "metadata": {},
     "output_type": "execute_result"
    }
   ],
   "source": [
    "tp, fp, fn, tn"
   ]
  },
  {
   "cell_type": "code",
   "execution_count": 25,
   "id": "linear-attention",
   "metadata": {},
   "outputs": [
    {
     "data": {
      "text/plain": [
       "0.7319371727748691"
      ]
     },
     "execution_count": 25,
     "metadata": {},
     "output_type": "execute_result"
    }
   ],
   "source": [
    "# рассчитаем критерий accuracy\n",
    "accuracy_model = (tp + tn) / (tp + tn + fp + fn)\n",
    "accuracy_model"
   ]
  },
  {
   "cell_type": "code",
   "execution_count": 26,
   "id": "usual-stocks",
   "metadata": {},
   "outputs": [
    {
     "data": {
      "text/plain": [
       "0.6330532212885154"
      ]
     },
     "execution_count": 26,
     "metadata": {},
     "output_type": "execute_result"
    }
   ],
   "source": [
    "# рассчитаем другие критерии точности модели: precision, recall\n",
    "precision_model = tp / (tp + fp)\n",
    "precision_model"
   ]
  },
  {
   "cell_type": "code",
   "execution_count": 27,
   "id": "certain-transmission",
   "metadata": {},
   "outputs": [
    {
     "data": {
      "text/plain": [
       "0.3723228995057661"
      ]
     },
     "execution_count": 27,
     "metadata": {},
     "output_type": "execute_result"
    }
   ],
   "source": [
    "recall_model = tp / (tp + fn)\n",
    "recall_model"
   ]
  },
  {
   "cell_type": "code",
   "execution_count": 28,
   "id": "blond-metadata",
   "metadata": {},
   "outputs": [],
   "source": [
    "# расчёт этих же критериев при помощи библиотеки\n",
    "from sklearn.metrics import recall_score, precision_score"
   ]
  },
  {
   "cell_type": "code",
   "execution_count": 29,
   "id": "divided-logging",
   "metadata": {},
   "outputs": [
    {
     "data": {
      "text/plain": [
       "0.3723228995057661"
      ]
     },
     "execution_count": 29,
     "metadata": {},
     "output_type": "execute_result"
    }
   ],
   "source": [
    "recall_score(Y_test, pred_model)"
   ]
  },
  {
   "cell_type": "code",
   "execution_count": 30,
   "id": "confident-format",
   "metadata": {},
   "outputs": [
    {
     "data": {
      "text/plain": [
       "0.6330532212885154"
      ]
     },
     "execution_count": 30,
     "metadata": {},
     "output_type": "execute_result"
    }
   ],
   "source": [
    "precision_score(Y_test, pred_model)"
   ]
  },
  {
   "cell_type": "code",
   "execution_count": 31,
   "id": "median-least",
   "metadata": {},
   "outputs": [
    {
     "data": {
      "text/plain": [
       "0.3723228995057661"
      ]
     },
     "execution_count": 31,
     "metadata": {},
     "output_type": "execute_result"
    }
   ],
   "source": [
    "tpr = tp / (tp + fn)\n",
    "tpr"
   ]
  },
  {
   "cell_type": "code",
   "execution_count": 32,
   "id": "english-cheese",
   "metadata": {},
   "outputs": [
    {
     "data": {
      "text/plain": [
       "0.10053722179585571"
      ]
     },
     "execution_count": 32,
     "metadata": {},
     "output_type": "execute_result"
    }
   ],
   "source": [
    "fpr = fp / (fp + tn)\n",
    "fpr"
   ]
  },
  {
   "cell_type": "markdown",
   "id": "present-grass",
   "metadata": {},
   "source": [
    "### Точность для модели дерева"
   ]
  },
  {
   "cell_type": "code",
   "execution_count": 33,
   "id": "blank-transition",
   "metadata": {},
   "outputs": [],
   "source": [
    "tp2 = 0 # True Positive\n",
    "tn2 = 0 # True Negative\n",
    "fp2 = 0 # False Positive\n",
    "fn2 = 0 # False Negative\n",
    "\n",
    "# для дерева\n",
    "for predicted_values2, fact2 in zip ( predictions_model_tree[:, 1], Y_test ):\n",
    "        \n",
    "    if predicted_values2 == 1:\n",
    "        if fact2 == 1:\n",
    "            tp2 += 1\n",
    "        else:\n",
    "            fp2 += 1\n",
    "    else:\n",
    "        if fact2 == 1:\n",
    "            fn2 += 1\n",
    "        else:\n",
    "            tn2 += 1"
   ]
  },
  {
   "cell_type": "code",
   "execution_count": 34,
   "id": "confident-characterization",
   "metadata": {},
   "outputs": [
    {
     "data": {
      "text/plain": [
       "(248, 295, 359, 1008)"
      ]
     },
     "execution_count": 34,
     "metadata": {},
     "output_type": "execute_result"
    }
   ],
   "source": [
    "tp2, fp2, fn2, tn2"
   ]
  },
  {
   "cell_type": "code",
   "execution_count": 35,
   "id": "stuffed-moscow",
   "metadata": {},
   "outputs": [
    {
     "data": {
      "text/plain": [
       "0.6575916230366492"
      ]
     },
     "execution_count": 35,
     "metadata": {},
     "output_type": "execute_result"
    }
   ],
   "source": [
    "# рассчитаем критерий accuracy\n",
    "accuracy_model2 = (tp2 + tn2) / (tp2 + tn2 + fp2 + fn2)\n",
    "accuracy_model2"
   ]
  },
  {
   "cell_type": "code",
   "execution_count": 36,
   "id": "primary-jaguar",
   "metadata": {},
   "outputs": [
    {
     "data": {
      "text/plain": [
       "0.4567219152854512"
      ]
     },
     "execution_count": 36,
     "metadata": {},
     "output_type": "execute_result"
    }
   ],
   "source": [
    "# рассчитаем другие критерии точности модели: precision, recall\n",
    "precision_model2 = tp2 / (tp2 + fp2)\n",
    "precision_model2"
   ]
  },
  {
   "cell_type": "code",
   "execution_count": 37,
   "id": "encouraging-senator",
   "metadata": {},
   "outputs": [
    {
     "data": {
      "text/plain": [
       "0.4085667215815486"
      ]
     },
     "execution_count": 37,
     "metadata": {},
     "output_type": "execute_result"
    }
   ],
   "source": [
    "recall_model2 = tp2 / (tp2 + fn2)\n",
    "recall_model2"
   ]
  },
  {
   "cell_type": "code",
   "execution_count": 38,
   "id": "perfect-conjunction",
   "metadata": {},
   "outputs": [
    {
     "data": {
      "text/plain": [
       "0.4200988467874794"
      ]
     },
     "execution_count": 38,
     "metadata": {},
     "output_type": "execute_result"
    }
   ],
   "source": [
    "recall_score(Y_test, pred_model_tree)"
   ]
  },
  {
   "cell_type": "code",
   "execution_count": 39,
   "id": "muslim-gates",
   "metadata": {},
   "outputs": [
    {
     "data": {
      "text/plain": [
       "0.45535714285714285"
      ]
     },
     "execution_count": 39,
     "metadata": {},
     "output_type": "execute_result"
    }
   ],
   "source": [
    "precision_score(Y_test, pred_model_tree)"
   ]
  },
  {
   "cell_type": "markdown",
   "id": "absent-software",
   "metadata": {},
   "source": [
    "### Проведём оценку точности модели логистической регрессии для разных пороговых значений и разных критериев "
   ]
  },
  {
   "cell_type": "code",
   "execution_count": 56,
   "id": "helpful-sector",
   "metadata": {},
   "outputs": [],
   "source": [
    "tpr_arr = []\n",
    "fpr_arr = []\n",
    "precision_arr = []\n",
    "recall_arr = []\n",
    "\n",
    "thresholds = np.arange(0.0, 1.01, .01)\n",
    "# делаем перебор по вероятностям прогнозируемым результат\n",
    "for thresh in thresholds:\n",
    "    tp = 0.0000000000001 # True Positive\n",
    "    tn = 0.0000000000001 # True Negative\n",
    "    fp = 0.0000000000001 # False Positive\n",
    "    fn = 0.0000000000001 # False Negative\n",
    "    for predicted_values, fact in zip ( predictions_model[:, 1], Y_test ):\n",
    "        if predicted_values >= thresh:\n",
    "            predicted = 1\n",
    "        else:\n",
    "            predicted = 0\n",
    "        if predicted == 1:\n",
    "            if fact == 1:\n",
    "                tp += 1\n",
    "            else:\n",
    "                fp += 1\n",
    "        else:\n",
    "            if fact == 1:\n",
    "                fn += 1\n",
    "            else:\n",
    "                tn += 1\n",
    "    tpr_arr.append( tp / (tp + fn))\n",
    "    fpr_arr.append( fp / (fp + tn))\n",
    "    precision_arr.append( tp / (tp + fp))\n",
    "    recall_arr.append( tp / (tp + fn))"
   ]
  },
  {
   "cell_type": "code",
   "execution_count": 58,
   "id": "professional-principle",
   "metadata": {},
   "outputs": [],
   "source": [
    "import matplotlib.pyplot as plt"
   ]
  },
  {
   "cell_type": "code",
   "execution_count": 59,
   "id": "swedish-creation",
   "metadata": {},
   "outputs": [],
   "source": [
    "# посчитаем ROC-кривую (Receiver Operating Characteristic)\n",
    "from sklearn.metrics import roc_curve"
   ]
  },
  {
   "cell_type": "code",
   "execution_count": 60,
   "id": "amazing-discussion",
   "metadata": {},
   "outputs": [],
   "source": [
    "# получаем значения false и true positive rate для различных значений порога\n",
    "fpr, tpr, thres = roc_curve(Y_test, predictions_model[:, 1] )"
   ]
  },
  {
   "cell_type": "code",
   "execution_count": 61,
   "id": "minor-tackle",
   "metadata": {},
   "outputs": [
    {
     "name": "stdout",
     "output_type": "stream",
     "text": [
      "(0.0, 0.0, 1.9292091238626423)\n",
      "(0.0, 0.0016474464579901153, 0.9292091238626423)\n",
      "(0.0, 0.008237232289950576, 0.8999886267837209)\n",
      "(0.0007674597083653108, 0.008237232289950576, 0.897730467081866)\n",
      "(0.0007674597083653108, 0.019769357495881382, 0.8650840111607958)\n",
      "(0.0030698388334612432, 0.019769357495881382, 0.8547129979934648)\n",
      "(0.0030698388334612432, 0.023064250411861616, 0.8544826949171787)\n",
      "(0.003837298541826554, 0.023064250411861616, 0.8521926825281196)\n",
      "(0.003837298541826554, 0.03130148270181219, 0.8338303559136997)\n",
      "(0.004604758250191865, 0.03130148270181219, 0.8336073259069952)\n"
     ]
    }
   ],
   "source": [
    "for line in zip( fpr[:10], tpr[:10], thres[:10] ):\n",
    "    print( line )"
   ]
  },
  {
   "cell_type": "code",
   "execution_count": 62,
   "id": "seven-apparatus",
   "metadata": {},
   "outputs": [],
   "source": [
    "from sklearn.metrics import roc_auc_score"
   ]
  },
  {
   "cell_type": "code",
   "execution_count": 63,
   "id": "searching-frequency",
   "metadata": {},
   "outputs": [
    {
     "data": {
      "text/plain": [
       "0.7451629176618145"
      ]
     },
     "execution_count": 63,
     "metadata": {},
     "output_type": "execute_result"
    }
   ],
   "source": [
    "roc_auc_score( Y_test, predictions_model[:, 1] )"
   ]
  },
  {
   "cell_type": "code",
   "execution_count": 64,
   "id": "floral-instrumentation",
   "metadata": {},
   "outputs": [],
   "source": [
    "# метод для построения графика precision-recall\n",
    "from sklearn.metrics import precision_recall_curve"
   ]
  },
  {
   "cell_type": "code",
   "execution_count": 65,
   "id": "choice-pearl",
   "metadata": {},
   "outputs": [],
   "source": [
    "pr, re, thres = precision_recall_curve( Y_test, predictions_model[:, 1] )"
   ]
  },
  {
   "cell_type": "code",
   "execution_count": 66,
   "id": "strategic-patio",
   "metadata": {},
   "outputs": [
    {
     "name": "stdout",
     "output_type": "stream",
     "text": [
      "(0.32338838572189665, 1.0, 0.07582923346510125)\n",
      "(0.3230277185501066, 0.9983525535420099, 0.07617596129239754)\n",
      "(0.3232, 0.9983525535420099, 0.07800502153338934)\n",
      "(0.3233724653148346, 0.9983525535420099, 0.0783373130009318)\n",
      "(0.32354511478910836, 0.9983525535420099, 0.07858652722553879)\n",
      "(0.32371794871794873, 0.9983525535420099, 0.07969132461800739)\n",
      "(0.3238909673971138, 0.9983525535420099, 0.07987106622319408)\n",
      "(0.3240641711229946, 0.9983525535420099, 0.08031367444813296)\n",
      "(0.32423756019261635, 0.9983525535420099, 0.08053860127887184)\n",
      "(0.3238758029978587, 0.9967051070840197, 0.08068797083872604)\n"
     ]
    }
   ],
   "source": [
    "# посмотрим что получилось\n",
    "for line in zip( pr[:10], re[:10], thres[:10] ):\n",
    "    print( line )"
   ]
  },
  {
   "cell_type": "code",
   "execution_count": 67,
   "id": "asian-honduras",
   "metadata": {},
   "outputs": [],
   "source": [
    "from sklearn.metrics import average_precision_score"
   ]
  },
  {
   "cell_type": "code",
   "execution_count": 68,
   "id": "normal-birthday",
   "metadata": {},
   "outputs": [
    {
     "data": {
      "text/plain": [
       "0.5761329928884336"
      ]
     },
     "execution_count": 68,
     "metadata": {},
     "output_type": "execute_result"
    }
   ],
   "source": [
    "# площадь под кривой\n",
    "average_precision_score( Y_test, predictions_model[:, 1] )"
   ]
  },
  {
   "cell_type": "markdown",
   "id": "collaborative-manner",
   "metadata": {},
   "source": [
    "### график Precision - Recall для ручных данных и библиотечных"
   ]
  },
  {
   "cell_type": "code",
   "execution_count": 73,
   "id": "future-blair",
   "metadata": {},
   "outputs": [
    {
     "data": {
      "text/plain": [
       "(0.0, 1.0)"
      ]
     },
     "execution_count": 73,
     "metadata": {},
     "output_type": "execute_result"
    },
    {
     "data": {
      "image/png": "[encoded data removed]",
      "text/plain": [
       "<Figure size 432x288 with 1 Axes>"
      ]
     },
     "metadata": {
      "needs_background": "light"
     },
     "output_type": "display_data"
    }
   ],
   "source": [
    "plt.plot(re, pr) #библиотечный расчёт\n",
    "\n",
    "plt.plot(recall_arr, precision_arr )#ручной расчёт\n",
    "plt.xlabel('Recall')\n",
    "plt.ylabel('Precision')\n",
    "plt.grid()\n",
    "plt.xlim(0,1)\n",
    "plt.ylim(0,1)"
   ]
  },
  {
   "cell_type": "markdown",
   "id": "partial-scholarship",
   "metadata": {},
   "source": [
    "### график ROC для ручных данных и библиотечных"
   ]
  },
  {
   "cell_type": "code",
   "execution_count": 74,
   "id": "acting-uncertainty",
   "metadata": {},
   "outputs": [
    {
     "data": {
      "text/plain": [
       "(0.0, 1.0)"
      ]
     },
     "execution_count": 74,
     "metadata": {},
     "output_type": "execute_result"
    },
    {
     "data": {
      "image/png": "[encoded data removed]",
      "text/plain": [
       "<Figure size 432x288 with 1 Axes>"
      ]
     },
     "metadata": {
      "needs_background": "light"
     },
     "output_type": "display_data"
    }
   ],
   "source": [
    "plt.plot( fpr, tpr ) #библиотечный расчёт\n",
    "plt.grid()\n",
    "plt.plot(fpr_arr, tpr_arr) #ручной расчёт\n",
    "plt.xlabel('False Positive Rate')\n",
    "plt.ylabel('True Positive Rate')\n",
    "plt.xlim(0,1)\n",
    "plt.ylim(0,1)"
   ]
  },
  {
   "cell_type": "code",
   "execution_count": 75,
   "id": "infrared-fishing",
   "metadata": {},
   "outputs": [],
   "source": [
    "# вывод данные графики сходятся при ручном и библиотечном расчёте, значит всё сделано верно"
   ]
  }
 ],
 "metadata": {
  "kernelspec": {
   "display_name": "Python 3",
   "language": "python",
   "name": "python3"
  },
  "language_info": {
   "codemirror_mode": {
    "name": "ipython",
    "version": 3
   },
   "file_extension": ".py",
   "mimetype": "text/x-python",
   "name": "python",
   "nbconvert_exporter": "python",
   "pygments_lexer": "ipython3",
   "version": "3.8.8"
  }
 },
 "nbformat": 4,
 "nbformat_minor": 5
}
